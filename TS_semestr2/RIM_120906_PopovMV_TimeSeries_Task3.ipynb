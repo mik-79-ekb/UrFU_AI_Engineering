{
 "cells": [
  {
   "cell_type": "markdown",
   "metadata": {},
   "source": [
    "# Классификация в SKTime\n"
   ]
  },
  {
   "cell_type": "markdown",
   "metadata": {},
   "source": [
    "## Импорт библиотек"
   ]
  },
  {
   "cell_type": "markdown",
   "metadata": {},
   "source": [
    "Начнем с импорта нужных библиотек"
   ]
  },
  {
   "cell_type": "code",
   "execution_count": 1,
   "metadata": {
    "scrolled": true
   },
   "outputs": [],
   "source": [
    "import pandas as pd\n",
    "import numpy as np\n",
    "import matplotlib.pyplot as plt"
   ]
  },
  {
   "cell_type": "code",
   "execution_count": 2,
   "metadata": {},
   "outputs": [],
   "source": [
    "import warnings\n",
    "warnings.filterwarnings('ignore')"
   ]
  },
  {
   "cell_type": "code",
   "execution_count": 3,
   "metadata": {},
   "outputs": [],
   "source": [
    "try:\n",
    "    import sktime\n",
    "except:\n",
    "    !pip install sktime --user\n",
    "    !pip install tsfresh \n",
    "    !pip install numba\n",
    "    !pip install llvmlite\n",
    "import sktime"
   ]
  },
  {
   "cell_type": "code",
   "execution_count": 4,
   "metadata": {},
   "outputs": [],
   "source": [
    "from sktime.transformations.panel.rocket import MiniRocket"
   ]
  },
  {
   "cell_type": "code",
   "execution_count": 5,
   "metadata": {},
   "outputs": [],
   "source": [
    "from sktime.datasets import load_from_tsfile\n",
    "from sklearn.preprocessing import MinMaxScaler\n",
    "from sklearn.model_selection import train_test_split"
   ]
  },
  {
   "cell_type": "markdown",
   "metadata": {},
   "source": [
    "## Импорт данных"
   ]
  },
  {
   "cell_type": "markdown",
   "metadata": {},
   "source": [
    "Теперь выберем набор данных. Для нашего урока мы воспользуемся уже имеющимся набором данных [открытые данные энергетических систем](https://open-power-system-data.org/). "
   ]
  },
  {
   "cell_type": "code",
   "execution_count": 6,
   "metadata": {},
   "outputs": [
    {
     "data": {
      "text/html": [
       "<div>\n",
       "<style scoped>\n",
       "    .dataframe tbody tr th:only-of-type {\n",
       "        vertical-align: middle;\n",
       "    }\n",
       "\n",
       "    .dataframe tbody tr th {\n",
       "        vertical-align: top;\n",
       "    }\n",
       "\n",
       "    .dataframe thead th {\n",
       "        text-align: right;\n",
       "    }\n",
       "</style>\n",
       "<table border=\"1\" class=\"dataframe\">\n",
       "  <thead>\n",
       "    <tr style=\"text-align: right;\">\n",
       "      <th></th>\n",
       "      <th>cet_cest_timestamp</th>\n",
       "      <th>AT_load_actual_entsoe_transparency</th>\n",
       "      <th>AT_load_forecast_entsoe_transparency</th>\n",
       "      <th>AT_price_day_ahead</th>\n",
       "      <th>AT_solar_generation_actual</th>\n",
       "      <th>AT_wind_onshore_generation_actual</th>\n",
       "      <th>BE_load_actual_entsoe_transparency</th>\n",
       "      <th>BE_load_forecast_entsoe_transparency</th>\n",
       "      <th>BE_solar_generation_actual</th>\n",
       "      <th>BE_wind_generation_actual</th>\n",
       "      <th>...</th>\n",
       "      <th>SI_load_actual_entsoe_transparency</th>\n",
       "      <th>SI_load_forecast_entsoe_transparency</th>\n",
       "      <th>SI_solar_generation_actual</th>\n",
       "      <th>SI_wind_onshore_generation_actual</th>\n",
       "      <th>SK_load_actual_entsoe_transparency</th>\n",
       "      <th>SK_load_forecast_entsoe_transparency</th>\n",
       "      <th>SK_solar_generation_actual</th>\n",
       "      <th>SK_wind_onshore_generation_actual</th>\n",
       "      <th>UA_load_actual_entsoe_transparency</th>\n",
       "      <th>UA_load_forecast_entsoe_transparency</th>\n",
       "    </tr>\n",
       "    <tr>\n",
       "      <th>utc_timestamp</th>\n",
       "      <th></th>\n",
       "      <th></th>\n",
       "      <th></th>\n",
       "      <th></th>\n",
       "      <th></th>\n",
       "      <th></th>\n",
       "      <th></th>\n",
       "      <th></th>\n",
       "      <th></th>\n",
       "      <th></th>\n",
       "      <th></th>\n",
       "      <th></th>\n",
       "      <th></th>\n",
       "      <th></th>\n",
       "      <th></th>\n",
       "      <th></th>\n",
       "      <th></th>\n",
       "      <th></th>\n",
       "      <th></th>\n",
       "      <th></th>\n",
       "      <th></th>\n",
       "    </tr>\n",
       "  </thead>\n",
       "  <tbody>\n",
       "    <tr>\n",
       "      <th>2014-12-31 23:00:00+00:00</th>\n",
       "      <td>2015-01-01T00:00:00+0100</td>\n",
       "      <td>NaN</td>\n",
       "      <td>NaN</td>\n",
       "      <td>NaN</td>\n",
       "      <td>NaN</td>\n",
       "      <td>NaN</td>\n",
       "      <td>NaN</td>\n",
       "      <td>NaN</td>\n",
       "      <td>NaN</td>\n",
       "      <td>NaN</td>\n",
       "      <td>...</td>\n",
       "      <td>NaN</td>\n",
       "      <td>NaN</td>\n",
       "      <td>NaN</td>\n",
       "      <td>NaN</td>\n",
       "      <td>NaN</td>\n",
       "      <td>NaN</td>\n",
       "      <td>NaN</td>\n",
       "      <td>NaN</td>\n",
       "      <td>NaN</td>\n",
       "      <td>NaN</td>\n",
       "    </tr>\n",
       "    <tr>\n",
       "      <th>2015-01-01 00:00:00+00:00</th>\n",
       "      <td>2015-01-01T01:00:00+0100</td>\n",
       "      <td>5946.0</td>\n",
       "      <td>6701.0</td>\n",
       "      <td>35.0</td>\n",
       "      <td>NaN</td>\n",
       "      <td>69.0</td>\n",
       "      <td>9484.0</td>\n",
       "      <td>9897.0</td>\n",
       "      <td>NaN</td>\n",
       "      <td>NaN</td>\n",
       "      <td>...</td>\n",
       "      <td>NaN</td>\n",
       "      <td>NaN</td>\n",
       "      <td>NaN</td>\n",
       "      <td>NaN</td>\n",
       "      <td>NaN</td>\n",
       "      <td>NaN</td>\n",
       "      <td>NaN</td>\n",
       "      <td>NaN</td>\n",
       "      <td>NaN</td>\n",
       "      <td>NaN</td>\n",
       "    </tr>\n",
       "    <tr>\n",
       "      <th>2015-01-01 01:00:00+00:00</th>\n",
       "      <td>2015-01-01T02:00:00+0100</td>\n",
       "      <td>5726.0</td>\n",
       "      <td>6593.0</td>\n",
       "      <td>45.0</td>\n",
       "      <td>NaN</td>\n",
       "      <td>64.0</td>\n",
       "      <td>9152.0</td>\n",
       "      <td>9521.0</td>\n",
       "      <td>NaN</td>\n",
       "      <td>734.81</td>\n",
       "      <td>...</td>\n",
       "      <td>1045.47</td>\n",
       "      <td>816.0</td>\n",
       "      <td>NaN</td>\n",
       "      <td>1.17</td>\n",
       "      <td>2728.0</td>\n",
       "      <td>2860.0</td>\n",
       "      <td>3.8</td>\n",
       "      <td>NaN</td>\n",
       "      <td>NaN</td>\n",
       "      <td>NaN</td>\n",
       "    </tr>\n",
       "    <tr>\n",
       "      <th>2015-01-01 02:00:00+00:00</th>\n",
       "      <td>2015-01-01T03:00:00+0100</td>\n",
       "      <td>5347.0</td>\n",
       "      <td>6482.0</td>\n",
       "      <td>41.0</td>\n",
       "      <td>NaN</td>\n",
       "      <td>65.0</td>\n",
       "      <td>8799.0</td>\n",
       "      <td>9135.0</td>\n",
       "      <td>NaN</td>\n",
       "      <td>766.64</td>\n",
       "      <td>...</td>\n",
       "      <td>1004.79</td>\n",
       "      <td>805.0</td>\n",
       "      <td>NaN</td>\n",
       "      <td>1.04</td>\n",
       "      <td>2626.0</td>\n",
       "      <td>2810.0</td>\n",
       "      <td>3.8</td>\n",
       "      <td>NaN</td>\n",
       "      <td>NaN</td>\n",
       "      <td>NaN</td>\n",
       "    </tr>\n",
       "    <tr>\n",
       "      <th>2015-01-01 03:00:00+00:00</th>\n",
       "      <td>2015-01-01T04:00:00+0100</td>\n",
       "      <td>5249.0</td>\n",
       "      <td>6454.0</td>\n",
       "      <td>38.0</td>\n",
       "      <td>NaN</td>\n",
       "      <td>64.0</td>\n",
       "      <td>8567.0</td>\n",
       "      <td>8909.0</td>\n",
       "      <td>NaN</td>\n",
       "      <td>733.13</td>\n",
       "      <td>...</td>\n",
       "      <td>983.79</td>\n",
       "      <td>803.0</td>\n",
       "      <td>NaN</td>\n",
       "      <td>1.61</td>\n",
       "      <td>2618.0</td>\n",
       "      <td>2780.0</td>\n",
       "      <td>3.8</td>\n",
       "      <td>NaN</td>\n",
       "      <td>NaN</td>\n",
       "      <td>NaN</td>\n",
       "    </tr>\n",
       "  </tbody>\n",
       "</table>\n",
       "<p>5 rows × 299 columns</p>\n",
       "</div>"
      ],
      "text/plain": [
       "                                 cet_cest_timestamp  \\\n",
       "utc_timestamp                                         \n",
       "2014-12-31 23:00:00+00:00  2015-01-01T00:00:00+0100   \n",
       "2015-01-01 00:00:00+00:00  2015-01-01T01:00:00+0100   \n",
       "2015-01-01 01:00:00+00:00  2015-01-01T02:00:00+0100   \n",
       "2015-01-01 02:00:00+00:00  2015-01-01T03:00:00+0100   \n",
       "2015-01-01 03:00:00+00:00  2015-01-01T04:00:00+0100   \n",
       "\n",
       "                           AT_load_actual_entsoe_transparency  \\\n",
       "utc_timestamp                                                   \n",
       "2014-12-31 23:00:00+00:00                                 NaN   \n",
       "2015-01-01 00:00:00+00:00                              5946.0   \n",
       "2015-01-01 01:00:00+00:00                              5726.0   \n",
       "2015-01-01 02:00:00+00:00                              5347.0   \n",
       "2015-01-01 03:00:00+00:00                              5249.0   \n",
       "\n",
       "                           AT_load_forecast_entsoe_transparency  \\\n",
       "utc_timestamp                                                     \n",
       "2014-12-31 23:00:00+00:00                                   NaN   \n",
       "2015-01-01 00:00:00+00:00                                6701.0   \n",
       "2015-01-01 01:00:00+00:00                                6593.0   \n",
       "2015-01-01 02:00:00+00:00                                6482.0   \n",
       "2015-01-01 03:00:00+00:00                                6454.0   \n",
       "\n",
       "                           AT_price_day_ahead  AT_solar_generation_actual  \\\n",
       "utc_timestamp                                                               \n",
       "2014-12-31 23:00:00+00:00                 NaN                         NaN   \n",
       "2015-01-01 00:00:00+00:00                35.0                         NaN   \n",
       "2015-01-01 01:00:00+00:00                45.0                         NaN   \n",
       "2015-01-01 02:00:00+00:00                41.0                         NaN   \n",
       "2015-01-01 03:00:00+00:00                38.0                         NaN   \n",
       "\n",
       "                           AT_wind_onshore_generation_actual  \\\n",
       "utc_timestamp                                                  \n",
       "2014-12-31 23:00:00+00:00                                NaN   \n",
       "2015-01-01 00:00:00+00:00                               69.0   \n",
       "2015-01-01 01:00:00+00:00                               64.0   \n",
       "2015-01-01 02:00:00+00:00                               65.0   \n",
       "2015-01-01 03:00:00+00:00                               64.0   \n",
       "\n",
       "                           BE_load_actual_entsoe_transparency  \\\n",
       "utc_timestamp                                                   \n",
       "2014-12-31 23:00:00+00:00                                 NaN   \n",
       "2015-01-01 00:00:00+00:00                              9484.0   \n",
       "2015-01-01 01:00:00+00:00                              9152.0   \n",
       "2015-01-01 02:00:00+00:00                              8799.0   \n",
       "2015-01-01 03:00:00+00:00                              8567.0   \n",
       "\n",
       "                           BE_load_forecast_entsoe_transparency  \\\n",
       "utc_timestamp                                                     \n",
       "2014-12-31 23:00:00+00:00                                   NaN   \n",
       "2015-01-01 00:00:00+00:00                                9897.0   \n",
       "2015-01-01 01:00:00+00:00                                9521.0   \n",
       "2015-01-01 02:00:00+00:00                                9135.0   \n",
       "2015-01-01 03:00:00+00:00                                8909.0   \n",
       "\n",
       "                           BE_solar_generation_actual  \\\n",
       "utc_timestamp                                           \n",
       "2014-12-31 23:00:00+00:00                         NaN   \n",
       "2015-01-01 00:00:00+00:00                         NaN   \n",
       "2015-01-01 01:00:00+00:00                         NaN   \n",
       "2015-01-01 02:00:00+00:00                         NaN   \n",
       "2015-01-01 03:00:00+00:00                         NaN   \n",
       "\n",
       "                           BE_wind_generation_actual  ...  \\\n",
       "utc_timestamp                                         ...   \n",
       "2014-12-31 23:00:00+00:00                        NaN  ...   \n",
       "2015-01-01 00:00:00+00:00                        NaN  ...   \n",
       "2015-01-01 01:00:00+00:00                     734.81  ...   \n",
       "2015-01-01 02:00:00+00:00                     766.64  ...   \n",
       "2015-01-01 03:00:00+00:00                     733.13  ...   \n",
       "\n",
       "                           SI_load_actual_entsoe_transparency  \\\n",
       "utc_timestamp                                                   \n",
       "2014-12-31 23:00:00+00:00                                 NaN   \n",
       "2015-01-01 00:00:00+00:00                                 NaN   \n",
       "2015-01-01 01:00:00+00:00                             1045.47   \n",
       "2015-01-01 02:00:00+00:00                             1004.79   \n",
       "2015-01-01 03:00:00+00:00                              983.79   \n",
       "\n",
       "                           SI_load_forecast_entsoe_transparency  \\\n",
       "utc_timestamp                                                     \n",
       "2014-12-31 23:00:00+00:00                                   NaN   \n",
       "2015-01-01 00:00:00+00:00                                   NaN   \n",
       "2015-01-01 01:00:00+00:00                                 816.0   \n",
       "2015-01-01 02:00:00+00:00                                 805.0   \n",
       "2015-01-01 03:00:00+00:00                                 803.0   \n",
       "\n",
       "                           SI_solar_generation_actual  \\\n",
       "utc_timestamp                                           \n",
       "2014-12-31 23:00:00+00:00                         NaN   \n",
       "2015-01-01 00:00:00+00:00                         NaN   \n",
       "2015-01-01 01:00:00+00:00                         NaN   \n",
       "2015-01-01 02:00:00+00:00                         NaN   \n",
       "2015-01-01 03:00:00+00:00                         NaN   \n",
       "\n",
       "                           SI_wind_onshore_generation_actual  \\\n",
       "utc_timestamp                                                  \n",
       "2014-12-31 23:00:00+00:00                                NaN   \n",
       "2015-01-01 00:00:00+00:00                                NaN   \n",
       "2015-01-01 01:00:00+00:00                               1.17   \n",
       "2015-01-01 02:00:00+00:00                               1.04   \n",
       "2015-01-01 03:00:00+00:00                               1.61   \n",
       "\n",
       "                           SK_load_actual_entsoe_transparency  \\\n",
       "utc_timestamp                                                   \n",
       "2014-12-31 23:00:00+00:00                                 NaN   \n",
       "2015-01-01 00:00:00+00:00                                 NaN   \n",
       "2015-01-01 01:00:00+00:00                              2728.0   \n",
       "2015-01-01 02:00:00+00:00                              2626.0   \n",
       "2015-01-01 03:00:00+00:00                              2618.0   \n",
       "\n",
       "                           SK_load_forecast_entsoe_transparency  \\\n",
       "utc_timestamp                                                     \n",
       "2014-12-31 23:00:00+00:00                                   NaN   \n",
       "2015-01-01 00:00:00+00:00                                   NaN   \n",
       "2015-01-01 01:00:00+00:00                                2860.0   \n",
       "2015-01-01 02:00:00+00:00                                2810.0   \n",
       "2015-01-01 03:00:00+00:00                                2780.0   \n",
       "\n",
       "                           SK_solar_generation_actual  \\\n",
       "utc_timestamp                                           \n",
       "2014-12-31 23:00:00+00:00                         NaN   \n",
       "2015-01-01 00:00:00+00:00                         NaN   \n",
       "2015-01-01 01:00:00+00:00                         3.8   \n",
       "2015-01-01 02:00:00+00:00                         3.8   \n",
       "2015-01-01 03:00:00+00:00                         3.8   \n",
       "\n",
       "                           SK_wind_onshore_generation_actual  \\\n",
       "utc_timestamp                                                  \n",
       "2014-12-31 23:00:00+00:00                                NaN   \n",
       "2015-01-01 00:00:00+00:00                                NaN   \n",
       "2015-01-01 01:00:00+00:00                                NaN   \n",
       "2015-01-01 02:00:00+00:00                                NaN   \n",
       "2015-01-01 03:00:00+00:00                                NaN   \n",
       "\n",
       "                           UA_load_actual_entsoe_transparency  \\\n",
       "utc_timestamp                                                   \n",
       "2014-12-31 23:00:00+00:00                                 NaN   \n",
       "2015-01-01 00:00:00+00:00                                 NaN   \n",
       "2015-01-01 01:00:00+00:00                                 NaN   \n",
       "2015-01-01 02:00:00+00:00                                 NaN   \n",
       "2015-01-01 03:00:00+00:00                                 NaN   \n",
       "\n",
       "                           UA_load_forecast_entsoe_transparency  \n",
       "utc_timestamp                                                    \n",
       "2014-12-31 23:00:00+00:00                                   NaN  \n",
       "2015-01-01 00:00:00+00:00                                   NaN  \n",
       "2015-01-01 01:00:00+00:00                                   NaN  \n",
       "2015-01-01 02:00:00+00:00                                   NaN  \n",
       "2015-01-01 03:00:00+00:00                                   NaN  \n",
       "\n",
       "[5 rows x 299 columns]"
      ]
     },
     "execution_count": 6,
     "metadata": {},
     "output_type": "execute_result"
    }
   ],
   "source": [
    "# Download hourly data from OPSD website\n",
    "url = 'https://data.open-power-system-data.org/time_series/2020-10-06/'\n",
    "datafile = url + 'time_series_60min_singleindex.csv'\n",
    "df_all = pd.read_csv(datafile, index_col='utc_timestamp', parse_dates=True, low_memory=False)\n",
    "df_all.head()"
   ]
  },
  {
   "cell_type": "markdown",
   "metadata": {},
   "source": [
    "В качестве примера рассмотрим Данию. В качестве периода анализа возьмём период с 2015 по 2019 годы."
   ]
  },
  {
   "cell_type": "code",
   "execution_count": 7,
   "metadata": {},
   "outputs": [],
   "source": [
    "def extract_country(df_all, country_code, year_min=None, year_max=None):\n",
    "    \"\"\"Extract data for a single country\"\"\"\n",
    "    \n",
    "    # List of columns to extract\n",
    "    columns = [col for col in df_all.columns if col.startswith(country_code)]\n",
    "    \n",
    "    # Extract columns and remove country codes from column labels\n",
    "    columns_map = {col : col[3:] for col in columns}\n",
    "    df_out = df_all[columns].rename(columns=columns_map)\n",
    "    \n",
    "    # Exclude years outside of specified range, if any\n",
    "    if year_min is not None:\n",
    "        df_out = df_out[df_out.index.year >= year_min]\n",
    "    if year_max is not None:\n",
    "        df_out = df_out[df_out.index.year <= year_max]\n",
    "        \n",
    "    return df_out\n",
    "\n",
    "def transform_dataframe(df, cols_map):\n",
    "    # Rename columns for convenience\n",
    "    df = df[list(cols_map.keys())].rename(columns=cols_map)\n",
    "    # Convert from MW to GW\n",
    "    df = df / 1000\n",
    "#     df = df.groupby(df.index.hour).mean()\n",
    "    df = df.rename_axis('Date')\n",
    "#     df.index = df.index.strftime('%Y-%m-%d-%h')\n",
    "    return df"
   ]
  },
  {
   "cell_type": "code",
   "execution_count": 8,
   "metadata": {
    "scrolled": true
   },
   "outputs": [
    {
     "data": {
      "text/html": [
       "<div>\n",
       "<style scoped>\n",
       "    .dataframe tbody tr th:only-of-type {\n",
       "        vertical-align: middle;\n",
       "    }\n",
       "\n",
       "    .dataframe tbody tr th {\n",
       "        vertical-align: top;\n",
       "    }\n",
       "\n",
       "    .dataframe thead th {\n",
       "        text-align: right;\n",
       "    }\n",
       "</style>\n",
       "<table border=\"1\" class=\"dataframe\">\n",
       "  <thead>\n",
       "    <tr style=\"text-align: right;\">\n",
       "      <th></th>\n",
       "      <th>Consumption</th>\n",
       "      <th>Wind</th>\n",
       "      <th>Solar</th>\n",
       "      <th>Wind+Solar</th>\n",
       "    </tr>\n",
       "    <tr>\n",
       "      <th>Date</th>\n",
       "      <th></th>\n",
       "      <th></th>\n",
       "      <th></th>\n",
       "      <th></th>\n",
       "    </tr>\n",
       "  </thead>\n",
       "  <tbody>\n",
       "    <tr>\n",
       "      <th>2015-01-01 04:00:00+00:00</th>\n",
       "      <td>2.94154</td>\n",
       "      <td>3.09201</td>\n",
       "      <td>0.00001</td>\n",
       "      <td>3.09202</td>\n",
       "    </tr>\n",
       "    <tr>\n",
       "      <th>2015-01-01 05:00:00+00:00</th>\n",
       "      <td>2.99989</td>\n",
       "      <td>3.27063</td>\n",
       "      <td>0.00001</td>\n",
       "      <td>3.27064</td>\n",
       "    </tr>\n",
       "    <tr>\n",
       "      <th>2015-01-01 06:00:00+00:00</th>\n",
       "      <td>3.17680</td>\n",
       "      <td>3.50255</td>\n",
       "      <td>0.00001</td>\n",
       "      <td>3.50256</td>\n",
       "    </tr>\n",
       "    <tr>\n",
       "      <th>2015-01-01 07:00:00+00:00</th>\n",
       "      <td>3.29227</td>\n",
       "      <td>3.70607</td>\n",
       "      <td>0.00003</td>\n",
       "      <td>3.70610</td>\n",
       "    </tr>\n",
       "    <tr>\n",
       "      <th>2015-01-01 08:00:00+00:00</th>\n",
       "      <td>3.37864</td>\n",
       "      <td>3.84748</td>\n",
       "      <td>0.00150</td>\n",
       "      <td>3.84898</td>\n",
       "    </tr>\n",
       "  </tbody>\n",
       "</table>\n",
       "</div>"
      ],
      "text/plain": [
       "                           Consumption     Wind    Solar  Wind+Solar\n",
       "Date                                                                \n",
       "2015-01-01 04:00:00+00:00      2.94154  3.09201  0.00001     3.09202\n",
       "2015-01-01 05:00:00+00:00      2.99989  3.27063  0.00001     3.27064\n",
       "2015-01-01 06:00:00+00:00      3.17680  3.50255  0.00001     3.50256\n",
       "2015-01-01 07:00:00+00:00      3.29227  3.70607  0.00003     3.70610\n",
       "2015-01-01 08:00:00+00:00      3.37864  3.84748  0.00150     3.84898"
      ]
     },
     "execution_count": 8,
     "metadata": {},
     "output_type": "execute_result"
    }
   ],
   "source": [
    "df_hrly = extract_country(df_all, country_code='DK', year_min=2015, year_max=2019)\n",
    "df_hrly.sample(3)\n",
    "\n",
    "cols_map = {'load_actual_entsoe_transparency' : 'Consumption',\n",
    "            'wind_generation_actual' : 'Wind',\n",
    "            'solar_generation_actual' : 'Solar'}\n",
    "df = transform_dataframe(df_hrly, cols_map).dropna()\n",
    "\n",
    "# df wind + solar generation\n",
    "df['Wind+Solar'] = df[['Wind', 'Solar']].sum(axis=1, skipna=False)\n",
    "df.to_csv('dk_clf_data.csv')\n",
    "df.head()"
   ]
  },
  {
   "cell_type": "markdown",
   "metadata": {},
   "source": [
    "Однако для текущей цели - изучить классификацию временных рядов давайте сделаем набор данных с классами. Для этого предлагается поставить задачу определение по дневному потреблению сезона (зима, весна, осень, лето):\n",
    "* Разделить все данные на 4 сезона (зима, весна, осень, лето)\n",
    "* взять данные с шагом 1 час.\n",
    "* создать сегменты размером 24 часа (1 день).\n",
    "\n",
    "Данная задача полностью искусственная, однако в целом соответствует некоторым из задачи стандартных тестов классификации временных рядов, например смотрите [тут](http://www.timeseriesclassification.com/description.php?Dataset=PowerCons). \n",
    "\n",
    "Напомним, что для проведения классификации, как правило, данные следует разделять на сегменты.  Как правило, эти сегменты не должны пересекаться. В нашем случае длина сегмента будет 24 точки.\n",
    "\n",
    "Для цели создания набора данных давайте создадим 2 функции, первая `split_by_month` будет разделять наш набор данных на месяца. Вторая функция `to_segments` будет создавать сегменты по 24 часа в сутках."
   ]
  },
  {
   "cell_type": "code",
   "execution_count": 9,
   "metadata": {},
   "outputs": [],
   "source": [
    "def split_by_month(df, months):\n",
    "    df_ = pd.DataFrame()\n",
    "    for month in np.atleast_1d(months):\n",
    "        df_ = df_.append(df.loc[df.index.month == month])\n",
    "    return df_\n",
    "\n",
    "def to_segments(df, column, size = 24):  \n",
    "    df.index.hour[0]\n",
    "    start_idx = 24-df.index.hour[0]\n",
    "    df = df.iloc[start_idx:]\n",
    "    val = df[[column]].values\n",
    "    return val[:size*(val.size//size)].reshape(-1,size)"
   ]
  },
  {
   "cell_type": "code",
   "execution_count": 10,
   "metadata": {},
   "outputs": [
    {
     "name": "stdout",
     "output_type": "stream",
     "text": [
      "(450, 24) (459, 24) (454, 24) (459, 24)\n"
     ]
    }
   ],
   "source": [
    "winter = to_segments(split_by_month(df, [1,2, 12]), 'Consumption', size = 24)\n",
    "summer = to_segments(split_by_month(df, [6, 7, 8]), 'Consumption', size = 24)\n",
    "autumn = to_segments(split_by_month(df, [9,10,11]), 'Consumption', size = 24)\n",
    "spring = to_segments(split_by_month(df, [3, 4, 5]), 'Consumption', size = 24)\n",
    "print(winter.shape, summer.shape, autumn.shape, spring.shape)"
   ]
  },
  {
   "cell_type": "markdown",
   "metadata": {},
   "source": [
    "Теперь мы создали 4 класса. Давайте посмотрим как выглядят их примеры."
   ]
  },
  {
   "cell_type": "code",
   "execution_count": 11,
   "metadata": {
    "scrolled": true
   },
   "outputs": [
    {
     "data": {
      "image/png": "[encoded data removed]",
      "text/plain": [
       "<Figure size 640x480 with 1 Axes>"
      ]
     },
     "metadata": {},
     "output_type": "display_data"
    }
   ],
   "source": [
    "plt.figure()\n",
    "day = 10\n",
    "for i,(c,d) in enumerate(zip([winter,summer,autumn,spring],['winter','summer','autumn','spring'])):\n",
    "    plt.plot(c[day], label=\"class \" + str(d))\n",
    "plt.legend(loc=\"best\")\n",
    "plt.show()\n",
    "plt.close()"
   ]
  },
  {
   "cell_type": "markdown",
   "metadata": {},
   "source": [
    "Хотя примеры показывают  высокую степень сходства мы все же попробуем их классифицировать. Для этого создадим массив тренировочных и тестовых данных."
   ]
  },
  {
   "cell_type": "code",
   "execution_count": 12,
   "metadata": {
    "scrolled": true
   },
   "outputs": [
    {
     "name": "stdout",
     "output_type": "stream",
     "text": [
      "(1275, 24) (1275,) (547, 24) (547,)\n"
     ]
    }
   ],
   "source": [
    "X = np.concatenate((\n",
    "                    winter, \n",
    "                    summer, \n",
    "                    autumn, \n",
    "                    spring))\n",
    "y = np.concatenate((\n",
    "                    0*np.ones(winter.shape[0]),\n",
    "                    1*np.ones(summer.shape[0]),\n",
    "                    2*np.ones(autumn.shape[0]),\n",
    "                    3*np.ones(spring.shape[0])\n",
    "                   ))\n",
    "X_train, X_test, y_train, y_test = train_test_split(X, y, test_size=0.3, random_state=42)\n",
    "print(X_train.shape, y_train.shape, X_test.shape, y_test.shape)"
   ]
  },
  {
   "cell_type": "markdown",
   "metadata": {},
   "source": [
    "Современная версия `SKTime` допускает формат массивов в виде `2d ndarray (numpy)` для однопеременных временных рядов. Для многопеременных временных рядов массив может быть задан в виде `3d ndarray`. В общем случае однопеменный ряд также может быть задан как многопеременный с размерностью массива $\\text{samples} \\times \\text{variable} \\times \\text{segment}$ Также в пакете `SKTime` предусмотрены и другие форматы. В том числе специализированные. Для преобразования между форматами используются `convert` и `convert_to` из модуля `sktime.datatypes`. Например, для преобразования двухмерного массива во встроенный однопеременных формат можно воспользоваться следующим скриптом\n",
    "```python\n",
    "    df = convert_to(np.atleast_3d(X).transpose(0,2,1), to_type=\"nested_univ\") \n",
    "```\n",
    "Однако  не все функции `SKTime` поддерживают `2d ndarray` поэтому давайте создадим `nested_univ` копии данных."
   ]
  },
  {
   "cell_type": "code",
   "execution_count": 13,
   "metadata": {},
   "outputs": [],
   "source": [
    "from sktime.datatypes import convert_to\n",
    "df_train = convert_to(np.atleast_3d(X_train).transpose(0,2,1), to_type=\"nested_univ\") \n",
    "df_test  = convert_to(np.atleast_3d(X_test ).transpose(0,2,1), to_type=\"nested_univ\") "
   ]
  },
  {
   "cell_type": "markdown",
   "metadata": {},
   "source": [
    "## Классификация sklearn"
   ]
  },
  {
   "cell_type": "markdown",
   "metadata": {},
   "source": [
    "Перед тестированием специализированных методов из пакета `SKTime` давайте посмотрим на результаты стандартных подходов из `sklearn`. В анализе временных рядов среди таких стандартных подходов наиболее распространен `случайный лес`. Также давайте попробуем алгоритм `k-соседей` с евклидовым расстоянием как некоторую предварительную базовую оценку."
   ]
  },
  {
   "cell_type": "code",
   "execution_count": 14,
   "metadata": {},
   "outputs": [
    {
     "name": "stdout",
     "output_type": "stream",
     "text": [
      " test score 0.755\n"
     ]
    }
   ],
   "source": [
    "from sklearn.ensemble import RandomForestClassifier\n",
    "from sklearn.neighbors import KNeighborsClassifier\n",
    "\n",
    "clf = RandomForestClassifier(n_estimators=100)\n",
    "clf.fit(X_train, y_train)\n",
    "print(f' test score {clf.score(X_test, y_test):.3f}')\n"
   ]
  },
  {
   "cell_type": "code",
   "execution_count": 15,
   "metadata": {
    "scrolled": true
   },
   "outputs": [
    {
     "name": "stdout",
     "output_type": "stream",
     "text": [
      " test score 0.700\n"
     ]
    }
   ],
   "source": [
    "clf = KNeighborsClassifier(n_neighbors=1)\n",
    "clf.fit(X_train, y_train)\n",
    "print(f' test score {clf.score(X_test, y_test):.3f}') "
   ]
  },
  {
   "cell_type": "markdown",
   "metadata": {},
   "source": [
    "## Классификаторы на основе данных"
   ]
  },
  {
   "cell_type": "markdown",
   "metadata": {},
   "source": [
    "В теоретической части мы уже обсуждали типы алгоритмов классификации временных рядов. Теперь давайте попробуем их на практике. Ранее мы обсуждали что в качестве некоторой базовой оценки можно использовать `1-NN DTW` классификатор. Напомним, что этот подход сравнивает временные ряды \"в целом\". Расстояние `DTW` относится к эластичным мерам, стабильным к искажениям различных сегментов ряда.\n",
    "\n",
    "В пакете `SKTime` данный тип алгоритмов находится в модуле `distance_based`."
   ]
  },
  {
   "cell_type": "code",
   "execution_count": 16,
   "metadata": {},
   "outputs": [
    {
     "name": "stdout",
     "output_type": "stream",
     "text": [
      " test score 0.675\n"
     ]
    }
   ],
   "source": [
    "from sktime.classification.distance_based import KNeighborsTimeSeriesClassifier\n",
    "clf = KNeighborsTimeSeriesClassifier(n_neighbors=1, distance=\"dtw\")\n",
    "clf.fit(X_train, y_train)\n",
    "print(f' test score {clf.score(X_test, y_test):.3f}')"
   ]
  },
  {
   "cell_type": "markdown",
   "metadata": {},
   "source": [
    "Полученный результат не превзошёл результат с евклидовым расстоянием. Вероятно, это связано с близостью форм сегментов. Однако `1-NN DTW` может быть реализован и в более продвинутых формах. Одной из таких форм является расстояние разностей `ddtw`. "
   ]
  },
  {
   "cell_type": "code",
   "execution_count": 17,
   "metadata": {},
   "outputs": [
    {
     "name": "stdout",
     "output_type": "stream",
     "text": [
      " test score 0.793\n"
     ]
    }
   ],
   "source": [
    "from sktime.classification.distance_based import KNeighborsTimeSeriesClassifier\n",
    "\n",
    "clf = KNeighborsTimeSeriesClassifier(n_neighbors=1, distance=\"ddtw\")\n",
    "clf.fit(X_train, y_train)\n",
    "print(f' test score {clf.score(X_test, y_test):.3f}')"
   ]
  },
  {
   "cell_type": "markdown",
   "metadata": {},
   "source": [
    "Другим вариантом классификатора на основе данных являются шейплет классификатора. Напомним, что шейплет представляет собой участок временного ряда, обладающий наибольшей дискриминационной способностью для задачи. Другими словами, для участков шейплетов различия между классами наиболее существенны.\n",
    "\n",
    "В ракете `SKTime` шейплеты могут быть найдены в модуле `sktime.classification.shapelet_based`."
   ]
  },
  {
   "cell_type": "code",
   "execution_count": 18,
   "metadata": {
    "scrolled": true
   },
   "outputs": [
    {
     "name": "stdout",
     "output_type": "stream",
     "text": [
      " test score 0.806\n"
     ]
    }
   ],
   "source": [
    "from sktime.classification.shapelet_based import ShapeletTransformClassifier\n",
    "\n",
    "clf = ShapeletTransformClassifier(estimator=RandomForestClassifier(n_estimators=100),\n",
    "                                  n_shapelet_samples=100,\n",
    "                                  max_shapelets=100,\n",
    "                                  batch_size=20)\n",
    "\n",
    "clf.fit(X_train, y_train)\n",
    "print(f' test score {clf.score(X_test, y_test):.3f}')"
   ]
  },
  {
   "cell_type": "markdown",
   "metadata": {},
   "source": [
    "Классификаторы на основе шейплетов позволяют найти наиболее различающиеся паттерны в данных. Как обсуждалось в теоретической части в ряде случаев более полезным оказываться повторяемость такие паттернов.  В таких и подобных задачах для описания временных рядов (для их представления) могут быть использованы подходы на основе т.н. словаря (Dictionary-based). \n",
    "\n",
    "В пакете `SKTime` для работы со словарями используется модуль `sktime.classification.dictionary_based`. "
   ]
  },
  {
   "cell_type": "code",
   "execution_count": 19,
   "metadata": {},
   "outputs": [],
   "source": [
    "from sktime.classification.dictionary_based import (ContractableBOSS, \n",
    "                                                    IndividualBOSS, \n",
    "                                                    IndividualTDE, \n",
    "                                                    MUSE, WEASEL)"
   ]
  },
  {
   "cell_type": "code",
   "execution_count": 20,
   "metadata": {},
   "outputs": [
    {
     "data": {
      "text/plain": [
       "0.5740402193784278"
      ]
     },
     "execution_count": 20,
     "metadata": {},
     "output_type": "execute_result"
    }
   ],
   "source": [
    "clf = IndividualBOSS(random_state=47)\n",
    "clf.fit(X_train, y_train)\n",
    "clf.score(X_test, y_test)"
   ]
  },
  {
   "cell_type": "code",
   "execution_count": 21,
   "metadata": {},
   "outputs": [
    {
     "data": {
      "text/plain": [
       "0.6892138939670932"
      ]
     },
     "execution_count": 21,
     "metadata": {},
     "output_type": "execute_result"
    }
   ],
   "source": [
    "clf = IndividualTDE(random_state=47)\n",
    "clf.fit(X_train, y_train)\n",
    "clf.score(X_test, y_test)"
   ]
  },
  {
   "cell_type": "code",
   "execution_count": 22,
   "metadata": {},
   "outputs": [
    {
     "data": {
      "text/plain": [
       "0.8647166361974405"
      ]
     },
     "execution_count": 22,
     "metadata": {},
     "output_type": "execute_result"
    }
   ],
   "source": [
    "clf = MUSE(random_state=47)\n",
    "clf.fit(X_train, y_train)\n",
    "clf.score(X_test, y_test)"
   ]
  },
  {
   "cell_type": "markdown",
   "metadata": {},
   "source": [
    "## Классификаторы на основе признаков"
   ]
  },
  {
   "cell_type": "markdown",
   "metadata": {},
   "source": [
    "Классификаторы, рассмотрены выше можно было отнести к т.н. классификаторам на основе данных. Однако как уже обсуждалось в теоретической части, часто следует отдавать предпочтения классификаторам на основе признаков. Одними из наиболее популярных подходов среди таких классификаторов являются интервальные подходы. Суть таких подходов сводится к\n",
    "* поиску или случайному выбору интервалов внутри временных рядов;\n",
    "* извлечению некоторого набора признаков для такого интервала;\n",
    "* построению некоторого классификатора, например, дерева для каждого интервала;\n",
    "* объединение результатов для всех интервалов, например, при помощи леса деревьев.\n",
    "\n",
    "В пакете `SKTime` такие методы могут быть найдены в модуле `sktime.classification.interval_based`."
   ]
  },
  {
   "cell_type": "code",
   "execution_count": 23,
   "metadata": {},
   "outputs": [],
   "source": [
    "from sktime.classification.interval_based import (TimeSeriesForestClassifier, \n",
    "                                                  RandomIntervalSpectralEnsemble, \n",
    "                                                  SupervisedTimeSeriesForest)"
   ]
  },
  {
   "cell_type": "code",
   "execution_count": 24,
   "metadata": {},
   "outputs": [
    {
     "name": "stdout",
     "output_type": "stream",
     "text": [
      " test score 0.801\n"
     ]
    }
   ],
   "source": [
    "clf = TimeSeriesForestClassifier(n_estimators=100,random_state=47)\n",
    "clf.fit(X_train, y_train)\n",
    "print(f' test score {clf.score(X_test, y_test):.3f}')"
   ]
  },
  {
   "cell_type": "code",
   "execution_count": 25,
   "metadata": {
    "scrolled": true
   },
   "outputs": [
    {
     "name": "stdout",
     "output_type": "stream",
     "text": [
      " test score 0.806\n"
     ]
    }
   ],
   "source": [
    "clf = RandomIntervalSpectralEnsemble(n_estimators=100, random_state=47)\n",
    "clf.fit(X_train, y_train)\n",
    "print(f' test score {clf.score(X_test, y_test):.3f}')"
   ]
  },
  {
   "cell_type": "code",
   "execution_count": 26,
   "metadata": {
    "scrolled": true
   },
   "outputs": [
    {
     "name": "stdout",
     "output_type": "stream",
     "text": [
      " test score 0.883\n"
     ]
    }
   ],
   "source": [
    "clf = SupervisedTimeSeriesForest(n_estimators=100, random_state=47)\n",
    "clf.fit(X_train, y_train)\n",
    "print(f' test score {clf.score(X_test, y_test):.3f}')"
   ]
  },
  {
   "cell_type": "markdown",
   "metadata": {},
   "source": [
    "Помимо алгоритмов на основе деревьев, популярным на сегодня является методы на основе ядерных преобразований. Одним из наиболее успешных алгоритмов в этом направлении является алгоритм `Rocket`. Суть данного алгоритма сводится к трансформации данных при помощи набора сверточных ядре со случайно выбранными параметрами. Затем авторы рекомендуются использовать  `RidgeClassifierCV`, который предоставляет собой Логистическую регрессию с `L2` регуляризацией, параметр регуляризации выбирается при помощи кросс-валидации. \n",
    "\n",
    "Мы рассмотрим ускоренную версию преобразования `MiniRocket`. "
   ]
  },
  {
   "cell_type": "code",
   "execution_count": 27,
   "metadata": {},
   "outputs": [
    {
     "name": "stdout",
     "output_type": "stream",
     "text": [
      " test score 0.731\n"
     ]
    }
   ],
   "source": [
    "from sklearn.linear_model import RidgeClassifierCV\n",
    "\n",
    "transform = MiniRocket(num_kernels=10000, n_jobs = -1)\n",
    "Xt_train = transform.fit_transform(X_train)\n",
    "Xt_test  = transform.transform(X_test)\n",
    "\n",
    "clf = RidgeClassifierCV()\n",
    "clf.fit(X_train, y_train)\n",
    "print(f' test score {clf.score(X_test, y_test):.3f}')"
   ]
  },
  {
   "cell_type": "markdown",
   "metadata": {},
   "source": [
    "Другим важным подходом на основе признаков является подход выбора признакового пространства. Таким пространством может быть лишь использование небольшого числа суммарных статистик (среднее, медиана, дисперсия и т.д.), которые должны как-то описать временной ряд. \n",
    "\n",
    "В некоторых случаях суммарных статистик может быть недостаточно. В общем случае помимо суммарных статистик могут быть и \n",
    "Временные или частотные (псевдочастотные) признаки. Давайте перечислим примеры таких признаков в виде списка:\n",
    "* суммарные статистики: среднее, медиана, дисперсия, энтропия и т.д.;\n",
    "* временные признаки: наклон, характер тренда, точки пересечения некоторых пороговых значений, значения пиков и их позиции, автокорреляционные коэффициенты и т.д. \n",
    "* частотные признаки: значения пиков спектра, коэффициенты авторегрессии, коэффициенты, например, вейвлет разложений и т.д.\n",
    "* другие признаки.\n",
    "В общем случае признаковые пространства могут быть достаточно объемными. Однако, как правило, не все признаки важны, поэтому для таких пространств следует проводить отбор признаков. Существуют и готовые решения, где из объемных пространств уже выделены некоторые наиболее значимые подпространства. Среди таких подходов популярным является `Catch22`. В данном подходе среди порядка `4500` признаков выделено `22`, имеющих большую значимость для стандартных тестов. \n",
    "\n",
    "В пакете `SKTime` описанные подходы можно найти в модуле `sktime.classification.feature_based`. Давайте протестируем 2 классификатора из этого пакета `SummaryClassifier`, представляющий описание временных рядов суммарными статистиками и `Catch22Classifier`, представляющий описание временного ряда указанным выше признаковым пространством. "
   ]
  },
  {
   "cell_type": "code",
   "execution_count": 28,
   "metadata": {},
   "outputs": [],
   "source": [
    "from sktime.classification.feature_based import SummaryClassifier, Catch22Classifier\n",
    "from sklearn.ensemble import RandomForestClassifier"
   ]
  },
  {
   "cell_type": "code",
   "execution_count": 29,
   "metadata": {},
   "outputs": [
    {
     "name": "stdout",
     "output_type": "stream",
     "text": [
      " test score 0.618\n"
     ]
    }
   ],
   "source": [
    "clf = SummaryClassifier(estimator=RandomForestClassifier(n_estimators=100))\n",
    "clf.fit(X_train, y_train)\n",
    "print(f' test score {clf.score(df_test, y_test):.3f}')"
   ]
  },
  {
   "cell_type": "code",
   "execution_count": 30,
   "metadata": {},
   "outputs": [
    {
     "name": "stdout",
     "output_type": "stream",
     "text": [
      " test score 0.713\n"
     ]
    }
   ],
   "source": [
    "clf = Catch22Classifier(estimator=RandomForestClassifier(n_estimators=100))\n",
    "clf.fit(X_train, y_train)\n",
    "print(f' test score {clf.score(df_test, y_test):.3f}')"
   ]
  },
  {
   "cell_type": "markdown",
   "metadata": {},
   "source": [
    "Дополнительно отметим, что пакет `SKTime` также позволяет создавать пайплайны выделения признаков и классификации в ручном режиме. Например, так, как это показано ниже. Показанный пример повторяет алгоритм `TimeSeriesForestClassifier`, однако, не полностью."
   ]
  },
  {
   "cell_type": "code",
   "execution_count": 31,
   "metadata": {
    "scrolled": true
   },
   "outputs": [
    {
     "name": "stdout",
     "output_type": "stream",
     "text": [
      " test score 0.742\n"
     ]
    }
   ],
   "source": [
    "from sktime.transformations.panel.summarize import RandomIntervalFeatureExtractor\n",
    "from sktime.utils.slope_and_trend import _slope\n",
    "from sklearn.pipeline import Pipeline\n",
    "\n",
    "steps = [(\n",
    "        \"extract\",  RandomIntervalFeatureExtractor(\n",
    "            n_intervals=\"sqrt\", features=[np.mean, np.std, _slope]\n",
    "        )),\n",
    "    (\"clf\", RandomForestClassifier()),]\n",
    "\n",
    "clf = Pipeline(steps)\n",
    "clf.fit(df_train, y_train)\n",
    "print(f' test score {clf.score(df_test, y_test):.3f}')"
   ]
  },
  {
   "cell_type": "markdown",
   "metadata": {},
   "source": [
    "Также важно отметить возможность работы с некоторыми другими библиотеками работы с признаками. Так, одной из наиболее популярных библиотек является [`tsfresh`](https://tsfresh.readthedocs.io/en/latest/text/introduction.html). Данная библиотека является достаточно популярной, хотя и не самой современной. На данный момент ведется интеграция функционала `tsfresh` в `SKTime`. По этому мы покажем возможность работы с `tsfresh` как с отдельным инструментом. \n",
    "\n",
    "В самом простом случае `tsfresh` требует формат данных в виде DataFrame, в котором все сегменты данных были бы представлены в одной колонке (для однопеременных данных). Для преобразования форматов воспользуемся встроенной функцией `sktime` `from_nested_to_long`.\n",
    "\n",
    "Для выделения признаков `tsfresh` используется метод `extract_features`. "
   ]
  },
  {
   "cell_type": "code",
   "execution_count": 33,
   "metadata": {},
   "outputs": [
    {
     "name": "stdout",
     "output_type": "stream",
     "text": [
      "Collecting tsfresh\n",
      "  Using cached tsfresh-0.20.0-py2.py3-none-any.whl (98 kB)\n",
      "Requirement already satisfied: scikit-learn>=0.22.0 in c:\\users\\mikhail\\appdata\\roaming\\python\\python310\\site-packages (from tsfresh) (1.2.2)\n",
      "Requirement already satisfied: stumpy>=1.7.2 in c:\\users\\mikhail\\anaconda3\\lib\\site-packages (from tsfresh) (1.11.1)\n",
      "Requirement already satisfied: requests>=2.9.1 in c:\\users\\mikhail\\anaconda3\\lib\\site-packages (from tsfresh) (2.29.0)\n",
      "Requirement already satisfied: scipy>=1.2.0 in c:\\users\\mikhail\\appdata\\roaming\\python\\python310\\site-packages (from tsfresh) (1.10.1)\n",
      "Requirement already satisfied: statsmodels>=0.13 in c:\\users\\mikhail\\anaconda3\\lib\\site-packages (from tsfresh) (0.14.0)\n",
      "Collecting distributed>=2.11.0\n",
      "  Downloading distributed-2023.5.0-py3-none-any.whl (966 kB)\n",
      "     -------------------------------------- 966.6/966.6 kB 1.1 MB/s eta 0:00:00\n",
      "Requirement already satisfied: pandas>=0.25.0 in c:\\users\\mikhail\\appdata\\roaming\\python\\python310\\site-packages (from tsfresh) (1.5.3)\n",
      "Requirement already satisfied: patsy>=0.4.1 in c:\\users\\mikhail\\anaconda3\\lib\\site-packages (from tsfresh) (0.5.3)\n",
      "Requirement already satisfied: numpy>=1.15.1 in c:\\users\\mikhail\\anaconda3\\lib\\site-packages (from tsfresh) (1.23.5)\n",
      "Requirement already satisfied: tqdm>=4.10.0 in c:\\users\\mikhail\\anaconda3\\lib\\site-packages (from tsfresh) (4.65.0)\n",
      "Requirement already satisfied: dask[dataframe]>=2.9.0 in c:\\users\\mikhail\\anaconda3\\lib\\site-packages (from tsfresh) (2023.4.1)\n",
      "Requirement already satisfied: cloudpickle in c:\\users\\mikhail\\anaconda3\\lib\\site-packages (from tsfresh) (2.2.1)\n",
      "Requirement already satisfied: pyyaml>=5.3.1 in c:\\users\\mikhail\\anaconda3\\lib\\site-packages (from dask[dataframe]>=2.9.0->tsfresh) (6.0)\n",
      "Requirement already satisfied: partd>=1.2.0 in c:\\users\\mikhail\\anaconda3\\lib\\site-packages (from dask[dataframe]>=2.9.0->tsfresh) (1.4.0)\n",
      "Requirement already satisfied: click>=8.0 in c:\\users\\mikhail\\anaconda3\\lib\\site-packages (from dask[dataframe]>=2.9.0->tsfresh) (8.1.3)\n",
      "Requirement already satisfied: toolz>=0.10.0 in c:\\users\\mikhail\\anaconda3\\lib\\site-packages (from dask[dataframe]>=2.9.0->tsfresh) (0.12.0)\n",
      "Requirement already satisfied: importlib-metadata>=4.13.0 in c:\\users\\mikhail\\anaconda3\\lib\\site-packages (from dask[dataframe]>=2.9.0->tsfresh) (6.6.0)\n",
      "Requirement already satisfied: packaging>=20.0 in c:\\users\\mikhail\\anaconda3\\lib\\site-packages (from dask[dataframe]>=2.9.0->tsfresh) (23.0)\n",
      "Requirement already satisfied: fsspec>=2021.09.0 in c:\\users\\mikhail\\anaconda3\\lib\\site-packages (from dask[dataframe]>=2.9.0->tsfresh) (2023.5.0)\n",
      "Requirement already satisfied: jinja2>=2.10.3 in c:\\users\\mikhail\\anaconda3\\lib\\site-packages (from distributed>=2.11.0->tsfresh) (3.1.2)\n",
      "Requirement already satisfied: psutil>=5.7.0 in c:\\users\\mikhail\\anaconda3\\lib\\site-packages (from distributed>=2.11.0->tsfresh) (5.9.0)\n",
      "Collecting sortedcontainers>=2.0.5\n",
      "  Using cached sortedcontainers-2.4.0-py2.py3-none-any.whl (29 kB)\n",
      "Requirement already satisfied: locket>=1.0.0 in c:\\users\\mikhail\\anaconda3\\lib\\site-packages (from distributed>=2.11.0->tsfresh) (1.0.0)\n",
      "Requirement already satisfied: tornado>=6.0.3 in c:\\users\\mikhail\\anaconda3\\lib\\site-packages (from distributed>=2.11.0->tsfresh) (6.2)\n",
      "Requirement already satisfied: urllib3>=1.24.3 in c:\\users\\mikhail\\anaconda3\\lib\\site-packages (from distributed>=2.11.0->tsfresh) (1.26.15)\n",
      "Collecting zict>=2.2.0\n",
      "  Using cached zict-3.0.0-py2.py3-none-any.whl (43 kB)\n",
      "Collecting tblib>=1.6.0\n",
      "  Using cached tblib-1.7.0-py2.py3-none-any.whl (12 kB)\n",
      "Collecting msgpack>=1.0.0\n",
      "  Downloading msgpack-1.0.5-cp310-cp310-win_amd64.whl (61 kB)\n",
      "     ---------------------------------------- 61.6/61.6 kB 1.1 MB/s eta 0:00:00\n",
      "Collecting distributed>=2.11.0\n",
      "  Using cached distributed-2023.4.1-py3-none-any.whl (962 kB)\n",
      "Requirement already satisfied: pytz>=2020.1 in c:\\users\\mikhail\\anaconda3\\lib\\site-packages (from pandas>=0.25.0->tsfresh) (2022.7)\n",
      "Requirement already satisfied: python-dateutil>=2.8.1 in c:\\users\\mikhail\\anaconda3\\lib\\site-packages (from pandas>=0.25.0->tsfresh) (2.8.2)\n",
      "Requirement already satisfied: six in c:\\users\\mikhail\\anaconda3\\lib\\site-packages (from patsy>=0.4.1->tsfresh) (1.16.0)\n",
      "Requirement already satisfied: charset-normalizer<4,>=2 in c:\\users\\mikhail\\anaconda3\\lib\\site-packages (from requests>=2.9.1->tsfresh) (2.0.4)\n",
      "Requirement already satisfied: certifi>=2017.4.17 in c:\\users\\mikhail\\anaconda3\\lib\\site-packages (from requests>=2.9.1->tsfresh) (2022.12.7)\n",
      "Requirement already satisfied: idna<4,>=2.5 in c:\\users\\mikhail\\anaconda3\\lib\\site-packages (from requests>=2.9.1->tsfresh) (3.4)\n",
      "Requirement already satisfied: threadpoolctl>=2.0.0 in c:\\users\\mikhail\\appdata\\roaming\\python\\python310\\site-packages (from scikit-learn>=0.22.0->tsfresh) (3.1.0)\n",
      "Requirement already satisfied: joblib>=1.1.1 in c:\\users\\mikhail\\appdata\\roaming\\python\\python310\\site-packages (from scikit-learn>=0.22.0->tsfresh) (1.2.0)\n",
      "Requirement already satisfied: numba>=0.54 in c:\\users\\mikhail\\anaconda3\\lib\\site-packages (from stumpy>=1.7.2->tsfresh) (0.57.0)\n",
      "Requirement already satisfied: colorama in c:\\users\\mikhail\\anaconda3\\lib\\site-packages (from tqdm>=4.10.0->tsfresh) (0.4.6)\n",
      "Requirement already satisfied: zipp>=0.5 in c:\\users\\mikhail\\anaconda3\\lib\\site-packages (from importlib-metadata>=4.13.0->dask[dataframe]>=2.9.0->tsfresh) (3.15.0)\n",
      "Requirement already satisfied: MarkupSafe>=2.0 in c:\\users\\mikhail\\anaconda3\\lib\\site-packages (from jinja2>=2.10.3->distributed>=2.11.0->tsfresh) (2.1.1)\n",
      "Requirement already satisfied: llvmlite<0.41,>=0.40.0dev0 in c:\\users\\mikhail\\anaconda3\\lib\\site-packages (from numba>=0.54->stumpy>=1.7.2->tsfresh) (0.40.0)\n",
      "Installing collected packages: sortedcontainers, msgpack, zict, tblib, distributed, tsfresh\n",
      "Successfully installed distributed-2023.4.1 msgpack-1.0.5 sortedcontainers-2.4.0 tblib-1.7.0 tsfresh-0.20.0 zict-3.0.0\n"
     ]
    }
   ],
   "source": [
    "! pip install tsfresh"
   ]
  },
  {
   "cell_type": "code",
   "execution_count": 34,
   "metadata": {
    "scrolled": true
   },
   "outputs": [],
   "source": [
    "from tsfresh import extract_features\n",
    "from sklearn.preprocessing import MinMaxScaler\n",
    "from sktime.datatypes._panel._convert import from_nested_to_long"
   ]
  },
  {
   "cell_type": "code",
   "execution_count": 35,
   "metadata": {},
   "outputs": [
    {
     "name": "stderr",
     "output_type": "stream",
     "text": [
      "Feature Extraction: 100%|██████████| 20/20 [00:47<00:00,  2.37s/it]\n"
     ]
    },
    {
     "data": {
      "text/html": [
       "<div>\n",
       "<style scoped>\n",
       "    .dataframe tbody tr th:only-of-type {\n",
       "        vertical-align: middle;\n",
       "    }\n",
       "\n",
       "    .dataframe tbody tr th {\n",
       "        vertical-align: top;\n",
       "    }\n",
       "\n",
       "    .dataframe thead th {\n",
       "        text-align: right;\n",
       "    }\n",
       "</style>\n",
       "<table border=\"1\" class=\"dataframe\">\n",
       "  <thead>\n",
       "    <tr style=\"text-align: right;\">\n",
       "      <th></th>\n",
       "      <th>var_0__variance_larger_than_standard_deviation</th>\n",
       "      <th>var_0__has_duplicate_max</th>\n",
       "      <th>var_0__has_duplicate_min</th>\n",
       "      <th>var_0__has_duplicate</th>\n",
       "      <th>var_0__sum_values</th>\n",
       "      <th>var_0__abs_energy</th>\n",
       "      <th>var_0__mean_abs_change</th>\n",
       "      <th>var_0__mean_change</th>\n",
       "      <th>var_0__mean_second_derivative_central</th>\n",
       "      <th>var_0__median</th>\n",
       "      <th>...</th>\n",
       "      <th>var_0__fourier_entropy__bins_5</th>\n",
       "      <th>var_0__fourier_entropy__bins_10</th>\n",
       "      <th>var_0__fourier_entropy__bins_100</th>\n",
       "      <th>var_0__permutation_entropy__dimension_3__tau_1</th>\n",
       "      <th>var_0__permutation_entropy__dimension_4__tau_1</th>\n",
       "      <th>var_0__permutation_entropy__dimension_5__tau_1</th>\n",
       "      <th>var_0__permutation_entropy__dimension_6__tau_1</th>\n",
       "      <th>var_0__permutation_entropy__dimension_7__tau_1</th>\n",
       "      <th>var_0__query_similarity_count__query_None__threshold_0.0</th>\n",
       "      <th>var_0__mean_n_absolute_max__number_of_maxima_7</th>\n",
       "    </tr>\n",
       "  </thead>\n",
       "  <tbody>\n",
       "    <tr>\n",
       "      <th>0</th>\n",
       "      <td>0.0</td>\n",
       "      <td>0.0</td>\n",
       "      <td>0.0</td>\n",
       "      <td>0.0</td>\n",
       "      <td>86.20378</td>\n",
       "      <td>320.360128</td>\n",
       "      <td>0.215922</td>\n",
       "      <td>-0.000591</td>\n",
       "      <td>-0.003422</td>\n",
       "      <td>3.70990</td>\n",
       "      <td>...</td>\n",
       "      <td>0.687092</td>\n",
       "      <td>1.043794</td>\n",
       "      <td>1.631345</td>\n",
       "      <td>1.209609</td>\n",
       "      <td>1.631537</td>\n",
       "      <td>2.006981</td>\n",
       "      <td>2.227525</td>\n",
       "      <td>2.443306</td>\n",
       "      <td>NaN</td>\n",
       "      <td>4.348723</td>\n",
       "    </tr>\n",
       "    <tr>\n",
       "      <th>1</th>\n",
       "      <td>0.0</td>\n",
       "      <td>0.0</td>\n",
       "      <td>0.0</td>\n",
       "      <td>0.0</td>\n",
       "      <td>79.54713</td>\n",
       "      <td>268.609766</td>\n",
       "      <td>0.124926</td>\n",
       "      <td>-0.000539</td>\n",
       "      <td>-0.002570</td>\n",
       "      <td>3.44207</td>\n",
       "      <td>...</td>\n",
       "      <td>0.535961</td>\n",
       "      <td>0.793730</td>\n",
       "      <td>1.043794</td>\n",
       "      <td>1.146915</td>\n",
       "      <td>1.521613</td>\n",
       "      <td>1.968090</td>\n",
       "      <td>2.274475</td>\n",
       "      <td>2.553237</td>\n",
       "      <td>NaN</td>\n",
       "      <td>3.799424</td>\n",
       "    </tr>\n",
       "  </tbody>\n",
       "</table>\n",
       "<p>2 rows × 783 columns</p>\n",
       "</div>"
      ],
      "text/plain": [
       "   var_0__variance_larger_than_standard_deviation  var_0__has_duplicate_max  \\\n",
       "0                                             0.0                       0.0   \n",
       "1                                             0.0                       0.0   \n",
       "\n",
       "   var_0__has_duplicate_min  var_0__has_duplicate  var_0__sum_values  \\\n",
       "0                       0.0                   0.0           86.20378   \n",
       "1                       0.0                   0.0           79.54713   \n",
       "\n",
       "   var_0__abs_energy  var_0__mean_abs_change  var_0__mean_change  \\\n",
       "0         320.360128                0.215922           -0.000591   \n",
       "1         268.609766                0.124926           -0.000539   \n",
       "\n",
       "   var_0__mean_second_derivative_central  var_0__median  ...  \\\n",
       "0                              -0.003422        3.70990  ...   \n",
       "1                              -0.002570        3.44207  ...   \n",
       "\n",
       "   var_0__fourier_entropy__bins_5  var_0__fourier_entropy__bins_10  \\\n",
       "0                        0.687092                         1.043794   \n",
       "1                        0.535961                         0.793730   \n",
       "\n",
       "   var_0__fourier_entropy__bins_100  \\\n",
       "0                          1.631345   \n",
       "1                          1.043794   \n",
       "\n",
       "   var_0__permutation_entropy__dimension_3__tau_1  \\\n",
       "0                                        1.209609   \n",
       "1                                        1.146915   \n",
       "\n",
       "   var_0__permutation_entropy__dimension_4__tau_1  \\\n",
       "0                                        1.631537   \n",
       "1                                        1.521613   \n",
       "\n",
       "   var_0__permutation_entropy__dimension_5__tau_1  \\\n",
       "0                                        2.006981   \n",
       "1                                        1.968090   \n",
       "\n",
       "   var_0__permutation_entropy__dimension_6__tau_1  \\\n",
       "0                                        2.227525   \n",
       "1                                        2.274475   \n",
       "\n",
       "   var_0__permutation_entropy__dimension_7__tau_1  \\\n",
       "0                                        2.443306   \n",
       "1                                        2.553237   \n",
       "\n",
       "   var_0__query_similarity_count__query_None__threshold_0.0  \\\n",
       "0                                                NaN          \n",
       "1                                                NaN          \n",
       "\n",
       "   var_0__mean_n_absolute_max__number_of_maxima_7  \n",
       "0                                        4.348723  \n",
       "1                                        3.799424  \n",
       "\n",
       "[2 rows x 783 columns]"
      ]
     },
     "execution_count": 35,
     "metadata": {},
     "output_type": "execute_result"
    }
   ],
   "source": [
    "Xt_train = extract_features(\n",
    "            from_nested_to_long(df_train),\n",
    "            column_id=\"index\",\n",
    "            column_value=\"value\",\n",
    "            column_kind=\"column\",\n",
    "            column_sort=\"time_index\", )\n",
    "Xt_train.head(2)"
   ]
  },
  {
   "cell_type": "code",
   "execution_count": 36,
   "metadata": {
    "scrolled": true
   },
   "outputs": [
    {
     "name": "stderr",
     "output_type": "stream",
     "text": [
      "Feature Extraction: 100%|██████████| 20/20 [00:23<00:00,  1.19s/it]\n"
     ]
    },
    {
     "data": {
      "text/html": [
       "<div>\n",
       "<style scoped>\n",
       "    .dataframe tbody tr th:only-of-type {\n",
       "        vertical-align: middle;\n",
       "    }\n",
       "\n",
       "    .dataframe tbody tr th {\n",
       "        vertical-align: top;\n",
       "    }\n",
       "\n",
       "    .dataframe thead th {\n",
       "        text-align: right;\n",
       "    }\n",
       "</style>\n",
       "<table border=\"1\" class=\"dataframe\">\n",
       "  <thead>\n",
       "    <tr style=\"text-align: right;\">\n",
       "      <th></th>\n",
       "      <th>var_0__variance_larger_than_standard_deviation</th>\n",
       "      <th>var_0__has_duplicate_max</th>\n",
       "      <th>var_0__has_duplicate_min</th>\n",
       "      <th>var_0__has_duplicate</th>\n",
       "      <th>var_0__sum_values</th>\n",
       "      <th>var_0__abs_energy</th>\n",
       "      <th>var_0__mean_abs_change</th>\n",
       "      <th>var_0__mean_change</th>\n",
       "      <th>var_0__mean_second_derivative_central</th>\n",
       "      <th>var_0__median</th>\n",
       "      <th>...</th>\n",
       "      <th>var_0__fourier_entropy__bins_5</th>\n",
       "      <th>var_0__fourier_entropy__bins_10</th>\n",
       "      <th>var_0__fourier_entropy__bins_100</th>\n",
       "      <th>var_0__permutation_entropy__dimension_3__tau_1</th>\n",
       "      <th>var_0__permutation_entropy__dimension_4__tau_1</th>\n",
       "      <th>var_0__permutation_entropy__dimension_5__tau_1</th>\n",
       "      <th>var_0__permutation_entropy__dimension_6__tau_1</th>\n",
       "      <th>var_0__permutation_entropy__dimension_7__tau_1</th>\n",
       "      <th>var_0__query_similarity_count__query_None__threshold_0.0</th>\n",
       "      <th>var_0__mean_n_absolute_max__number_of_maxima_7</th>\n",
       "    </tr>\n",
       "  </thead>\n",
       "  <tbody>\n",
       "    <tr>\n",
       "      <th>0</th>\n",
       "      <td>0.0</td>\n",
       "      <td>0.0</td>\n",
       "      <td>0.0</td>\n",
       "      <td>0.0</td>\n",
       "      <td>75.33875</td>\n",
       "      <td>241.287581</td>\n",
       "      <td>0.123361</td>\n",
       "      <td>0.003939</td>\n",
       "      <td>-0.001435</td>\n",
       "      <td>3.271760</td>\n",
       "      <td>...</td>\n",
       "      <td>0.535961</td>\n",
       "      <td>0.79373</td>\n",
       "      <td>1.285293</td>\n",
       "      <td>1.546599</td>\n",
       "      <td>2.136507</td>\n",
       "      <td>2.428581</td>\n",
       "      <td>2.579625</td>\n",
       "      <td>2.707270</td>\n",
       "      <td>NaN</td>\n",
       "      <td>3.605323</td>\n",
       "    </tr>\n",
       "    <tr>\n",
       "      <th>1</th>\n",
       "      <td>0.0</td>\n",
       "      <td>0.0</td>\n",
       "      <td>0.0</td>\n",
       "      <td>0.0</td>\n",
       "      <td>72.53051</td>\n",
       "      <td>222.406547</td>\n",
       "      <td>0.116567</td>\n",
       "      <td>0.002657</td>\n",
       "      <td>-0.003835</td>\n",
       "      <td>3.165465</td>\n",
       "      <td>...</td>\n",
       "      <td>0.793730</td>\n",
       "      <td>0.79373</td>\n",
       "      <td>1.410514</td>\n",
       "      <td>1.299233</td>\n",
       "      <td>1.856270</td>\n",
       "      <td>2.319575</td>\n",
       "      <td>2.652588</td>\n",
       "      <td>2.813355</td>\n",
       "      <td>NaN</td>\n",
       "      <td>3.409190</td>\n",
       "    </tr>\n",
       "  </tbody>\n",
       "</table>\n",
       "<p>2 rows × 783 columns</p>\n",
       "</div>"
      ],
      "text/plain": [
       "   var_0__variance_larger_than_standard_deviation  var_0__has_duplicate_max  \\\n",
       "0                                             0.0                       0.0   \n",
       "1                                             0.0                       0.0   \n",
       "\n",
       "   var_0__has_duplicate_min  var_0__has_duplicate  var_0__sum_values  \\\n",
       "0                       0.0                   0.0           75.33875   \n",
       "1                       0.0                   0.0           72.53051   \n",
       "\n",
       "   var_0__abs_energy  var_0__mean_abs_change  var_0__mean_change  \\\n",
       "0         241.287581                0.123361            0.003939   \n",
       "1         222.406547                0.116567            0.002657   \n",
       "\n",
       "   var_0__mean_second_derivative_central  var_0__median  ...  \\\n",
       "0                              -0.001435       3.271760  ...   \n",
       "1                              -0.003835       3.165465  ...   \n",
       "\n",
       "   var_0__fourier_entropy__bins_5  var_0__fourier_entropy__bins_10  \\\n",
       "0                        0.535961                          0.79373   \n",
       "1                        0.793730                          0.79373   \n",
       "\n",
       "   var_0__fourier_entropy__bins_100  \\\n",
       "0                          1.285293   \n",
       "1                          1.410514   \n",
       "\n",
       "   var_0__permutation_entropy__dimension_3__tau_1  \\\n",
       "0                                        1.546599   \n",
       "1                                        1.299233   \n",
       "\n",
       "   var_0__permutation_entropy__dimension_4__tau_1  \\\n",
       "0                                        2.136507   \n",
       "1                                        1.856270   \n",
       "\n",
       "   var_0__permutation_entropy__dimension_5__tau_1  \\\n",
       "0                                        2.428581   \n",
       "1                                        2.319575   \n",
       "\n",
       "   var_0__permutation_entropy__dimension_6__tau_1  \\\n",
       "0                                        2.579625   \n",
       "1                                        2.652588   \n",
       "\n",
       "   var_0__permutation_entropy__dimension_7__tau_1  \\\n",
       "0                                        2.707270   \n",
       "1                                        2.813355   \n",
       "\n",
       "   var_0__query_similarity_count__query_None__threshold_0.0  \\\n",
       "0                                                NaN          \n",
       "1                                                NaN          \n",
       "\n",
       "   var_0__mean_n_absolute_max__number_of_maxima_7  \n",
       "0                                        3.605323  \n",
       "1                                        3.409190  \n",
       "\n",
       "[2 rows x 783 columns]"
      ]
     },
     "execution_count": 36,
     "metadata": {},
     "output_type": "execute_result"
    }
   ],
   "source": [
    "Xt_test = extract_features(\n",
    "            from_nested_to_long(df_test),\n",
    "            column_id=\"index\",\n",
    "            column_value=\"value\",\n",
    "            column_kind=\"column\",\n",
    "            column_sort=\"time_index\", )\n",
    "Xt_test.head(2)"
   ]
  },
  {
   "cell_type": "markdown",
   "metadata": {},
   "source": [
    "И так мы выделили 789 признаков. Среди признаков есть значения достаточно разных порядков, а также отсутствующие значения.\n",
    "Проведем стандартизацию полученных признаков."
   ]
  },
  {
   "cell_type": "code",
   "execution_count": 37,
   "metadata": {},
   "outputs": [],
   "source": [
    "Xt_train = (Xt_train - Xt_train.min())/(Xt_train.max() - Xt_train.min()).astype(np.float32)\n",
    "Xt_test  = (Xt_test  - Xt_train.min())/(Xt_train.max() - Xt_train.min()).astype(np.float32)"
   ]
  },
  {
   "cell_type": "code",
   "execution_count": 38,
   "metadata": {
    "scrolled": true
   },
   "outputs": [],
   "source": [
    "Xt_train = Xt_train.dropna(axis=1)\n",
    "Xt_test  = Xt_test[Xt_train.columns]"
   ]
  },
  {
   "cell_type": "code",
   "execution_count": 39,
   "metadata": {
    "scrolled": true
   },
   "outputs": [
    {
     "data": {
      "text/plain": [
       "0.41316270566727603"
      ]
     },
     "execution_count": 39,
     "metadata": {},
     "output_type": "execute_result"
    }
   ],
   "source": [
    "clf = RandomForestClassifier(n_estimators=100)\n",
    "clf.fit(Xt_train, y_train)\n",
    "clf.score(Xt_test, y_test)"
   ]
  },
  {
   "cell_type": "markdown",
   "metadata": {},
   "source": [
    "Отметим, что при необходимости в пакете `SKTime` можно найти и ряд не рассмотренных тут преобразований, техник выделения признаков и техник классификации временных рядов. "
   ]
  },
  {
   "cell_type": "markdown",
   "metadata": {},
   "source": [
    "### Выводы:"
   ]
  },
  {
   "cell_type": "markdown",
   "metadata": {},
   "source": [
    "По результатам исследования, используя выбранную метрику, наилучшие результаты показали следующие методы:\n",
    "- clf = SupervisedTimeSeriesForest(n_estimators=100, random_state=47)  \n",
    "**test score 0.883**  \n",
    "- clf = MUSE(random_state=47)  \n",
    "**0.8647166361974405**  "
   ]
  },
  {
   "cell_type": "code",
   "execution_count": null,
   "metadata": {},
   "outputs": [],
   "source": []
  }
 ],
 "metadata": {
  "kernelspec": {
   "display_name": "Python 3 (ipykernel)",
   "language": "python",
   "name": "python3"
  },
  "language_info": {
   "codemirror_mode": {
    "name": "ipython",
    "version": 3
   },
   "file_extension": ".py",
   "mimetype": "text/x-python",
   "name": "python",
   "nbconvert_exporter": "python",
   "pygments_lexer": "ipython3",
   "version": "3.10.9"
  },
  "toc": {
   "base_numbering": 1,
   "nav_menu": {},
   "number_sections": true,
   "sideBar": true,
   "skip_h1_title": false,
   "title_cell": "Table of Contents",
   "title_sidebar": "Contents",
   "toc_cell": false,
   "toc_position": {
    "height": "calc(100% - 180px)",
    "left": "10px",
    "top": "150px",
    "width": "192.102px"
   },
   "toc_section_display": true,
   "toc_window_display": false
  }
 },
 "nbformat": 4,
 "nbformat_minor": 4
}
