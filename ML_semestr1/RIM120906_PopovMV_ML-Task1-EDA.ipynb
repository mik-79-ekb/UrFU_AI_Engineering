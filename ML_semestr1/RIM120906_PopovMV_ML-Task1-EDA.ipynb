{
 "cells": [
  {
   "cell_type": "markdown",
   "metadata": {},
   "source": [
    "# Task 1 Закрепление Исследовательского Анализа данных \n",
    "#  (Продвинутый канал)"
   ]
  },
  {
   "cell_type": "markdown",
   "metadata": {},
   "source": [
    "**Задание:**"
   ]
  },
  {
   "cell_type": "markdown",
   "metadata": {},
   "source": [
    "1. Ознакомьтесь с содержанием демонстрационных блокнотов (Неделя 1 и Неделя 2) \n",
    "\n",
    "2. Создайте новый блокнот, импортируйте необходимые библиотеки \n",
    "\n",
    "3. Скачайте набор данных Cars Moldova (можно сразу очищенных от дубликатов и выбросов)  \n",
    "\n",
    "4.1 Используя агрегацию посчитайте медиану, стандартное отклонение, 5 и 95 перцентиль Цены для разных типов топливных систем (Fuel_Typel) и типов трансмиссии (Transmission) \n",
    "\n",
    "4.2 Для разных Марок автомобилей (Make) и Моделей автомобилей (Model) оцените встречаемость разных типов трансмиссии (Transmission) \n",
    "\n",
    "4.3 Давайте реализуем «умную» замену на редкие категории. В этот раз делайте замену вида «редкий дорогой» и «редкий дешевый», чтобы условные УАЗики не попали в одну группу с Jaguar \n",
    "\n",
    "4.4 Введите квантильные категории для столбца удельный пробег за год (km year). Чтобы были условно категории «с небольшим пробегом», «со средним пробегом» и «с большим пробегом» \n",
    "\n",
    "5. Загрузите ссылку (предварительно убедившись в открытом доступе) или ipynb файл своего решения в MS Teams \n",
    "\n",
    "Блокнот необходимо прилежно оформить  \n",
    "- хочется видеть структуру (Заголовки разного уровня);  \n",
    "- ожидается видеть не только код, но и комментарии к нему;  \n",
    "- не должно быть запущенных ячеек с ошибками; \n",
    "- ожидается что рисунки адекватно оформлены (не маленького размера, есть описание того, что на рисунке)"
   ]
  },
  {
   "cell_type": "markdown",
   "metadata": {},
   "source": [
    "**Критерии оценки**"
   ]
  },
  {
   "cell_type": "markdown",
   "metadata": {},
   "source": [
    "*Используя агрегацию посчитайте медиану, стандартное отклонение, 5 и 95 перцентиль для разных типов топливных систем (Fuel_Typel) и типов трансмиссии (Transmission) Вес: 20%*\n",
    "\n",
    "Отлично  \n",
    "Баллов: 4  \n",
    "Задание выполнено полностью, есть все пояснение к решению, результаты проанализированы\n",
    "\n",
    "\n",
    "Хорошо  \n",
    "Баллов: 3  \n",
    "Код рабочий, выполнен, но без пояснений или анализа результатов\n",
    "\n",
    "\n",
    "Удовлетворительно  \n",
    "Баллов: 2  \n",
    "Вроде есть правильный код, но решение не запущено, или есть ошибки при выполнении\n",
    "\n",
    "\n",
    "Плохо\n",
    "1 балл\n",
    "Были попытки сделать задание\n",
    "\n",
    "*Для разных Марок автомобилей (Make) и Моделей автомобилей (Model) оцените встречаемость разных типов трансмиссии (Transmission) Вес: 20%*\n",
    "\n",
    "Отлично\n",
    "Баллов: 4\n",
    "Задание выполнено полностью, есть все пояснение к решению, результаты проанализированы\n",
    "\n",
    "\n",
    "Хорошо\n",
    "Баллов: 3\n",
    "Код рабочий, выполнен, но без пояснений или анализа результатов\n",
    "\n",
    "\n",
    "Удовлетворительно\n",
    "Баллов: 2\n",
    "Вроде есть правильный код, но решение не запущено, или есть ошибки при выполнении\n",
    "\n",
    "\n",
    "Плохо  \n",
    "1 балл  \n",
    "Были попытки сделать задание\n",
    "\n",
    "*Давайте реализуем «умную» замену на редкие категории. В этот раз делайте замену вида «редкий дорогой» и «редкий дешевый», чтобы условные УАЗики не попали в одну группу с Jaguar Вес: 20%*\n",
    "\n",
    "Отлично  \n",
    "Баллов: 4  \n",
    "Задание выполнено полностью, есть все пояснение к решению, результаты проанализированы\n",
    "\n",
    "\n",
    "Хорошо  \n",
    "Баллов: 3  \n",
    "Код рабочий, выполнен, но без пояснений или анализа результатов\n",
    "\n",
    "\n",
    "Удовлетворительно  \n",
    "Баллов: 2  \n",
    "Вроде есть правильный код, но решение не запущено, или есть ошибки при выполнении\n",
    "\n",
    "\n",
    "Плохо  \n",
    "1 балл  \n",
    "Были попытки сделать задание\n",
    "\n",
    "*Введите квантильные значения для столбца удельный пробег за год (km year). Чтобы были условно категории «с небольшим пробегом», «со средним пробегом» и «с большим пробегом» Вес: 20%*\n",
    "\n",
    "Отлично  \n",
    "Баллов: 4  \n",
    "Задание выполнено полностью, есть все пояснение к решению, результаты проанализированы\n",
    "\n",
    "\n",
    "Хорошо  \n",
    "Баллов: 3  \n",
    "Код рабочий, выполнен, но без пояснений или анализа результатов\n",
    "\n",
    "\n",
    "Удовлетворительно  \n",
    "Баллов: 2  \n",
    "Вроде есть правильный код, но решение не запущено, или есть ошибки при выполнении\n",
    "\n",
    "\n",
    "Плохо  \n",
    "1 балл  \n",
    "Были попытки сделать задание\n",
    "\n",
    "*Общее оформление Вес: 20%*\n",
    "\n",
    "Отлично  \n",
    "Баллов: 4  \n",
    "В блокноте прослеживается хорошая структура (разноуровневые заголовки) * Комментарии основных моментов кода в ячеек * Весь код выполнен без ошибок\n",
    "\n",
    "\n",
    "Хорошо  \n",
    "Баллов: 3  \n",
    "Ячейки выполнены без ошибок * Почти ко всем ячейкам есть оригинальные комментарии, описывающие действия\n",
    "\n",
    "\n",
    "Удовлетворительно  \n",
    "Баллов: 2  \n",
    "Ячейки выполнены без ошибок * Но как правило это просто код без комментариев * Авторство сомнительно\n",
    "\n",
    "\n",
    "Плохо  \n",
    "1 балл  \n",
    "Блокнот есть * но это просто набор невыполненных ячеек * Авторство сомнительно"
   ]
  },
  {
   "cell_type": "code",
   "execution_count": 1,
   "metadata": {},
   "outputs": [
    {
     "data": {
      "text/plain": [
       "'--------------------------------------------------'"
      ]
     },
     "execution_count": 1,
     "metadata": {},
     "output_type": "execute_result"
    }
   ],
   "source": [
    "\"-\"*50"
   ]
  },
  {
   "cell_type": "markdown",
   "metadata": {
    "id": "hSA1kgiKvrTG"
   },
   "source": [
    "# Набор данных\n",
    "\n",
    "**Оценка стоимости  и типа трансмиссии по данным продаж автомобилей на вторичном рынке Молдавии**"
   ]
  },
  {
   "cell_type": "markdown",
   "metadata": {
    "id": "9WAiW__nvrTK"
   },
   "source": [
    "Набор данных представляет собой статистику параметров автомобилей на вторичном рынке в Молдавии. \n",
    "\n",
    "Набор включает ряд категориальных и численных значений, составляющих одну запись (строку). Число записей можно найти как число строк.\n",
    "\n",
    "Каждый столбец в записи — это отдельный параметр. \n",
    "\n",
    "Среди указанных параметров приведены целевой для задачи предсказания (регрессии) - цена автомобиля.\n",
    "\n",
    " Также среди параметров есть целевой для задачи классификации - тип трансмиссии. \n",
    " \n",
    " Последняя задача может быть рассмотрена, например, как пример задачи на заполнение пропусков (если продавец не указал соответствующий параметр)."
   ]
  },
  {
   "cell_type": "markdown",
   "metadata": {
    "id": "GjqQDt2hvrTL"
   },
   "source": [
    "# Import библиотек"
   ]
  },
  {
   "cell_type": "code",
   "execution_count": 2,
   "metadata": {
    "id": "W1M6Kfo6vrTM",
    "scrolled": true
   },
   "outputs": [],
   "source": [
    "import pandas as pd\n",
    "\n",
    "import numpy as np\n",
    "import matplotlib.pyplot as plt \n",
    "import seaborn as sns; sns.set()"
   ]
  },
  {
   "cell_type": "markdown",
   "metadata": {
    "id": "6KkCjdKUsHIr"
   },
   "source": [
    "# Считываем файл в DataFrame\n",
    "\n"
   ]
  },
  {
   "cell_type": "code",
   "execution_count": 3,
   "metadata": {},
   "outputs": [],
   "source": [
    "# Берем очищенный от дупликатов и выбросов датасет из ноутбука с лекции №2"
   ]
  },
  {
   "cell_type": "code",
   "execution_count": 4,
   "metadata": {
    "colab": {
     "base_uri": "https://localhost:8080/",
     "height": 423
    },
    "id": "aSOyj3trvrTO",
    "outputId": "cbbad301-f09b-4a0b-9908-4590ae36570d",
    "scrolled": true
   },
   "outputs": [
    {
     "data": {
      "text/html": [
       "<div>\n",
       "<style scoped>\n",
       "    .dataframe tbody tr th:only-of-type {\n",
       "        vertical-align: middle;\n",
       "    }\n",
       "\n",
       "    .dataframe tbody tr th {\n",
       "        vertical-align: top;\n",
       "    }\n",
       "\n",
       "    .dataframe thead th {\n",
       "        text-align: right;\n",
       "    }\n",
       "</style>\n",
       "<table border=\"1\" class=\"dataframe\">\n",
       "  <thead>\n",
       "    <tr style=\"text-align: right;\">\n",
       "      <th></th>\n",
       "      <th>Make</th>\n",
       "      <th>Model</th>\n",
       "      <th>Year</th>\n",
       "      <th>Style</th>\n",
       "      <th>Distance</th>\n",
       "      <th>Engine_capacity(cm3)</th>\n",
       "      <th>Fuel_type</th>\n",
       "      <th>Transmission</th>\n",
       "      <th>Price(euro)</th>\n",
       "      <th>km_year</th>\n",
       "    </tr>\n",
       "  </thead>\n",
       "  <tbody>\n",
       "    <tr>\n",
       "      <th>0</th>\n",
       "      <td>Toyota</td>\n",
       "      <td>Prius</td>\n",
       "      <td>2011</td>\n",
       "      <td>Hatchback</td>\n",
       "      <td>195000.0</td>\n",
       "      <td>1800.0</td>\n",
       "      <td>Hybrid</td>\n",
       "      <td>Automatic</td>\n",
       "      <td>7750.0</td>\n",
       "      <td>17727.272727</td>\n",
       "    </tr>\n",
       "    <tr>\n",
       "      <th>1</th>\n",
       "      <td>Renault</td>\n",
       "      <td>Grand Scenic</td>\n",
       "      <td>2014</td>\n",
       "      <td>Universal</td>\n",
       "      <td>135000.0</td>\n",
       "      <td>1500.0</td>\n",
       "      <td>Diesel</td>\n",
       "      <td>Manual</td>\n",
       "      <td>8550.0</td>\n",
       "      <td>16875.000000</td>\n",
       "    </tr>\n",
       "    <tr>\n",
       "      <th>2</th>\n",
       "      <td>Renault</td>\n",
       "      <td>Laguna</td>\n",
       "      <td>2012</td>\n",
       "      <td>Universal</td>\n",
       "      <td>110000.0</td>\n",
       "      <td>1500.0</td>\n",
       "      <td>Diesel</td>\n",
       "      <td>Manual</td>\n",
       "      <td>6550.0</td>\n",
       "      <td>11000.000000</td>\n",
       "    </tr>\n",
       "    <tr>\n",
       "      <th>3</th>\n",
       "      <td>Opel</td>\n",
       "      <td>Astra</td>\n",
       "      <td>2006</td>\n",
       "      <td>Universal</td>\n",
       "      <td>200000.0</td>\n",
       "      <td>1600.0</td>\n",
       "      <td>Metan/Propan</td>\n",
       "      <td>Manual</td>\n",
       "      <td>4100.0</td>\n",
       "      <td>12500.000000</td>\n",
       "    </tr>\n",
       "    <tr>\n",
       "      <th>4</th>\n",
       "      <td>Mercedes</td>\n",
       "      <td>Vito</td>\n",
       "      <td>2000</td>\n",
       "      <td>Microvan</td>\n",
       "      <td>300000.0</td>\n",
       "      <td>2200.0</td>\n",
       "      <td>Diesel</td>\n",
       "      <td>Manual</td>\n",
       "      <td>3490.0</td>\n",
       "      <td>13636.363636</td>\n",
       "    </tr>\n",
       "  </tbody>\n",
       "</table>\n",
       "</div>"
      ],
      "text/plain": [
       "       Make         Model  Year      Style  Distance  Engine_capacity(cm3)  \\\n",
       "0    Toyota         Prius  2011  Hatchback  195000.0                1800.0   \n",
       "1   Renault  Grand Scenic  2014  Universal  135000.0                1500.0   \n",
       "2   Renault        Laguna  2012  Universal  110000.0                1500.0   \n",
       "3      Opel         Astra  2006  Universal  200000.0                1600.0   \n",
       "4  Mercedes          Vito  2000   Microvan  300000.0                2200.0   \n",
       "\n",
       "      Fuel_type Transmission  Price(euro)       km_year  \n",
       "0        Hybrid    Automatic       7750.0  17727.272727  \n",
       "1        Diesel       Manual       8550.0  16875.000000  \n",
       "2        Diesel       Manual       6550.0  11000.000000  \n",
       "3  Metan/Propan       Manual       4100.0  12500.000000  \n",
       "4        Diesel       Manual       3490.0  13636.363636  "
      ]
     },
     "execution_count": 4,
     "metadata": {},
     "output_type": "execute_result"
    }
   ],
   "source": [
    "df = pd.read_csv('./Data/cars_moldova_clean.csv', delimiter = ',')\n",
    "df.head()"
   ]
  },
  {
   "cell_type": "markdown",
   "metadata": {},
   "source": [
    "Дополнительно проверяем на дупликаты"
   ]
  },
  {
   "cell_type": "code",
   "execution_count": 5,
   "metadata": {
    "scrolled": false
   },
   "outputs": [
    {
     "data": {
      "text/plain": [
       "12"
      ]
     },
     "execution_count": 5,
     "metadata": {},
     "output_type": "execute_result"
    }
   ],
   "source": [
    "df.duplicated().sum()"
   ]
  },
  {
   "cell_type": "markdown",
   "metadata": {},
   "source": [
    "Т.к. они по неизвестной причине появились, очищаем от них датасет еще раз"
   ]
  },
  {
   "cell_type": "code",
   "execution_count": 6,
   "metadata": {
    "scrolled": true
   },
   "outputs": [
    {
     "data": {
      "text/html": [
       "<div>\n",
       "<style scoped>\n",
       "    .dataframe tbody tr th:only-of-type {\n",
       "        vertical-align: middle;\n",
       "    }\n",
       "\n",
       "    .dataframe tbody tr th {\n",
       "        vertical-align: top;\n",
       "    }\n",
       "\n",
       "    .dataframe thead th {\n",
       "        text-align: right;\n",
       "    }\n",
       "</style>\n",
       "<table border=\"1\" class=\"dataframe\">\n",
       "  <thead>\n",
       "    <tr style=\"text-align: right;\">\n",
       "      <th></th>\n",
       "      <th>Make</th>\n",
       "      <th>Model</th>\n",
       "      <th>Year</th>\n",
       "      <th>Style</th>\n",
       "      <th>Distance</th>\n",
       "      <th>Engine_capacity(cm3)</th>\n",
       "      <th>Fuel_type</th>\n",
       "      <th>Transmission</th>\n",
       "      <th>Price(euro)</th>\n",
       "      <th>km_year</th>\n",
       "    </tr>\n",
       "  </thead>\n",
       "  <tbody>\n",
       "    <tr>\n",
       "      <th>0</th>\n",
       "      <td>Toyota</td>\n",
       "      <td>Prius</td>\n",
       "      <td>2011</td>\n",
       "      <td>Hatchback</td>\n",
       "      <td>195000.0</td>\n",
       "      <td>1800.0</td>\n",
       "      <td>Hybrid</td>\n",
       "      <td>Automatic</td>\n",
       "      <td>7750.0</td>\n",
       "      <td>17727.272727</td>\n",
       "    </tr>\n",
       "    <tr>\n",
       "      <th>1</th>\n",
       "      <td>Renault</td>\n",
       "      <td>Grand Scenic</td>\n",
       "      <td>2014</td>\n",
       "      <td>Universal</td>\n",
       "      <td>135000.0</td>\n",
       "      <td>1500.0</td>\n",
       "      <td>Diesel</td>\n",
       "      <td>Manual</td>\n",
       "      <td>8550.0</td>\n",
       "      <td>16875.000000</td>\n",
       "    </tr>\n",
       "    <tr>\n",
       "      <th>2</th>\n",
       "      <td>Renault</td>\n",
       "      <td>Laguna</td>\n",
       "      <td>2012</td>\n",
       "      <td>Universal</td>\n",
       "      <td>110000.0</td>\n",
       "      <td>1500.0</td>\n",
       "      <td>Diesel</td>\n",
       "      <td>Manual</td>\n",
       "      <td>6550.0</td>\n",
       "      <td>11000.000000</td>\n",
       "    </tr>\n",
       "    <tr>\n",
       "      <th>3</th>\n",
       "      <td>Opel</td>\n",
       "      <td>Astra</td>\n",
       "      <td>2006</td>\n",
       "      <td>Universal</td>\n",
       "      <td>200000.0</td>\n",
       "      <td>1600.0</td>\n",
       "      <td>Metan/Propan</td>\n",
       "      <td>Manual</td>\n",
       "      <td>4100.0</td>\n",
       "      <td>12500.000000</td>\n",
       "    </tr>\n",
       "    <tr>\n",
       "      <th>4</th>\n",
       "      <td>Mercedes</td>\n",
       "      <td>Vito</td>\n",
       "      <td>2000</td>\n",
       "      <td>Microvan</td>\n",
       "      <td>300000.0</td>\n",
       "      <td>2200.0</td>\n",
       "      <td>Diesel</td>\n",
       "      <td>Manual</td>\n",
       "      <td>3490.0</td>\n",
       "      <td>13636.363636</td>\n",
       "    </tr>\n",
       "  </tbody>\n",
       "</table>\n",
       "</div>"
      ],
      "text/plain": [
       "       Make         Model  Year      Style  Distance  Engine_capacity(cm3)  \\\n",
       "0    Toyota         Prius  2011  Hatchback  195000.0                1800.0   \n",
       "1   Renault  Grand Scenic  2014  Universal  135000.0                1500.0   \n",
       "2   Renault        Laguna  2012  Universal  110000.0                1500.0   \n",
       "3      Opel         Astra  2006  Universal  200000.0                1600.0   \n",
       "4  Mercedes          Vito  2000   Microvan  300000.0                2200.0   \n",
       "\n",
       "      Fuel_type Transmission  Price(euro)       km_year  \n",
       "0        Hybrid    Automatic       7750.0  17727.272727  \n",
       "1        Diesel       Manual       8550.0  16875.000000  \n",
       "2        Diesel       Manual       6550.0  11000.000000  \n",
       "3  Metan/Propan       Manual       4100.0  12500.000000  \n",
       "4        Diesel       Manual       3490.0  13636.363636  "
      ]
     },
     "execution_count": 6,
     "metadata": {},
     "output_type": "execute_result"
    }
   ],
   "source": [
    "df = df.drop_duplicates()\n",
    "df = df.reset_index(drop=True)\n",
    "df.head()"
   ]
  },
  {
   "cell_type": "code",
   "execution_count": 7,
   "metadata": {},
   "outputs": [
    {
     "data": {
      "text/plain": [
       "0"
      ]
     },
     "execution_count": 7,
     "metadata": {},
     "output_type": "execute_result"
    }
   ],
   "source": [
    "df.duplicated().sum()"
   ]
  },
  {
   "cell_type": "markdown",
   "metadata": {},
   "source": [
    "# Информация о DataFrame"
   ]
  },
  {
   "cell_type": "code",
   "execution_count": 8,
   "metadata": {},
   "outputs": [
    {
     "name": "stdout",
     "output_type": "stream",
     "text": [
      "<class 'pandas.core.frame.DataFrame'>\n",
      "RangeIndex: 32062 entries, 0 to 32061\n",
      "Data columns (total 10 columns):\n",
      " #   Column                Non-Null Count  Dtype  \n",
      "---  ------                --------------  -----  \n",
      " 0   Make                  32062 non-null  object \n",
      " 1   Model                 32062 non-null  object \n",
      " 2   Year                  32062 non-null  int64  \n",
      " 3   Style                 32062 non-null  object \n",
      " 4   Distance              32062 non-null  float64\n",
      " 5   Engine_capacity(cm3)  32062 non-null  float64\n",
      " 6   Fuel_type             32062 non-null  object \n",
      " 7   Transmission          32062 non-null  object \n",
      " 8   Price(euro)           32062 non-null  float64\n",
      " 9   km_year               32062 non-null  float64\n",
      "dtypes: float64(4), int64(1), object(5)\n",
      "memory usage: 2.4+ MB\n"
     ]
    }
   ],
   "source": [
    "df.info()"
   ]
  },
  {
   "cell_type": "code",
   "execution_count": 9,
   "metadata": {
    "scrolled": false
   },
   "outputs": [
    {
     "data": {
      "text/html": [
       "<div>\n",
       "<style scoped>\n",
       "    .dataframe tbody tr th:only-of-type {\n",
       "        vertical-align: middle;\n",
       "    }\n",
       "\n",
       "    .dataframe tbody tr th {\n",
       "        vertical-align: top;\n",
       "    }\n",
       "\n",
       "    .dataframe thead th {\n",
       "        text-align: right;\n",
       "    }\n",
       "</style>\n",
       "<table border=\"1\" class=\"dataframe\">\n",
       "  <thead>\n",
       "    <tr style=\"text-align: right;\">\n",
       "      <th></th>\n",
       "      <th>Year</th>\n",
       "      <th>Distance</th>\n",
       "      <th>Engine_capacity(cm3)</th>\n",
       "      <th>Price(euro)</th>\n",
       "      <th>km_year</th>\n",
       "    </tr>\n",
       "  </thead>\n",
       "  <tbody>\n",
       "    <tr>\n",
       "      <th>count</th>\n",
       "      <td>32062.000000</td>\n",
       "      <td>32062.000000</td>\n",
       "      <td>32062.000000</td>\n",
       "      <td>32062.000000</td>\n",
       "      <td>32062.000000</td>\n",
       "    </tr>\n",
       "    <tr>\n",
       "      <th>mean</th>\n",
       "      <td>2008.334914</td>\n",
       "      <td>180310.107729</td>\n",
       "      <td>1868.448412</td>\n",
       "      <td>9477.345113</td>\n",
       "      <td>14882.786889</td>\n",
       "    </tr>\n",
       "    <tr>\n",
       "      <th>std</th>\n",
       "      <td>7.163247</td>\n",
       "      <td>90542.673827</td>\n",
       "      <td>609.647225</td>\n",
       "      <td>9529.146414</td>\n",
       "      <td>7251.192100</td>\n",
       "    </tr>\n",
       "    <tr>\n",
       "      <th>min</th>\n",
       "      <td>1971.000000</td>\n",
       "      <td>100.000000</td>\n",
       "      <td>200.000000</td>\n",
       "      <td>200.000000</td>\n",
       "      <td>100.000000</td>\n",
       "    </tr>\n",
       "    <tr>\n",
       "      <th>25%</th>\n",
       "      <td>2005.000000</td>\n",
       "      <td>123000.000000</td>\n",
       "      <td>1500.000000</td>\n",
       "      <td>3600.000000</td>\n",
       "      <td>10250.000000</td>\n",
       "    </tr>\n",
       "    <tr>\n",
       "      <th>50%</th>\n",
       "      <td>2010.000000</td>\n",
       "      <td>180000.000000</td>\n",
       "      <td>1800.000000</td>\n",
       "      <td>6799.000000</td>\n",
       "      <td>14435.376263</td>\n",
       "    </tr>\n",
       "    <tr>\n",
       "      <th>75%</th>\n",
       "      <td>2014.000000</td>\n",
       "      <td>235393.500000</td>\n",
       "      <td>2000.000000</td>\n",
       "      <td>12000.000000</td>\n",
       "      <td>18800.000000</td>\n",
       "    </tr>\n",
       "    <tr>\n",
       "      <th>max</th>\n",
       "      <td>2021.000000</td>\n",
       "      <td>500000.000000</td>\n",
       "      <td>5000.000000</td>\n",
       "      <td>100000.000000</td>\n",
       "      <td>50000.000000</td>\n",
       "    </tr>\n",
       "  </tbody>\n",
       "</table>\n",
       "</div>"
      ],
      "text/plain": [
       "               Year       Distance  Engine_capacity(cm3)    Price(euro)  \\\n",
       "count  32062.000000   32062.000000          32062.000000   32062.000000   \n",
       "mean    2008.334914  180310.107729           1868.448412    9477.345113   \n",
       "std        7.163247   90542.673827            609.647225    9529.146414   \n",
       "min     1971.000000     100.000000            200.000000     200.000000   \n",
       "25%     2005.000000  123000.000000           1500.000000    3600.000000   \n",
       "50%     2010.000000  180000.000000           1800.000000    6799.000000   \n",
       "75%     2014.000000  235393.500000           2000.000000   12000.000000   \n",
       "max     2021.000000  500000.000000           5000.000000  100000.000000   \n",
       "\n",
       "            km_year  \n",
       "count  32062.000000  \n",
       "mean   14882.786889  \n",
       "std     7251.192100  \n",
       "min      100.000000  \n",
       "25%    10250.000000  \n",
       "50%    14435.376263  \n",
       "75%    18800.000000  \n",
       "max    50000.000000  "
      ]
     },
     "execution_count": 9,
     "metadata": {},
     "output_type": "execute_result"
    }
   ],
   "source": [
    "df.describe()"
   ]
  },
  {
   "cell_type": "markdown",
   "metadata": {},
   "source": [
    "### 4.1 Используя агрегацию посчитайте медиану, стандартное отклонение, 5 и 95 перцентиль Цены для разных типов топливных систем (Fuel_Typel) и типов трансмиссии (Transmission)"
   ]
  },
  {
   "cell_type": "markdown",
   "metadata": {},
   "source": [
    "Посмотрим существующие значения данных для указанных столбцов"
   ]
  },
  {
   "cell_type": "code",
   "execution_count": 10,
   "metadata": {
    "scrolled": true
   },
   "outputs": [
    {
     "data": {
      "text/plain": [
       "Diesel            15218\n",
       "Petrol            11079\n",
       "Metan/Propan       3463\n",
       "Hybrid             1835\n",
       "Plug-in Hybrid      438\n",
       "Electric             29\n",
       "Name: Fuel_type, dtype: int64"
      ]
     },
     "execution_count": 10,
     "metadata": {},
     "output_type": "execute_result"
    }
   ],
   "source": [
    "df['Fuel_type'].value_counts()"
   ]
  },
  {
   "cell_type": "code",
   "execution_count": 11,
   "metadata": {
    "scrolled": true
   },
   "outputs": [
    {
     "data": {
      "text/plain": [
       "Manual       17388\n",
       "Automatic    14674\n",
       "Name: Transmission, dtype: int64"
      ]
     },
     "execution_count": 11,
     "metadata": {},
     "output_type": "execute_result"
    }
   ],
   "source": [
    "df['Transmission'].value_counts()"
   ]
  },
  {
   "cell_type": "markdown",
   "metadata": {},
   "source": [
    "При решении будем использовать выборку необходимых столбцов с помощью методов: \n",
    "- df.loc[:,'Transmission':'Price(euro)'] и df.loc[:,'Fuel_type':'Price(euro)'],  \n",
    "- агрегацию с помощью метода .groupby(),  \n",
    "- вычисление медианы с помощь метода .median(),  \n",
    "- стандартного отклонения с помощью метода std()  \n",
    "- и вычисление перцентилей с помощью метода .percentile() и/или .quantile()"
   ]
  },
  {
   "cell_type": "markdown",
   "metadata": {},
   "source": [
    "**Расчет необходимых значений для столбца 'Fuel_type'**"
   ]
  },
  {
   "cell_type": "markdown",
   "metadata": {},
   "source": [
    "*Медиана*"
   ]
  },
  {
   "cell_type": "code",
   "execution_count": 12,
   "metadata": {
    "scrolled": true
   },
   "outputs": [
    {
     "data": {
      "text/html": [
       "<div>\n",
       "<style scoped>\n",
       "    .dataframe tbody tr th:only-of-type {\n",
       "        vertical-align: middle;\n",
       "    }\n",
       "\n",
       "    .dataframe tbody tr th {\n",
       "        vertical-align: top;\n",
       "    }\n",
       "\n",
       "    .dataframe thead th {\n",
       "        text-align: right;\n",
       "    }\n",
       "</style>\n",
       "<table border=\"1\" class=\"dataframe\">\n",
       "  <thead>\n",
       "    <tr style=\"text-align: right;\">\n",
       "      <th></th>\n",
       "      <th>Price(euro)</th>\n",
       "    </tr>\n",
       "    <tr>\n",
       "      <th>Fuel_type</th>\n",
       "      <th></th>\n",
       "    </tr>\n",
       "  </thead>\n",
       "  <tbody>\n",
       "    <tr>\n",
       "      <th>Diesel</th>\n",
       "      <td>7300.0</td>\n",
       "    </tr>\n",
       "    <tr>\n",
       "      <th>Electric</th>\n",
       "      <td>9200.0</td>\n",
       "    </tr>\n",
       "    <tr>\n",
       "      <th>Hybrid</th>\n",
       "      <td>12499.0</td>\n",
       "    </tr>\n",
       "    <tr>\n",
       "      <th>Metan/Propan</th>\n",
       "      <td>3999.0</td>\n",
       "    </tr>\n",
       "    <tr>\n",
       "      <th>Petrol</th>\n",
       "      <td>5650.0</td>\n",
       "    </tr>\n",
       "    <tr>\n",
       "      <th>Plug-in Hybrid</th>\n",
       "      <td>14000.0</td>\n",
       "    </tr>\n",
       "  </tbody>\n",
       "</table>\n",
       "</div>"
      ],
      "text/plain": [
       "                Price(euro)\n",
       "Fuel_type                  \n",
       "Diesel               7300.0\n",
       "Electric             9200.0\n",
       "Hybrid              12499.0\n",
       "Metan/Propan         3999.0\n",
       "Petrol               5650.0\n",
       "Plug-in Hybrid      14000.0"
      ]
     },
     "execution_count": 12,
     "metadata": {},
     "output_type": "execute_result"
    }
   ],
   "source": [
    "df.loc[:,'Fuel_type':'Price(euro)'].groupby(['Fuel_type'],).median()"
   ]
  },
  {
   "cell_type": "markdown",
   "metadata": {},
   "source": [
    "*Стандартное отклонение*"
   ]
  },
  {
   "cell_type": "code",
   "execution_count": 13,
   "metadata": {},
   "outputs": [
    {
     "data": {
      "text/html": [
       "<div>\n",
       "<style scoped>\n",
       "    .dataframe tbody tr th:only-of-type {\n",
       "        vertical-align: middle;\n",
       "    }\n",
       "\n",
       "    .dataframe tbody tr th {\n",
       "        vertical-align: top;\n",
       "    }\n",
       "\n",
       "    .dataframe thead th {\n",
       "        text-align: right;\n",
       "    }\n",
       "</style>\n",
       "<table border=\"1\" class=\"dataframe\">\n",
       "  <thead>\n",
       "    <tr style=\"text-align: right;\">\n",
       "      <th></th>\n",
       "      <th>Price(euro)</th>\n",
       "    </tr>\n",
       "    <tr>\n",
       "      <th>Fuel_type</th>\n",
       "      <th></th>\n",
       "    </tr>\n",
       "  </thead>\n",
       "  <tbody>\n",
       "    <tr>\n",
       "      <th>Diesel</th>\n",
       "      <td>9909.941546</td>\n",
       "    </tr>\n",
       "    <tr>\n",
       "      <th>Electric</th>\n",
       "      <td>9865.059000</td>\n",
       "    </tr>\n",
       "    <tr>\n",
       "      <th>Hybrid</th>\n",
       "      <td>8459.757969</td>\n",
       "    </tr>\n",
       "    <tr>\n",
       "      <th>Metan/Propan</th>\n",
       "      <td>4616.188188</td>\n",
       "    </tr>\n",
       "    <tr>\n",
       "      <th>Petrol</th>\n",
       "      <td>9453.917622</td>\n",
       "    </tr>\n",
       "    <tr>\n",
       "      <th>Plug-in Hybrid</th>\n",
       "      <td>10459.290455</td>\n",
       "    </tr>\n",
       "  </tbody>\n",
       "</table>\n",
       "</div>"
      ],
      "text/plain": [
       "                 Price(euro)\n",
       "Fuel_type                   \n",
       "Diesel           9909.941546\n",
       "Electric         9865.059000\n",
       "Hybrid           8459.757969\n",
       "Metan/Propan     4616.188188\n",
       "Petrol           9453.917622\n",
       "Plug-in Hybrid  10459.290455"
      ]
     },
     "execution_count": 13,
     "metadata": {},
     "output_type": "execute_result"
    }
   ],
   "source": [
    "df.loc[:,'Fuel_type':'Price(euro)'].groupby(['Fuel_type'],).std()"
   ]
  },
  {
   "cell_type": "markdown",
   "metadata": {},
   "source": [
    "*5 и 95 перцентиль*"
   ]
  },
  {
   "cell_type": "code",
   "execution_count": 14,
   "metadata": {
    "scrolled": true
   },
   "outputs": [
    {
     "data": {
      "text/html": [
       "<div>\n",
       "<style scoped>\n",
       "    .dataframe tbody tr th:only-of-type {\n",
       "        vertical-align: middle;\n",
       "    }\n",
       "\n",
       "    .dataframe tbody tr th {\n",
       "        vertical-align: top;\n",
       "    }\n",
       "\n",
       "    .dataframe thead th {\n",
       "        text-align: right;\n",
       "    }\n",
       "</style>\n",
       "<table border=\"1\" class=\"dataframe\">\n",
       "  <thead>\n",
       "    <tr style=\"text-align: right;\">\n",
       "      <th></th>\n",
       "      <th>Price(euro)</th>\n",
       "    </tr>\n",
       "    <tr>\n",
       "      <th>Fuel_type</th>\n",
       "      <th></th>\n",
       "    </tr>\n",
       "  </thead>\n",
       "  <tbody>\n",
       "    <tr>\n",
       "      <th>Diesel</th>\n",
       "      <td>2000.00</td>\n",
       "    </tr>\n",
       "    <tr>\n",
       "      <th>Electric</th>\n",
       "      <td>1780.00</td>\n",
       "    </tr>\n",
       "    <tr>\n",
       "      <th>Hybrid</th>\n",
       "      <td>5599.00</td>\n",
       "    </tr>\n",
       "    <tr>\n",
       "      <th>Metan/Propan</th>\n",
       "      <td>1199.00</td>\n",
       "    </tr>\n",
       "    <tr>\n",
       "      <th>Petrol</th>\n",
       "      <td>950.00</td>\n",
       "    </tr>\n",
       "    <tr>\n",
       "      <th>Plug-in Hybrid</th>\n",
       "      <td>8799.85</td>\n",
       "    </tr>\n",
       "  </tbody>\n",
       "</table>\n",
       "</div>"
      ],
      "text/plain": [
       "                Price(euro)\n",
       "Fuel_type                  \n",
       "Diesel              2000.00\n",
       "Electric            1780.00\n",
       "Hybrid              5599.00\n",
       "Metan/Propan        1199.00\n",
       "Petrol               950.00\n",
       "Plug-in Hybrid      8799.85"
      ]
     },
     "execution_count": 14,
     "metadata": {},
     "output_type": "execute_result"
    }
   ],
   "source": [
    "df.loc[:,'Fuel_type':'Price(euro)'].groupby(['Fuel_type'],).quantile(.05)"
   ]
  },
  {
   "cell_type": "code",
   "execution_count": 15,
   "metadata": {
    "scrolled": true
   },
   "outputs": [
    {
     "data": {
      "text/html": [
       "<div>\n",
       "<style scoped>\n",
       "    .dataframe tbody tr th:only-of-type {\n",
       "        vertical-align: middle;\n",
       "    }\n",
       "\n",
       "    .dataframe tbody tr th {\n",
       "        vertical-align: top;\n",
       "    }\n",
       "\n",
       "    .dataframe thead th {\n",
       "        text-align: right;\n",
       "    }\n",
       "</style>\n",
       "<table border=\"1\" class=\"dataframe\">\n",
       "  <thead>\n",
       "    <tr style=\"text-align: right;\">\n",
       "      <th></th>\n",
       "      <th>Price(euro)</th>\n",
       "    </tr>\n",
       "    <tr>\n",
       "      <th>Fuel_type</th>\n",
       "      <th></th>\n",
       "    </tr>\n",
       "  </thead>\n",
       "  <tbody>\n",
       "    <tr>\n",
       "      <th>Diesel</th>\n",
       "      <td>28900.0</td>\n",
       "    </tr>\n",
       "    <tr>\n",
       "      <th>Electric</th>\n",
       "      <td>34740.0</td>\n",
       "    </tr>\n",
       "    <tr>\n",
       "      <th>Hybrid</th>\n",
       "      <td>29900.0</td>\n",
       "    </tr>\n",
       "    <tr>\n",
       "      <th>Metan/Propan</th>\n",
       "      <td>12589.1</td>\n",
       "    </tr>\n",
       "    <tr>\n",
       "      <th>Petrol</th>\n",
       "      <td>24500.0</td>\n",
       "    </tr>\n",
       "    <tr>\n",
       "      <th>Plug-in Hybrid</th>\n",
       "      <td>40075.0</td>\n",
       "    </tr>\n",
       "  </tbody>\n",
       "</table>\n",
       "</div>"
      ],
      "text/plain": [
       "                Price(euro)\n",
       "Fuel_type                  \n",
       "Diesel              28900.0\n",
       "Electric            34740.0\n",
       "Hybrid              29900.0\n",
       "Metan/Propan        12589.1\n",
       "Petrol              24500.0\n",
       "Plug-in Hybrid      40075.0"
      ]
     },
     "execution_count": 15,
     "metadata": {},
     "output_type": "execute_result"
    }
   ],
   "source": [
    "df.loc[:,'Fuel_type':'Price(euro)'].groupby(['Fuel_type'],).quantile(.95)"
   ]
  },
  {
   "cell_type": "markdown",
   "metadata": {},
   "source": [
    "**Расчет необходимых значений для столбца 'Transmission'**"
   ]
  },
  {
   "cell_type": "markdown",
   "metadata": {},
   "source": [
    "*Медиана*"
   ]
  },
  {
   "cell_type": "code",
   "execution_count": 16,
   "metadata": {
    "scrolled": true
   },
   "outputs": [
    {
     "data": {
      "text/html": [
       "<div>\n",
       "<style scoped>\n",
       "    .dataframe tbody tr th:only-of-type {\n",
       "        vertical-align: middle;\n",
       "    }\n",
       "\n",
       "    .dataframe tbody tr th {\n",
       "        vertical-align: top;\n",
       "    }\n",
       "\n",
       "    .dataframe thead th {\n",
       "        text-align: right;\n",
       "    }\n",
       "</style>\n",
       "<table border=\"1\" class=\"dataframe\">\n",
       "  <thead>\n",
       "    <tr style=\"text-align: right;\">\n",
       "      <th></th>\n",
       "      <th>Price(euro)</th>\n",
       "    </tr>\n",
       "    <tr>\n",
       "      <th>Transmission</th>\n",
       "      <th></th>\n",
       "    </tr>\n",
       "  </thead>\n",
       "  <tbody>\n",
       "    <tr>\n",
       "      <th>Automatic</th>\n",
       "      <td>11999.0</td>\n",
       "    </tr>\n",
       "    <tr>\n",
       "      <th>Manual</th>\n",
       "      <td>4500.0</td>\n",
       "    </tr>\n",
       "  </tbody>\n",
       "</table>\n",
       "</div>"
      ],
      "text/plain": [
       "              Price(euro)\n",
       "Transmission             \n",
       "Automatic         11999.0\n",
       "Manual             4500.0"
      ]
     },
     "execution_count": 16,
     "metadata": {},
     "output_type": "execute_result"
    }
   ],
   "source": [
    "df.loc[:,'Transmission':'Price(euro)'].groupby(['Transmission'],).median() "
   ]
  },
  {
   "cell_type": "markdown",
   "metadata": {},
   "source": [
    "*Стандартное отклонение*"
   ]
  },
  {
   "cell_type": "code",
   "execution_count": 17,
   "metadata": {},
   "outputs": [
    {
     "data": {
      "text/html": [
       "<div>\n",
       "<style scoped>\n",
       "    .dataframe tbody tr th:only-of-type {\n",
       "        vertical-align: middle;\n",
       "    }\n",
       "\n",
       "    .dataframe tbody tr th {\n",
       "        vertical-align: top;\n",
       "    }\n",
       "\n",
       "    .dataframe thead th {\n",
       "        text-align: right;\n",
       "    }\n",
       "</style>\n",
       "<table border=\"1\" class=\"dataframe\">\n",
       "  <thead>\n",
       "    <tr style=\"text-align: right;\">\n",
       "      <th></th>\n",
       "      <th>Price(euro)</th>\n",
       "    </tr>\n",
       "    <tr>\n",
       "      <th>Transmission</th>\n",
       "      <th></th>\n",
       "    </tr>\n",
       "  </thead>\n",
       "  <tbody>\n",
       "    <tr>\n",
       "      <th>Automatic</th>\n",
       "      <td>11466.020022</td>\n",
       "    </tr>\n",
       "    <tr>\n",
       "      <th>Manual</th>\n",
       "      <td>4045.865705</td>\n",
       "    </tr>\n",
       "  </tbody>\n",
       "</table>\n",
       "</div>"
      ],
      "text/plain": [
       "               Price(euro)\n",
       "Transmission              \n",
       "Automatic     11466.020022\n",
       "Manual         4045.865705"
      ]
     },
     "execution_count": 17,
     "metadata": {},
     "output_type": "execute_result"
    }
   ],
   "source": [
    "df.loc[:,'Transmission':'Price(euro)'].groupby(['Transmission'],).std()"
   ]
  },
  {
   "cell_type": "markdown",
   "metadata": {},
   "source": [
    "*5 и 95 перцентиль*"
   ]
  },
  {
   "cell_type": "code",
   "execution_count": 18,
   "metadata": {
    "scrolled": true
   },
   "outputs": [
    {
     "data": {
      "text/html": [
       "<div>\n",
       "<style scoped>\n",
       "    .dataframe tbody tr th:only-of-type {\n",
       "        vertical-align: middle;\n",
       "    }\n",
       "\n",
       "    .dataframe tbody tr th {\n",
       "        vertical-align: top;\n",
       "    }\n",
       "\n",
       "    .dataframe thead th {\n",
       "        text-align: right;\n",
       "    }\n",
       "</style>\n",
       "<table border=\"1\" class=\"dataframe\">\n",
       "  <thead>\n",
       "    <tr style=\"text-align: right;\">\n",
       "      <th></th>\n",
       "      <th>Price(euro)</th>\n",
       "    </tr>\n",
       "    <tr>\n",
       "      <th>Transmission</th>\n",
       "      <th></th>\n",
       "    </tr>\n",
       "  </thead>\n",
       "  <tbody>\n",
       "    <tr>\n",
       "      <th>Automatic</th>\n",
       "      <td>3050.0</td>\n",
       "    </tr>\n",
       "    <tr>\n",
       "      <th>Manual</th>\n",
       "      <td>1000.0</td>\n",
       "    </tr>\n",
       "  </tbody>\n",
       "</table>\n",
       "</div>"
      ],
      "text/plain": [
       "              Price(euro)\n",
       "Transmission             \n",
       "Automatic          3050.0\n",
       "Manual             1000.0"
      ]
     },
     "execution_count": 18,
     "metadata": {},
     "output_type": "execute_result"
    }
   ],
   "source": [
    "df.loc[:,'Transmission':'Price(euro)'].groupby(['Transmission'],).quantile(.05)"
   ]
  },
  {
   "cell_type": "code",
   "execution_count": 19,
   "metadata": {
    "scrolled": true
   },
   "outputs": [
    {
     "data": {
      "text/html": [
       "<div>\n",
       "<style scoped>\n",
       "    .dataframe tbody tr th:only-of-type {\n",
       "        vertical-align: middle;\n",
       "    }\n",
       "\n",
       "    .dataframe tbody tr th {\n",
       "        vertical-align: top;\n",
       "    }\n",
       "\n",
       "    .dataframe thead th {\n",
       "        text-align: right;\n",
       "    }\n",
       "</style>\n",
       "<table border=\"1\" class=\"dataframe\">\n",
       "  <thead>\n",
       "    <tr style=\"text-align: right;\">\n",
       "      <th></th>\n",
       "      <th>Price(euro)</th>\n",
       "    </tr>\n",
       "    <tr>\n",
       "      <th>Transmission</th>\n",
       "      <th></th>\n",
       "    </tr>\n",
       "  </thead>\n",
       "  <tbody>\n",
       "    <tr>\n",
       "      <th>Automatic</th>\n",
       "      <td>35600.0</td>\n",
       "    </tr>\n",
       "    <tr>\n",
       "      <th>Manual</th>\n",
       "      <td>11999.0</td>\n",
       "    </tr>\n",
       "  </tbody>\n",
       "</table>\n",
       "</div>"
      ],
      "text/plain": [
       "              Price(euro)\n",
       "Transmission             \n",
       "Automatic         35600.0\n",
       "Manual            11999.0"
      ]
     },
     "execution_count": 19,
     "metadata": {},
     "output_type": "execute_result"
    }
   ],
   "source": [
    "df.loc[:,'Transmission':'Price(euro)'].groupby(['Transmission'],).quantile(.95)"
   ]
  },
  {
   "cell_type": "markdown",
   "metadata": {},
   "source": [
    "### 4.2 Для разных Марок автомобилей (Make) и Моделей автомобилей (Model) оцените встречаемость разных типов трансмиссии (Transmission)"
   ]
  },
  {
   "cell_type": "markdown",
   "metadata": {},
   "source": [
    "При решении будем использовать выборку необходимых столбцов с помощью методов: \n",
    "- df.loc[:,['Transmission','Make']] и df.loc[:,['Transmission','Model']'],  \n",
    "- агрегацию с помощью метода .groupby(['Make','Transmission'] и .groupby(['Model','Transmission'],  \n",
    "- вычисление количества с помощь метода .size()"
   ]
  },
  {
   "cell_type": "code",
   "execution_count": 20,
   "metadata": {},
   "outputs": [
    {
     "data": {
      "text/plain": [
       "Make        Transmission\n",
       "Alfa Romeo  Automatic          7\n",
       "            Manual            30\n",
       "Audi        Automatic       1010\n",
       "            Manual           528\n",
       "BMW         Automatic       1835\n",
       "                            ... \n",
       "Vaz         Manual           458\n",
       "Volkswagen  Automatic       1146\n",
       "            Manual          2250\n",
       "Volvo       Automatic        458\n",
       "            Manual           116\n",
       "Length: 84, dtype: int64"
      ]
     },
     "execution_count": 20,
     "metadata": {},
     "output_type": "execute_result"
    }
   ],
   "source": [
    "df.loc[:,['Transmission','Make']].groupby(['Make','Transmission'],).size()"
   ]
  },
  {
   "cell_type": "code",
   "execution_count": 21,
   "metadata": {},
   "outputs": [
    {
     "data": {
      "text/plain": [
       "Model   Transmission\n",
       "100     Automatic         2\n",
       "        Manual           75\n",
       "206     Automatic         5\n",
       "        Manual           56\n",
       "2106    Automatic         1\n",
       "                       ... \n",
       "Yaris   Manual           61\n",
       "Zafira  Automatic        20\n",
       "        Manual          193\n",
       "ix35    Automatic        43\n",
       "        Manual           25\n",
       "Length: 253, dtype: int64"
      ]
     },
     "execution_count": 21,
     "metadata": {},
     "output_type": "execute_result"
    }
   ],
   "source": [
    "df.loc[:,['Transmission','Model']].groupby(['Model','Transmission'],).size()"
   ]
  },
  {
   "cell_type": "markdown",
   "metadata": {},
   "source": [
    "### 4.3 Давайте реализуем «умную» замену на редкие категории. В этот раз делайте замену вида «редкий дорогой» и «редкий дешевый», чтобы условные УАЗики не попали в одну группу с Jaguar"
   ]
  },
  {
   "cell_type": "markdown",
   "metadata": {},
   "source": [
    "Вспомним какие данные находятся в датафрейме"
   ]
  },
  {
   "cell_type": "code",
   "execution_count": 22,
   "metadata": {},
   "outputs": [
    {
     "data": {
      "text/html": [
       "<div>\n",
       "<style scoped>\n",
       "    .dataframe tbody tr th:only-of-type {\n",
       "        vertical-align: middle;\n",
       "    }\n",
       "\n",
       "    .dataframe tbody tr th {\n",
       "        vertical-align: top;\n",
       "    }\n",
       "\n",
       "    .dataframe thead th {\n",
       "        text-align: right;\n",
       "    }\n",
       "</style>\n",
       "<table border=\"1\" class=\"dataframe\">\n",
       "  <thead>\n",
       "    <tr style=\"text-align: right;\">\n",
       "      <th></th>\n",
       "      <th>Make</th>\n",
       "      <th>Model</th>\n",
       "      <th>Year</th>\n",
       "      <th>Style</th>\n",
       "      <th>Distance</th>\n",
       "      <th>Engine_capacity(cm3)</th>\n",
       "      <th>Fuel_type</th>\n",
       "      <th>Transmission</th>\n",
       "      <th>Price(euro)</th>\n",
       "      <th>km_year</th>\n",
       "    </tr>\n",
       "  </thead>\n",
       "  <tbody>\n",
       "    <tr>\n",
       "      <th>0</th>\n",
       "      <td>Toyota</td>\n",
       "      <td>Prius</td>\n",
       "      <td>2011</td>\n",
       "      <td>Hatchback</td>\n",
       "      <td>195000.0</td>\n",
       "      <td>1800.0</td>\n",
       "      <td>Hybrid</td>\n",
       "      <td>Automatic</td>\n",
       "      <td>7750.0</td>\n",
       "      <td>17727.272727</td>\n",
       "    </tr>\n",
       "    <tr>\n",
       "      <th>1</th>\n",
       "      <td>Renault</td>\n",
       "      <td>Grand Scenic</td>\n",
       "      <td>2014</td>\n",
       "      <td>Universal</td>\n",
       "      <td>135000.0</td>\n",
       "      <td>1500.0</td>\n",
       "      <td>Diesel</td>\n",
       "      <td>Manual</td>\n",
       "      <td>8550.0</td>\n",
       "      <td>16875.000000</td>\n",
       "    </tr>\n",
       "    <tr>\n",
       "      <th>2</th>\n",
       "      <td>Renault</td>\n",
       "      <td>Laguna</td>\n",
       "      <td>2012</td>\n",
       "      <td>Universal</td>\n",
       "      <td>110000.0</td>\n",
       "      <td>1500.0</td>\n",
       "      <td>Diesel</td>\n",
       "      <td>Manual</td>\n",
       "      <td>6550.0</td>\n",
       "      <td>11000.000000</td>\n",
       "    </tr>\n",
       "    <tr>\n",
       "      <th>3</th>\n",
       "      <td>Opel</td>\n",
       "      <td>Astra</td>\n",
       "      <td>2006</td>\n",
       "      <td>Universal</td>\n",
       "      <td>200000.0</td>\n",
       "      <td>1600.0</td>\n",
       "      <td>Metan/Propan</td>\n",
       "      <td>Manual</td>\n",
       "      <td>4100.0</td>\n",
       "      <td>12500.000000</td>\n",
       "    </tr>\n",
       "    <tr>\n",
       "      <th>4</th>\n",
       "      <td>Mercedes</td>\n",
       "      <td>Vito</td>\n",
       "      <td>2000</td>\n",
       "      <td>Microvan</td>\n",
       "      <td>300000.0</td>\n",
       "      <td>2200.0</td>\n",
       "      <td>Diesel</td>\n",
       "      <td>Manual</td>\n",
       "      <td>3490.0</td>\n",
       "      <td>13636.363636</td>\n",
       "    </tr>\n",
       "  </tbody>\n",
       "</table>\n",
       "</div>"
      ],
      "text/plain": [
       "       Make         Model  Year      Style  Distance  Engine_capacity(cm3)  \\\n",
       "0    Toyota         Prius  2011  Hatchback  195000.0                1800.0   \n",
       "1   Renault  Grand Scenic  2014  Universal  135000.0                1500.0   \n",
       "2   Renault        Laguna  2012  Universal  110000.0                1500.0   \n",
       "3      Opel         Astra  2006  Universal  200000.0                1600.0   \n",
       "4  Mercedes          Vito  2000   Microvan  300000.0                2200.0   \n",
       "\n",
       "      Fuel_type Transmission  Price(euro)       km_year  \n",
       "0        Hybrid    Automatic       7750.0  17727.272727  \n",
       "1        Diesel       Manual       8550.0  16875.000000  \n",
       "2        Diesel       Manual       6550.0  11000.000000  \n",
       "3  Metan/Propan       Manual       4100.0  12500.000000  \n",
       "4        Diesel       Manual       3490.0  13636.363636  "
      ]
     },
     "execution_count": 22,
     "metadata": {},
     "output_type": "execute_result"
    }
   ],
   "source": [
    "df.head()"
   ]
  },
  {
   "cell_type": "code",
   "execution_count": 23,
   "metadata": {
    "scrolled": true
   },
   "outputs": [
    {
     "data": {
      "text/plain": [
       "Rare             6668\n",
       "E Class          1090\n",
       "5 Series         1030\n",
       "Passat            858\n",
       "Megane            803\n",
       "                 ... \n",
       "Accent             51\n",
       "Vento              51\n",
       "Urban Cruiser      51\n",
       "Avensis Verso      50\n",
       "Matrix             50\n",
       "Name: Model, Length: 134, dtype: int64"
      ]
     },
     "execution_count": 23,
     "metadata": {},
     "output_type": "execute_result"
    }
   ],
   "source": [
    "df['Model'].value_counts()"
   ]
  },
  {
   "cell_type": "markdown",
   "metadata": {},
   "source": [
    "Построим график распределения цены автомобиля в категории 'Rare'"
   ]
  },
  {
   "cell_type": "code",
   "execution_count": 24,
   "metadata": {
    "scrolled": true
   },
   "outputs": [
    {
     "data": {
      "image/png": "[encoded data removed]",
      "text/plain": [
       "<Figure size 1008x360 with 1 Axes>"
      ]
     },
     "metadata": {},
     "output_type": "display_data"
    }
   ],
   "source": [
    "plt.figure(figsize=(14,5))\n",
    "sns.histplot(data=df[df['Model']=='Rare'],\n",
    "        x='Price(euro)', bins = 20, log_scale = True);"
   ]
  },
  {
   "cell_type": "markdown",
   "metadata": {},
   "source": [
    "Найдем среднее значение цены автомобиля в этой категории"
   ]
  },
  {
   "cell_type": "code",
   "execution_count": 25,
   "metadata": {
    "scrolled": true
   },
   "outputs": [
    {
     "data": {
      "text/plain": [
       "Year                      2007.648770\n",
       "Distance                159124.017397\n",
       "Engine_capacity(cm3)      1898.737403\n",
       "Price(euro)               9644.238452\n",
       "km_year                  12680.630455\n",
       "dtype: float64"
      ]
     },
     "execution_count": 25,
     "metadata": {},
     "output_type": "execute_result"
    }
   ],
   "source": [
    "df[df['Model']=='Rare'].mean()"
   ]
  },
  {
   "cell_type": "markdown",
   "metadata": {},
   "source": [
    "Оно равно:"
   ]
  },
  {
   "cell_type": "code",
   "execution_count": 26,
   "metadata": {},
   "outputs": [
    {
     "data": {
      "text/plain": [
       "9644.238452309539"
      ]
     },
     "execution_count": 26,
     "metadata": {},
     "output_type": "execute_result"
    }
   ],
   "source": [
    "df[df['Model']=='Rare'].mean()[3]"
   ]
  },
  {
   "cell_type": "markdown",
   "metadata": {},
   "source": [
    "Разделим категорию 'Rare' на две по данному показателю: все машины, цена которых меньше 9644 будут 'Rare_cheap', а дороже -'Rare_expensive'"
   ]
  },
  {
   "cell_type": "markdown",
   "metadata": {},
   "source": [
    "*Условно дешевые автомобили*"
   ]
  },
  {
   "cell_type": "code",
   "execution_count": 27,
   "metadata": {},
   "outputs": [],
   "source": [
    "df['Model'] = np.where((df['Model']=='Rare') & (df['Price(euro)'] <= df[df['Model']=='Rare'].mean()[3]), 'Rare_cheap', df['Model'])"
   ]
  },
  {
   "cell_type": "markdown",
   "metadata": {},
   "source": [
    "*Условно дорогие автомобили*"
   ]
  },
  {
   "cell_type": "code",
   "execution_count": 28,
   "metadata": {},
   "outputs": [],
   "source": [
    "df['Model'] = np.where(df['Model']=='Rare', 'Rare_expensive', df['Model'])"
   ]
  },
  {
   "cell_type": "markdown",
   "metadata": {},
   "source": [
    "Проверим результаты такого разделения"
   ]
  },
  {
   "cell_type": "code",
   "execution_count": 29,
   "metadata": {},
   "outputs": [
    {
     "data": {
      "text/plain": [
       "Rare_cheap        4488\n",
       "Rare_expensive    2180\n",
       "E Class           1090\n",
       "5 Series          1030\n",
       "Passat             858\n",
       "                  ... \n",
       "Accent              51\n",
       "Urban Cruiser       51\n",
       "Vento               51\n",
       "Matrix              50\n",
       "Avensis Verso       50\n",
       "Name: Model, Length: 135, dtype: int64"
      ]
     },
     "execution_count": 29,
     "metadata": {},
     "output_type": "execute_result"
    }
   ],
   "source": [
    "df['Model'].value_counts()"
   ]
  },
  {
   "cell_type": "markdown",
   "metadata": {},
   "source": [
    "### 4.4 Введите квантильные категории для столбца удельный пробег за год (km year). Чтобы были условно категории «с небольшим пробегом», «со средним пробегом» и «с большим пробегом»"
   ]
  },
  {
   "cell_type": "code",
   "execution_count": 30,
   "metadata": {
    "scrolled": false
   },
   "outputs": [
    {
     "data": {
      "text/html": [
       "<div>\n",
       "<style scoped>\n",
       "    .dataframe tbody tr th:only-of-type {\n",
       "        vertical-align: middle;\n",
       "    }\n",
       "\n",
       "    .dataframe tbody tr th {\n",
       "        vertical-align: top;\n",
       "    }\n",
       "\n",
       "    .dataframe thead th {\n",
       "        text-align: right;\n",
       "    }\n",
       "</style>\n",
       "<table border=\"1\" class=\"dataframe\">\n",
       "  <thead>\n",
       "    <tr style=\"text-align: right;\">\n",
       "      <th></th>\n",
       "      <th>Make</th>\n",
       "      <th>Model</th>\n",
       "      <th>Year</th>\n",
       "      <th>Style</th>\n",
       "      <th>Distance</th>\n",
       "      <th>Engine_capacity(cm3)</th>\n",
       "      <th>Fuel_type</th>\n",
       "      <th>Transmission</th>\n",
       "      <th>Price(euro)</th>\n",
       "      <th>km_year</th>\n",
       "    </tr>\n",
       "  </thead>\n",
       "  <tbody>\n",
       "    <tr>\n",
       "      <th>0</th>\n",
       "      <td>Toyota</td>\n",
       "      <td>Prius</td>\n",
       "      <td>2011</td>\n",
       "      <td>Hatchback</td>\n",
       "      <td>195000.0</td>\n",
       "      <td>1800.0</td>\n",
       "      <td>Hybrid</td>\n",
       "      <td>Automatic</td>\n",
       "      <td>7750.0</td>\n",
       "      <td>17727.272727</td>\n",
       "    </tr>\n",
       "    <tr>\n",
       "      <th>1</th>\n",
       "      <td>Renault</td>\n",
       "      <td>Grand Scenic</td>\n",
       "      <td>2014</td>\n",
       "      <td>Universal</td>\n",
       "      <td>135000.0</td>\n",
       "      <td>1500.0</td>\n",
       "      <td>Diesel</td>\n",
       "      <td>Manual</td>\n",
       "      <td>8550.0</td>\n",
       "      <td>16875.000000</td>\n",
       "    </tr>\n",
       "    <tr>\n",
       "      <th>2</th>\n",
       "      <td>Renault</td>\n",
       "      <td>Laguna</td>\n",
       "      <td>2012</td>\n",
       "      <td>Universal</td>\n",
       "      <td>110000.0</td>\n",
       "      <td>1500.0</td>\n",
       "      <td>Diesel</td>\n",
       "      <td>Manual</td>\n",
       "      <td>6550.0</td>\n",
       "      <td>11000.000000</td>\n",
       "    </tr>\n",
       "  </tbody>\n",
       "</table>\n",
       "</div>"
      ],
      "text/plain": [
       "      Make         Model  Year      Style  Distance  Engine_capacity(cm3)  \\\n",
       "0   Toyota         Prius  2011  Hatchback  195000.0                1800.0   \n",
       "1  Renault  Grand Scenic  2014  Universal  135000.0                1500.0   \n",
       "2  Renault        Laguna  2012  Universal  110000.0                1500.0   \n",
       "\n",
       "  Fuel_type Transmission  Price(euro)       km_year  \n",
       "0    Hybrid    Automatic       7750.0  17727.272727  \n",
       "1    Diesel       Manual       8550.0  16875.000000  \n",
       "2    Diesel       Manual       6550.0  11000.000000  "
      ]
     },
     "execution_count": 30,
     "metadata": {},
     "output_type": "execute_result"
    }
   ],
   "source": [
    "df.head(3)"
   ]
  },
  {
   "cell_type": "markdown",
   "metadata": {},
   "source": [
    "Определим кватильные категории для столбца 'km_year' (разобьем его на 3 части):  \n",
    "    - «с небольшим пробегом» 'Small_km_year'  \n",
    "    - «со средним пробегом» 'Medium_km_year'  \n",
    "    - «с большим пробегом» 'Large_km_year'"
   ]
  },
  {
   "cell_type": "code",
   "execution_count": 31,
   "metadata": {},
   "outputs": [
    {
     "data": {
      "text/plain": [
       "11782.548496240604"
      ]
     },
     "execution_count": 31,
     "metadata": {},
     "output_type": "execute_result"
    }
   ],
   "source": [
    "df['km_year'].quantile(.33)"
   ]
  },
  {
   "cell_type": "code",
   "execution_count": 32,
   "metadata": {},
   "outputs": [
    {
     "data": {
      "text/plain": [
       "17142.85714285714"
      ]
     },
     "execution_count": 32,
     "metadata": {},
     "output_type": "execute_result"
    }
   ],
   "source": [
    "df['km_year'].quantile(.67)"
   ]
  },
  {
   "cell_type": "markdown",
   "metadata": {},
   "source": [
    "Создадим колонку 'Quantile_km_year' и занесем туда получившиеся категории среднегодового пробега для всего датасета"
   ]
  },
  {
   "cell_type": "code",
   "execution_count": 33,
   "metadata": {},
   "outputs": [],
   "source": [
    "# чтобы не запутаться сделаем это при помощи 3х итераций: сначала добавим 'Small_km_year', \n",
    "# вторым шагом 'Medium_km_year', а  потом оставшиеся значения"
   ]
  },
  {
   "cell_type": "code",
   "execution_count": 34,
   "metadata": {},
   "outputs": [],
   "source": [
    "df['Quantile_km_year'] = np.where(df['km_year'] <= df['km_year'].quantile(.33), 'Small_km_year', '0')\n",
    "df['Quantile_km_year'] = np.where((df['km_year'] > df['km_year'].quantile(.33)) & (df['km_year'] <= df['km_year'].quantile(.67)), 'Medium_km_year',  df['Quantile_km_year'])\n",
    "df['Quantile_km_year'] = np.where((df['km_year'] > df['km_year'].quantile(.67)), 'Large_km_year', df['Quantile_km_year'])"
   ]
  },
  {
   "cell_type": "markdown",
   "metadata": {},
   "source": [
    "Проверим получившийся результат"
   ]
  },
  {
   "cell_type": "code",
   "execution_count": 35,
   "metadata": {},
   "outputs": [
    {
     "data": {
      "text/html": [
       "<div>\n",
       "<style scoped>\n",
       "    .dataframe tbody tr th:only-of-type {\n",
       "        vertical-align: middle;\n",
       "    }\n",
       "\n",
       "    .dataframe tbody tr th {\n",
       "        vertical-align: top;\n",
       "    }\n",
       "\n",
       "    .dataframe thead th {\n",
       "        text-align: right;\n",
       "    }\n",
       "</style>\n",
       "<table border=\"1\" class=\"dataframe\">\n",
       "  <thead>\n",
       "    <tr style=\"text-align: right;\">\n",
       "      <th></th>\n",
       "      <th>Make</th>\n",
       "      <th>Model</th>\n",
       "      <th>Year</th>\n",
       "      <th>Style</th>\n",
       "      <th>Distance</th>\n",
       "      <th>Engine_capacity(cm3)</th>\n",
       "      <th>Fuel_type</th>\n",
       "      <th>Transmission</th>\n",
       "      <th>Price(euro)</th>\n",
       "      <th>km_year</th>\n",
       "      <th>Quantile_km_year</th>\n",
       "    </tr>\n",
       "  </thead>\n",
       "  <tbody>\n",
       "    <tr>\n",
       "      <th>0</th>\n",
       "      <td>Toyota</td>\n",
       "      <td>Prius</td>\n",
       "      <td>2011</td>\n",
       "      <td>Hatchback</td>\n",
       "      <td>195000.0</td>\n",
       "      <td>1800.0</td>\n",
       "      <td>Hybrid</td>\n",
       "      <td>Automatic</td>\n",
       "      <td>7750.0</td>\n",
       "      <td>17727.272727</td>\n",
       "      <td>Large_km_year</td>\n",
       "    </tr>\n",
       "    <tr>\n",
       "      <th>1</th>\n",
       "      <td>Renault</td>\n",
       "      <td>Grand Scenic</td>\n",
       "      <td>2014</td>\n",
       "      <td>Universal</td>\n",
       "      <td>135000.0</td>\n",
       "      <td>1500.0</td>\n",
       "      <td>Diesel</td>\n",
       "      <td>Manual</td>\n",
       "      <td>8550.0</td>\n",
       "      <td>16875.000000</td>\n",
       "      <td>Medium_km_year</td>\n",
       "    </tr>\n",
       "    <tr>\n",
       "      <th>2</th>\n",
       "      <td>Renault</td>\n",
       "      <td>Laguna</td>\n",
       "      <td>2012</td>\n",
       "      <td>Universal</td>\n",
       "      <td>110000.0</td>\n",
       "      <td>1500.0</td>\n",
       "      <td>Diesel</td>\n",
       "      <td>Manual</td>\n",
       "      <td>6550.0</td>\n",
       "      <td>11000.000000</td>\n",
       "      <td>Small_km_year</td>\n",
       "    </tr>\n",
       "  </tbody>\n",
       "</table>\n",
       "</div>"
      ],
      "text/plain": [
       "      Make         Model  Year      Style  Distance  Engine_capacity(cm3)  \\\n",
       "0   Toyota         Prius  2011  Hatchback  195000.0                1800.0   \n",
       "1  Renault  Grand Scenic  2014  Universal  135000.0                1500.0   \n",
       "2  Renault        Laguna  2012  Universal  110000.0                1500.0   \n",
       "\n",
       "  Fuel_type Transmission  Price(euro)       km_year Quantile_km_year  \n",
       "0    Hybrid    Automatic       7750.0  17727.272727    Large_km_year  \n",
       "1    Diesel       Manual       8550.0  16875.000000   Medium_km_year  \n",
       "2    Diesel       Manual       6550.0  11000.000000    Small_km_year  "
      ]
     },
     "execution_count": 35,
     "metadata": {},
     "output_type": "execute_result"
    }
   ],
   "source": [
    "df.head(3)"
   ]
  },
  {
   "cell_type": "code",
   "execution_count": 36,
   "metadata": {},
   "outputs": [
    {
     "data": {
      "text/plain": [
       "Medium_km_year    10908\n",
       "Small_km_year     10581\n",
       "Large_km_year     10573\n",
       "Name: Quantile_km_year, dtype: int64"
      ]
     },
     "execution_count": 36,
     "metadata": {},
     "output_type": "execute_result"
    }
   ],
   "source": [
    "df['Quantile_km_year'].value_counts()"
   ]
  },
  {
   "cell_type": "markdown",
   "metadata": {},
   "source": [
    "### Сохраним полученный датасет в файл csv"
   ]
  },
  {
   "cell_type": "code",
   "execution_count": 37,
   "metadata": {},
   "outputs": [],
   "source": [
    "df.to_csv('./Data/cars_moldova_clean_task1.csv',index=False)"
   ]
  }
 ],
 "metadata": {
  "colab": {
   "name": "Неделя 2. EDA. Car Moldova SE",
   "provenance": []
  },
  "kernelspec": {
   "display_name": "Python 3",
   "language": "python",
   "name": "python3"
  },
  "language_info": {
   "codemirror_mode": {
    "name": "ipython",
    "version": 3
   },
   "file_extension": ".py",
   "mimetype": "text/x-python",
   "name": "python",
   "nbconvert_exporter": "python",
   "pygments_lexer": "ipython3",
   "version": "3.8.5"
  },
  "toc": {
   "base_numbering": 1,
   "nav_menu": {},
   "number_sections": true,
   "sideBar": true,
   "skip_h1_title": false,
   "title_cell": "Table of Contents",
   "title_sidebar": "Contents",
   "toc_cell": false,
   "toc_position": {
    "height": "calc(100% - 180px)",
    "left": "10px",
    "top": "150px",
    "width": "165px"
   },
   "toc_section_display": true,
   "toc_window_display": true
  }
 },
 "nbformat": 4,
 "nbformat_minor": 1
}
