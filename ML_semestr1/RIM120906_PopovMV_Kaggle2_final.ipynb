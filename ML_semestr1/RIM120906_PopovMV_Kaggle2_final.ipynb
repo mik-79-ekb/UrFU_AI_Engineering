{
 "cells": [
  {
   "cell_type": "markdown",
   "metadata": {},
   "source": [
    "# Соревнование по Классификации(Линейные модели)"
   ]
  },
  {
   "cell_type": "markdown",
   "metadata": {},
   "source": [
    "## Ссылка на соревнование"
   ]
  },
  {
   "cell_type": "markdown",
   "metadata": {},
   "source": [
    "https://www.kaggle.com/competitions/urfu-engai-ml-2022-classification"
   ]
  },
  {
   "cell_type": "markdown",
   "metadata": {},
   "source": [
    "## Целевая метрика"
   ]
  },
  {
   "cell_type": "markdown",
   "metadata": {},
   "source": [
    "F1 macro >= 0.85"
   ]
  },
  {
   "cell_type": "markdown",
   "metadata": {},
   "source": [
    "## Dataset Description"
   ]
  },
  {
   "cell_type": "markdown",
   "metadata": {},
   "source": [
    "**Файлы**  \n",
    "* Train.csv - Тренировочный набор данных  \n",
    "* Target.csv - Целевые значения для тренировочного набора данных  \n",
    "* Test.csv - Тестовый набор данных  \n",
    "* Submission.csv - пример файла для загрузки решения \n",
    "  \n",
    "**Колонки**  \n",
    "* 'code' - Уникальный код контролируемого определителя, определенный в списке кодов,  \n",
    "* 'year' - Год, в течение которого были отобраны данные,  \n",
    "* 'period' - Период года, в течение которого производилась выборка данных,  \n",
    "* 'id' - Уникальный международный идентификатор водного объекта, в котором получены данные,  \n",
    "* 'Country' - Информация о стране, созданная с использованием координат,  \n",
    "* 'tourists' - Среднее количество туристов по стране в период с 1990 по 2020 год,  \n",
    "* 'venue' - Количество предприятий рядом с указанными координатами,  \n",
    "* 'rate' - Уровень грамотности в стране в период с 2010 по 2018 год,  \n",
    "* 'food' - доля пищевых отходов,  \n",
    "* 'glass' - доля стеклянных отходов,  \n",
    "* 'metal' - доля металлических отходов,  \n",
    "* 'other' - доля прочих отходов,  \n",
    "* 'paper' - доля бумажных отходов,  \n",
    "* 'plastic' - доля пластмассовых отходов,  \n",
    "* 'leather' - доля кожаных отходов,  \n",
    "* 'green_waste' - доля зеленых отходов,  \n",
    "* 'waste_recycling' - доля перерабатываемого мусора"
   ]
  },
  {
   "cell_type": "markdown",
   "metadata": {},
   "source": [
    "### Import библиотек"
   ]
  },
  {
   "cell_type": "code",
   "execution_count": 1,
   "metadata": {},
   "outputs": [],
   "source": [
    "import pandas as pd\n",
    "import numpy as np\n",
    "import matplotlib.pyplot as plt \n",
    "import seaborn as sns\n",
    "\n",
    "from sklearn.model_selection import train_test_split\n",
    "from sklearn.preprocessing import MinMaxScaler\n",
    "from sklearn.preprocessing import StandardScaler"
   ]
  },
  {
   "cell_type": "code",
   "execution_count": 2,
   "metadata": {},
   "outputs": [],
   "source": [
    "from sklearn.linear_model import LogisticRegression\n",
    "\n",
    "from sklearn.metrics import classification_report\n",
    "from sklearn.model_selection import StratifiedKFold\n",
    "\n",
    "from sklearn.metrics import confusion_matrix\n",
    "\n",
    "from sklearn.metrics import accuracy_score as acc\n",
    "from sklearn.metrics import f1_score as f1"
   ]
  },
  {
   "cell_type": "code",
   "execution_count": 3,
   "metadata": {},
   "outputs": [],
   "source": [
    "import warnings \n",
    "warnings.simplefilter(\"ignore\", UserWarning)"
   ]
  },
  {
   "cell_type": "markdown",
   "metadata": {},
   "source": [
    "### Считываем файлы в DataFrame"
   ]
  },
  {
   "cell_type": "markdown",
   "metadata": {},
   "source": [
    "**Предварительная обработка файлов**  \n",
    "Т.к. отсутствует столбец 'Index'"
   ]
  },
  {
   "cell_type": "code",
   "execution_count": 4,
   "metadata": {},
   "outputs": [],
   "source": [
    "df = pd.read_csv('./Data/Kaggle2/train.csv', delimiter = ',')\n",
    "df.columns = df.columns.str.replace('Unnamed: 0', 'idx')\n",
    "df.to_csv('./Data/Kaggle2/train_idx.csv', index = False)\n",
    "df = pd.read_csv('./Data/Kaggle2/target.csv', delimiter = ',')\n",
    "df.columns = df.columns.str.replace('Unnamed: 0', 'idx')\n",
    "df.to_csv('./Data/Kaggle2/target_idx.csv', index = False)\n",
    "df = pd.read_csv('./Data/Kaggle2/test.csv', delimiter = ',')\n",
    "df.columns = df.columns.str.replace('Unnamed: 0', 'idx')\n",
    "df.to_csv('./Data/Kaggle2/test_idx.csv', index = False)"
   ]
  },
  {
   "cell_type": "markdown",
   "metadata": {},
   "source": [
    "**Тренировочная выборка**"
   ]
  },
  {
   "cell_type": "code",
   "execution_count": 5,
   "metadata": {
    "scrolled": true
   },
   "outputs": [
    {
     "data": {
      "text/html": [
       "<div>\n",
       "<style scoped>\n",
       "    .dataframe tbody tr th:only-of-type {\n",
       "        vertical-align: middle;\n",
       "    }\n",
       "\n",
       "    .dataframe tbody tr th {\n",
       "        vertical-align: top;\n",
       "    }\n",
       "\n",
       "    .dataframe thead th {\n",
       "        text-align: right;\n",
       "    }\n",
       "</style>\n",
       "<table border=\"1\" class=\"dataframe\">\n",
       "  <thead>\n",
       "    <tr style=\"text-align: right;\">\n",
       "      <th></th>\n",
       "      <th>code</th>\n",
       "      <th>year</th>\n",
       "      <th>period</th>\n",
       "      <th>id</th>\n",
       "      <th>Country</th>\n",
       "      <th>tourists</th>\n",
       "      <th>venue</th>\n",
       "      <th>rate</th>\n",
       "      <th>food</th>\n",
       "      <th>glass</th>\n",
       "      <th>metal</th>\n",
       "      <th>other</th>\n",
       "      <th>paper</th>\n",
       "      <th>plastic</th>\n",
       "      <th>leather</th>\n",
       "      <th>green_waste</th>\n",
       "      <th>waste_recycling</th>\n",
       "    </tr>\n",
       "    <tr>\n",
       "      <th>idx</th>\n",
       "      <th></th>\n",
       "      <th></th>\n",
       "      <th></th>\n",
       "      <th></th>\n",
       "      <th></th>\n",
       "      <th></th>\n",
       "      <th></th>\n",
       "      <th></th>\n",
       "      <th></th>\n",
       "      <th></th>\n",
       "      <th></th>\n",
       "      <th></th>\n",
       "      <th></th>\n",
       "      <th></th>\n",
       "      <th></th>\n",
       "      <th></th>\n",
       "      <th></th>\n",
       "    </tr>\n",
       "  </thead>\n",
       "  <tbody>\n",
       "    <tr>\n",
       "      <th>11</th>\n",
       "      <td>EEA_3161-03-3</td>\n",
       "      <td>2009</td>\n",
       "      <td>2009-04--2009-10</td>\n",
       "      <td>FRGR0220</td>\n",
       "      <td>France</td>\n",
       "      <td>71176346.0</td>\n",
       "      <td>0.0</td>\n",
       "      <td>0.0</td>\n",
       "      <td>32.0</td>\n",
       "      <td>10.0</td>\n",
       "      <td>3.0</td>\n",
       "      <td>26.0</td>\n",
       "      <td>20.0</td>\n",
       "      <td>9.0</td>\n",
       "      <td>0.0</td>\n",
       "      <td>0.0</td>\n",
       "      <td>22.26</td>\n",
       "    </tr>\n",
       "    <tr>\n",
       "      <th>20</th>\n",
       "      <td>EEA_3161-05-5</td>\n",
       "      <td>2009</td>\n",
       "      <td>2009-01--2009-12</td>\n",
       "      <td>FRDR179</td>\n",
       "      <td>France</td>\n",
       "      <td>71176346.0</td>\n",
       "      <td>3.0</td>\n",
       "      <td>0.0</td>\n",
       "      <td>32.0</td>\n",
       "      <td>10.0</td>\n",
       "      <td>3.0</td>\n",
       "      <td>26.0</td>\n",
       "      <td>20.0</td>\n",
       "      <td>9.0</td>\n",
       "      <td>0.0</td>\n",
       "      <td>0.0</td>\n",
       "      <td>22.26</td>\n",
       "    </tr>\n",
       "    <tr>\n",
       "      <th>27</th>\n",
       "      <td>EEA_3161-01-1</td>\n",
       "      <td>2009</td>\n",
       "      <td>2009-01--2009-12</td>\n",
       "      <td>FRDR174</td>\n",
       "      <td>France</td>\n",
       "      <td>71176346.0</td>\n",
       "      <td>3.0</td>\n",
       "      <td>0.0</td>\n",
       "      <td>32.0</td>\n",
       "      <td>10.0</td>\n",
       "      <td>3.0</td>\n",
       "      <td>26.0</td>\n",
       "      <td>20.0</td>\n",
       "      <td>9.0</td>\n",
       "      <td>0.0</td>\n",
       "      <td>0.0</td>\n",
       "      <td>22.26</td>\n",
       "    </tr>\n",
       "  </tbody>\n",
       "</table>\n",
       "</div>"
      ],
      "text/plain": [
       "              code  year            period        id Country    tourists  \\\n",
       "idx                                                                        \n",
       "11   EEA_3161-03-3  2009  2009-04--2009-10  FRGR0220  France  71176346.0   \n",
       "20   EEA_3161-05-5  2009  2009-01--2009-12   FRDR179  France  71176346.0   \n",
       "27   EEA_3161-01-1  2009  2009-01--2009-12   FRDR174  France  71176346.0   \n",
       "\n",
       "     venue  rate  food  glass  metal  other  paper  plastic  leather  \\\n",
       "idx                                                                    \n",
       "11     0.0   0.0  32.0   10.0    3.0   26.0   20.0      9.0      0.0   \n",
       "20     3.0   0.0  32.0   10.0    3.0   26.0   20.0      9.0      0.0   \n",
       "27     3.0   0.0  32.0   10.0    3.0   26.0   20.0      9.0      0.0   \n",
       "\n",
       "     green_waste  waste_recycling  \n",
       "idx                                \n",
       "11           0.0            22.26  \n",
       "20           0.0            22.26  \n",
       "27           0.0            22.26  "
      ]
     },
     "execution_count": 5,
     "metadata": {},
     "output_type": "execute_result"
    }
   ],
   "source": [
    "df_train = pd.read_csv('./Data/Kaggle2/train_idx.csv', delimiter = ',', index_col = 'idx')\n",
    "df_train.head(3)"
   ]
  },
  {
   "cell_type": "code",
   "execution_count": 6,
   "metadata": {},
   "outputs": [
    {
     "data": {
      "text/plain": [
       "(2928, 17)"
      ]
     },
     "execution_count": 6,
     "metadata": {},
     "output_type": "execute_result"
    }
   ],
   "source": [
    "df_train.shape"
   ]
  },
  {
   "cell_type": "markdown",
   "metadata": {},
   "source": [
    "**Целевые значения для тренировочной выборки**"
   ]
  },
  {
   "cell_type": "code",
   "execution_count": 7,
   "metadata": {},
   "outputs": [
    {
     "data": {
      "text/html": [
       "<div>\n",
       "<style scoped>\n",
       "    .dataframe tbody tr th:only-of-type {\n",
       "        vertical-align: middle;\n",
       "    }\n",
       "\n",
       "    .dataframe tbody tr th {\n",
       "        vertical-align: top;\n",
       "    }\n",
       "\n",
       "    .dataframe thead th {\n",
       "        text-align: right;\n",
       "    }\n",
       "</style>\n",
       "<table border=\"1\" class=\"dataframe\">\n",
       "  <thead>\n",
       "    <tr style=\"text-align: right;\">\n",
       "      <th></th>\n",
       "      <th>polution_clf</th>\n",
       "    </tr>\n",
       "    <tr>\n",
       "      <th>idx</th>\n",
       "      <th></th>\n",
       "    </tr>\n",
       "  </thead>\n",
       "  <tbody>\n",
       "    <tr>\n",
       "      <th>11</th>\n",
       "      <td>0</td>\n",
       "    </tr>\n",
       "    <tr>\n",
       "      <th>20</th>\n",
       "      <td>0</td>\n",
       "    </tr>\n",
       "    <tr>\n",
       "      <th>27</th>\n",
       "      <td>0</td>\n",
       "    </tr>\n",
       "  </tbody>\n",
       "</table>\n",
       "</div>"
      ],
      "text/plain": [
       "     polution_clf\n",
       "idx              \n",
       "11              0\n",
       "20              0\n",
       "27              0"
      ]
     },
     "execution_count": 7,
     "metadata": {},
     "output_type": "execute_result"
    }
   ],
   "source": [
    "target = pd.read_csv('./Data/Kaggle2/target_idx.csv', delimiter = ',', index_col = 'idx')\n",
    "target.head(3)"
   ]
  },
  {
   "cell_type": "code",
   "execution_count": 8,
   "metadata": {
    "scrolled": true
   },
   "outputs": [
    {
     "data": {
      "text/plain": [
       "(2928, 1)"
      ]
     },
     "execution_count": 8,
     "metadata": {},
     "output_type": "execute_result"
    }
   ],
   "source": [
    "target.shape"
   ]
  },
  {
   "cell_type": "markdown",
   "metadata": {},
   "source": [
    "**Объединим тренировочную выборку и ее целевые значения**"
   ]
  },
  {
   "cell_type": "code",
   "execution_count": 9,
   "metadata": {},
   "outputs": [
    {
     "data": {
      "text/html": [
       "<div>\n",
       "<style scoped>\n",
       "    .dataframe tbody tr th:only-of-type {\n",
       "        vertical-align: middle;\n",
       "    }\n",
       "\n",
       "    .dataframe tbody tr th {\n",
       "        vertical-align: top;\n",
       "    }\n",
       "\n",
       "    .dataframe thead th {\n",
       "        text-align: right;\n",
       "    }\n",
       "</style>\n",
       "<table border=\"1\" class=\"dataframe\">\n",
       "  <thead>\n",
       "    <tr style=\"text-align: right;\">\n",
       "      <th></th>\n",
       "      <th>code</th>\n",
       "      <th>year</th>\n",
       "      <th>period</th>\n",
       "      <th>id</th>\n",
       "      <th>Country</th>\n",
       "      <th>tourists</th>\n",
       "      <th>venue</th>\n",
       "      <th>rate</th>\n",
       "      <th>food</th>\n",
       "      <th>glass</th>\n",
       "      <th>metal</th>\n",
       "      <th>other</th>\n",
       "      <th>paper</th>\n",
       "      <th>plastic</th>\n",
       "      <th>leather</th>\n",
       "      <th>green_waste</th>\n",
       "      <th>waste_recycling</th>\n",
       "      <th>polution_clf</th>\n",
       "    </tr>\n",
       "    <tr>\n",
       "      <th>idx</th>\n",
       "      <th></th>\n",
       "      <th></th>\n",
       "      <th></th>\n",
       "      <th></th>\n",
       "      <th></th>\n",
       "      <th></th>\n",
       "      <th></th>\n",
       "      <th></th>\n",
       "      <th></th>\n",
       "      <th></th>\n",
       "      <th></th>\n",
       "      <th></th>\n",
       "      <th></th>\n",
       "      <th></th>\n",
       "      <th></th>\n",
       "      <th></th>\n",
       "      <th></th>\n",
       "      <th></th>\n",
       "    </tr>\n",
       "  </thead>\n",
       "  <tbody>\n",
       "    <tr>\n",
       "      <th>11</th>\n",
       "      <td>EEA_3161-03-3</td>\n",
       "      <td>2009</td>\n",
       "      <td>2009-04--2009-10</td>\n",
       "      <td>FRGR0220</td>\n",
       "      <td>France</td>\n",
       "      <td>71176346.0</td>\n",
       "      <td>0.0</td>\n",
       "      <td>0.0</td>\n",
       "      <td>32.0</td>\n",
       "      <td>10.0</td>\n",
       "      <td>3.0</td>\n",
       "      <td>26.0</td>\n",
       "      <td>20.0</td>\n",
       "      <td>9.0</td>\n",
       "      <td>0.0</td>\n",
       "      <td>0.0</td>\n",
       "      <td>22.26</td>\n",
       "      <td>0</td>\n",
       "    </tr>\n",
       "    <tr>\n",
       "      <th>20</th>\n",
       "      <td>EEA_3161-05-5</td>\n",
       "      <td>2009</td>\n",
       "      <td>2009-01--2009-12</td>\n",
       "      <td>FRDR179</td>\n",
       "      <td>France</td>\n",
       "      <td>71176346.0</td>\n",
       "      <td>3.0</td>\n",
       "      <td>0.0</td>\n",
       "      <td>32.0</td>\n",
       "      <td>10.0</td>\n",
       "      <td>3.0</td>\n",
       "      <td>26.0</td>\n",
       "      <td>20.0</td>\n",
       "      <td>9.0</td>\n",
       "      <td>0.0</td>\n",
       "      <td>0.0</td>\n",
       "      <td>22.26</td>\n",
       "      <td>0</td>\n",
       "    </tr>\n",
       "    <tr>\n",
       "      <th>27</th>\n",
       "      <td>EEA_3161-01-1</td>\n",
       "      <td>2009</td>\n",
       "      <td>2009-01--2009-12</td>\n",
       "      <td>FRDR174</td>\n",
       "      <td>France</td>\n",
       "      <td>71176346.0</td>\n",
       "      <td>3.0</td>\n",
       "      <td>0.0</td>\n",
       "      <td>32.0</td>\n",
       "      <td>10.0</td>\n",
       "      <td>3.0</td>\n",
       "      <td>26.0</td>\n",
       "      <td>20.0</td>\n",
       "      <td>9.0</td>\n",
       "      <td>0.0</td>\n",
       "      <td>0.0</td>\n",
       "      <td>22.26</td>\n",
       "      <td>0</td>\n",
       "    </tr>\n",
       "  </tbody>\n",
       "</table>\n",
       "</div>"
      ],
      "text/plain": [
       "              code  year            period        id Country    tourists  \\\n",
       "idx                                                                        \n",
       "11   EEA_3161-03-3  2009  2009-04--2009-10  FRGR0220  France  71176346.0   \n",
       "20   EEA_3161-05-5  2009  2009-01--2009-12   FRDR179  France  71176346.0   \n",
       "27   EEA_3161-01-1  2009  2009-01--2009-12   FRDR174  France  71176346.0   \n",
       "\n",
       "     venue  rate  food  glass  metal  other  paper  plastic  leather  \\\n",
       "idx                                                                    \n",
       "11     0.0   0.0  32.0   10.0    3.0   26.0   20.0      9.0      0.0   \n",
       "20     3.0   0.0  32.0   10.0    3.0   26.0   20.0      9.0      0.0   \n",
       "27     3.0   0.0  32.0   10.0    3.0   26.0   20.0      9.0      0.0   \n",
       "\n",
       "     green_waste  waste_recycling  polution_clf  \n",
       "idx                                              \n",
       "11           0.0            22.26             0  \n",
       "20           0.0            22.26             0  \n",
       "27           0.0            22.26             0  "
      ]
     },
     "execution_count": 9,
     "metadata": {},
     "output_type": "execute_result"
    }
   ],
   "source": [
    "df_train = df_train.join(target, on='idx')\n",
    "df_train.head(3)"
   ]
  },
  {
   "cell_type": "code",
   "execution_count": 10,
   "metadata": {},
   "outputs": [
    {
     "data": {
      "text/plain": [
       "(2928, 18)"
      ]
     },
     "execution_count": 10,
     "metadata": {},
     "output_type": "execute_result"
    }
   ],
   "source": [
    "df_train.shape"
   ]
  },
  {
   "cell_type": "markdown",
   "metadata": {},
   "source": [
    "**Тестовая выборка**"
   ]
  },
  {
   "cell_type": "code",
   "execution_count": 11,
   "metadata": {},
   "outputs": [
    {
     "data": {
      "text/html": [
       "<div>\n",
       "<style scoped>\n",
       "    .dataframe tbody tr th:only-of-type {\n",
       "        vertical-align: middle;\n",
       "    }\n",
       "\n",
       "    .dataframe tbody tr th {\n",
       "        vertical-align: top;\n",
       "    }\n",
       "\n",
       "    .dataframe thead th {\n",
       "        text-align: right;\n",
       "    }\n",
       "</style>\n",
       "<table border=\"1\" class=\"dataframe\">\n",
       "  <thead>\n",
       "    <tr style=\"text-align: right;\">\n",
       "      <th></th>\n",
       "      <th>code</th>\n",
       "      <th>year</th>\n",
       "      <th>period</th>\n",
       "      <th>id</th>\n",
       "      <th>Country</th>\n",
       "      <th>tourists</th>\n",
       "      <th>venue</th>\n",
       "      <th>rate</th>\n",
       "      <th>food</th>\n",
       "      <th>glass</th>\n",
       "      <th>metal</th>\n",
       "      <th>other</th>\n",
       "      <th>paper</th>\n",
       "      <th>plastic</th>\n",
       "      <th>leather</th>\n",
       "      <th>green_waste</th>\n",
       "      <th>waste_recycling</th>\n",
       "    </tr>\n",
       "    <tr>\n",
       "      <th>idx</th>\n",
       "      <th></th>\n",
       "      <th></th>\n",
       "      <th></th>\n",
       "      <th></th>\n",
       "      <th></th>\n",
       "      <th></th>\n",
       "      <th></th>\n",
       "      <th></th>\n",
       "      <th></th>\n",
       "      <th></th>\n",
       "      <th></th>\n",
       "      <th></th>\n",
       "      <th></th>\n",
       "      <th></th>\n",
       "      <th></th>\n",
       "      <th></th>\n",
       "      <th></th>\n",
       "    </tr>\n",
       "  </thead>\n",
       "  <tbody>\n",
       "    <tr>\n",
       "      <th>19</th>\n",
       "      <td>EEA_3161-01-1</td>\n",
       "      <td>2009</td>\n",
       "      <td>2009-01--2009-12</td>\n",
       "      <td>FRDR179</td>\n",
       "      <td>France</td>\n",
       "      <td>71176346.0</td>\n",
       "      <td>3.0</td>\n",
       "      <td>0.0</td>\n",
       "      <td>32.0</td>\n",
       "      <td>10.0</td>\n",
       "      <td>3.0</td>\n",
       "      <td>26.0</td>\n",
       "      <td>20.0</td>\n",
       "      <td>9.0</td>\n",
       "      <td>0.0</td>\n",
       "      <td>0.0</td>\n",
       "      <td>22.26</td>\n",
       "    </tr>\n",
       "    <tr>\n",
       "      <th>46</th>\n",
       "      <td>EEA_31615-01-7</td>\n",
       "      <td>2009</td>\n",
       "      <td>2009-01--2009-12</td>\n",
       "      <td>FRGR0004B</td>\n",
       "      <td>France</td>\n",
       "      <td>71176346.0</td>\n",
       "      <td>2.0</td>\n",
       "      <td>0.0</td>\n",
       "      <td>32.0</td>\n",
       "      <td>10.0</td>\n",
       "      <td>3.0</td>\n",
       "      <td>26.0</td>\n",
       "      <td>20.0</td>\n",
       "      <td>9.0</td>\n",
       "      <td>0.0</td>\n",
       "      <td>0.0</td>\n",
       "      <td>22.26</td>\n",
       "    </tr>\n",
       "    <tr>\n",
       "      <th>94</th>\n",
       "      <td>EEA_3161-02-2</td>\n",
       "      <td>2007</td>\n",
       "      <td>2007-01--2007-12</td>\n",
       "      <td>UKSC023165</td>\n",
       "      <td>United Kingdom</td>\n",
       "      <td>25867961.0</td>\n",
       "      <td>0.0</td>\n",
       "      <td>0.0</td>\n",
       "      <td>16.7</td>\n",
       "      <td>2.2</td>\n",
       "      <td>3.5</td>\n",
       "      <td>28.2</td>\n",
       "      <td>18.9</td>\n",
       "      <td>20.2</td>\n",
       "      <td>0.0</td>\n",
       "      <td>2.7</td>\n",
       "      <td>27.25</td>\n",
       "    </tr>\n",
       "  </tbody>\n",
       "</table>\n",
       "</div>"
      ],
      "text/plain": [
       "               code  year            period          id         Country  \\\n",
       "idx                                                                       \n",
       "19    EEA_3161-01-1  2009  2009-01--2009-12     FRDR179          France   \n",
       "46   EEA_31615-01-7  2009  2009-01--2009-12   FRGR0004B          France   \n",
       "94    EEA_3161-02-2  2007  2007-01--2007-12  UKSC023165  United Kingdom   \n",
       "\n",
       "       tourists  venue  rate  food  glass  metal  other  paper  plastic  \\\n",
       "idx                                                                       \n",
       "19   71176346.0    3.0   0.0  32.0   10.0    3.0   26.0   20.0      9.0   \n",
       "46   71176346.0    2.0   0.0  32.0   10.0    3.0   26.0   20.0      9.0   \n",
       "94   25867961.0    0.0   0.0  16.7    2.2    3.5   28.2   18.9     20.2   \n",
       "\n",
       "     leather  green_waste  waste_recycling  \n",
       "idx                                         \n",
       "19       0.0          0.0            22.26  \n",
       "46       0.0          0.0            22.26  \n",
       "94       0.0          2.7            27.25  "
      ]
     },
     "execution_count": 11,
     "metadata": {},
     "output_type": "execute_result"
    }
   ],
   "source": [
    "df_test = pd.read_csv('./Data/Kaggle2/test_idx.csv', delimiter = ',', index_col = 'idx')\n",
    "df_test.head(3)"
   ]
  },
  {
   "cell_type": "code",
   "execution_count": 12,
   "metadata": {},
   "outputs": [
    {
     "data": {
      "text/plain": [
       "(732, 17)"
      ]
     },
     "execution_count": 12,
     "metadata": {},
     "output_type": "execute_result"
    }
   ],
   "source": [
    "df_test.shape"
   ]
  },
  {
   "cell_type": "markdown",
   "metadata": {},
   "source": [
    "### Первичный анализ данных"
   ]
  },
  {
   "cell_type": "markdown",
   "metadata": {},
   "source": [
    "Типы данных в датасете"
   ]
  },
  {
   "cell_type": "code",
   "execution_count": 13,
   "metadata": {},
   "outputs": [
    {
     "name": "stdout",
     "output_type": "stream",
     "text": [
      "<class 'pandas.core.frame.DataFrame'>\n",
      "Int64Index: 2928 entries, 11 to 19914\n",
      "Data columns (total 18 columns):\n",
      " #   Column           Non-Null Count  Dtype  \n",
      "---  ------           --------------  -----  \n",
      " 0   code             2928 non-null   object \n",
      " 1   year             2928 non-null   int64  \n",
      " 2   period           2928 non-null   object \n",
      " 3   id               2928 non-null   object \n",
      " 4   Country          2928 non-null   object \n",
      " 5   tourists         2928 non-null   float64\n",
      " 6   venue            2928 non-null   float64\n",
      " 7   rate             2928 non-null   float64\n",
      " 8   food             2928 non-null   float64\n",
      " 9   glass            2928 non-null   float64\n",
      " 10  metal            2928 non-null   float64\n",
      " 11  other            2928 non-null   float64\n",
      " 12  paper            2928 non-null   float64\n",
      " 13  plastic          2928 non-null   float64\n",
      " 14  leather          2928 non-null   float64\n",
      " 15  green_waste      2928 non-null   float64\n",
      " 16  waste_recycling  2928 non-null   float64\n",
      " 17  polution_clf     2928 non-null   int64  \n",
      "dtypes: float64(12), int64(2), object(4)\n",
      "memory usage: 434.6+ KB\n"
     ]
    }
   ],
   "source": [
    "df_train.info()"
   ]
  },
  {
   "cell_type": "markdown",
   "metadata": {},
   "source": [
    "Разделим категориальные и числовые признаки датасета"
   ]
  },
  {
   "cell_type": "code",
   "execution_count": 14,
   "metadata": {},
   "outputs": [
    {
     "data": {
      "text/plain": [
       "Index(['code', 'year', 'period', 'id', 'Country', 'tourists', 'venue', 'rate',\n",
       "       'food', 'glass', 'metal', 'other', 'paper', 'plastic', 'leather',\n",
       "       'green_waste', 'waste_recycling', 'polution_clf'],\n",
       "      dtype='object')"
      ]
     },
     "execution_count": 14,
     "metadata": {},
     "output_type": "execute_result"
    }
   ],
   "source": [
    "c_names = df_train.columns\n",
    "c_names"
   ]
  },
  {
   "cell_type": "code",
   "execution_count": 15,
   "metadata": {},
   "outputs": [],
   "source": [
    "num_col = ['tourists', 'venue', 'rate', \n",
    "           'food', 'glass', 'metal', 'other', 'paper', 'plastic',\n",
    "           'leather', 'green_waste', 'waste_recycling', 'polution_clf']"
   ]
  },
  {
   "cell_type": "code",
   "execution_count": 16,
   "metadata": {},
   "outputs": [],
   "source": [
    "cat_col = ['code','year', 'period','id', 'Country'] # год тоже отнесем к категориальным признакам"
   ]
  },
  {
   "cell_type": "markdown",
   "metadata": {},
   "source": [
    "Построим матрицу корреляций для числовых признаков"
   ]
  },
  {
   "cell_type": "code",
   "execution_count": 17,
   "metadata": {},
   "outputs": [
    {
     "data": {
      "text/html": [
       "<div>\n",
       "<style scoped>\n",
       "    .dataframe tbody tr th:only-of-type {\n",
       "        vertical-align: middle;\n",
       "    }\n",
       "\n",
       "    .dataframe tbody tr th {\n",
       "        vertical-align: top;\n",
       "    }\n",
       "\n",
       "    .dataframe thead th {\n",
       "        text-align: right;\n",
       "    }\n",
       "</style>\n",
       "<table border=\"1\" class=\"dataframe\">\n",
       "  <thead>\n",
       "    <tr style=\"text-align: right;\">\n",
       "      <th></th>\n",
       "      <th>tourists</th>\n",
       "      <th>venue</th>\n",
       "      <th>rate</th>\n",
       "      <th>food</th>\n",
       "      <th>glass</th>\n",
       "      <th>metal</th>\n",
       "      <th>other</th>\n",
       "      <th>paper</th>\n",
       "      <th>plastic</th>\n",
       "      <th>leather</th>\n",
       "      <th>green_waste</th>\n",
       "      <th>waste_recycling</th>\n",
       "      <th>polution_clf</th>\n",
       "    </tr>\n",
       "  </thead>\n",
       "  <tbody>\n",
       "    <tr>\n",
       "      <th>tourists</th>\n",
       "      <td>1.000000</td>\n",
       "      <td>0.022439</td>\n",
       "      <td>-0.124968</td>\n",
       "      <td>0.268360</td>\n",
       "      <td>0.592654</td>\n",
       "      <td>-0.172862</td>\n",
       "      <td>0.238286</td>\n",
       "      <td>-0.149313</td>\n",
       "      <td>-0.446333</td>\n",
       "      <td>-0.290314</td>\n",
       "      <td>-0.594133</td>\n",
       "      <td>-0.433875</td>\n",
       "      <td>0.059342</td>\n",
       "    </tr>\n",
       "    <tr>\n",
       "      <th>venue</th>\n",
       "      <td>0.022439</td>\n",
       "      <td>1.000000</td>\n",
       "      <td>0.010740</td>\n",
       "      <td>-0.004489</td>\n",
       "      <td>-0.016762</td>\n",
       "      <td>-0.003195</td>\n",
       "      <td>0.010315</td>\n",
       "      <td>-0.027494</td>\n",
       "      <td>0.021600</td>\n",
       "      <td>-0.018602</td>\n",
       "      <td>-0.003737</td>\n",
       "      <td>-0.024583</td>\n",
       "      <td>0.012593</td>\n",
       "    </tr>\n",
       "    <tr>\n",
       "      <th>rate</th>\n",
       "      <td>-0.124968</td>\n",
       "      <td>0.010740</td>\n",
       "      <td>1.000000</td>\n",
       "      <td>0.740871</td>\n",
       "      <td>-0.057592</td>\n",
       "      <td>-0.045132</td>\n",
       "      <td>-0.620799</td>\n",
       "      <td>-0.451211</td>\n",
       "      <td>-0.134422</td>\n",
       "      <td>-0.023170</td>\n",
       "      <td>-0.097997</td>\n",
       "      <td>-0.500871</td>\n",
       "      <td>-0.105192</td>\n",
       "    </tr>\n",
       "    <tr>\n",
       "      <th>food</th>\n",
       "      <td>0.268360</td>\n",
       "      <td>-0.004489</td>\n",
       "      <td>0.740871</td>\n",
       "      <td>1.000000</td>\n",
       "      <td>0.544469</td>\n",
       "      <td>-0.182384</td>\n",
       "      <td>-0.577821</td>\n",
       "      <td>-0.311257</td>\n",
       "      <td>-0.687537</td>\n",
       "      <td>0.040329</td>\n",
       "      <td>-0.416785</td>\n",
       "      <td>-0.631083</td>\n",
       "      <td>-0.072265</td>\n",
       "    </tr>\n",
       "    <tr>\n",
       "      <th>glass</th>\n",
       "      <td>0.592654</td>\n",
       "      <td>-0.016762</td>\n",
       "      <td>-0.057592</td>\n",
       "      <td>0.544469</td>\n",
       "      <td>1.000000</td>\n",
       "      <td>-0.163073</td>\n",
       "      <td>-0.199137</td>\n",
       "      <td>0.079687</td>\n",
       "      <td>-0.842536</td>\n",
       "      <td>0.222589</td>\n",
       "      <td>-0.405530</td>\n",
       "      <td>-0.272243</td>\n",
       "      <td>0.003141</td>\n",
       "    </tr>\n",
       "    <tr>\n",
       "      <th>metal</th>\n",
       "      <td>-0.172862</td>\n",
       "      <td>-0.003195</td>\n",
       "      <td>-0.045132</td>\n",
       "      <td>-0.182384</td>\n",
       "      <td>-0.163073</td>\n",
       "      <td>1.000000</td>\n",
       "      <td>-0.324033</td>\n",
       "      <td>0.245829</td>\n",
       "      <td>0.090351</td>\n",
       "      <td>-0.242707</td>\n",
       "      <td>0.589619</td>\n",
       "      <td>0.115796</td>\n",
       "      <td>-0.040473</td>\n",
       "    </tr>\n",
       "    <tr>\n",
       "      <th>other</th>\n",
       "      <td>0.238286</td>\n",
       "      <td>0.010315</td>\n",
       "      <td>-0.620799</td>\n",
       "      <td>-0.577821</td>\n",
       "      <td>-0.199137</td>\n",
       "      <td>-0.324033</td>\n",
       "      <td>1.000000</td>\n",
       "      <td>-0.210224</td>\n",
       "      <td>0.378525</td>\n",
       "      <td>-0.221586</td>\n",
       "      <td>-0.238821</td>\n",
       "      <td>0.182704</td>\n",
       "      <td>0.125073</td>\n",
       "    </tr>\n",
       "    <tr>\n",
       "      <th>paper</th>\n",
       "      <td>-0.149313</td>\n",
       "      <td>-0.027494</td>\n",
       "      <td>-0.451211</td>\n",
       "      <td>-0.311257</td>\n",
       "      <td>0.079687</td>\n",
       "      <td>0.245829</td>\n",
       "      <td>-0.210224</td>\n",
       "      <td>1.000000</td>\n",
       "      <td>-0.271054</td>\n",
       "      <td>-0.050346</td>\n",
       "      <td>0.268961</td>\n",
       "      <td>0.487987</td>\n",
       "      <td>-0.076409</td>\n",
       "    </tr>\n",
       "    <tr>\n",
       "      <th>plastic</th>\n",
       "      <td>-0.446333</td>\n",
       "      <td>0.021600</td>\n",
       "      <td>-0.134422</td>\n",
       "      <td>-0.687537</td>\n",
       "      <td>-0.842536</td>\n",
       "      <td>0.090351</td>\n",
       "      <td>0.378525</td>\n",
       "      <td>-0.271054</td>\n",
       "      <td>1.000000</td>\n",
       "      <td>0.041048</td>\n",
       "      <td>0.303210</td>\n",
       "      <td>0.350718</td>\n",
       "      <td>0.080831</td>\n",
       "    </tr>\n",
       "    <tr>\n",
       "      <th>leather</th>\n",
       "      <td>-0.290314</td>\n",
       "      <td>-0.018602</td>\n",
       "      <td>-0.023170</td>\n",
       "      <td>0.040329</td>\n",
       "      <td>0.222589</td>\n",
       "      <td>-0.242707</td>\n",
       "      <td>-0.221586</td>\n",
       "      <td>-0.050346</td>\n",
       "      <td>0.041048</td>\n",
       "      <td>1.000000</td>\n",
       "      <td>0.051185</td>\n",
       "      <td>0.498405</td>\n",
       "      <td>0.095065</td>\n",
       "    </tr>\n",
       "    <tr>\n",
       "      <th>green_waste</th>\n",
       "      <td>-0.594133</td>\n",
       "      <td>-0.003737</td>\n",
       "      <td>-0.097997</td>\n",
       "      <td>-0.416785</td>\n",
       "      <td>-0.405530</td>\n",
       "      <td>0.589619</td>\n",
       "      <td>-0.238821</td>\n",
       "      <td>0.268961</td>\n",
       "      <td>0.303210</td>\n",
       "      <td>0.051185</td>\n",
       "      <td>1.000000</td>\n",
       "      <td>0.260048</td>\n",
       "      <td>-0.058405</td>\n",
       "    </tr>\n",
       "    <tr>\n",
       "      <th>waste_recycling</th>\n",
       "      <td>-0.433875</td>\n",
       "      <td>-0.024583</td>\n",
       "      <td>-0.500871</td>\n",
       "      <td>-0.631083</td>\n",
       "      <td>-0.272243</td>\n",
       "      <td>0.115796</td>\n",
       "      <td>0.182704</td>\n",
       "      <td>0.487987</td>\n",
       "      <td>0.350718</td>\n",
       "      <td>0.498405</td>\n",
       "      <td>0.260048</td>\n",
       "      <td>1.000000</td>\n",
       "      <td>0.073982</td>\n",
       "    </tr>\n",
       "    <tr>\n",
       "      <th>polution_clf</th>\n",
       "      <td>0.059342</td>\n",
       "      <td>0.012593</td>\n",
       "      <td>-0.105192</td>\n",
       "      <td>-0.072265</td>\n",
       "      <td>0.003141</td>\n",
       "      <td>-0.040473</td>\n",
       "      <td>0.125073</td>\n",
       "      <td>-0.076409</td>\n",
       "      <td>0.080831</td>\n",
       "      <td>0.095065</td>\n",
       "      <td>-0.058405</td>\n",
       "      <td>0.073982</td>\n",
       "      <td>1.000000</td>\n",
       "    </tr>\n",
       "  </tbody>\n",
       "</table>\n",
       "</div>"
      ],
      "text/plain": [
       "                 tourists     venue      rate      food     glass     metal  \\\n",
       "tourists         1.000000  0.022439 -0.124968  0.268360  0.592654 -0.172862   \n",
       "venue            0.022439  1.000000  0.010740 -0.004489 -0.016762 -0.003195   \n",
       "rate            -0.124968  0.010740  1.000000  0.740871 -0.057592 -0.045132   \n",
       "food             0.268360 -0.004489  0.740871  1.000000  0.544469 -0.182384   \n",
       "glass            0.592654 -0.016762 -0.057592  0.544469  1.000000 -0.163073   \n",
       "metal           -0.172862 -0.003195 -0.045132 -0.182384 -0.163073  1.000000   \n",
       "other            0.238286  0.010315 -0.620799 -0.577821 -0.199137 -0.324033   \n",
       "paper           -0.149313 -0.027494 -0.451211 -0.311257  0.079687  0.245829   \n",
       "plastic         -0.446333  0.021600 -0.134422 -0.687537 -0.842536  0.090351   \n",
       "leather         -0.290314 -0.018602 -0.023170  0.040329  0.222589 -0.242707   \n",
       "green_waste     -0.594133 -0.003737 -0.097997 -0.416785 -0.405530  0.589619   \n",
       "waste_recycling -0.433875 -0.024583 -0.500871 -0.631083 -0.272243  0.115796   \n",
       "polution_clf     0.059342  0.012593 -0.105192 -0.072265  0.003141 -0.040473   \n",
       "\n",
       "                    other     paper   plastic   leather  green_waste  \\\n",
       "tourists         0.238286 -0.149313 -0.446333 -0.290314    -0.594133   \n",
       "venue            0.010315 -0.027494  0.021600 -0.018602    -0.003737   \n",
       "rate            -0.620799 -0.451211 -0.134422 -0.023170    -0.097997   \n",
       "food            -0.577821 -0.311257 -0.687537  0.040329    -0.416785   \n",
       "glass           -0.199137  0.079687 -0.842536  0.222589    -0.405530   \n",
       "metal           -0.324033  0.245829  0.090351 -0.242707     0.589619   \n",
       "other            1.000000 -0.210224  0.378525 -0.221586    -0.238821   \n",
       "paper           -0.210224  1.000000 -0.271054 -0.050346     0.268961   \n",
       "plastic          0.378525 -0.271054  1.000000  0.041048     0.303210   \n",
       "leather         -0.221586 -0.050346  0.041048  1.000000     0.051185   \n",
       "green_waste     -0.238821  0.268961  0.303210  0.051185     1.000000   \n",
       "waste_recycling  0.182704  0.487987  0.350718  0.498405     0.260048   \n",
       "polution_clf     0.125073 -0.076409  0.080831  0.095065    -0.058405   \n",
       "\n",
       "                 waste_recycling  polution_clf  \n",
       "tourists               -0.433875      0.059342  \n",
       "venue                  -0.024583      0.012593  \n",
       "rate                   -0.500871     -0.105192  \n",
       "food                   -0.631083     -0.072265  \n",
       "glass                  -0.272243      0.003141  \n",
       "metal                   0.115796     -0.040473  \n",
       "other                   0.182704      0.125073  \n",
       "paper                   0.487987     -0.076409  \n",
       "plastic                 0.350718      0.080831  \n",
       "leather                 0.498405      0.095065  \n",
       "green_waste             0.260048     -0.058405  \n",
       "waste_recycling         1.000000      0.073982  \n",
       "polution_clf            0.073982      1.000000  "
      ]
     },
     "execution_count": 17,
     "metadata": {},
     "output_type": "execute_result"
    }
   ],
   "source": [
    "df_train[num_col].corr()"
   ]
  },
  {
   "cell_type": "markdown",
   "metadata": {},
   "source": [
    "Определим признаки, которые имеют значительную корреляцию с целевой переменной"
   ]
  },
  {
   "cell_type": "code",
   "execution_count": 18,
   "metadata": {},
   "outputs": [],
   "source": [
    "main_num_col = ['rate', 'other']"
   ]
  },
  {
   "cell_type": "markdown",
   "metadata": {},
   "source": [
    "Рассмотрим количественные переменные объединенного датасета"
   ]
  },
  {
   "cell_type": "code",
   "execution_count": 19,
   "metadata": {},
   "outputs": [
    {
     "data": {
      "text/html": [
       "<div>\n",
       "<style scoped>\n",
       "    .dataframe tbody tr th:only-of-type {\n",
       "        vertical-align: middle;\n",
       "    }\n",
       "\n",
       "    .dataframe tbody tr th {\n",
       "        vertical-align: top;\n",
       "    }\n",
       "\n",
       "    .dataframe thead th {\n",
       "        text-align: right;\n",
       "    }\n",
       "</style>\n",
       "<table border=\"1\" class=\"dataframe\">\n",
       "  <thead>\n",
       "    <tr style=\"text-align: right;\">\n",
       "      <th></th>\n",
       "      <th>year</th>\n",
       "      <th>tourists</th>\n",
       "      <th>venue</th>\n",
       "      <th>rate</th>\n",
       "      <th>food</th>\n",
       "      <th>glass</th>\n",
       "      <th>metal</th>\n",
       "      <th>other</th>\n",
       "      <th>paper</th>\n",
       "      <th>plastic</th>\n",
       "      <th>leather</th>\n",
       "      <th>green_waste</th>\n",
       "      <th>waste_recycling</th>\n",
       "      <th>polution_clf</th>\n",
       "    </tr>\n",
       "  </thead>\n",
       "  <tbody>\n",
       "    <tr>\n",
       "      <th>count</th>\n",
       "      <td>2928.000000</td>\n",
       "      <td>2.928000e+03</td>\n",
       "      <td>2928.000000</td>\n",
       "      <td>2928.000000</td>\n",
       "      <td>2928.000000</td>\n",
       "      <td>2928.000000</td>\n",
       "      <td>2928.000000</td>\n",
       "      <td>2928.000000</td>\n",
       "      <td>2928.000000</td>\n",
       "      <td>2928.000000</td>\n",
       "      <td>2928.000000</td>\n",
       "      <td>2928.000000</td>\n",
       "      <td>2928.000000</td>\n",
       "      <td>2928.000000</td>\n",
       "    </tr>\n",
       "    <tr>\n",
       "      <th>mean</th>\n",
       "      <td>2008.645492</td>\n",
       "      <td>5.617204e+07</td>\n",
       "      <td>0.094945</td>\n",
       "      <td>11.160783</td>\n",
       "      <td>31.939652</td>\n",
       "      <td>8.567579</td>\n",
       "      <td>3.090536</td>\n",
       "      <td>24.115212</td>\n",
       "      <td>19.682114</td>\n",
       "      <td>10.477510</td>\n",
       "      <td>0.093169</td>\n",
       "      <td>0.808798</td>\n",
       "      <td>23.006398</td>\n",
       "      <td>0.505123</td>\n",
       "    </tr>\n",
       "    <tr>\n",
       "      <th>std</th>\n",
       "      <td>0.924558</td>\n",
       "      <td>2.271813e+07</td>\n",
       "      <td>0.573770</td>\n",
       "      <td>28.527411</td>\n",
       "      <td>8.823490</td>\n",
       "      <td>2.936677</td>\n",
       "      <td>0.885107</td>\n",
       "      <td>6.205081</td>\n",
       "      <td>4.197326</td>\n",
       "      <td>4.153063</td>\n",
       "      <td>0.578123</td>\n",
       "      <td>2.521736</td>\n",
       "      <td>4.799046</td>\n",
       "      <td>0.500059</td>\n",
       "    </tr>\n",
       "    <tr>\n",
       "      <th>min</th>\n",
       "      <td>2005.000000</td>\n",
       "      <td>5.300380e+05</td>\n",
       "      <td>0.000000</td>\n",
       "      <td>0.000000</td>\n",
       "      <td>14.180000</td>\n",
       "      <td>2.200000</td>\n",
       "      <td>1.380000</td>\n",
       "      <td>0.000000</td>\n",
       "      <td>6.100000</td>\n",
       "      <td>1.450000</td>\n",
       "      <td>0.000000</td>\n",
       "      <td>0.000000</td>\n",
       "      <td>0.760000</td>\n",
       "      <td>0.000000</td>\n",
       "    </tr>\n",
       "    <tr>\n",
       "      <th>25%</th>\n",
       "      <td>2008.000000</td>\n",
       "      <td>5.094169e+07</td>\n",
       "      <td>0.000000</td>\n",
       "      <td>0.000000</td>\n",
       "      <td>32.000000</td>\n",
       "      <td>8.000000</td>\n",
       "      <td>3.000000</td>\n",
       "      <td>26.000000</td>\n",
       "      <td>18.900000</td>\n",
       "      <td>9.000000</td>\n",
       "      <td>0.000000</td>\n",
       "      <td>0.000000</td>\n",
       "      <td>22.260000</td>\n",
       "      <td>0.000000</td>\n",
       "    </tr>\n",
       "    <tr>\n",
       "      <th>50%</th>\n",
       "      <td>2009.000000</td>\n",
       "      <td>7.117635e+07</td>\n",
       "      <td>0.000000</td>\n",
       "      <td>0.000000</td>\n",
       "      <td>32.000000</td>\n",
       "      <td>10.000000</td>\n",
       "      <td>3.000000</td>\n",
       "      <td>26.000000</td>\n",
       "      <td>20.000000</td>\n",
       "      <td>9.000000</td>\n",
       "      <td>0.000000</td>\n",
       "      <td>0.000000</td>\n",
       "      <td>22.260000</td>\n",
       "      <td>1.000000</td>\n",
       "    </tr>\n",
       "    <tr>\n",
       "      <th>75%</th>\n",
       "      <td>2009.000000</td>\n",
       "      <td>7.117635e+07</td>\n",
       "      <td>0.000000</td>\n",
       "      <td>0.000000</td>\n",
       "      <td>32.000000</td>\n",
       "      <td>10.000000</td>\n",
       "      <td>3.000000</td>\n",
       "      <td>26.000000</td>\n",
       "      <td>20.000000</td>\n",
       "      <td>9.000000</td>\n",
       "      <td>0.000000</td>\n",
       "      <td>0.000000</td>\n",
       "      <td>22.260000</td>\n",
       "      <td>1.000000</td>\n",
       "    </tr>\n",
       "    <tr>\n",
       "      <th>max</th>\n",
       "      <td>2017.000000</td>\n",
       "      <td>7.117635e+07</td>\n",
       "      <td>7.000000</td>\n",
       "      <td>87.158924</td>\n",
       "      <td>62.300000</td>\n",
       "      <td>21.400000</td>\n",
       "      <td>9.200000</td>\n",
       "      <td>44.050000</td>\n",
       "      <td>37.830000</td>\n",
       "      <td>22.900000</td>\n",
       "      <td>4.000000</td>\n",
       "      <td>19.180000</td>\n",
       "      <td>47.830000</td>\n",
       "      <td>1.000000</td>\n",
       "    </tr>\n",
       "  </tbody>\n",
       "</table>\n",
       "</div>"
      ],
      "text/plain": [
       "              year      tourists        venue         rate         food  \\\n",
       "count  2928.000000  2.928000e+03  2928.000000  2928.000000  2928.000000   \n",
       "mean   2008.645492  5.617204e+07     0.094945    11.160783    31.939652   \n",
       "std       0.924558  2.271813e+07     0.573770    28.527411     8.823490   \n",
       "min    2005.000000  5.300380e+05     0.000000     0.000000    14.180000   \n",
       "25%    2008.000000  5.094169e+07     0.000000     0.000000    32.000000   \n",
       "50%    2009.000000  7.117635e+07     0.000000     0.000000    32.000000   \n",
       "75%    2009.000000  7.117635e+07     0.000000     0.000000    32.000000   \n",
       "max    2017.000000  7.117635e+07     7.000000    87.158924    62.300000   \n",
       "\n",
       "             glass        metal        other        paper      plastic  \\\n",
       "count  2928.000000  2928.000000  2928.000000  2928.000000  2928.000000   \n",
       "mean      8.567579     3.090536    24.115212    19.682114    10.477510   \n",
       "std       2.936677     0.885107     6.205081     4.197326     4.153063   \n",
       "min       2.200000     1.380000     0.000000     6.100000     1.450000   \n",
       "25%       8.000000     3.000000    26.000000    18.900000     9.000000   \n",
       "50%      10.000000     3.000000    26.000000    20.000000     9.000000   \n",
       "75%      10.000000     3.000000    26.000000    20.000000     9.000000   \n",
       "max      21.400000     9.200000    44.050000    37.830000    22.900000   \n",
       "\n",
       "           leather  green_waste  waste_recycling  polution_clf  \n",
       "count  2928.000000  2928.000000      2928.000000   2928.000000  \n",
       "mean      0.093169     0.808798        23.006398      0.505123  \n",
       "std       0.578123     2.521736         4.799046      0.500059  \n",
       "min       0.000000     0.000000         0.760000      0.000000  \n",
       "25%       0.000000     0.000000        22.260000      0.000000  \n",
       "50%       0.000000     0.000000        22.260000      1.000000  \n",
       "75%       0.000000     0.000000        22.260000      1.000000  \n",
       "max       4.000000    19.180000        47.830000      1.000000  "
      ]
     },
     "execution_count": 19,
     "metadata": {},
     "output_type": "execute_result"
    }
   ],
   "source": [
    "df_train.describe()"
   ]
  },
  {
   "cell_type": "markdown",
   "metadata": {},
   "source": [
    "Целевая переменная"
   ]
  },
  {
   "cell_type": "code",
   "execution_count": 20,
   "metadata": {},
   "outputs": [
    {
     "data": {
      "text/plain": [
       "Text(0.5, 1.0, 'Target')"
      ]
     },
     "execution_count": 20,
     "metadata": {},
     "output_type": "execute_result"
    },
    {
     "data": {
      "image/png": "[encoded data removed]",
      "text/plain": [
       "<Figure size 720x360 with 1 Axes>"
      ]
     },
     "metadata": {
      "needs_background": "light"
     },
     "output_type": "display_data"
    }
   ],
   "source": [
    "plt.figure(figsize = (10, 5))\n",
    "target['polution_clf'].hist(bins=30)\n",
    "plt.ylabel('count')\n",
    "plt.xlabel('polution_clf')\n",
    "plt.title('Target')"
   ]
  },
  {
   "cell_type": "markdown",
   "metadata": {},
   "source": [
    "*Вывод: целевая переменная сбалансирована в датасете, нет перекоса в данных*"
   ]
  },
  {
   "cell_type": "markdown",
   "metadata": {},
   "source": [
    "Проверим датасет на пропуски значений"
   ]
  },
  {
   "cell_type": "code",
   "execution_count": 21,
   "metadata": {},
   "outputs": [
    {
     "data": {
      "text/plain": [
       "code               0\n",
       "year               0\n",
       "period             0\n",
       "id                 0\n",
       "Country            0\n",
       "tourists           0\n",
       "venue              0\n",
       "rate               0\n",
       "food               0\n",
       "glass              0\n",
       "metal              0\n",
       "other              0\n",
       "paper              0\n",
       "plastic            0\n",
       "leather            0\n",
       "green_waste        0\n",
       "waste_recycling    0\n",
       "polution_clf       0\n",
       "dtype: int64"
      ]
     },
     "execution_count": 21,
     "metadata": {},
     "output_type": "execute_result"
    }
   ],
   "source": [
    "df_train.isnull().sum()"
   ]
  },
  {
   "cell_type": "markdown",
   "metadata": {},
   "source": [
    "Разобьем обратно тренировочную выбору на саму выборку и целевые значения"
   ]
  },
  {
   "cell_type": "code",
   "execution_count": 22,
   "metadata": {},
   "outputs": [],
   "source": [
    "target = df_train['polution_clf']"
   ]
  },
  {
   "cell_type": "code",
   "execution_count": 23,
   "metadata": {},
   "outputs": [
    {
     "data": {
      "text/plain": [
       "(2928,)"
      ]
     },
     "execution_count": 23,
     "metadata": {},
     "output_type": "execute_result"
    }
   ],
   "source": [
    "target.shape"
   ]
  },
  {
   "cell_type": "code",
   "execution_count": 24,
   "metadata": {},
   "outputs": [],
   "source": [
    "df_train = df_train.drop(['polution_clf'], axis=1)"
   ]
  },
  {
   "cell_type": "code",
   "execution_count": 25,
   "metadata": {},
   "outputs": [
    {
     "data": {
      "text/plain": [
       "(2928, 17)"
      ]
     },
     "execution_count": 25,
     "metadata": {},
     "output_type": "execute_result"
    }
   ],
   "source": [
    "df_train.shape"
   ]
  },
  {
   "cell_type": "markdown",
   "metadata": {},
   "source": [
    "Постоим карту попарных зависимостей признаков"
   ]
  },
  {
   "cell_type": "code",
   "execution_count": 26,
   "metadata": {},
   "outputs": [
    {
     "data": {
      "text/plain": [
       "<seaborn.axisgrid.PairGrid at 0x2d177bf5d00>"
      ]
     },
     "execution_count": 26,
     "metadata": {},
     "output_type": "execute_result"
    },
    {
     "data": {
      "image/png": "[encoded data removed]",
      "text/plain": [
       "<Figure size 2340x2340 with 182 Axes>"
      ]
     },
     "metadata": {
      "needs_background": "light"
     },
     "output_type": "display_data"
    }
   ],
   "source": [
    "sns.pairplot(df_train)"
   ]
  },
  {
   "cell_type": "code",
   "execution_count": 27,
   "metadata": {},
   "outputs": [],
   "source": [
    "# очень интересно, но опять непонятно"
   ]
  },
  {
   "cell_type": "markdown",
   "metadata": {},
   "source": [
    "Посмотрим количество уникальных  значений по каждому из признаков"
   ]
  },
  {
   "cell_type": "code",
   "execution_count": 28,
   "metadata": {},
   "outputs": [
    {
     "data": {
      "text/plain": [
       "Index(['code', 'year', 'period', 'id', 'Country', 'tourists', 'venue', 'rate',\n",
       "       'food', 'glass', 'metal', 'other', 'paper', 'plastic', 'leather',\n",
       "       'green_waste', 'waste_recycling'],\n",
       "      dtype='object')"
      ]
     },
     "execution_count": 28,
     "metadata": {},
     "output_type": "execute_result"
    }
   ],
   "source": [
    "c_names = df_train.columns\n",
    "c_names"
   ]
  },
  {
   "cell_type": "code",
   "execution_count": 29,
   "metadata": {
    "scrolled": false
   },
   "outputs": [
    {
     "name": "stdout",
     "output_type": "stream",
     "text": [
      "Столбец \"code\": количество уникальных значений 5\n",
      "Столбец \"year\": количество уникальных значений 10\n",
      "Столбец \"period\": количество уникальных значений 21\n",
      "Столбец \"id\": количество уникальных значений 1447\n",
      "Столбец \"Country\": количество уникальных значений 21\n",
      "Столбец \"tourists\": количество уникальных значений 20\n",
      "Столбец \"venue\": количество уникальных значений 8\n",
      "Столбец \"rate\": количество уникальных значений 11\n",
      "Столбец \"food\": количество уникальных значений 19\n",
      "Столбец \"glass\": количество уникальных значений 18\n",
      "Столбец \"metal\": количество уникальных значений 18\n",
      "Столбец \"other\": количество уникальных значений 20\n",
      "Столбец \"paper\": количество уникальных значений 19\n",
      "Столбец \"plastic\": количество уникальных значений 19\n",
      "Столбец \"leather\": количество уникальных значений 5\n",
      "Столбец \"green_waste\": количество уникальных значений 10\n",
      "Столбец \"waste_recycling\": количество уникальных значений 20\n"
     ]
    }
   ],
   "source": [
    "for x in c_names:\n",
    "    print(f'Столбец \"{x}\": количество уникальных значений {df_train[x].nunique()}')"
   ]
  },
  {
   "cell_type": "markdown",
   "metadata": {},
   "source": [
    "Определим столбцы, которые будем удалять:"
   ]
  },
  {
   "cell_type": "code",
   "execution_count": 30,
   "metadata": {},
   "outputs": [],
   "source": [
    "col_drop = []"
   ]
  },
  {
   "cell_type": "code",
   "execution_count": 31,
   "metadata": {
    "scrolled": true
   },
   "outputs": [
    {
     "data": {
      "text/plain": [
       "['year',\n",
       " 'Country',\n",
       " 'tourists',\n",
       " 'venue',\n",
       " 'rate',\n",
       " 'food',\n",
       " 'metal',\n",
       " 'plastic',\n",
       " 'leather']"
      ]
     },
     "execution_count": 31,
     "metadata": {},
     "output_type": "execute_result"
    }
   ],
   "source": [
    "col_drop.extend([\n",
    "#    'code', \n",
    "    'year', \n",
    "#    'period', \n",
    "#    'id', \n",
    "    'Country', \n",
    "    'tourists', \n",
    "    'venue', \n",
    "    'rate',\n",
    "    'food', \n",
    "#    'glass',\n",
    "    'metal',\n",
    "#    'other',\n",
    "#    'paper',\n",
    "    'plastic',\n",
    "    'leather',#\n",
    "#    'green_waste',\n",
    "#    'waste_recycling'\n",
    "])\n",
    "col_drop"
   ]
  },
  {
   "cell_type": "code",
   "execution_count": 32,
   "metadata": {
    "scrolled": true
   },
   "outputs": [
    {
     "data": {
      "text/plain": [
       "['code', 'period', 'id']"
      ]
     },
     "execution_count": 32,
     "metadata": {},
     "output_type": "execute_result"
    }
   ],
   "source": [
    "for x in col_drop:\n",
    "    if x in cat_col:\n",
    "        cat_col.remove(x)\n",
    "cat_col"
   ]
  },
  {
   "cell_type": "code",
   "execution_count": 33,
   "metadata": {},
   "outputs": [
    {
     "data": {
      "text/plain": [
       "['glass', 'other', 'paper', 'green_waste', 'waste_recycling', 'polution_clf']"
      ]
     },
     "execution_count": 33,
     "metadata": {},
     "output_type": "execute_result"
    }
   ],
   "source": [
    "for x in col_drop:\n",
    "    if x in num_col:\n",
    "        num_col.remove(x)\n",
    "num_col"
   ]
  },
  {
   "cell_type": "code",
   "execution_count": 34,
   "metadata": {},
   "outputs": [
    {
     "data": {
      "text/plain": [
       "['glass', 'other', 'paper', 'green_waste', 'waste_recycling', 'polution_clf']"
      ]
     },
     "execution_count": 34,
     "metadata": {},
     "output_type": "execute_result"
    }
   ],
   "source": [
    "num_col"
   ]
  },
  {
   "cell_type": "code",
   "execution_count": 35,
   "metadata": {},
   "outputs": [
    {
     "data": {
      "text/plain": [
       "['code', 'period', 'id']"
      ]
     },
     "execution_count": 35,
     "metadata": {},
     "output_type": "execute_result"
    }
   ],
   "source": [
    "cat_col"
   ]
  },
  {
   "cell_type": "markdown",
   "metadata": {},
   "source": [
    "### Объединяем тренировочную и тестовую выборки, чтобы не делать работу 2 раза"
   ]
  },
  {
   "cell_type": "code",
   "execution_count": 36,
   "metadata": {},
   "outputs": [],
   "source": [
    "df_total = pd.concat([df_train, df_test])"
   ]
  },
  {
   "cell_type": "code",
   "execution_count": 37,
   "metadata": {},
   "outputs": [
    {
     "data": {
      "text/html": [
       "<div>\n",
       "<style scoped>\n",
       "    .dataframe tbody tr th:only-of-type {\n",
       "        vertical-align: middle;\n",
       "    }\n",
       "\n",
       "    .dataframe tbody tr th {\n",
       "        vertical-align: top;\n",
       "    }\n",
       "\n",
       "    .dataframe thead th {\n",
       "        text-align: right;\n",
       "    }\n",
       "</style>\n",
       "<table border=\"1\" class=\"dataframe\">\n",
       "  <thead>\n",
       "    <tr style=\"text-align: right;\">\n",
       "      <th></th>\n",
       "      <th>code</th>\n",
       "      <th>period</th>\n",
       "      <th>id</th>\n",
       "      <th>glass</th>\n",
       "      <th>other</th>\n",
       "      <th>paper</th>\n",
       "      <th>green_waste</th>\n",
       "      <th>waste_recycling</th>\n",
       "    </tr>\n",
       "    <tr>\n",
       "      <th>idx</th>\n",
       "      <th></th>\n",
       "      <th></th>\n",
       "      <th></th>\n",
       "      <th></th>\n",
       "      <th></th>\n",
       "      <th></th>\n",
       "      <th></th>\n",
       "      <th></th>\n",
       "    </tr>\n",
       "  </thead>\n",
       "  <tbody>\n",
       "    <tr>\n",
       "      <th>11</th>\n",
       "      <td>EEA_3161-03-3</td>\n",
       "      <td>2009-04--2009-10</td>\n",
       "      <td>FRGR0220</td>\n",
       "      <td>10.0</td>\n",
       "      <td>26.0</td>\n",
       "      <td>20.0</td>\n",
       "      <td>0.0</td>\n",
       "      <td>22.26</td>\n",
       "    </tr>\n",
       "    <tr>\n",
       "      <th>20</th>\n",
       "      <td>EEA_3161-05-5</td>\n",
       "      <td>2009-01--2009-12</td>\n",
       "      <td>FRDR179</td>\n",
       "      <td>10.0</td>\n",
       "      <td>26.0</td>\n",
       "      <td>20.0</td>\n",
       "      <td>0.0</td>\n",
       "      <td>22.26</td>\n",
       "    </tr>\n",
       "    <tr>\n",
       "      <th>27</th>\n",
       "      <td>EEA_3161-01-1</td>\n",
       "      <td>2009-01--2009-12</td>\n",
       "      <td>FRDR174</td>\n",
       "      <td>10.0</td>\n",
       "      <td>26.0</td>\n",
       "      <td>20.0</td>\n",
       "      <td>0.0</td>\n",
       "      <td>22.26</td>\n",
       "    </tr>\n",
       "  </tbody>\n",
       "</table>\n",
       "</div>"
      ],
      "text/plain": [
       "              code            period        id  glass  other  paper  \\\n",
       "idx                                                                   \n",
       "11   EEA_3161-03-3  2009-04--2009-10  FRGR0220   10.0   26.0   20.0   \n",
       "20   EEA_3161-05-5  2009-01--2009-12   FRDR179   10.0   26.0   20.0   \n",
       "27   EEA_3161-01-1  2009-01--2009-12   FRDR174   10.0   26.0   20.0   \n",
       "\n",
       "     green_waste  waste_recycling  \n",
       "idx                                \n",
       "11           0.0            22.26  \n",
       "20           0.0            22.26  \n",
       "27           0.0            22.26  "
      ]
     },
     "execution_count": 37,
     "metadata": {},
     "output_type": "execute_result"
    }
   ],
   "source": [
    "df_total = df_total.drop(col_drop, axis=1)\n",
    "df_total.head(3)"
   ]
  },
  {
   "cell_type": "markdown",
   "metadata": {},
   "source": [
    "### Применяем one-hot-encoding для категориальных столбцов"
   ]
  },
  {
   "cell_type": "code",
   "execution_count": 38,
   "metadata": {},
   "outputs": [
    {
     "data": {
      "text/html": [
       "<div>\n",
       "<style scoped>\n",
       "    .dataframe tbody tr th:only-of-type {\n",
       "        vertical-align: middle;\n",
       "    }\n",
       "\n",
       "    .dataframe tbody tr th {\n",
       "        vertical-align: top;\n",
       "    }\n",
       "\n",
       "    .dataframe thead th {\n",
       "        text-align: right;\n",
       "    }\n",
       "</style>\n",
       "<table border=\"1\" class=\"dataframe\">\n",
       "  <thead>\n",
       "    <tr style=\"text-align: right;\">\n",
       "      <th></th>\n",
       "      <th>glass</th>\n",
       "      <th>other</th>\n",
       "      <th>paper</th>\n",
       "      <th>green_waste</th>\n",
       "      <th>waste_recycling</th>\n",
       "      <th>code__EEA_3161-01-1</th>\n",
       "      <th>code__EEA_3161-02-2</th>\n",
       "      <th>code__EEA_3161-03-3</th>\n",
       "      <th>code__EEA_3161-05-5</th>\n",
       "      <th>code__EEA_31615-01-7</th>\n",
       "      <th>...</th>\n",
       "      <th>id__UKSC023282</th>\n",
       "      <th>id__UKSC023294</th>\n",
       "      <th>id__UKSC023295</th>\n",
       "      <th>id__UKSC023315</th>\n",
       "      <th>id__UKSC023319</th>\n",
       "      <th>id__UKSC023332</th>\n",
       "      <th>id__UKSC023345</th>\n",
       "      <th>id__UKSC023346</th>\n",
       "      <th>id__UKSC023347</th>\n",
       "      <th>id__UKSC023371</th>\n",
       "    </tr>\n",
       "    <tr>\n",
       "      <th>idx</th>\n",
       "      <th></th>\n",
       "      <th></th>\n",
       "      <th></th>\n",
       "      <th></th>\n",
       "      <th></th>\n",
       "      <th></th>\n",
       "      <th></th>\n",
       "      <th></th>\n",
       "      <th></th>\n",
       "      <th></th>\n",
       "      <th></th>\n",
       "      <th></th>\n",
       "      <th></th>\n",
       "      <th></th>\n",
       "      <th></th>\n",
       "      <th></th>\n",
       "      <th></th>\n",
       "      <th></th>\n",
       "      <th></th>\n",
       "      <th></th>\n",
       "      <th></th>\n",
       "    </tr>\n",
       "  </thead>\n",
       "  <tbody>\n",
       "    <tr>\n",
       "      <th>11</th>\n",
       "      <td>10.0</td>\n",
       "      <td>26.0</td>\n",
       "      <td>20.0</td>\n",
       "      <td>0.0</td>\n",
       "      <td>22.26</td>\n",
       "      <td>0</td>\n",
       "      <td>0</td>\n",
       "      <td>1</td>\n",
       "      <td>0</td>\n",
       "      <td>0</td>\n",
       "      <td>...</td>\n",
       "      <td>0</td>\n",
       "      <td>0</td>\n",
       "      <td>0</td>\n",
       "      <td>0</td>\n",
       "      <td>0</td>\n",
       "      <td>0</td>\n",
       "      <td>0</td>\n",
       "      <td>0</td>\n",
       "      <td>0</td>\n",
       "      <td>0</td>\n",
       "    </tr>\n",
       "    <tr>\n",
       "      <th>20</th>\n",
       "      <td>10.0</td>\n",
       "      <td>26.0</td>\n",
       "      <td>20.0</td>\n",
       "      <td>0.0</td>\n",
       "      <td>22.26</td>\n",
       "      <td>0</td>\n",
       "      <td>0</td>\n",
       "      <td>0</td>\n",
       "      <td>1</td>\n",
       "      <td>0</td>\n",
       "      <td>...</td>\n",
       "      <td>0</td>\n",
       "      <td>0</td>\n",
       "      <td>0</td>\n",
       "      <td>0</td>\n",
       "      <td>0</td>\n",
       "      <td>0</td>\n",
       "      <td>0</td>\n",
       "      <td>0</td>\n",
       "      <td>0</td>\n",
       "      <td>0</td>\n",
       "    </tr>\n",
       "    <tr>\n",
       "      <th>27</th>\n",
       "      <td>10.0</td>\n",
       "      <td>26.0</td>\n",
       "      <td>20.0</td>\n",
       "      <td>0.0</td>\n",
       "      <td>22.26</td>\n",
       "      <td>1</td>\n",
       "      <td>0</td>\n",
       "      <td>0</td>\n",
       "      <td>0</td>\n",
       "      <td>0</td>\n",
       "      <td>...</td>\n",
       "      <td>0</td>\n",
       "      <td>0</td>\n",
       "      <td>0</td>\n",
       "      <td>0</td>\n",
       "      <td>0</td>\n",
       "      <td>0</td>\n",
       "      <td>0</td>\n",
       "      <td>0</td>\n",
       "      <td>0</td>\n",
       "      <td>0</td>\n",
       "    </tr>\n",
       "    <tr>\n",
       "      <th>28</th>\n",
       "      <td>10.0</td>\n",
       "      <td>26.0</td>\n",
       "      <td>20.0</td>\n",
       "      <td>0.0</td>\n",
       "      <td>22.26</td>\n",
       "      <td>0</td>\n",
       "      <td>0</td>\n",
       "      <td>0</td>\n",
       "      <td>1</td>\n",
       "      <td>0</td>\n",
       "      <td>...</td>\n",
       "      <td>0</td>\n",
       "      <td>0</td>\n",
       "      <td>0</td>\n",
       "      <td>0</td>\n",
       "      <td>0</td>\n",
       "      <td>0</td>\n",
       "      <td>0</td>\n",
       "      <td>0</td>\n",
       "      <td>0</td>\n",
       "      <td>0</td>\n",
       "    </tr>\n",
       "    <tr>\n",
       "      <th>33</th>\n",
       "      <td>10.0</td>\n",
       "      <td>26.0</td>\n",
       "      <td>20.0</td>\n",
       "      <td>0.0</td>\n",
       "      <td>22.26</td>\n",
       "      <td>0</td>\n",
       "      <td>0</td>\n",
       "      <td>1</td>\n",
       "      <td>0</td>\n",
       "      <td>0</td>\n",
       "      <td>...</td>\n",
       "      <td>0</td>\n",
       "      <td>0</td>\n",
       "      <td>0</td>\n",
       "      <td>0</td>\n",
       "      <td>0</td>\n",
       "      <td>0</td>\n",
       "      <td>0</td>\n",
       "      <td>0</td>\n",
       "      <td>0</td>\n",
       "      <td>0</td>\n",
       "    </tr>\n",
       "  </tbody>\n",
       "</table>\n",
       "<p>5 rows × 1645 columns</p>\n",
       "</div>"
      ],
      "text/plain": [
       "     glass  other  paper  green_waste  waste_recycling  code__EEA_3161-01-1  \\\n",
       "idx                                                                           \n",
       "11    10.0   26.0   20.0          0.0            22.26                    0   \n",
       "20    10.0   26.0   20.0          0.0            22.26                    0   \n",
       "27    10.0   26.0   20.0          0.0            22.26                    1   \n",
       "28    10.0   26.0   20.0          0.0            22.26                    0   \n",
       "33    10.0   26.0   20.0          0.0            22.26                    0   \n",
       "\n",
       "     code__EEA_3161-02-2  code__EEA_3161-03-3  code__EEA_3161-05-5  \\\n",
       "idx                                                                  \n",
       "11                     0                    1                    0   \n",
       "20                     0                    0                    1   \n",
       "27                     0                    0                    0   \n",
       "28                     0                    0                    1   \n",
       "33                     0                    1                    0   \n",
       "\n",
       "     code__EEA_31615-01-7  ...  id__UKSC023282  id__UKSC023294  \\\n",
       "idx                        ...                                   \n",
       "11                      0  ...               0               0   \n",
       "20                      0  ...               0               0   \n",
       "27                      0  ...               0               0   \n",
       "28                      0  ...               0               0   \n",
       "33                      0  ...               0               0   \n",
       "\n",
       "     id__UKSC023295  id__UKSC023315  id__UKSC023319  id__UKSC023332  \\\n",
       "idx                                                                   \n",
       "11                0               0               0               0   \n",
       "20                0               0               0               0   \n",
       "27                0               0               0               0   \n",
       "28                0               0               0               0   \n",
       "33                0               0               0               0   \n",
       "\n",
       "     id__UKSC023345  id__UKSC023346  id__UKSC023347  id__UKSC023371  \n",
       "idx                                                                  \n",
       "11                0               0               0               0  \n",
       "20                0               0               0               0  \n",
       "27                0               0               0               0  \n",
       "28                0               0               0               0  \n",
       "33                0               0               0               0  \n",
       "\n",
       "[5 rows x 1645 columns]"
      ]
     },
     "execution_count": 38,
     "metadata": {},
     "output_type": "execute_result"
    }
   ],
   "source": [
    "for col in cat_col:\n",
    "    df_total = pd.concat([df_total, pd.get_dummies(df_total[col], prefix=f'{col}_')], axis=1, sort=False)\n",
    "    df_total = df_total.drop([col], axis=1)\n",
    "df_total.head()"
   ]
  },
  {
   "cell_type": "markdown",
   "metadata": {},
   "source": [
    "### Проведем нормализацию оставшихся числовых признаков"
   ]
  },
  {
   "cell_type": "code",
   "execution_count": 39,
   "metadata": {},
   "outputs": [
    {
     "data": {
      "text/plain": [
       "Index(['glass', 'other', 'paper', 'green_waste', 'waste_recycling',\n",
       "       'code__EEA_3161-01-1', 'code__EEA_3161-02-2', 'code__EEA_3161-03-3',\n",
       "       'code__EEA_3161-05-5', 'code__EEA_31615-01-7',\n",
       "       ...\n",
       "       'id__UKSC023282', 'id__UKSC023294', 'id__UKSC023295', 'id__UKSC023315',\n",
       "       'id__UKSC023319', 'id__UKSC023332', 'id__UKSC023345', 'id__UKSC023346',\n",
       "       'id__UKSC023347', 'id__UKSC023371'],\n",
       "      dtype='object', length=1645)"
      ]
     },
     "execution_count": 39,
     "metadata": {},
     "output_type": "execute_result"
    }
   ],
   "source": [
    "col_names = df_total.columns\n",
    "col_names"
   ]
  },
  {
   "cell_type": "code",
   "execution_count": 40,
   "metadata": {},
   "outputs": [],
   "source": [
    "scaler  = MinMaxScaler()\n",
    "scaler.fit_transform(df_total)\n",
    "df_total = scaler.transform(df_total) "
   ]
  },
  {
   "cell_type": "code",
   "execution_count": 41,
   "metadata": {},
   "outputs": [
    {
     "data": {
      "text/html": [
       "<div>\n",
       "<style scoped>\n",
       "    .dataframe tbody tr th:only-of-type {\n",
       "        vertical-align: middle;\n",
       "    }\n",
       "\n",
       "    .dataframe tbody tr th {\n",
       "        vertical-align: top;\n",
       "    }\n",
       "\n",
       "    .dataframe thead th {\n",
       "        text-align: right;\n",
       "    }\n",
       "</style>\n",
       "<table border=\"1\" class=\"dataframe\">\n",
       "  <thead>\n",
       "    <tr style=\"text-align: right;\">\n",
       "      <th></th>\n",
       "      <th>glass</th>\n",
       "      <th>other</th>\n",
       "      <th>paper</th>\n",
       "      <th>green_waste</th>\n",
       "      <th>waste_recycling</th>\n",
       "      <th>code__EEA_3161-01-1</th>\n",
       "      <th>code__EEA_3161-02-2</th>\n",
       "      <th>code__EEA_3161-03-3</th>\n",
       "      <th>code__EEA_3161-05-5</th>\n",
       "      <th>code__EEA_31615-01-7</th>\n",
       "      <th>...</th>\n",
       "      <th>id__UKSC023282</th>\n",
       "      <th>id__UKSC023294</th>\n",
       "      <th>id__UKSC023295</th>\n",
       "      <th>id__UKSC023315</th>\n",
       "      <th>id__UKSC023319</th>\n",
       "      <th>id__UKSC023332</th>\n",
       "      <th>id__UKSC023345</th>\n",
       "      <th>id__UKSC023346</th>\n",
       "      <th>id__UKSC023347</th>\n",
       "      <th>id__UKSC023371</th>\n",
       "    </tr>\n",
       "  </thead>\n",
       "  <tbody>\n",
       "    <tr>\n",
       "      <th>0</th>\n",
       "      <td>0.40625</td>\n",
       "      <td>0.590238</td>\n",
       "      <td>0.438071</td>\n",
       "      <td>0.0</td>\n",
       "      <td>0.456767</td>\n",
       "      <td>0.0</td>\n",
       "      <td>0.0</td>\n",
       "      <td>1.0</td>\n",
       "      <td>0.0</td>\n",
       "      <td>0.0</td>\n",
       "      <td>...</td>\n",
       "      <td>0.0</td>\n",
       "      <td>0.0</td>\n",
       "      <td>0.0</td>\n",
       "      <td>0.0</td>\n",
       "      <td>0.0</td>\n",
       "      <td>0.0</td>\n",
       "      <td>0.0</td>\n",
       "      <td>0.0</td>\n",
       "      <td>0.0</td>\n",
       "      <td>0.0</td>\n",
       "    </tr>\n",
       "    <tr>\n",
       "      <th>1</th>\n",
       "      <td>0.40625</td>\n",
       "      <td>0.590238</td>\n",
       "      <td>0.438071</td>\n",
       "      <td>0.0</td>\n",
       "      <td>0.456767</td>\n",
       "      <td>0.0</td>\n",
       "      <td>0.0</td>\n",
       "      <td>0.0</td>\n",
       "      <td>1.0</td>\n",
       "      <td>0.0</td>\n",
       "      <td>...</td>\n",
       "      <td>0.0</td>\n",
       "      <td>0.0</td>\n",
       "      <td>0.0</td>\n",
       "      <td>0.0</td>\n",
       "      <td>0.0</td>\n",
       "      <td>0.0</td>\n",
       "      <td>0.0</td>\n",
       "      <td>0.0</td>\n",
       "      <td>0.0</td>\n",
       "      <td>0.0</td>\n",
       "    </tr>\n",
       "    <tr>\n",
       "      <th>2</th>\n",
       "      <td>0.40625</td>\n",
       "      <td>0.590238</td>\n",
       "      <td>0.438071</td>\n",
       "      <td>0.0</td>\n",
       "      <td>0.456767</td>\n",
       "      <td>1.0</td>\n",
       "      <td>0.0</td>\n",
       "      <td>0.0</td>\n",
       "      <td>0.0</td>\n",
       "      <td>0.0</td>\n",
       "      <td>...</td>\n",
       "      <td>0.0</td>\n",
       "      <td>0.0</td>\n",
       "      <td>0.0</td>\n",
       "      <td>0.0</td>\n",
       "      <td>0.0</td>\n",
       "      <td>0.0</td>\n",
       "      <td>0.0</td>\n",
       "      <td>0.0</td>\n",
       "      <td>0.0</td>\n",
       "      <td>0.0</td>\n",
       "    </tr>\n",
       "  </tbody>\n",
       "</table>\n",
       "<p>3 rows × 1645 columns</p>\n",
       "</div>"
      ],
      "text/plain": [
       "     glass     other     paper  green_waste  waste_recycling  \\\n",
       "0  0.40625  0.590238  0.438071          0.0         0.456767   \n",
       "1  0.40625  0.590238  0.438071          0.0         0.456767   \n",
       "2  0.40625  0.590238  0.438071          0.0         0.456767   \n",
       "\n",
       "   code__EEA_3161-01-1  code__EEA_3161-02-2  code__EEA_3161-03-3  \\\n",
       "0                  0.0                  0.0                  1.0   \n",
       "1                  0.0                  0.0                  0.0   \n",
       "2                  1.0                  0.0                  0.0   \n",
       "\n",
       "   code__EEA_3161-05-5  code__EEA_31615-01-7  ...  id__UKSC023282  \\\n",
       "0                  0.0                   0.0  ...             0.0   \n",
       "1                  1.0                   0.0  ...             0.0   \n",
       "2                  0.0                   0.0  ...             0.0   \n",
       "\n",
       "   id__UKSC023294  id__UKSC023295  id__UKSC023315  id__UKSC023319  \\\n",
       "0             0.0             0.0             0.0             0.0   \n",
       "1             0.0             0.0             0.0             0.0   \n",
       "2             0.0             0.0             0.0             0.0   \n",
       "\n",
       "   id__UKSC023332  id__UKSC023345  id__UKSC023346  id__UKSC023347  \\\n",
       "0             0.0             0.0             0.0             0.0   \n",
       "1             0.0             0.0             0.0             0.0   \n",
       "2             0.0             0.0             0.0             0.0   \n",
       "\n",
       "   id__UKSC023371  \n",
       "0             0.0  \n",
       "1             0.0  \n",
       "2             0.0  \n",
       "\n",
       "[3 rows x 1645 columns]"
      ]
     },
     "execution_count": 41,
     "metadata": {},
     "output_type": "execute_result"
    }
   ],
   "source": [
    "df_total = pd.DataFrame(df_total, columns=col_names)\n",
    "df_total.head(3)"
   ]
  },
  {
   "cell_type": "markdown",
   "metadata": {},
   "source": [
    "### Разбиваем данные обратно на Тренировочную и Тестовую"
   ]
  },
  {
   "cell_type": "code",
   "execution_count": 42,
   "metadata": {},
   "outputs": [],
   "source": [
    "train = df_total.iloc[0:df_train.shape[0],:]\n",
    "test = df_total.iloc[df_train.shape[0]:,:]"
   ]
  },
  {
   "cell_type": "code",
   "execution_count": 43,
   "metadata": {},
   "outputs": [
    {
     "data": {
      "text/plain": [
       "(2928, 2928, 732, 732)"
      ]
     },
     "execution_count": 43,
     "metadata": {},
     "output_type": "execute_result"
    }
   ],
   "source": [
    "df_train.shape[0], train.shape[0], df_test.shape[0], test.shape[0], "
   ]
  },
  {
   "cell_type": "markdown",
   "metadata": {},
   "source": [
    "### Разобьем тренировочную выборку на тренировочную и валидационную и обучим модель логистической регрессии"
   ]
  },
  {
   "cell_type": "code",
   "execution_count": 44,
   "metadata": {},
   "outputs": [],
   "source": [
    "X = train\n",
    "y = target"
   ]
  },
  {
   "cell_type": "code",
   "execution_count": 45,
   "metadata": {},
   "outputs": [],
   "source": [
    "X_train, X_val, y_train, y_val = train_test_split(X, y, test_size=0.33, shuffle=True, random_state=21)"
   ]
  },
  {
   "cell_type": "code",
   "execution_count": 46,
   "metadata": {},
   "outputs": [
    {
     "data": {
      "text/plain": [
       "((1961, 1645), (967, 1645), (1961,), (967,))"
      ]
     },
     "execution_count": 46,
     "metadata": {},
     "output_type": "execute_result"
    }
   ],
   "source": [
    "X_train.shape, X_val.shape, y_train.shape, y_val.shape "
   ]
  },
  {
   "cell_type": "code",
   "execution_count": 47,
   "metadata": {
    "scrolled": true
   },
   "outputs": [
    {
     "name": "stdout",
     "output_type": "stream",
     "text": [
      "Wall time: 326 ms\n"
     ]
    }
   ],
   "source": [
    "%%time\n",
    "\n",
    "model_lr = LogisticRegression()\n",
    "model_lr.fit(X_train, y_train)\n",
    "\n",
    "y_train_pred = model_lr.predict(X_train)\n",
    "y_val_pred = model_lr.predict(X_val)"
   ]
  },
  {
   "cell_type": "markdown",
   "metadata": {},
   "source": [
    "Целевая метрика"
   ]
  },
  {
   "cell_type": "code",
   "execution_count": 48,
   "metadata": {},
   "outputs": [
    {
     "data": {
      "text/plain": [
       "0.8732364115588809"
      ]
     },
     "execution_count": 48,
     "metadata": {},
     "output_type": "execute_result"
    }
   ],
   "source": [
    "f1(y_train, y_train_pred, average='macro')"
   ]
  },
  {
   "cell_type": "code",
   "execution_count": 49,
   "metadata": {
    "scrolled": true
   },
   "outputs": [
    {
     "data": {
      "text/plain": [
       "0.7838050792272628"
      ]
     },
     "execution_count": 49,
     "metadata": {},
     "output_type": "execute_result"
    }
   ],
   "source": [
    "f1(y_val, y_val_pred, average='macro')"
   ]
  },
  {
   "cell_type": "markdown",
   "metadata": {},
   "source": [
    "*Вывод: т.к. на валидационной выборке происходит падения скора, то требуется применение регуляризации*"
   ]
  },
  {
   "cell_type": "markdown",
   "metadata": {},
   "source": [
    "### Применим к логистической регрессии регуляризацию"
   ]
  },
  {
   "cell_type": "markdown",
   "metadata": {},
   "source": [
    "Сначала определим наилучшее значение макропараметра"
   ]
  },
  {
   "cell_type": "code",
   "execution_count": 50,
   "metadata": {
    "scrolled": true
   },
   "outputs": [
    {
     "name": "stdout",
     "output_type": "stream",
     "text": [
      "9.0:\n",
      "F1 train: 0.9841917224654058\n",
      "F1 val: 0.8136157529592791\n",
      "--------------------------------------------------\n",
      "9.5:\n",
      "F1 train: 0.9841917224654058\n",
      "F1 val: 0.8146248686092397\n",
      "--------------------------------------------------\n",
      "10.0:\n",
      "F1 train: 0.9841917224654058\n",
      "F1 val: 0.8162522584807765\n",
      "--------------------------------------------------\n",
      "10.5:\n",
      "F1 train: 0.9841917224654058\n",
      "F1 val: 0.8151901289286299\n",
      "--------------------------------------------------\n",
      "11.0:\n",
      "F1 train: 0.9847016470108532\n",
      "F1 val: 0.8151901289286299\n",
      "--------------------------------------------------\n",
      "Wall time: 1.89 s\n"
     ]
    }
   ],
   "source": [
    "%%time\n",
    "#solver=['lbfgs', 'liblinear', 'newton-cg', 'newton-cg', 'sag', 'saga']\n",
    "#tol = [0.00001, 0.0001, 0.001, 0.01, 0.1]\n",
    "si = [9.0, 9.5, 10.0, 10.5, 11.0]\n",
    "for c in si:\n",
    "    model_lr = LogisticRegression(penalty='l2', solver='lbfgs', max_iter=1000, tol=000.1, C=c)\n",
    "    model_lr.fit(X_train, y_train)\n",
    "    y_train_pred = model_lr.predict(X_train)\n",
    "    y_val_pred = model_lr.predict(X_val)\n",
    "    print(f'{c}:')\n",
    "    print(f\"F1 train: {f1(y_train, y_train_pred, average='macro')}\")\n",
    "    print(f\"F1 val: {f1(y_val, y_val_pred, average='macro')}\")\n",
    "    print('-'*50)"
   ]
  },
  {
   "cell_type": "markdown",
   "metadata": {},
   "source": [
    "*Вывод: наилучшее значение: 10.0*"
   ]
  },
  {
   "cell_type": "markdown",
   "metadata": {},
   "source": [
    "**Проведем регуляризацию**"
   ]
  },
  {
   "cell_type": "code",
   "execution_count": 51,
   "metadata": {},
   "outputs": [],
   "source": [
    "model_lr = LogisticRegression(penalty='l2', solver='lbfgs', max_iter=1000, tol=000.1, C=10.0)\n",
    "model_lr.fit(X_train, y_train)\n",
    "y_train_pred = model_lr.predict(X_train)\n",
    "y_val_pred = model_lr.predict(X_val)"
   ]
  },
  {
   "cell_type": "code",
   "execution_count": 52,
   "metadata": {
    "scrolled": true
   },
   "outputs": [],
   "source": [
    "y_val_pred_proba = model_lr.predict_proba(X_val)"
   ]
  },
  {
   "cell_type": "code",
   "execution_count": 53,
   "metadata": {},
   "outputs": [],
   "source": [
    "y_val_pred_modify = []"
   ]
  },
  {
   "cell_type": "markdown",
   "metadata": {},
   "source": [
    "Целевая метрика"
   ]
  },
  {
   "cell_type": "code",
   "execution_count": 54,
   "metadata": {},
   "outputs": [
    {
     "data": {
      "text/plain": [
       "0.9841917224654058"
      ]
     },
     "execution_count": 54,
     "metadata": {},
     "output_type": "execute_result"
    }
   ],
   "source": [
    "f1(y_train, y_train_pred, average='macro')"
   ]
  },
  {
   "cell_type": "code",
   "execution_count": 55,
   "metadata": {
    "scrolled": false
   },
   "outputs": [
    {
     "data": {
      "text/plain": [
       "0.8162522584807765"
      ]
     },
     "execution_count": 55,
     "metadata": {},
     "output_type": "execute_result"
    }
   ],
   "source": [
    "f1(y_val, y_val_pred, average='macro')"
   ]
  },
  {
   "cell_type": "markdown",
   "metadata": {},
   "source": [
    "**Дополнительно скорректируем параметр порогового значения, который относит получившееся предсказание к одному из классов**"
   ]
  },
  {
   "cell_type": "code",
   "execution_count": 56,
   "metadata": {},
   "outputs": [],
   "source": [
    "for x in range(len(y_val_pred_proba)):\n",
    "    if y_val_pred_proba[x][0] >= 0.4:\n",
    "        y_val_pred_modify.append(0)\n",
    "    else:\n",
    "        y_val_pred_modify.append(1)"
   ]
  },
  {
   "cell_type": "code",
   "execution_count": 57,
   "metadata": {},
   "outputs": [],
   "source": [
    "y_val_pred_modify = np.asarray(y_val_pred_modify)"
   ]
  },
  {
   "cell_type": "code",
   "execution_count": 58,
   "metadata": {
    "scrolled": true
   },
   "outputs": [
    {
     "data": {
      "text/plain": [
       "0.8220981474350747"
      ]
     },
     "execution_count": 58,
     "metadata": {},
     "output_type": "execute_result"
    }
   ],
   "source": [
    "f1(y_val, y_val_pred_modify, average='macro')"
   ]
  },
  {
   "cell_type": "markdown",
   "metadata": {},
   "source": [
    "### Обучаем на лучшей из полученных моделей тестовую выборку"
   ]
  },
  {
   "cell_type": "markdown",
   "metadata": {},
   "source": [
    "Делаем это с учетом скорректированного параметра порогового значения"
   ]
  },
  {
   "cell_type": "code",
   "execution_count": 59,
   "metadata": {},
   "outputs": [],
   "source": [
    "y_test = model_lr.predict_proba(test)"
   ]
  },
  {
   "cell_type": "code",
   "execution_count": 60,
   "metadata": {},
   "outputs": [],
   "source": [
    "y_test_modify = []"
   ]
  },
  {
   "cell_type": "code",
   "execution_count": 61,
   "metadata": {},
   "outputs": [],
   "source": [
    "for x in range(len(y_test)):\n",
    "    if y_test[x][0] >= 0.4:\n",
    "        y_test_modify.append(0)\n",
    "    else:\n",
    "        y_test_modify.append(1)"
   ]
  },
  {
   "cell_type": "code",
   "execution_count": 62,
   "metadata": {},
   "outputs": [],
   "source": [
    "y_test_modify = np.asarray(y_test_modify)"
   ]
  },
  {
   "cell_type": "code",
   "execution_count": 63,
   "metadata": {},
   "outputs": [],
   "source": [
    "test_col_drop = df_test.columns"
   ]
  },
  {
   "cell_type": "code",
   "execution_count": 64,
   "metadata": {},
   "outputs": [
    {
     "data": {
      "text/plain": [
       "Index(['code', 'year', 'period', 'id', 'Country', 'tourists', 'venue', 'rate',\n",
       "       'food', 'glass', 'metal', 'other', 'paper', 'plastic', 'leather',\n",
       "       'green_waste', 'waste_recycling'],\n",
       "      dtype='object')"
      ]
     },
     "execution_count": 64,
     "metadata": {},
     "output_type": "execute_result"
    }
   ],
   "source": [
    "test_col_drop"
   ]
  },
  {
   "cell_type": "code",
   "execution_count": 65,
   "metadata": {},
   "outputs": [],
   "source": [
    "df_test['polution_clf'] = y_test_modify"
   ]
  },
  {
   "cell_type": "code",
   "execution_count": 66,
   "metadata": {
    "scrolled": true
   },
   "outputs": [
    {
     "data": {
      "text/html": [
       "<div>\n",
       "<style scoped>\n",
       "    .dataframe tbody tr th:only-of-type {\n",
       "        vertical-align: middle;\n",
       "    }\n",
       "\n",
       "    .dataframe tbody tr th {\n",
       "        vertical-align: top;\n",
       "    }\n",
       "\n",
       "    .dataframe thead th {\n",
       "        text-align: right;\n",
       "    }\n",
       "</style>\n",
       "<table border=\"1\" class=\"dataframe\">\n",
       "  <thead>\n",
       "    <tr style=\"text-align: right;\">\n",
       "      <th></th>\n",
       "      <th>polution_clf</th>\n",
       "    </tr>\n",
       "    <tr>\n",
       "      <th>idx</th>\n",
       "      <th></th>\n",
       "    </tr>\n",
       "  </thead>\n",
       "  <tbody>\n",
       "    <tr>\n",
       "      <th>19</th>\n",
       "      <td>0</td>\n",
       "    </tr>\n",
       "    <tr>\n",
       "      <th>46</th>\n",
       "      <td>1</td>\n",
       "    </tr>\n",
       "    <tr>\n",
       "      <th>94</th>\n",
       "      <td>0</td>\n",
       "    </tr>\n",
       "  </tbody>\n",
       "</table>\n",
       "</div>"
      ],
      "text/plain": [
       "     polution_clf\n",
       "idx              \n",
       "19              0\n",
       "46              1\n",
       "94              0"
      ]
     },
     "execution_count": 66,
     "metadata": {},
     "output_type": "execute_result"
    }
   ],
   "source": [
    "df_test = df_test.drop(test_col_drop, axis=1)\n",
    "df_test.head(3)"
   ]
  },
  {
   "cell_type": "markdown",
   "metadata": {},
   "source": [
    "Сохранение полученного предсказания"
   ]
  },
  {
   "cell_type": "code",
   "execution_count": 67,
   "metadata": {},
   "outputs": [],
   "source": [
    "df_test.to_csv('RIM120906_PopovMV_kaggle2_final.csv', index = True)"
   ]
  },
  {
   "cell_type": "code",
   "execution_count": 68,
   "metadata": {},
   "outputs": [],
   "source": [
    "#leaderboard 0.81685"
   ]
  }
 ],
 "metadata": {
  "kernelspec": {
   "display_name": "Python 3",
   "language": "python",
   "name": "python3"
  },
  "language_info": {
   "codemirror_mode": {
    "name": "ipython",
    "version": 3
   },
   "file_extension": ".py",
   "mimetype": "text/x-python",
   "name": "python",
   "nbconvert_exporter": "python",
   "pygments_lexer": "ipython3",
   "version": "3.8.5"
  }
 },
 "nbformat": 4,
 "nbformat_minor": 4
}
