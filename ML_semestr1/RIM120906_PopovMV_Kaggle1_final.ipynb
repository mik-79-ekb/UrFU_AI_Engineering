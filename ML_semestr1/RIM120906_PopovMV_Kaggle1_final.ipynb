{
 "cells": [
  {
   "cell_type": "markdown",
   "metadata": {},
   "source": [
    "# Соревнование по Регрессии (Линейные модели)"
   ]
  },
  {
   "cell_type": "markdown",
   "metadata": {},
   "source": [
    "## Ссылка на соревнование"
   ]
  },
  {
   "cell_type": "markdown",
   "metadata": {},
   "source": [
    "https://www.kaggle.com/competitions/urfu-engai-ml-2022-regression"
   ]
  },
  {
   "cell_type": "markdown",
   "metadata": {},
   "source": [
    "## Целевая метрика"
   ]
  },
  {
   "cell_type": "markdown",
   "metadata": {},
   "source": [
    "R^2 >= 0.7"
   ]
  },
  {
   "cell_type": "markdown",
   "metadata": {},
   "source": [
    "## Dataset Description"
   ]
  },
  {
   "cell_type": "markdown",
   "metadata": {},
   "source": [
    "**Файлы**  \n",
    "* Train.csv - Тренировочный набор данных  \n",
    "* Target.csv - Целевые значения для тренировочного набора данных  \n",
    "* Test.csv - Тестовый набор данных  \n",
    "* Submission.csv - пример файла для загрузки решения \n",
    "  \n",
    "**Колонки**  \n",
    "* 'code' - Уникальный код контролируемого определителя, определенный в списке кодов,  \n",
    "* 'year' - Год, в течение которого были отобраны данные,  \n",
    "* 'period' - Период года, в течение которого производилась выборка данных,  \n",
    "* 'id' - Уникальный международный идентификатор водного объекта, в котором получены данные,  \n",
    "* 'Country' - Информация о стране, созданная с использованием координат,  \n",
    "* 'tourists' - Среднее количество туристов по стране в период с 1990 по 2020 год,  \n",
    "* 'venue' - Количество предприятий рядом с указанными координатами,  \n",
    "* 'rate' - Уровень грамотности в стране в период с 2010 по 2018 год,  \n",
    "* 'food' - доля пищевых отходов,  \n",
    "* 'glass' - доля стеклянных отходов,  \n",
    "* 'metal' - доля металлических отходов,  \n",
    "* 'other' - доля прочих отходов,  \n",
    "* 'paper' - доля бумажных отходов,  \n",
    "* 'plastic' - доля пластмассовых отходов,  \n",
    "* 'leather' - доля кожаных отходов,  \n",
    "* 'green_waste' - доля зеленых отходов,  \n",
    "* 'waste_recycling' - доля перерабатываемого мусора"
   ]
  },
  {
   "cell_type": "markdown",
   "metadata": {
    "id": "GjqQDt2hvrTL"
   },
   "source": [
    "### Import библиотек"
   ]
  },
  {
   "cell_type": "code",
   "execution_count": 1,
   "metadata": {
    "id": "W1M6Kfo6vrTM",
    "scrolled": true
   },
   "outputs": [],
   "source": [
    "import pandas as pd\n",
    "\n",
    "import numpy as np\n",
    "import matplotlib.pyplot as plt\n",
    "%matplotlib inline\n",
    "import seaborn as sns; sns.set()\n",
    "from sklearn.model_selection import train_test_split\n",
    "from sklearn.preprocessing import MinMaxScaler\n",
    "from sklearn.preprocessing import StandardScaler\n",
    "\n",
    "from sklearn.linear_model import LinearRegression"
   ]
  },
  {
   "cell_type": "code",
   "execution_count": 2,
   "metadata": {},
   "outputs": [],
   "source": [
    "from sklearn.metrics import mean_squared_error as mse, r2_score as r2\n",
    "from sklearn.metrics import classification_report, f1_score, precision_score, recall_score"
   ]
  },
  {
   "cell_type": "markdown",
   "metadata": {
    "id": "6KkCjdKUsHIr"
   },
   "source": [
    "### Считываем файлы в DataFrame"
   ]
  },
  {
   "cell_type": "markdown",
   "metadata": {},
   "source": [
    "**Тренировочная выборка**"
   ]
  },
  {
   "cell_type": "code",
   "execution_count": 3,
   "metadata": {
    "scrolled": true
   },
   "outputs": [
    {
     "data": {
      "text/html": [
       "<div>\n",
       "<style scoped>\n",
       "    .dataframe tbody tr th:only-of-type {\n",
       "        vertical-align: middle;\n",
       "    }\n",
       "\n",
       "    .dataframe tbody tr th {\n",
       "        vertical-align: top;\n",
       "    }\n",
       "\n",
       "    .dataframe thead th {\n",
       "        text-align: right;\n",
       "    }\n",
       "</style>\n",
       "<table border=\"1\" class=\"dataframe\">\n",
       "  <thead>\n",
       "    <tr style=\"text-align: right;\">\n",
       "      <th></th>\n",
       "      <th>code</th>\n",
       "      <th>year</th>\n",
       "      <th>period</th>\n",
       "      <th>id</th>\n",
       "      <th>Country</th>\n",
       "      <th>population</th>\n",
       "      <th>tourists</th>\n",
       "      <th>venue</th>\n",
       "      <th>rate</th>\n",
       "      <th>food</th>\n",
       "      <th>glass</th>\n",
       "      <th>metal</th>\n",
       "      <th>other</th>\n",
       "      <th>paper</th>\n",
       "      <th>plastic</th>\n",
       "      <th>leather</th>\n",
       "      <th>green_waste</th>\n",
       "      <th>waste_recycling</th>\n",
       "    </tr>\n",
       "    <tr>\n",
       "      <th>index</th>\n",
       "      <th></th>\n",
       "      <th></th>\n",
       "      <th></th>\n",
       "      <th></th>\n",
       "      <th></th>\n",
       "      <th></th>\n",
       "      <th></th>\n",
       "      <th></th>\n",
       "      <th></th>\n",
       "      <th></th>\n",
       "      <th></th>\n",
       "      <th></th>\n",
       "      <th></th>\n",
       "      <th></th>\n",
       "      <th></th>\n",
       "      <th></th>\n",
       "      <th></th>\n",
       "      <th></th>\n",
       "    </tr>\n",
       "  </thead>\n",
       "  <tbody>\n",
       "    <tr>\n",
       "      <th>19</th>\n",
       "      <td>EEA_3161-01-1</td>\n",
       "      <td>2009</td>\n",
       "      <td>2009-01--2009-12</td>\n",
       "      <td>FRDR179</td>\n",
       "      <td>France</td>\n",
       "      <td>122.299437</td>\n",
       "      <td>71176346.0</td>\n",
       "      <td>3.0</td>\n",
       "      <td>0.0</td>\n",
       "      <td>32.0</td>\n",
       "      <td>10.0</td>\n",
       "      <td>3.0</td>\n",
       "      <td>26.0</td>\n",
       "      <td>20.0</td>\n",
       "      <td>9.0</td>\n",
       "      <td>0.0</td>\n",
       "      <td>0.0</td>\n",
       "      <td>22.26</td>\n",
       "    </tr>\n",
       "    <tr>\n",
       "      <th>20</th>\n",
       "      <td>EEA_3161-05-5</td>\n",
       "      <td>2009</td>\n",
       "      <td>2009-01--2009-12</td>\n",
       "      <td>FRDR179</td>\n",
       "      <td>France</td>\n",
       "      <td>122.299437</td>\n",
       "      <td>71176346.0</td>\n",
       "      <td>3.0</td>\n",
       "      <td>0.0</td>\n",
       "      <td>32.0</td>\n",
       "      <td>10.0</td>\n",
       "      <td>3.0</td>\n",
       "      <td>26.0</td>\n",
       "      <td>20.0</td>\n",
       "      <td>9.0</td>\n",
       "      <td>0.0</td>\n",
       "      <td>0.0</td>\n",
       "      <td>22.26</td>\n",
       "    </tr>\n",
       "    <tr>\n",
       "      <th>27</th>\n",
       "      <td>EEA_3161-01-1</td>\n",
       "      <td>2009</td>\n",
       "      <td>2009-01--2009-12</td>\n",
       "      <td>FRDR174</td>\n",
       "      <td>France</td>\n",
       "      <td>122.299437</td>\n",
       "      <td>71176346.0</td>\n",
       "      <td>3.0</td>\n",
       "      <td>0.0</td>\n",
       "      <td>32.0</td>\n",
       "      <td>10.0</td>\n",
       "      <td>3.0</td>\n",
       "      <td>26.0</td>\n",
       "      <td>20.0</td>\n",
       "      <td>9.0</td>\n",
       "      <td>0.0</td>\n",
       "      <td>0.0</td>\n",
       "      <td>22.26</td>\n",
       "    </tr>\n",
       "  </tbody>\n",
       "</table>\n",
       "</div>"
      ],
      "text/plain": [
       "                code  year            period       id Country  population  \\\n",
       "index                                                                       \n",
       "19     EEA_3161-01-1  2009  2009-01--2009-12  FRDR179  France  122.299437   \n",
       "20     EEA_3161-05-5  2009  2009-01--2009-12  FRDR179  France  122.299437   \n",
       "27     EEA_3161-01-1  2009  2009-01--2009-12  FRDR174  France  122.299437   \n",
       "\n",
       "         tourists  venue  rate  food  glass  metal  other  paper  plastic  \\\n",
       "index                                                                       \n",
       "19     71176346.0    3.0   0.0  32.0   10.0    3.0   26.0   20.0      9.0   \n",
       "20     71176346.0    3.0   0.0  32.0   10.0    3.0   26.0   20.0      9.0   \n",
       "27     71176346.0    3.0   0.0  32.0   10.0    3.0   26.0   20.0      9.0   \n",
       "\n",
       "       leather  green_waste  waste_recycling  \n",
       "index                                         \n",
       "19         0.0          0.0            22.26  \n",
       "20         0.0          0.0            22.26  \n",
       "27         0.0          0.0            22.26  "
      ]
     },
     "execution_count": 3,
     "metadata": {},
     "output_type": "execute_result"
    }
   ],
   "source": [
    "df_train = pd.read_csv('./Data/Kaggle1/train.csv', delimiter = ',', index_col = 'index')\n",
    "df_train.head(3)"
   ]
  },
  {
   "cell_type": "code",
   "execution_count": 4,
   "metadata": {
    "scrolled": true
   },
   "outputs": [
    {
     "data": {
      "text/plain": [
       "(1979, 18)"
      ]
     },
     "execution_count": 4,
     "metadata": {},
     "output_type": "execute_result"
    }
   ],
   "source": [
    "df_train.shape"
   ]
  },
  {
   "cell_type": "markdown",
   "metadata": {},
   "source": [
    "**Целевые значения для тренировочной выборки**"
   ]
  },
  {
   "cell_type": "code",
   "execution_count": 5,
   "metadata": {
    "scrolled": true
   },
   "outputs": [
    {
     "data": {
      "text/html": [
       "<div>\n",
       "<style scoped>\n",
       "    .dataframe tbody tr th:only-of-type {\n",
       "        vertical-align: middle;\n",
       "    }\n",
       "\n",
       "    .dataframe tbody tr th {\n",
       "        vertical-align: top;\n",
       "    }\n",
       "\n",
       "    .dataframe thead th {\n",
       "        text-align: right;\n",
       "    }\n",
       "</style>\n",
       "<table border=\"1\" class=\"dataframe\">\n",
       "  <thead>\n",
       "    <tr style=\"text-align: right;\">\n",
       "      <th></th>\n",
       "      <th>polution</th>\n",
       "    </tr>\n",
       "    <tr>\n",
       "      <th>index</th>\n",
       "      <th></th>\n",
       "    </tr>\n",
       "  </thead>\n",
       "  <tbody>\n",
       "    <tr>\n",
       "      <th>19</th>\n",
       "      <td>0.693147</td>\n",
       "    </tr>\n",
       "    <tr>\n",
       "      <th>20</th>\n",
       "      <td>0.218495</td>\n",
       "    </tr>\n",
       "    <tr>\n",
       "      <th>27</th>\n",
       "      <td>0.693147</td>\n",
       "    </tr>\n",
       "  </tbody>\n",
       "</table>\n",
       "</div>"
      ],
      "text/plain": [
       "       polution\n",
       "index          \n",
       "19     0.693147\n",
       "20     0.218495\n",
       "27     0.693147"
      ]
     },
     "execution_count": 5,
     "metadata": {},
     "output_type": "execute_result"
    }
   ],
   "source": [
    "target = pd.read_csv('./Data/Kaggle1/target.csv', delimiter = ',', index_col = 'index')\n",
    "target.head(3)"
   ]
  },
  {
   "cell_type": "markdown",
   "metadata": {},
   "source": [
    "**Объединим тренировочную выборку и ее целевые значения**"
   ]
  },
  {
   "cell_type": "code",
   "execution_count": 6,
   "metadata": {
    "scrolled": true
   },
   "outputs": [
    {
     "data": {
      "text/html": [
       "<div>\n",
       "<style scoped>\n",
       "    .dataframe tbody tr th:only-of-type {\n",
       "        vertical-align: middle;\n",
       "    }\n",
       "\n",
       "    .dataframe tbody tr th {\n",
       "        vertical-align: top;\n",
       "    }\n",
       "\n",
       "    .dataframe thead th {\n",
       "        text-align: right;\n",
       "    }\n",
       "</style>\n",
       "<table border=\"1\" class=\"dataframe\">\n",
       "  <thead>\n",
       "    <tr style=\"text-align: right;\">\n",
       "      <th></th>\n",
       "      <th>code</th>\n",
       "      <th>year</th>\n",
       "      <th>period</th>\n",
       "      <th>id</th>\n",
       "      <th>Country</th>\n",
       "      <th>population</th>\n",
       "      <th>tourists</th>\n",
       "      <th>venue</th>\n",
       "      <th>rate</th>\n",
       "      <th>food</th>\n",
       "      <th>glass</th>\n",
       "      <th>metal</th>\n",
       "      <th>other</th>\n",
       "      <th>paper</th>\n",
       "      <th>plastic</th>\n",
       "      <th>leather</th>\n",
       "      <th>green_waste</th>\n",
       "      <th>waste_recycling</th>\n",
       "      <th>polution</th>\n",
       "    </tr>\n",
       "    <tr>\n",
       "      <th>index</th>\n",
       "      <th></th>\n",
       "      <th></th>\n",
       "      <th></th>\n",
       "      <th></th>\n",
       "      <th></th>\n",
       "      <th></th>\n",
       "      <th></th>\n",
       "      <th></th>\n",
       "      <th></th>\n",
       "      <th></th>\n",
       "      <th></th>\n",
       "      <th></th>\n",
       "      <th></th>\n",
       "      <th></th>\n",
       "      <th></th>\n",
       "      <th></th>\n",
       "      <th></th>\n",
       "      <th></th>\n",
       "      <th></th>\n",
       "    </tr>\n",
       "  </thead>\n",
       "  <tbody>\n",
       "    <tr>\n",
       "      <th>19</th>\n",
       "      <td>EEA_3161-01-1</td>\n",
       "      <td>2009</td>\n",
       "      <td>2009-01--2009-12</td>\n",
       "      <td>FRDR179</td>\n",
       "      <td>France</td>\n",
       "      <td>122.299437</td>\n",
       "      <td>71176346.0</td>\n",
       "      <td>3.0</td>\n",
       "      <td>0.0</td>\n",
       "      <td>32.0</td>\n",
       "      <td>10.0</td>\n",
       "      <td>3.0</td>\n",
       "      <td>26.0</td>\n",
       "      <td>20.0</td>\n",
       "      <td>9.0</td>\n",
       "      <td>0.0</td>\n",
       "      <td>0.0</td>\n",
       "      <td>22.26</td>\n",
       "      <td>0.693147</td>\n",
       "    </tr>\n",
       "    <tr>\n",
       "      <th>20</th>\n",
       "      <td>EEA_3161-05-5</td>\n",
       "      <td>2009</td>\n",
       "      <td>2009-01--2009-12</td>\n",
       "      <td>FRDR179</td>\n",
       "      <td>France</td>\n",
       "      <td>122.299437</td>\n",
       "      <td>71176346.0</td>\n",
       "      <td>3.0</td>\n",
       "      <td>0.0</td>\n",
       "      <td>32.0</td>\n",
       "      <td>10.0</td>\n",
       "      <td>3.0</td>\n",
       "      <td>26.0</td>\n",
       "      <td>20.0</td>\n",
       "      <td>9.0</td>\n",
       "      <td>0.0</td>\n",
       "      <td>0.0</td>\n",
       "      <td>22.26</td>\n",
       "      <td>0.218495</td>\n",
       "    </tr>\n",
       "    <tr>\n",
       "      <th>27</th>\n",
       "      <td>EEA_3161-01-1</td>\n",
       "      <td>2009</td>\n",
       "      <td>2009-01--2009-12</td>\n",
       "      <td>FRDR174</td>\n",
       "      <td>France</td>\n",
       "      <td>122.299437</td>\n",
       "      <td>71176346.0</td>\n",
       "      <td>3.0</td>\n",
       "      <td>0.0</td>\n",
       "      <td>32.0</td>\n",
       "      <td>10.0</td>\n",
       "      <td>3.0</td>\n",
       "      <td>26.0</td>\n",
       "      <td>20.0</td>\n",
       "      <td>9.0</td>\n",
       "      <td>0.0</td>\n",
       "      <td>0.0</td>\n",
       "      <td>22.26</td>\n",
       "      <td>0.693147</td>\n",
       "    </tr>\n",
       "  </tbody>\n",
       "</table>\n",
       "</div>"
      ],
      "text/plain": [
       "                code  year            period       id Country  population  \\\n",
       "index                                                                       \n",
       "19     EEA_3161-01-1  2009  2009-01--2009-12  FRDR179  France  122.299437   \n",
       "20     EEA_3161-05-5  2009  2009-01--2009-12  FRDR179  France  122.299437   \n",
       "27     EEA_3161-01-1  2009  2009-01--2009-12  FRDR174  France  122.299437   \n",
       "\n",
       "         tourists  venue  rate  food  glass  metal  other  paper  plastic  \\\n",
       "index                                                                       \n",
       "19     71176346.0    3.0   0.0  32.0   10.0    3.0   26.0   20.0      9.0   \n",
       "20     71176346.0    3.0   0.0  32.0   10.0    3.0   26.0   20.0      9.0   \n",
       "27     71176346.0    3.0   0.0  32.0   10.0    3.0   26.0   20.0      9.0   \n",
       "\n",
       "       leather  green_waste  waste_recycling  polution  \n",
       "index                                                   \n",
       "19         0.0          0.0            22.26  0.693147  \n",
       "20         0.0          0.0            22.26  0.218495  \n",
       "27         0.0          0.0            22.26  0.693147  "
      ]
     },
     "execution_count": 6,
     "metadata": {},
     "output_type": "execute_result"
    }
   ],
   "source": [
    "df_train = df_train.join(target, on='index')\n",
    "df_train.head(3)"
   ]
  },
  {
   "cell_type": "code",
   "execution_count": 7,
   "metadata": {},
   "outputs": [
    {
     "data": {
      "text/plain": [
       "(1979, 19)"
      ]
     },
     "execution_count": 7,
     "metadata": {},
     "output_type": "execute_result"
    }
   ],
   "source": [
    "df_train.shape"
   ]
  },
  {
   "cell_type": "markdown",
   "metadata": {},
   "source": [
    "**Тестовая выборка**"
   ]
  },
  {
   "cell_type": "code",
   "execution_count": 8,
   "metadata": {
    "colab": {
     "base_uri": "https://localhost:8080/",
     "height": 423
    },
    "id": "aSOyj3trvrTO",
    "outputId": "cbbad301-f09b-4a0b-9908-4590ae36570d",
    "scrolled": false
   },
   "outputs": [
    {
     "data": {
      "text/html": [
       "<div>\n",
       "<style scoped>\n",
       "    .dataframe tbody tr th:only-of-type {\n",
       "        vertical-align: middle;\n",
       "    }\n",
       "\n",
       "    .dataframe tbody tr th {\n",
       "        vertical-align: top;\n",
       "    }\n",
       "\n",
       "    .dataframe thead th {\n",
       "        text-align: right;\n",
       "    }\n",
       "</style>\n",
       "<table border=\"1\" class=\"dataframe\">\n",
       "  <thead>\n",
       "    <tr style=\"text-align: right;\">\n",
       "      <th></th>\n",
       "      <th>code</th>\n",
       "      <th>year</th>\n",
       "      <th>period</th>\n",
       "      <th>id</th>\n",
       "      <th>Country</th>\n",
       "      <th>population</th>\n",
       "      <th>tourists</th>\n",
       "      <th>venue</th>\n",
       "      <th>rate</th>\n",
       "      <th>food</th>\n",
       "      <th>glass</th>\n",
       "      <th>metal</th>\n",
       "      <th>other</th>\n",
       "      <th>paper</th>\n",
       "      <th>plastic</th>\n",
       "      <th>leather</th>\n",
       "      <th>green_waste</th>\n",
       "      <th>waste_recycling</th>\n",
       "    </tr>\n",
       "    <tr>\n",
       "      <th>index</th>\n",
       "      <th></th>\n",
       "      <th></th>\n",
       "      <th></th>\n",
       "      <th></th>\n",
       "      <th></th>\n",
       "      <th></th>\n",
       "      <th></th>\n",
       "      <th></th>\n",
       "      <th></th>\n",
       "      <th></th>\n",
       "      <th></th>\n",
       "      <th></th>\n",
       "      <th></th>\n",
       "      <th></th>\n",
       "      <th></th>\n",
       "      <th></th>\n",
       "      <th></th>\n",
       "      <th></th>\n",
       "    </tr>\n",
       "  </thead>\n",
       "  <tbody>\n",
       "    <tr>\n",
       "      <th>202</th>\n",
       "      <td>EEA_3161-05-5</td>\n",
       "      <td>2009</td>\n",
       "      <td>2009-01--2009-12</td>\n",
       "      <td>FRGR0362</td>\n",
       "      <td>France</td>\n",
       "      <td>122.299437</td>\n",
       "      <td>71176346.0</td>\n",
       "      <td>0.0</td>\n",
       "      <td>0.0</td>\n",
       "      <td>32.0</td>\n",
       "      <td>10.0</td>\n",
       "      <td>3.0</td>\n",
       "      <td>26.0</td>\n",
       "      <td>20.0</td>\n",
       "      <td>9.0</td>\n",
       "      <td>0.0</td>\n",
       "      <td>0.0</td>\n",
       "      <td>22.26</td>\n",
       "    </tr>\n",
       "    <tr>\n",
       "      <th>395</th>\n",
       "      <td>EEA_3161-03-3</td>\n",
       "      <td>2009</td>\n",
       "      <td>2009-01--2009-12</td>\n",
       "      <td>FRHR314</td>\n",
       "      <td>France</td>\n",
       "      <td>122.299437</td>\n",
       "      <td>71176346.0</td>\n",
       "      <td>0.0</td>\n",
       "      <td>0.0</td>\n",
       "      <td>32.0</td>\n",
       "      <td>10.0</td>\n",
       "      <td>3.0</td>\n",
       "      <td>26.0</td>\n",
       "      <td>20.0</td>\n",
       "      <td>9.0</td>\n",
       "      <td>0.0</td>\n",
       "      <td>0.0</td>\n",
       "      <td>22.26</td>\n",
       "    </tr>\n",
       "    <tr>\n",
       "      <th>725</th>\n",
       "      <td>EEA_3161-02-2</td>\n",
       "      <td>2008</td>\n",
       "      <td>2008-01--2008-12</td>\n",
       "      <td>FRHR77</td>\n",
       "      <td>France</td>\n",
       "      <td>122.299437</td>\n",
       "      <td>71176346.0</td>\n",
       "      <td>0.0</td>\n",
       "      <td>0.0</td>\n",
       "      <td>32.0</td>\n",
       "      <td>10.0</td>\n",
       "      <td>3.0</td>\n",
       "      <td>26.0</td>\n",
       "      <td>20.0</td>\n",
       "      <td>9.0</td>\n",
       "      <td>0.0</td>\n",
       "      <td>0.0</td>\n",
       "      <td>22.26</td>\n",
       "    </tr>\n",
       "  </tbody>\n",
       "</table>\n",
       "</div>"
      ],
      "text/plain": [
       "                code  year            period        id Country  population  \\\n",
       "index                                                                        \n",
       "202    EEA_3161-05-5  2009  2009-01--2009-12  FRGR0362  France  122.299437   \n",
       "395    EEA_3161-03-3  2009  2009-01--2009-12   FRHR314  France  122.299437   \n",
       "725    EEA_3161-02-2  2008  2008-01--2008-12    FRHR77  France  122.299437   \n",
       "\n",
       "         tourists  venue  rate  food  glass  metal  other  paper  plastic  \\\n",
       "index                                                                       \n",
       "202    71176346.0    0.0   0.0  32.0   10.0    3.0   26.0   20.0      9.0   \n",
       "395    71176346.0    0.0   0.0  32.0   10.0    3.0   26.0   20.0      9.0   \n",
       "725    71176346.0    0.0   0.0  32.0   10.0    3.0   26.0   20.0      9.0   \n",
       "\n",
       "       leather  green_waste  waste_recycling  \n",
       "index                                         \n",
       "202        0.0          0.0            22.26  \n",
       "395        0.0          0.0            22.26  \n",
       "725        0.0          0.0            22.26  "
      ]
     },
     "execution_count": 8,
     "metadata": {},
     "output_type": "execute_result"
    }
   ],
   "source": [
    "df_test = pd.read_csv('./Data/Kaggle1/test.csv', delimiter = ',', index_col = 'index')\n",
    "df_test.head(3)"
   ]
  },
  {
   "cell_type": "code",
   "execution_count": 9,
   "metadata": {},
   "outputs": [
    {
     "data": {
      "text/plain": [
       "(220, 18)"
      ]
     },
     "execution_count": 9,
     "metadata": {},
     "output_type": "execute_result"
    }
   ],
   "source": [
    "df_test.shape"
   ]
  },
  {
   "cell_type": "markdown",
   "metadata": {},
   "source": [
    "### Первичный анализ данных"
   ]
  },
  {
   "cell_type": "markdown",
   "metadata": {},
   "source": [
    "Типы данных в датасете"
   ]
  },
  {
   "cell_type": "code",
   "execution_count": 10,
   "metadata": {},
   "outputs": [
    {
     "name": "stdout",
     "output_type": "stream",
     "text": [
      "<class 'pandas.core.frame.DataFrame'>\n",
      "Int64Index: 1979 entries, 19 to 19915\n",
      "Data columns (total 19 columns):\n",
      " #   Column           Non-Null Count  Dtype  \n",
      "---  ------           --------------  -----  \n",
      " 0   code             1979 non-null   object \n",
      " 1   year             1979 non-null   int64  \n",
      " 2   period           1979 non-null   object \n",
      " 3   id               1979 non-null   object \n",
      " 4   Country          1979 non-null   object \n",
      " 5   population       1979 non-null   float64\n",
      " 6   tourists         1979 non-null   float64\n",
      " 7   venue            1979 non-null   float64\n",
      " 8   rate             1979 non-null   float64\n",
      " 9   food             1979 non-null   float64\n",
      " 10  glass            1979 non-null   float64\n",
      " 11  metal            1979 non-null   float64\n",
      " 12  other            1979 non-null   float64\n",
      " 13  paper            1979 non-null   float64\n",
      " 14  plastic          1979 non-null   float64\n",
      " 15  leather          1979 non-null   float64\n",
      " 16  green_waste      1979 non-null   float64\n",
      " 17  waste_recycling  1979 non-null   float64\n",
      " 18  polution         1979 non-null   float64\n",
      "dtypes: float64(14), int64(1), object(4)\n",
      "memory usage: 309.2+ KB\n"
     ]
    }
   ],
   "source": [
    "df_train.info()"
   ]
  },
  {
   "cell_type": "markdown",
   "metadata": {},
   "source": [
    "Разделим категориальные и числовые признаки датасета"
   ]
  },
  {
   "cell_type": "code",
   "execution_count": 11,
   "metadata": {},
   "outputs": [
    {
     "data": {
      "text/plain": [
       "Index(['code', 'year', 'period', 'id', 'Country', 'population', 'tourists',\n",
       "       'venue', 'rate', 'food', 'glass', 'metal', 'other', 'paper', 'plastic',\n",
       "       'leather', 'green_waste', 'waste_recycling', 'polution'],\n",
       "      dtype='object')"
      ]
     },
     "execution_count": 11,
     "metadata": {},
     "output_type": "execute_result"
    }
   ],
   "source": [
    "c_names = df_train.columns\n",
    "c_names"
   ]
  },
  {
   "cell_type": "code",
   "execution_count": 12,
   "metadata": {},
   "outputs": [],
   "source": [
    "num_col = ['year', 'population', 'tourists',\n",
    "       'venue', 'rate', 'food', 'glass', 'metal', 'other', 'paper', 'plastic',\n",
    "       'leather', 'green_waste', 'waste_recycling', 'polution']"
   ]
  },
  {
   "cell_type": "code",
   "execution_count": 13,
   "metadata": {},
   "outputs": [],
   "source": [
    "cat_col = ['code', 'period','id', 'Country']"
   ]
  },
  {
   "cell_type": "markdown",
   "metadata": {},
   "source": [
    "Рассмотрим корреляцию числовых признаков"
   ]
  },
  {
   "cell_type": "code",
   "execution_count": 14,
   "metadata": {
    "scrolled": false
   },
   "outputs": [
    {
     "data": {
      "text/html": [
       "<div>\n",
       "<style scoped>\n",
       "    .dataframe tbody tr th:only-of-type {\n",
       "        vertical-align: middle;\n",
       "    }\n",
       "\n",
       "    .dataframe tbody tr th {\n",
       "        vertical-align: top;\n",
       "    }\n",
       "\n",
       "    .dataframe thead th {\n",
       "        text-align: right;\n",
       "    }\n",
       "</style>\n",
       "<table border=\"1\" class=\"dataframe\">\n",
       "  <thead>\n",
       "    <tr style=\"text-align: right;\">\n",
       "      <th></th>\n",
       "      <th>year</th>\n",
       "      <th>population</th>\n",
       "      <th>tourists</th>\n",
       "      <th>venue</th>\n",
       "      <th>rate</th>\n",
       "      <th>food</th>\n",
       "      <th>glass</th>\n",
       "      <th>metal</th>\n",
       "      <th>other</th>\n",
       "      <th>paper</th>\n",
       "      <th>plastic</th>\n",
       "      <th>leather</th>\n",
       "      <th>green_waste</th>\n",
       "      <th>waste_recycling</th>\n",
       "      <th>polution</th>\n",
       "    </tr>\n",
       "  </thead>\n",
       "  <tbody>\n",
       "    <tr>\n",
       "      <th>year</th>\n",
       "      <td>1.000000</td>\n",
       "      <td>-0.412800</td>\n",
       "      <td>0.132751</td>\n",
       "      <td>-0.062286</td>\n",
       "      <td>0.247240</td>\n",
       "      <td>0.443651</td>\n",
       "      <td>0.327415</td>\n",
       "      <td>-0.171037</td>\n",
       "      <td>-0.240266</td>\n",
       "      <td>-0.021725</td>\n",
       "      <td>-0.429707</td>\n",
       "      <td>0.014008</td>\n",
       "      <td>-0.259481</td>\n",
       "      <td>-0.305375</td>\n",
       "      <td>-0.074210</td>\n",
       "    </tr>\n",
       "    <tr>\n",
       "      <th>population</th>\n",
       "      <td>-0.412800</td>\n",
       "      <td>1.000000</td>\n",
       "      <td>-0.435517</td>\n",
       "      <td>0.023243</td>\n",
       "      <td>-0.239989</td>\n",
       "      <td>-0.793378</td>\n",
       "      <td>-0.816516</td>\n",
       "      <td>0.060665</td>\n",
       "      <td>0.607628</td>\n",
       "      <td>-0.181184</td>\n",
       "      <td>0.889965</td>\n",
       "      <td>-0.088081</td>\n",
       "      <td>0.544438</td>\n",
       "      <td>0.636350</td>\n",
       "      <td>0.100029</td>\n",
       "    </tr>\n",
       "    <tr>\n",
       "      <th>tourists</th>\n",
       "      <td>0.132751</td>\n",
       "      <td>-0.435517</td>\n",
       "      <td>1.000000</td>\n",
       "      <td>-0.004159</td>\n",
       "      <td>-0.190285</td>\n",
       "      <td>0.268236</td>\n",
       "      <td>0.586081</td>\n",
       "      <td>-0.026153</td>\n",
       "      <td>0.196714</td>\n",
       "      <td>-0.116693</td>\n",
       "      <td>-0.463076</td>\n",
       "      <td>-0.283858</td>\n",
       "      <td>-0.634935</td>\n",
       "      <td>-0.516938</td>\n",
       "      <td>0.126834</td>\n",
       "    </tr>\n",
       "    <tr>\n",
       "      <th>venue</th>\n",
       "      <td>-0.062286</td>\n",
       "      <td>0.023243</td>\n",
       "      <td>-0.004159</td>\n",
       "      <td>1.000000</td>\n",
       "      <td>0.035017</td>\n",
       "      <td>0.001905</td>\n",
       "      <td>-0.040552</td>\n",
       "      <td>0.020352</td>\n",
       "      <td>-0.010616</td>\n",
       "      <td>-0.034054</td>\n",
       "      <td>0.042723</td>\n",
       "      <td>-0.018675</td>\n",
       "      <td>0.000002</td>\n",
       "      <td>-0.021712</td>\n",
       "      <td>-0.022175</td>\n",
       "    </tr>\n",
       "    <tr>\n",
       "      <th>rate</th>\n",
       "      <td>0.247240</td>\n",
       "      <td>-0.239989</td>\n",
       "      <td>-0.190285</td>\n",
       "      <td>0.035017</td>\n",
       "      <td>1.000000</td>\n",
       "      <td>0.739952</td>\n",
       "      <td>-0.089921</td>\n",
       "      <td>-0.022808</td>\n",
       "      <td>-0.700808</td>\n",
       "      <td>-0.467224</td>\n",
       "      <td>-0.096421</td>\n",
       "      <td>0.031483</td>\n",
       "      <td>-0.091336</td>\n",
       "      <td>-0.582026</td>\n",
       "      <td>-0.136771</td>\n",
       "    </tr>\n",
       "    <tr>\n",
       "      <th>food</th>\n",
       "      <td>0.443651</td>\n",
       "      <td>-0.793378</td>\n",
       "      <td>0.268236</td>\n",
       "      <td>0.001905</td>\n",
       "      <td>0.739952</td>\n",
       "      <td>1.000000</td>\n",
       "      <td>0.567159</td>\n",
       "      <td>-0.204677</td>\n",
       "      <td>-0.725303</td>\n",
       "      <td>-0.270066</td>\n",
       "      <td>-0.681400</td>\n",
       "      <td>0.140002</td>\n",
       "      <td>-0.536421</td>\n",
       "      <td>-0.800054</td>\n",
       "      <td>-0.112971</td>\n",
       "    </tr>\n",
       "    <tr>\n",
       "      <th>glass</th>\n",
       "      <td>0.327415</td>\n",
       "      <td>-0.816516</td>\n",
       "      <td>0.586081</td>\n",
       "      <td>-0.040552</td>\n",
       "      <td>-0.089921</td>\n",
       "      <td>0.567159</td>\n",
       "      <td>1.000000</td>\n",
       "      <td>-0.176876</td>\n",
       "      <td>-0.249098</td>\n",
       "      <td>0.013877</td>\n",
       "      <td>-0.837658</td>\n",
       "      <td>0.363399</td>\n",
       "      <td>-0.573615</td>\n",
       "      <td>-0.440904</td>\n",
       "      <td>0.011002</td>\n",
       "    </tr>\n",
       "    <tr>\n",
       "      <th>metal</th>\n",
       "      <td>-0.171037</td>\n",
       "      <td>0.060665</td>\n",
       "      <td>-0.026153</td>\n",
       "      <td>0.020352</td>\n",
       "      <td>-0.022808</td>\n",
       "      <td>-0.204677</td>\n",
       "      <td>-0.176876</td>\n",
       "      <td>1.000000</td>\n",
       "      <td>-0.181735</td>\n",
       "      <td>0.028275</td>\n",
       "      <td>0.276505</td>\n",
       "      <td>-0.144869</td>\n",
       "      <td>0.566480</td>\n",
       "      <td>0.051447</td>\n",
       "      <td>-0.018716</td>\n",
       "    </tr>\n",
       "    <tr>\n",
       "      <th>other</th>\n",
       "      <td>-0.240266</td>\n",
       "      <td>0.607628</td>\n",
       "      <td>0.196714</td>\n",
       "      <td>-0.010616</td>\n",
       "      <td>-0.700808</td>\n",
       "      <td>-0.725303</td>\n",
       "      <td>-0.249098</td>\n",
       "      <td>-0.181735</td>\n",
       "      <td>1.000000</td>\n",
       "      <td>-0.049474</td>\n",
       "      <td>0.394043</td>\n",
       "      <td>-0.261704</td>\n",
       "      <td>0.052210</td>\n",
       "      <td>0.448695</td>\n",
       "      <td>0.196187</td>\n",
       "    </tr>\n",
       "    <tr>\n",
       "      <th>paper</th>\n",
       "      <td>-0.021725</td>\n",
       "      <td>-0.181184</td>\n",
       "      <td>-0.116693</td>\n",
       "      <td>-0.034054</td>\n",
       "      <td>-0.467224</td>\n",
       "      <td>-0.270066</td>\n",
       "      <td>0.013877</td>\n",
       "      <td>0.028275</td>\n",
       "      <td>-0.049474</td>\n",
       "      <td>1.000000</td>\n",
       "      <td>-0.310956</td>\n",
       "      <td>-0.264008</td>\n",
       "      <td>0.158854</td>\n",
       "      <td>0.461342</td>\n",
       "      <td>-0.086761</td>\n",
       "    </tr>\n",
       "    <tr>\n",
       "      <th>plastic</th>\n",
       "      <td>-0.429707</td>\n",
       "      <td>0.889965</td>\n",
       "      <td>-0.463076</td>\n",
       "      <td>0.042723</td>\n",
       "      <td>-0.096421</td>\n",
       "      <td>-0.681400</td>\n",
       "      <td>-0.837658</td>\n",
       "      <td>0.276505</td>\n",
       "      <td>0.394043</td>\n",
       "      <td>-0.310956</td>\n",
       "      <td>1.000000</td>\n",
       "      <td>-0.026462</td>\n",
       "      <td>0.504744</td>\n",
       "      <td>0.438328</td>\n",
       "      <td>0.077920</td>\n",
       "    </tr>\n",
       "    <tr>\n",
       "      <th>leather</th>\n",
       "      <td>0.014008</td>\n",
       "      <td>-0.088081</td>\n",
       "      <td>-0.283858</td>\n",
       "      <td>-0.018675</td>\n",
       "      <td>0.031483</td>\n",
       "      <td>0.140002</td>\n",
       "      <td>0.363399</td>\n",
       "      <td>-0.144869</td>\n",
       "      <td>-0.261704</td>\n",
       "      <td>-0.264008</td>\n",
       "      <td>-0.026462</td>\n",
       "      <td>1.000000</td>\n",
       "      <td>-0.022012</td>\n",
       "      <td>0.162440</td>\n",
       "      <td>0.011096</td>\n",
       "    </tr>\n",
       "    <tr>\n",
       "      <th>green_waste</th>\n",
       "      <td>-0.259481</td>\n",
       "      <td>0.544438</td>\n",
       "      <td>-0.634935</td>\n",
       "      <td>0.000002</td>\n",
       "      <td>-0.091336</td>\n",
       "      <td>-0.536421</td>\n",
       "      <td>-0.573615</td>\n",
       "      <td>0.566480</td>\n",
       "      <td>0.052210</td>\n",
       "      <td>0.158854</td>\n",
       "      <td>0.504744</td>\n",
       "      <td>-0.022012</td>\n",
       "      <td>1.000000</td>\n",
       "      <td>0.553255</td>\n",
       "      <td>-0.051126</td>\n",
       "    </tr>\n",
       "    <tr>\n",
       "      <th>waste_recycling</th>\n",
       "      <td>-0.305375</td>\n",
       "      <td>0.636350</td>\n",
       "      <td>-0.516938</td>\n",
       "      <td>-0.021712</td>\n",
       "      <td>-0.582026</td>\n",
       "      <td>-0.800054</td>\n",
       "      <td>-0.440904</td>\n",
       "      <td>0.051447</td>\n",
       "      <td>0.448695</td>\n",
       "      <td>0.461342</td>\n",
       "      <td>0.438328</td>\n",
       "      <td>0.162440</td>\n",
       "      <td>0.553255</td>\n",
       "      <td>1.000000</td>\n",
       "      <td>0.044903</td>\n",
       "    </tr>\n",
       "    <tr>\n",
       "      <th>polution</th>\n",
       "      <td>-0.074210</td>\n",
       "      <td>0.100029</td>\n",
       "      <td>0.126834</td>\n",
       "      <td>-0.022175</td>\n",
       "      <td>-0.136771</td>\n",
       "      <td>-0.112971</td>\n",
       "      <td>0.011002</td>\n",
       "      <td>-0.018716</td>\n",
       "      <td>0.196187</td>\n",
       "      <td>-0.086761</td>\n",
       "      <td>0.077920</td>\n",
       "      <td>0.011096</td>\n",
       "      <td>-0.051126</td>\n",
       "      <td>0.044903</td>\n",
       "      <td>1.000000</td>\n",
       "    </tr>\n",
       "  </tbody>\n",
       "</table>\n",
       "</div>"
      ],
      "text/plain": [
       "                     year  population  tourists     venue      rate      food  \\\n",
       "year             1.000000   -0.412800  0.132751 -0.062286  0.247240  0.443651   \n",
       "population      -0.412800    1.000000 -0.435517  0.023243 -0.239989 -0.793378   \n",
       "tourists         0.132751   -0.435517  1.000000 -0.004159 -0.190285  0.268236   \n",
       "venue           -0.062286    0.023243 -0.004159  1.000000  0.035017  0.001905   \n",
       "rate             0.247240   -0.239989 -0.190285  0.035017  1.000000  0.739952   \n",
       "food             0.443651   -0.793378  0.268236  0.001905  0.739952  1.000000   \n",
       "glass            0.327415   -0.816516  0.586081 -0.040552 -0.089921  0.567159   \n",
       "metal           -0.171037    0.060665 -0.026153  0.020352 -0.022808 -0.204677   \n",
       "other           -0.240266    0.607628  0.196714 -0.010616 -0.700808 -0.725303   \n",
       "paper           -0.021725   -0.181184 -0.116693 -0.034054 -0.467224 -0.270066   \n",
       "plastic         -0.429707    0.889965 -0.463076  0.042723 -0.096421 -0.681400   \n",
       "leather          0.014008   -0.088081 -0.283858 -0.018675  0.031483  0.140002   \n",
       "green_waste     -0.259481    0.544438 -0.634935  0.000002 -0.091336 -0.536421   \n",
       "waste_recycling -0.305375    0.636350 -0.516938 -0.021712 -0.582026 -0.800054   \n",
       "polution        -0.074210    0.100029  0.126834 -0.022175 -0.136771 -0.112971   \n",
       "\n",
       "                    glass     metal     other     paper   plastic   leather  \\\n",
       "year             0.327415 -0.171037 -0.240266 -0.021725 -0.429707  0.014008   \n",
       "population      -0.816516  0.060665  0.607628 -0.181184  0.889965 -0.088081   \n",
       "tourists         0.586081 -0.026153  0.196714 -0.116693 -0.463076 -0.283858   \n",
       "venue           -0.040552  0.020352 -0.010616 -0.034054  0.042723 -0.018675   \n",
       "rate            -0.089921 -0.022808 -0.700808 -0.467224 -0.096421  0.031483   \n",
       "food             0.567159 -0.204677 -0.725303 -0.270066 -0.681400  0.140002   \n",
       "glass            1.000000 -0.176876 -0.249098  0.013877 -0.837658  0.363399   \n",
       "metal           -0.176876  1.000000 -0.181735  0.028275  0.276505 -0.144869   \n",
       "other           -0.249098 -0.181735  1.000000 -0.049474  0.394043 -0.261704   \n",
       "paper            0.013877  0.028275 -0.049474  1.000000 -0.310956 -0.264008   \n",
       "plastic         -0.837658  0.276505  0.394043 -0.310956  1.000000 -0.026462   \n",
       "leather          0.363399 -0.144869 -0.261704 -0.264008 -0.026462  1.000000   \n",
       "green_waste     -0.573615  0.566480  0.052210  0.158854  0.504744 -0.022012   \n",
       "waste_recycling -0.440904  0.051447  0.448695  0.461342  0.438328  0.162440   \n",
       "polution         0.011002 -0.018716  0.196187 -0.086761  0.077920  0.011096   \n",
       "\n",
       "                 green_waste  waste_recycling  polution  \n",
       "year               -0.259481        -0.305375 -0.074210  \n",
       "population          0.544438         0.636350  0.100029  \n",
       "tourists           -0.634935        -0.516938  0.126834  \n",
       "venue               0.000002        -0.021712 -0.022175  \n",
       "rate               -0.091336        -0.582026 -0.136771  \n",
       "food               -0.536421        -0.800054 -0.112971  \n",
       "glass              -0.573615        -0.440904  0.011002  \n",
       "metal               0.566480         0.051447 -0.018716  \n",
       "other               0.052210         0.448695  0.196187  \n",
       "paper               0.158854         0.461342 -0.086761  \n",
       "plastic             0.504744         0.438328  0.077920  \n",
       "leather            -0.022012         0.162440  0.011096  \n",
       "green_waste         1.000000         0.553255 -0.051126  \n",
       "waste_recycling     0.553255         1.000000  0.044903  \n",
       "polution           -0.051126         0.044903  1.000000  "
      ]
     },
     "execution_count": 14,
     "metadata": {},
     "output_type": "execute_result"
    }
   ],
   "source": [
    "df_train[num_col].corr()"
   ]
  },
  {
   "cell_type": "code",
   "execution_count": 15,
   "metadata": {},
   "outputs": [],
   "source": [
    "main_num_col = ['population', 'tourists', 'rate', 'food', 'other']"
   ]
  },
  {
   "cell_type": "markdown",
   "metadata": {},
   "source": [
    "Рассмотрим количественные переменные объединенного датасета"
   ]
  },
  {
   "cell_type": "code",
   "execution_count": 16,
   "metadata": {},
   "outputs": [
    {
     "data": {
      "text/html": [
       "<div>\n",
       "<style scoped>\n",
       "    .dataframe tbody tr th:only-of-type {\n",
       "        vertical-align: middle;\n",
       "    }\n",
       "\n",
       "    .dataframe tbody tr th {\n",
       "        vertical-align: top;\n",
       "    }\n",
       "\n",
       "    .dataframe thead th {\n",
       "        text-align: right;\n",
       "    }\n",
       "</style>\n",
       "<table border=\"1\" class=\"dataframe\">\n",
       "  <thead>\n",
       "    <tr style=\"text-align: right;\">\n",
       "      <th></th>\n",
       "      <th>year</th>\n",
       "      <th>population</th>\n",
       "      <th>tourists</th>\n",
       "      <th>venue</th>\n",
       "      <th>rate</th>\n",
       "      <th>food</th>\n",
       "      <th>glass</th>\n",
       "      <th>metal</th>\n",
       "      <th>other</th>\n",
       "      <th>paper</th>\n",
       "      <th>plastic</th>\n",
       "      <th>leather</th>\n",
       "      <th>green_waste</th>\n",
       "      <th>waste_recycling</th>\n",
       "      <th>polution</th>\n",
       "    </tr>\n",
       "  </thead>\n",
       "  <tbody>\n",
       "    <tr>\n",
       "      <th>count</th>\n",
       "      <td>1979.000000</td>\n",
       "      <td>1979.000000</td>\n",
       "      <td>1.979000e+03</td>\n",
       "      <td>1979.000000</td>\n",
       "      <td>1979.000000</td>\n",
       "      <td>1979.000000</td>\n",
       "      <td>1979.000000</td>\n",
       "      <td>1979.000000</td>\n",
       "      <td>1979.000000</td>\n",
       "      <td>1979.000000</td>\n",
       "      <td>1979.000000</td>\n",
       "      <td>1979.000000</td>\n",
       "      <td>1979.000000</td>\n",
       "      <td>1979.000000</td>\n",
       "      <td>1979.000000</td>\n",
       "    </tr>\n",
       "    <tr>\n",
       "      <th>mean</th>\n",
       "      <td>2008.631127</td>\n",
       "      <td>135.378408</td>\n",
       "      <td>6.085057e+07</td>\n",
       "      <td>0.111673</td>\n",
       "      <td>8.735282</td>\n",
       "      <td>32.048873</td>\n",
       "      <td>8.986640</td>\n",
       "      <td>3.022840</td>\n",
       "      <td>24.775169</td>\n",
       "      <td>19.699151</td>\n",
       "      <td>10.014967</td>\n",
       "      <td>0.039616</td>\n",
       "      <td>0.452016</td>\n",
       "      <td>22.640623</td>\n",
       "      <td>1.042456</td>\n",
       "    </tr>\n",
       "    <tr>\n",
       "      <th>std</th>\n",
       "      <td>0.772611</td>\n",
       "      <td>60.808405</td>\n",
       "      <td>1.996584e+07</td>\n",
       "      <td>0.624864</td>\n",
       "      <td>25.879178</td>\n",
       "      <td>7.686625</td>\n",
       "      <td>2.686441</td>\n",
       "      <td>0.534799</td>\n",
       "      <td>5.175954</td>\n",
       "      <td>3.545121</td>\n",
       "      <td>3.599867</td>\n",
       "      <td>0.379301</td>\n",
       "      <td>1.557748</td>\n",
       "      <td>3.323414</td>\n",
       "      <td>0.641893</td>\n",
       "    </tr>\n",
       "    <tr>\n",
       "      <th>min</th>\n",
       "      <td>2006.000000</td>\n",
       "      <td>18.148547</td>\n",
       "      <td>5.300380e+05</td>\n",
       "      <td>0.000000</td>\n",
       "      <td>0.000000</td>\n",
       "      <td>14.180000</td>\n",
       "      <td>2.200000</td>\n",
       "      <td>1.380000</td>\n",
       "      <td>0.000000</td>\n",
       "      <td>6.100000</td>\n",
       "      <td>1.450000</td>\n",
       "      <td>0.000000</td>\n",
       "      <td>0.000000</td>\n",
       "      <td>0.760000</td>\n",
       "      <td>0.002497</td>\n",
       "    </tr>\n",
       "    <tr>\n",
       "      <th>25%</th>\n",
       "      <td>2008.000000</td>\n",
       "      <td>122.299437</td>\n",
       "      <td>5.094169e+07</td>\n",
       "      <td>0.000000</td>\n",
       "      <td>0.000000</td>\n",
       "      <td>32.000000</td>\n",
       "      <td>10.000000</td>\n",
       "      <td>3.000000</td>\n",
       "      <td>26.000000</td>\n",
       "      <td>20.000000</td>\n",
       "      <td>9.000000</td>\n",
       "      <td>0.000000</td>\n",
       "      <td>0.000000</td>\n",
       "      <td>22.260000</td>\n",
       "      <td>0.550070</td>\n",
       "    </tr>\n",
       "    <tr>\n",
       "      <th>50%</th>\n",
       "      <td>2009.000000</td>\n",
       "      <td>122.299437</td>\n",
       "      <td>7.117635e+07</td>\n",
       "      <td>0.000000</td>\n",
       "      <td>0.000000</td>\n",
       "      <td>32.000000</td>\n",
       "      <td>10.000000</td>\n",
       "      <td>3.000000</td>\n",
       "      <td>26.000000</td>\n",
       "      <td>20.000000</td>\n",
       "      <td>9.000000</td>\n",
       "      <td>0.000000</td>\n",
       "      <td>0.000000</td>\n",
       "      <td>22.260000</td>\n",
       "      <td>0.870368</td>\n",
       "    </tr>\n",
       "    <tr>\n",
       "      <th>75%</th>\n",
       "      <td>2009.000000</td>\n",
       "      <td>122.299437</td>\n",
       "      <td>7.117635e+07</td>\n",
       "      <td>0.000000</td>\n",
       "      <td>0.000000</td>\n",
       "      <td>32.000000</td>\n",
       "      <td>10.000000</td>\n",
       "      <td>3.000000</td>\n",
       "      <td>26.000000</td>\n",
       "      <td>20.000000</td>\n",
       "      <td>9.000000</td>\n",
       "      <td>0.000000</td>\n",
       "      <td>0.000000</td>\n",
       "      <td>22.260000</td>\n",
       "      <td>1.561003</td>\n",
       "    </tr>\n",
       "    <tr>\n",
       "      <th>max</th>\n",
       "      <td>2015.000000</td>\n",
       "      <td>377.379590</td>\n",
       "      <td>7.117635e+07</td>\n",
       "      <td>7.000000</td>\n",
       "      <td>87.158924</td>\n",
       "      <td>49.000000</td>\n",
       "      <td>21.400000</td>\n",
       "      <td>9.200000</td>\n",
       "      <td>44.050000</td>\n",
       "      <td>37.830000</td>\n",
       "      <td>20.200000</td>\n",
       "      <td>4.000000</td>\n",
       "      <td>15.330000</td>\n",
       "      <td>47.830000</td>\n",
       "      <td>3.323236</td>\n",
       "    </tr>\n",
       "  </tbody>\n",
       "</table>\n",
       "</div>"
      ],
      "text/plain": [
       "              year   population      tourists        venue         rate  \\\n",
       "count  1979.000000  1979.000000  1.979000e+03  1979.000000  1979.000000   \n",
       "mean   2008.631127   135.378408  6.085057e+07     0.111673     8.735282   \n",
       "std       0.772611    60.808405  1.996584e+07     0.624864    25.879178   \n",
       "min    2006.000000    18.148547  5.300380e+05     0.000000     0.000000   \n",
       "25%    2008.000000   122.299437  5.094169e+07     0.000000     0.000000   \n",
       "50%    2009.000000   122.299437  7.117635e+07     0.000000     0.000000   \n",
       "75%    2009.000000   122.299437  7.117635e+07     0.000000     0.000000   \n",
       "max    2015.000000   377.379590  7.117635e+07     7.000000    87.158924   \n",
       "\n",
       "              food        glass        metal        other        paper  \\\n",
       "count  1979.000000  1979.000000  1979.000000  1979.000000  1979.000000   \n",
       "mean     32.048873     8.986640     3.022840    24.775169    19.699151   \n",
       "std       7.686625     2.686441     0.534799     5.175954     3.545121   \n",
       "min      14.180000     2.200000     1.380000     0.000000     6.100000   \n",
       "25%      32.000000    10.000000     3.000000    26.000000    20.000000   \n",
       "50%      32.000000    10.000000     3.000000    26.000000    20.000000   \n",
       "75%      32.000000    10.000000     3.000000    26.000000    20.000000   \n",
       "max      49.000000    21.400000     9.200000    44.050000    37.830000   \n",
       "\n",
       "           plastic      leather  green_waste  waste_recycling     polution  \n",
       "count  1979.000000  1979.000000  1979.000000      1979.000000  1979.000000  \n",
       "mean     10.014967     0.039616     0.452016        22.640623     1.042456  \n",
       "std       3.599867     0.379301     1.557748         3.323414     0.641893  \n",
       "min       1.450000     0.000000     0.000000         0.760000     0.002497  \n",
       "25%       9.000000     0.000000     0.000000        22.260000     0.550070  \n",
       "50%       9.000000     0.000000     0.000000        22.260000     0.870368  \n",
       "75%       9.000000     0.000000     0.000000        22.260000     1.561003  \n",
       "max      20.200000     4.000000    15.330000        47.830000     3.323236  "
      ]
     },
     "execution_count": 16,
     "metadata": {},
     "output_type": "execute_result"
    }
   ],
   "source": [
    "df_train.describe()"
   ]
  },
  {
   "cell_type": "markdown",
   "metadata": {},
   "source": [
    "Целевая переменная"
   ]
  },
  {
   "cell_type": "code",
   "execution_count": 17,
   "metadata": {},
   "outputs": [
    {
     "data": {
      "text/plain": [
       "Text(0.5, 1.0, 'Target')"
      ]
     },
     "execution_count": 17,
     "metadata": {},
     "output_type": "execute_result"
    },
    {
     "data": {
      "image/png": "[encoded data removed]",
      "text/plain": [
       "<Figure size 720x360 with 1 Axes>"
      ]
     },
     "metadata": {},
     "output_type": "display_data"
    }
   ],
   "source": [
    "plt.figure(figsize = (10, 5))\n",
    "target['polution'].hist(bins=30)\n",
    "plt.ylabel('count')\n",
    "plt.xlabel('polution')\n",
    "plt.title('Target')"
   ]
  },
  {
   "cell_type": "markdown",
   "metadata": {},
   "source": [
    "Проверим датасет на пропуски значений"
   ]
  },
  {
   "cell_type": "code",
   "execution_count": 18,
   "metadata": {
    "scrolled": true
   },
   "outputs": [
    {
     "data": {
      "text/plain": [
       "code               0\n",
       "year               0\n",
       "period             0\n",
       "id                 0\n",
       "Country            0\n",
       "population         0\n",
       "tourists           0\n",
       "venue              0\n",
       "rate               0\n",
       "food               0\n",
       "glass              0\n",
       "metal              0\n",
       "other              0\n",
       "paper              0\n",
       "plastic            0\n",
       "leather            0\n",
       "green_waste        0\n",
       "waste_recycling    0\n",
       "polution           0\n",
       "dtype: int64"
      ]
     },
     "execution_count": 18,
     "metadata": {},
     "output_type": "execute_result"
    }
   ],
   "source": [
    "df_train.isnull().sum()"
   ]
  },
  {
   "cell_type": "markdown",
   "metadata": {},
   "source": [
    "Проверим количество уникальных значений столбца 'id' в тренировочной и тестовом датасетах и уберем из тренировочного те, которые не встречаются в тестовом"
   ]
  },
  {
   "cell_type": "code",
   "execution_count": 19,
   "metadata": {},
   "outputs": [
    {
     "data": {
      "text/plain": [
       "553"
      ]
     },
     "execution_count": 19,
     "metadata": {},
     "output_type": "execute_result"
    }
   ],
   "source": [
    "df_train['id'].nunique()"
   ]
  },
  {
   "cell_type": "code",
   "execution_count": 20,
   "metadata": {
    "scrolled": true
   },
   "outputs": [
    {
     "data": {
      "text/plain": [
       "182"
      ]
     },
     "execution_count": 20,
     "metadata": {},
     "output_type": "execute_result"
    }
   ],
   "source": [
    "df_test['id'].nunique()"
   ]
  },
  {
   "cell_type": "code",
   "execution_count": 21,
   "metadata": {},
   "outputs": [],
   "source": [
    "df = df_train"
   ]
  },
  {
   "cell_type": "code",
   "execution_count": 22,
   "metadata": {
    "scrolled": true
   },
   "outputs": [
    {
     "data": {
      "text/plain": [
       "array(['FRGR0362', 'FRHR314', 'FRHR77', 'FRB1R723', 'ES12118', 'FRCR151',\n",
       "       'FRDR1060', 'FRDR172', 'FI81_064_001', 'FRGR0111', 'FRGR0126A',\n",
       "       'UKSC020165', 'UKSC005603', 'UKSC005950', 'UKSC005010', 'FRGR0476',\n",
       "       'UKSC020305', 'FRGR0456', 'FRGR0229', 'FRGR0062', 'FRGR0057',\n",
       "       'FRDR110', 'FRGR0054', 'UKSC005202', 'FRCR132', 'FRGR0460C',\n",
       "       'FRGR0520', 'ES030MSPF0920010', 'ES030MSPF0727010', 'FRCR78',\n",
       "       'UKSC005220', 'FRGR0271A', 'FRGR0279', 'FRHR4-F0406000',\n",
       "       'FRGR0144A', 'FRER33', 'FRGR0359A', 'FRDR196B', 'FRHR284',\n",
       "       'FRFR158', 'FI14_923_Y01', 'FRCR225', 'FRFR215B', 'FRAR10',\n",
       "       'FRGR2017', 'ES014MSPFES-014-NR-111-025-02-02', 'FRAR43',\n",
       "       'FRDR130', 'FRFR228', 'FRGR0560', 'ES12117', 'RSNIS_3', 'FRDR277A',\n",
       "       'FRAR04', 'ES030MSPF0712010', 'ES017MSPFES111R040010', 'FRDR182',\n",
       "       'FRDR598', 'FRGR0545', 'FRFR281', 'FRDR211', 'FRFR296A', 'FRFR304',\n",
       "       'FRDR203', 'FRFR611', 'FRFR242', 'FRB2R54', 'FRGR0007F', 'FRHR18',\n",
       "       'FRHR32', 'FRHR24', 'FRAR05', 'FRDR175B', 'FRDR197', 'FRHR42C',\n",
       "       'FRGR0007C', 'UKSC006500', 'FRER10807', 'FRHR36', 'FRGR0418',\n",
       "       'FRHR203', 'FRHR202A', 'FRGR0006A', 'FRFR777', 'FI53_011_Y01',\n",
       "       'FRDR680', 'FRDR670', 'FRDR2015', 'FRDR429A', 'ES12158', 'FRAR48',\n",
       "       'ES014MSPFES-014-NR-163-000-02-00', 'FRAR49', 'FRGR0543',\n",
       "       'FRGR0548', 'UKSC010465', 'FRGR0550', 'FRAR55', 'FRAR51',\n",
       "       'UKGB104027057770', 'ES030MSPF0419010', 'FRHR241', 'FRDR677',\n",
       "       'FRFR177', 'FRGR0462A', 'FRHR93B', 'ES030MSPF0602021', 'FRHR180',\n",
       "       'FRHR205', 'ES064MSPF000206680', 'FRHR200', 'ES12122', 'FRGR0282',\n",
       "       'FRHR246B', 'UKGB108045015050', 'FRHR336', 'UKSC010493',\n",
       "       'BERW06_VE18R', 'UKGB108047004000', 'FRAR37', 'FRFR477A',\n",
       "       'FRFR614', 'UKSC005900', 'FRDR362A', 'FRGR0337A', 'FRDR412',\n",
       "       'UKSC005105', 'FRHR259', 'FRHR254', 'ES030MSPF0311010', 'FRHR197',\n",
       "       'BERW06_ML06R', 'BERW06_ML12R', 'FRFR252A', 'FRDR10693', 'FRDR887',\n",
       "       'FRAR03', 'FRCR338', 'FRCR283', 'ES017MSPFES111R042010', 'FRCR211',\n",
       "       'FI59-923-1-006_001', 'UKGB106039023232', 'FRFR186', 'FRGR0513',\n",
       "       'FRHR154A', 'FRGR0344', 'FRGR2060', 'FRHR234-H3109000',\n",
       "       'FRGR0956C', 'FRGR0295', 'UKGB108048001231', 'UKSC020110',\n",
       "       'FRCR458', 'FRCR457', 'FRDR10142', 'FRGR0547B', 'FI02_021_Y01',\n",
       "       'FI18_011_Y01', 'UKSC004734', 'FRHR70A', 'FRHR242', 'FRGR0411B',\n",
       "       'FRDR368A', 'FRFR349B', 'FRAR47', 'FRDR161A', 'ES030MSPF0717010',\n",
       "       'FRFR157A', 'ES014MSPFES-014-NR-204-000-03-00', 'FRFRR158_1',\n",
       "       'ES030MSPF0206010', 'ES11415', 'FRHR251A', 'FRDR251', 'FRFR187',\n",
       "       'FRGR0546', 'FRGR0549A', 'FRHR216A', 'FRHR228A', 'UKSC020637',\n",
       "       'ES030MSPF1020010'], dtype=object)"
      ]
     },
     "execution_count": 22,
     "metadata": {},
     "output_type": "execute_result"
    }
   ],
   "source": [
    "test_idlist = df_test['id'].unique()\n",
    "test_idlist"
   ]
  },
  {
   "cell_type": "code",
   "execution_count": 23,
   "metadata": {},
   "outputs": [],
   "source": [
    "df_train = df_train.loc[df['id'].isin(test_idlist)]"
   ]
  },
  {
   "cell_type": "code",
   "execution_count": 24,
   "metadata": {
    "scrolled": true
   },
   "outputs": [
    {
     "data": {
      "text/plain": [
       "182"
      ]
     },
     "execution_count": 24,
     "metadata": {},
     "output_type": "execute_result"
    }
   ],
   "source": [
    "df_train['id'].nunique()"
   ]
  },
  {
   "cell_type": "markdown",
   "metadata": {},
   "source": [
    "Разобьем обратно тренировочную выбору на саму выборку и целевые значения"
   ]
  },
  {
   "cell_type": "code",
   "execution_count": 25,
   "metadata": {},
   "outputs": [],
   "source": [
    "target = df_train['polution']"
   ]
  },
  {
   "cell_type": "code",
   "execution_count": 26,
   "metadata": {},
   "outputs": [
    {
     "data": {
      "text/plain": [
       "(578,)"
      ]
     },
     "execution_count": 26,
     "metadata": {},
     "output_type": "execute_result"
    }
   ],
   "source": [
    "target.shape"
   ]
  },
  {
   "cell_type": "code",
   "execution_count": 27,
   "metadata": {},
   "outputs": [],
   "source": [
    "df_train = df_train.drop(['polution'], axis=1)"
   ]
  },
  {
   "cell_type": "code",
   "execution_count": 28,
   "metadata": {
    "scrolled": false
   },
   "outputs": [
    {
     "data": {
      "text/plain": [
       "(578, 18)"
      ]
     },
     "execution_count": 28,
     "metadata": {},
     "output_type": "execute_result"
    }
   ],
   "source": [
    "df_train.shape"
   ]
  },
  {
   "cell_type": "markdown",
   "metadata": {},
   "source": [
    "Постоим карту попарных зависимостей признаков"
   ]
  },
  {
   "cell_type": "code",
   "execution_count": 29,
   "metadata": {},
   "outputs": [
    {
     "data": {
      "text/plain": [
       "<seaborn.axisgrid.PairGrid at 0x26e965ab3a0>"
      ]
     },
     "execution_count": 29,
     "metadata": {},
     "output_type": "execute_result"
    },
    {
     "data": {
      "image/png": "[encoded data removed]",
      "text/plain": [
       "<Figure size 2520x2520 with 210 Axes>"
      ]
     },
     "metadata": {},
     "output_type": "display_data"
    }
   ],
   "source": [
    "sns.pairplot(df_train)"
   ]
  },
  {
   "cell_type": "code",
   "execution_count": 30,
   "metadata": {},
   "outputs": [],
   "source": [
    "# очень интересно, но непонятно"
   ]
  },
  {
   "cell_type": "markdown",
   "metadata": {},
   "source": [
    "Посмотрим уникальные значения в каждом из столбцов датасета:"
   ]
  },
  {
   "cell_type": "code",
   "execution_count": 31,
   "metadata": {
    "scrolled": true
   },
   "outputs": [
    {
     "data": {
      "text/plain": [
       "Index(['code', 'year', 'period', 'id', 'Country', 'population', 'tourists',\n",
       "       'venue', 'rate', 'food', 'glass', 'metal', 'other', 'paper', 'plastic',\n",
       "       'leather', 'green_waste', 'waste_recycling'],\n",
       "      dtype='object')"
      ]
     },
     "execution_count": 31,
     "metadata": {},
     "output_type": "execute_result"
    }
   ],
   "source": [
    "c_names = df_train.columns\n",
    "c_names"
   ]
  },
  {
   "cell_type": "code",
   "execution_count": 32,
   "metadata": {
    "scrolled": false
   },
   "outputs": [
    {
     "name": "stdout",
     "output_type": "stream",
     "text": [
      "Столбец \"code\": количество уникальных значений 5\n",
      "Столбец \"year\": количество уникальных значений 6\n",
      "Столбец \"period\": количество уникальных значений 14\n",
      "Столбец \"id\": количество уникальных значений 182\n",
      "Столбец \"Country\": количество уникальных значений 8\n",
      "Столбец \"population\": количество уникальных значений 8\n",
      "Столбец \"tourists\": количество уникальных значений 8\n",
      "Столбец \"venue\": количество уникальных значений 4\n",
      "Столбец \"rate\": количество уникальных значений 3\n",
      "Столбец \"food\": количество уникальных значений 7\n",
      "Столбец \"glass\": количество уникальных значений 7\n",
      "Столбец \"metal\": количество уникальных значений 7\n",
      "Столбец \"other\": количество уникальных значений 8\n",
      "Столбец \"paper\": количество уникальных значений 8\n",
      "Столбец \"plastic\": количество уникальных значений 7\n",
      "Столбец \"leather\": количество уникальных значений 3\n",
      "Столбец \"green_waste\": количество уникальных значений 4\n",
      "Столбец \"waste_recycling\": количество уникальных значений 8\n"
     ]
    }
   ],
   "source": [
    "for x in c_names:\n",
    "    print(f'Столбец \"{x}\": количество уникальных значений {df_train[x].nunique()}')"
   ]
  },
  {
   "cell_type": "code",
   "execution_count": 33,
   "metadata": {},
   "outputs": [],
   "source": [
    "# попробуем удалить столбцы \"year\" и/или \"period\"\n",
    "# эксперименты показали, что наилучший результат с т.з. метрик даст удаление только столбца 'period"
   ]
  },
  {
   "cell_type": "code",
   "execution_count": 34,
   "metadata": {},
   "outputs": [],
   "source": [
    "col_drop = []"
   ]
  },
  {
   "cell_type": "markdown",
   "metadata": {},
   "source": [
    "Уберем признак 'period' как повторяющих признак 'year' и снижающий результаты моделирования (подсчитано перед тем как его убрать)"
   ]
  },
  {
   "cell_type": "code",
   "execution_count": 35,
   "metadata": {},
   "outputs": [],
   "source": [
    "col_drop.append('period')"
   ]
  },
  {
   "cell_type": "code",
   "execution_count": 36,
   "metadata": {},
   "outputs": [
    {
     "data": {
      "text/plain": [
       "['period']"
      ]
     },
     "execution_count": 36,
     "metadata": {},
     "output_type": "execute_result"
    }
   ],
   "source": [
    "col_drop"
   ]
  },
  {
   "cell_type": "markdown",
   "metadata": {},
   "source": [
    "Проверим столбцы, имеющие одинаковое количество значений:"
   ]
  },
  {
   "cell_type": "code",
   "execution_count": 37,
   "metadata": {},
   "outputs": [],
   "source": [
    "# 11 значений\n",
    "test_col = ['Country', \n",
    "            'population', \n",
    "            'tourists', \n",
    "            'other', \n",
    "            'paper', \n",
    "            'waste_recycling']"
   ]
  },
  {
   "cell_type": "code",
   "execution_count": 38,
   "metadata": {
    "scrolled": true
   },
   "outputs": [
    {
     "name": "stdout",
     "output_type": "stream",
     "text": [
      "Страна - \"France\", количество различных значений по колонкам:\n",
      "   population - 1\n",
      "   tourists - 1\n",
      "   other - 1\n",
      "   paper - 1\n",
      "   waste_recycling - 1\n",
      "Страна - \"Spain\", количество различных значений по колонкам:\n",
      "   population - 1\n",
      "   tourists - 1\n",
      "   other - 1\n",
      "   paper - 1\n",
      "   waste_recycling - 1\n",
      "Страна - \"United Kingdom\", количество различных значений по колонкам:\n",
      "   population - 1\n",
      "   tourists - 1\n",
      "   other - 1\n",
      "   paper - 1\n",
      "   waste_recycling - 1\n",
      "Страна - \"Germany\", количество различных значений по колонкам:\n",
      "   population - 1\n",
      "   tourists - 1\n",
      "   other - 1\n",
      "   paper - 1\n",
      "   waste_recycling - 1\n",
      "Страна - \"Belgium\", количество различных значений по колонкам:\n",
      "   population - 1\n",
      "   tourists - 1\n",
      "   other - 1\n",
      "   paper - 1\n",
      "   waste_recycling - 1\n",
      "Страна - \"Finland\", количество различных значений по колонкам:\n",
      "   population - 1\n",
      "   tourists - 1\n",
      "   other - 1\n",
      "   paper - 1\n",
      "   waste_recycling - 1\n",
      "Страна - \"Serbia\", количество различных значений по колонкам:\n",
      "   population - 1\n",
      "   tourists - 1\n",
      "   other - 1\n",
      "   paper - 1\n",
      "   waste_recycling - 1\n",
      "Страна - \"Luxembourg\", количество различных значений по колонкам:\n",
      "   population - 1\n",
      "   tourists - 1\n",
      "   other - 1\n",
      "   paper - 1\n",
      "   waste_recycling - 1\n"
     ]
    }
   ],
   "source": [
    "for x in df_train[test_col[0]].unique():\n",
    "    print(f'Страна - \"{x}\", количество различных значений по колонкам:')\n",
    "    for y in test_col[1:]:\n",
    "        print(f'   {y} - {df_train[df_train[\"Country\"] == x][y].nunique()}')"
   ]
  },
  {
   "cell_type": "code",
   "execution_count": 39,
   "metadata": {},
   "outputs": [],
   "source": [
    "# вывод избыточные столбцы можно удалить\n",
    "# второй вывод, как оказалдось эти столбцы влияют на результат валидации, поэтому часть (чмсловые) оставляем"
   ]
  },
  {
   "cell_type": "code",
   "execution_count": 40,
   "metadata": {},
   "outputs": [],
   "source": [
    "col_drop.append('Country')"
   ]
  },
  {
   "cell_type": "code",
   "execution_count": 41,
   "metadata": {},
   "outputs": [],
   "source": [
    "# 10 значений\n",
    "test_col = [\"food\",'other', \"plastic\",\"metal\",\"glass\",'paper', 'leather', 'green_waste', 'waste_recycling']"
   ]
  },
  {
   "cell_type": "code",
   "execution_count": 42,
   "metadata": {
    "scrolled": true
   },
   "outputs": [
    {
     "name": "stdout",
     "output_type": "stream",
     "text": [
      "Для значения  \"food\", равного \"32.0\", количество различных значений по колонкам:\n",
      "   other - 1\n",
      "   plastic - 1\n",
      "   metal - 1\n",
      "   glass - 1\n",
      "   paper - 1\n",
      "   leather - 1\n",
      "   green_waste - 1\n",
      "   waste_recycling - 1\n",
      "Для значения  \"food\", равного \"49.0\", количество различных значений по колонкам:\n",
      "   other - 1\n",
      "   plastic - 1\n",
      "   metal - 1\n",
      "   glass - 1\n",
      "   paper - 1\n",
      "   leather - 1\n",
      "   green_waste - 1\n",
      "   waste_recycling - 1\n",
      "Для значения  \"food\", равного \"16.7\", количество различных значений по колонкам:\n",
      "   other - 1\n",
      "   plastic - 1\n",
      "   metal - 1\n",
      "   glass - 1\n",
      "   paper - 1\n",
      "   leather - 1\n",
      "   green_waste - 1\n",
      "   waste_recycling - 1\n",
      "Для значения  \"food\", равного \"30.0\", количество различных значений по колонкам:\n",
      "   other - 2\n",
      "   plastic - 2\n",
      "   metal - 2\n",
      "   glass - 2\n",
      "   paper - 2\n",
      "   leather - 2\n",
      "   green_waste - 1\n",
      "   waste_recycling - 2\n",
      "Для значения  \"food\", равного \"14.18\", количество различных значений по колонкам:\n",
      "   other - 1\n",
      "   plastic - 1\n",
      "   metal - 1\n",
      "   glass - 1\n",
      "   paper - 1\n",
      "   leather - 1\n",
      "   green_waste - 1\n",
      "   waste_recycling - 1\n",
      "Для значения  \"food\", равного \"35.88\", количество различных значений по колонкам:\n",
      "   other - 1\n",
      "   plastic - 1\n",
      "   metal - 1\n",
      "   glass - 1\n",
      "   paper - 1\n",
      "   leather - 1\n",
      "   green_waste - 1\n",
      "   waste_recycling - 1\n",
      "Для значения  \"food\", равного \"37.62\", количество различных значений по колонкам:\n",
      "   other - 1\n",
      "   plastic - 1\n",
      "   metal - 1\n",
      "   glass - 1\n",
      "   paper - 1\n",
      "   leather - 1\n",
      "   green_waste - 1\n",
      "   waste_recycling - 1\n"
     ]
    }
   ],
   "source": [
    "for x in df_train[test_col[0]].unique():\n",
    "    print(f'Для значения  \"food\", равного \"{x}\", количество различных значений по колонкам:')\n",
    "    for y in test_col[1:]:\n",
    "        print(f'   {y} - {df_train[df_train[\"food\"] == x][y].nunique()}')"
   ]
  },
  {
   "cell_type": "code",
   "execution_count": 43,
   "metadata": {},
   "outputs": [],
   "source": [
    "# вывод эти избыточные столбцы тоже удаляем"
   ]
  },
  {
   "cell_type": "code",
   "execution_count": 44,
   "metadata": {},
   "outputs": [
    {
     "data": {
      "text/plain": [
       "13.0    5\n",
       "18.0    2\n",
       "Name: plastic, dtype: int64"
      ]
     },
     "execution_count": 44,
     "metadata": {},
     "output_type": "execute_result"
    }
   ],
   "source": [
    "df_train[df_train[\"food\"] == 30.0]['plastic'].value_counts()"
   ]
  },
  {
   "cell_type": "markdown",
   "metadata": {},
   "source": [
    "Т.к. мы видим, что все значения столбцов при одном значении параметра 'food' одинаковы, кроме как при значении данного столбца 30.0, то мы преобразуем их на условные '500' и '1000'. Все равно они потом преобразуются как категории."
   ]
  },
  {
   "cell_type": "code",
   "execution_count": 45,
   "metadata": {},
   "outputs": [],
   "source": [
    "df_train['food'] = np.where((df_train['food']==30.0) & (df_train['plastic']== 13.0), 500, df_train['food'])\n",
    "df_train['food'] = np.where((df_train['food']==30.0) & (df_train['plastic']== 18.0), 1000, df_train['food'])"
   ]
  },
  {
   "cell_type": "code",
   "execution_count": 46,
   "metadata": {},
   "outputs": [
    {
     "data": {
      "text/plain": [
       "32.00      437\n",
       "16.70       55\n",
       "49.00       52\n",
       "35.88       18\n",
       "14.18        7\n",
       "500.00       5\n",
       "37.62        2\n",
       "1000.00      2\n",
       "Name: food, dtype: int64"
      ]
     },
     "execution_count": 46,
     "metadata": {},
     "output_type": "execute_result"
    }
   ],
   "source": [
    "df_train[\"food\"].value_counts()"
   ]
  },
  {
   "cell_type": "markdown",
   "metadata": {},
   "source": [
    "Уберем остальные дублирующие колонки"
   ]
  },
  {
   "cell_type": "code",
   "execution_count": 47,
   "metadata": {},
   "outputs": [],
   "source": [
    "col_drop.extend(test_col[2:])"
   ]
  },
  {
   "cell_type": "code",
   "execution_count": 48,
   "metadata": {},
   "outputs": [],
   "source": [
    "# 5 значений\n",
    "# test_col = [\"code\",\"green_waste\",\"rate\"]\n",
    "# здесь решение \"в лоб\" не прошло, но возьмем данные колонки на заметку"
   ]
  },
  {
   "cell_type": "markdown",
   "metadata": {},
   "source": [
    "Проверим значения столбцов 'venue', 'rate', 'food', 'leather', 'green_waste'"
   ]
  },
  {
   "cell_type": "code",
   "execution_count": 49,
   "metadata": {},
   "outputs": [],
   "source": [
    "col_list = ['venue', 'rate', 'food', 'other']"
   ]
  },
  {
   "cell_type": "code",
   "execution_count": 50,
   "metadata": {
    "scrolled": false
   },
   "outputs": [
    {
     "name": "stdout",
     "output_type": "stream",
     "text": [
      "venue\n",
      "0.0    562\n",
      "2.0      9\n",
      "1.0      5\n",
      "4.0      2\n",
      "Name: venue, dtype: int64\n",
      "--------------------------------------------------\n",
      "rate\n",
      "0.000000     524\n",
      "87.158924     52\n",
      "21.867102      2\n",
      "Name: rate, dtype: int64\n",
      "--------------------------------------------------\n",
      "food\n",
      "32.00      437\n",
      "16.70       55\n",
      "49.00       52\n",
      "35.88       18\n",
      "14.18        7\n",
      "500.00       5\n",
      "37.62        2\n",
      "1000.00      2\n",
      "Name: food, dtype: int64\n",
      "--------------------------------------------------\n",
      "other\n",
      "26.00    437\n",
      "28.20     55\n",
      "14.00     52\n",
      "13.13     18\n",
      "40.14      7\n",
      "17.70      5\n",
      "16.72      2\n",
      "27.00      2\n",
      "Name: other, dtype: int64\n",
      "--------------------------------------------------\n"
     ]
    }
   ],
   "source": [
    "for x in col_list:\n",
    "    print(x)\n",
    "    print(df_train[x].value_counts())\n",
    "    print('-'*50)"
   ]
  },
  {
   "cell_type": "markdown",
   "metadata": {},
   "source": [
    "### Объединяем тренировочную и тестовую выборки, чтобы не делать работу 2 раза"
   ]
  },
  {
   "cell_type": "code",
   "execution_count": 51,
   "metadata": {},
   "outputs": [],
   "source": [
    "df_total = pd.concat([df_train, df_test])"
   ]
  },
  {
   "cell_type": "code",
   "execution_count": 52,
   "metadata": {
    "scrolled": true
   },
   "outputs": [
    {
     "data": {
      "text/html": [
       "<div>\n",
       "<style scoped>\n",
       "    .dataframe tbody tr th:only-of-type {\n",
       "        vertical-align: middle;\n",
       "    }\n",
       "\n",
       "    .dataframe tbody tr th {\n",
       "        vertical-align: top;\n",
       "    }\n",
       "\n",
       "    .dataframe thead th {\n",
       "        text-align: right;\n",
       "    }\n",
       "</style>\n",
       "<table border=\"1\" class=\"dataframe\">\n",
       "  <thead>\n",
       "    <tr style=\"text-align: right;\">\n",
       "      <th></th>\n",
       "      <th>code</th>\n",
       "      <th>year</th>\n",
       "      <th>id</th>\n",
       "      <th>population</th>\n",
       "      <th>tourists</th>\n",
       "      <th>venue</th>\n",
       "      <th>rate</th>\n",
       "      <th>food</th>\n",
       "      <th>other</th>\n",
       "    </tr>\n",
       "    <tr>\n",
       "      <th>index</th>\n",
       "      <th></th>\n",
       "      <th></th>\n",
       "      <th></th>\n",
       "      <th></th>\n",
       "      <th></th>\n",
       "      <th></th>\n",
       "      <th></th>\n",
       "      <th></th>\n",
       "      <th></th>\n",
       "    </tr>\n",
       "  </thead>\n",
       "  <tbody>\n",
       "    <tr>\n",
       "      <th>116</th>\n",
       "      <td>EEA_3161-03-3</td>\n",
       "      <td>2008</td>\n",
       "      <td>FRGR0543</td>\n",
       "      <td>122.299437</td>\n",
       "      <td>71176346.0</td>\n",
       "      <td>0.0</td>\n",
       "      <td>0.0</td>\n",
       "      <td>32.0</td>\n",
       "      <td>26.0</td>\n",
       "    </tr>\n",
       "    <tr>\n",
       "      <th>117</th>\n",
       "      <td>EEA_3161-05-5</td>\n",
       "      <td>2008</td>\n",
       "      <td>FRGR0543</td>\n",
       "      <td>122.299437</td>\n",
       "      <td>71176346.0</td>\n",
       "      <td>2.0</td>\n",
       "      <td>0.0</td>\n",
       "      <td>32.0</td>\n",
       "      <td>26.0</td>\n",
       "    </tr>\n",
       "    <tr>\n",
       "      <th>135</th>\n",
       "      <td>EEA_3161-05-5</td>\n",
       "      <td>2008</td>\n",
       "      <td>FRGR0543</td>\n",
       "      <td>122.299437</td>\n",
       "      <td>71176346.0</td>\n",
       "      <td>0.0</td>\n",
       "      <td>0.0</td>\n",
       "      <td>32.0</td>\n",
       "      <td>26.0</td>\n",
       "    </tr>\n",
       "  </tbody>\n",
       "</table>\n",
       "</div>"
      ],
      "text/plain": [
       "                code  year        id  population    tourists  venue  rate  \\\n",
       "index                                                                       \n",
       "116    EEA_3161-03-3  2008  FRGR0543  122.299437  71176346.0    0.0   0.0   \n",
       "117    EEA_3161-05-5  2008  FRGR0543  122.299437  71176346.0    2.0   0.0   \n",
       "135    EEA_3161-05-5  2008  FRGR0543  122.299437  71176346.0    0.0   0.0   \n",
       "\n",
       "       food  other  \n",
       "index               \n",
       "116    32.0   26.0  \n",
       "117    32.0   26.0  \n",
       "135    32.0   26.0  "
      ]
     },
     "execution_count": 52,
     "metadata": {},
     "output_type": "execute_result"
    }
   ],
   "source": [
    "df_total = df_total.drop(col_drop, axis=1)\n",
    "df_total.head(3)"
   ]
  },
  {
   "cell_type": "markdown",
   "metadata": {},
   "source": [
    "### Применяем one-hot-encoding для категориальных столбцов \"id\", \"code\", \"year\""
   ]
  },
  {
   "cell_type": "code",
   "execution_count": 53,
   "metadata": {
    "scrolled": false
   },
   "outputs": [
    {
     "data": {
      "text/html": [
       "<div>\n",
       "<style scoped>\n",
       "    .dataframe tbody tr th:only-of-type {\n",
       "        vertical-align: middle;\n",
       "    }\n",
       "\n",
       "    .dataframe tbody tr th {\n",
       "        vertical-align: top;\n",
       "    }\n",
       "\n",
       "    .dataframe thead th {\n",
       "        text-align: right;\n",
       "    }\n",
       "</style>\n",
       "<table border=\"1\" class=\"dataframe\">\n",
       "  <thead>\n",
       "    <tr style=\"text-align: right;\">\n",
       "      <th></th>\n",
       "      <th>population</th>\n",
       "      <th>tourists</th>\n",
       "      <th>venue</th>\n",
       "      <th>rate</th>\n",
       "      <th>food</th>\n",
       "      <th>other</th>\n",
       "      <th>id__BERW06_ML06R</th>\n",
       "      <th>id__BERW06_ML12R</th>\n",
       "      <th>id__BERW06_VE18R</th>\n",
       "      <th>id__ES014MSPFES-014-NR-111-025-02-02</th>\n",
       "      <th>...</th>\n",
       "      <th>code__EEA_3161-02-2</th>\n",
       "      <th>code__EEA_3161-03-3</th>\n",
       "      <th>code__EEA_3161-05-5</th>\n",
       "      <th>code__EEA_31615-01-7</th>\n",
       "      <th>year__2006</th>\n",
       "      <th>year__2007</th>\n",
       "      <th>year__2008</th>\n",
       "      <th>year__2009</th>\n",
       "      <th>year__2010</th>\n",
       "      <th>year__2015</th>\n",
       "    </tr>\n",
       "    <tr>\n",
       "      <th>index</th>\n",
       "      <th></th>\n",
       "      <th></th>\n",
       "      <th></th>\n",
       "      <th></th>\n",
       "      <th></th>\n",
       "      <th></th>\n",
       "      <th></th>\n",
       "      <th></th>\n",
       "      <th></th>\n",
       "      <th></th>\n",
       "      <th></th>\n",
       "      <th></th>\n",
       "      <th></th>\n",
       "      <th></th>\n",
       "      <th></th>\n",
       "      <th></th>\n",
       "      <th></th>\n",
       "      <th></th>\n",
       "      <th></th>\n",
       "      <th></th>\n",
       "      <th></th>\n",
       "    </tr>\n",
       "  </thead>\n",
       "  <tbody>\n",
       "    <tr>\n",
       "      <th>116</th>\n",
       "      <td>122.299437</td>\n",
       "      <td>71176346.0</td>\n",
       "      <td>0.0</td>\n",
       "      <td>0.0</td>\n",
       "      <td>32.0</td>\n",
       "      <td>26.0</td>\n",
       "      <td>0</td>\n",
       "      <td>0</td>\n",
       "      <td>0</td>\n",
       "      <td>0</td>\n",
       "      <td>...</td>\n",
       "      <td>0</td>\n",
       "      <td>1</td>\n",
       "      <td>0</td>\n",
       "      <td>0</td>\n",
       "      <td>0</td>\n",
       "      <td>0</td>\n",
       "      <td>1</td>\n",
       "      <td>0</td>\n",
       "      <td>0</td>\n",
       "      <td>0</td>\n",
       "    </tr>\n",
       "    <tr>\n",
       "      <th>117</th>\n",
       "      <td>122.299437</td>\n",
       "      <td>71176346.0</td>\n",
       "      <td>2.0</td>\n",
       "      <td>0.0</td>\n",
       "      <td>32.0</td>\n",
       "      <td>26.0</td>\n",
       "      <td>0</td>\n",
       "      <td>0</td>\n",
       "      <td>0</td>\n",
       "      <td>0</td>\n",
       "      <td>...</td>\n",
       "      <td>0</td>\n",
       "      <td>0</td>\n",
       "      <td>1</td>\n",
       "      <td>0</td>\n",
       "      <td>0</td>\n",
       "      <td>0</td>\n",
       "      <td>1</td>\n",
       "      <td>0</td>\n",
       "      <td>0</td>\n",
       "      <td>0</td>\n",
       "    </tr>\n",
       "    <tr>\n",
       "      <th>135</th>\n",
       "      <td>122.299437</td>\n",
       "      <td>71176346.0</td>\n",
       "      <td>0.0</td>\n",
       "      <td>0.0</td>\n",
       "      <td>32.0</td>\n",
       "      <td>26.0</td>\n",
       "      <td>0</td>\n",
       "      <td>0</td>\n",
       "      <td>0</td>\n",
       "      <td>0</td>\n",
       "      <td>...</td>\n",
       "      <td>0</td>\n",
       "      <td>0</td>\n",
       "      <td>1</td>\n",
       "      <td>0</td>\n",
       "      <td>0</td>\n",
       "      <td>0</td>\n",
       "      <td>1</td>\n",
       "      <td>0</td>\n",
       "      <td>0</td>\n",
       "      <td>0</td>\n",
       "    </tr>\n",
       "    <tr>\n",
       "      <th>136</th>\n",
       "      <td>122.299437</td>\n",
       "      <td>71176346.0</td>\n",
       "      <td>0.0</td>\n",
       "      <td>0.0</td>\n",
       "      <td>32.0</td>\n",
       "      <td>26.0</td>\n",
       "      <td>0</td>\n",
       "      <td>0</td>\n",
       "      <td>0</td>\n",
       "      <td>0</td>\n",
       "      <td>...</td>\n",
       "      <td>1</td>\n",
       "      <td>0</td>\n",
       "      <td>0</td>\n",
       "      <td>0</td>\n",
       "      <td>0</td>\n",
       "      <td>0</td>\n",
       "      <td>1</td>\n",
       "      <td>0</td>\n",
       "      <td>0</td>\n",
       "      <td>0</td>\n",
       "    </tr>\n",
       "    <tr>\n",
       "      <th>139</th>\n",
       "      <td>122.299437</td>\n",
       "      <td>71176346.0</td>\n",
       "      <td>2.0</td>\n",
       "      <td>0.0</td>\n",
       "      <td>32.0</td>\n",
       "      <td>26.0</td>\n",
       "      <td>0</td>\n",
       "      <td>0</td>\n",
       "      <td>0</td>\n",
       "      <td>0</td>\n",
       "      <td>...</td>\n",
       "      <td>0</td>\n",
       "      <td>1</td>\n",
       "      <td>0</td>\n",
       "      <td>0</td>\n",
       "      <td>0</td>\n",
       "      <td>0</td>\n",
       "      <td>1</td>\n",
       "      <td>0</td>\n",
       "      <td>0</td>\n",
       "      <td>0</td>\n",
       "    </tr>\n",
       "  </tbody>\n",
       "</table>\n",
       "<p>5 rows × 199 columns</p>\n",
       "</div>"
      ],
      "text/plain": [
       "       population    tourists  venue  rate  food  other  id__BERW06_ML06R  \\\n",
       "index                                                                       \n",
       "116    122.299437  71176346.0    0.0   0.0  32.0   26.0                 0   \n",
       "117    122.299437  71176346.0    2.0   0.0  32.0   26.0                 0   \n",
       "135    122.299437  71176346.0    0.0   0.0  32.0   26.0                 0   \n",
       "136    122.299437  71176346.0    0.0   0.0  32.0   26.0                 0   \n",
       "139    122.299437  71176346.0    2.0   0.0  32.0   26.0                 0   \n",
       "\n",
       "       id__BERW06_ML12R  id__BERW06_VE18R  \\\n",
       "index                                       \n",
       "116                   0                 0   \n",
       "117                   0                 0   \n",
       "135                   0                 0   \n",
       "136                   0                 0   \n",
       "139                   0                 0   \n",
       "\n",
       "       id__ES014MSPFES-014-NR-111-025-02-02  ...  code__EEA_3161-02-2  \\\n",
       "index                                        ...                        \n",
       "116                                       0  ...                    0   \n",
       "117                                       0  ...                    0   \n",
       "135                                       0  ...                    0   \n",
       "136                                       0  ...                    1   \n",
       "139                                       0  ...                    0   \n",
       "\n",
       "       code__EEA_3161-03-3  code__EEA_3161-05-5  code__EEA_31615-01-7  \\\n",
       "index                                                                   \n",
       "116                      1                    0                     0   \n",
       "117                      0                    1                     0   \n",
       "135                      0                    1                     0   \n",
       "136                      0                    0                     0   \n",
       "139                      1                    0                     0   \n",
       "\n",
       "       year__2006  year__2007  year__2008  year__2009  year__2010  year__2015  \n",
       "index                                                                          \n",
       "116             0           0           1           0           0           0  \n",
       "117             0           0           1           0           0           0  \n",
       "135             0           0           1           0           0           0  \n",
       "136             0           0           1           0           0           0  \n",
       "139             0           0           1           0           0           0  \n",
       "\n",
       "[5 rows x 199 columns]"
      ]
     },
     "execution_count": 53,
     "metadata": {},
     "output_type": "execute_result"
    }
   ],
   "source": [
    "df_total = pd.concat([df_total, pd.get_dummies(df_total.id, prefix='id_')], axis=1, sort=False)  \n",
    "df_total = df_total.drop(['id'], axis=1)\n",
    "df_total = pd.concat([df_total, pd.get_dummies(df_total.code, prefix='code_')], axis=1, sort=False)  \n",
    "df_total = df_total.drop(['code'], axis=1)\n",
    "df_total = pd.concat([df_total, pd.get_dummies(df_total.year, prefix='year_')], axis=1, sort=False)  \n",
    "df_total = df_total.drop(['year'], axis=1)\n",
    "df_total.head()"
   ]
  },
  {
   "cell_type": "markdown",
   "metadata": {},
   "source": [
    "### Применяем one-hot-encoding для столбцов 'venue', 'rate', 'food'"
   ]
  },
  {
   "cell_type": "code",
   "execution_count": 54,
   "metadata": {},
   "outputs": [
    {
     "data": {
      "text/html": [
       "<div>\n",
       "<style scoped>\n",
       "    .dataframe tbody tr th:only-of-type {\n",
       "        vertical-align: middle;\n",
       "    }\n",
       "\n",
       "    .dataframe tbody tr th {\n",
       "        vertical-align: top;\n",
       "    }\n",
       "\n",
       "    .dataframe thead th {\n",
       "        text-align: right;\n",
       "    }\n",
       "</style>\n",
       "<table border=\"1\" class=\"dataframe\">\n",
       "  <thead>\n",
       "    <tr style=\"text-align: right;\">\n",
       "      <th></th>\n",
       "      <th>population</th>\n",
       "      <th>tourists</th>\n",
       "      <th>other</th>\n",
       "      <th>id__BERW06_ML06R</th>\n",
       "      <th>id__BERW06_ML12R</th>\n",
       "      <th>id__BERW06_VE18R</th>\n",
       "      <th>id__ES014MSPFES-014-NR-111-025-02-02</th>\n",
       "      <th>id__ES014MSPFES-014-NR-163-000-02-00</th>\n",
       "      <th>id__ES014MSPFES-014-NR-204-000-03-00</th>\n",
       "      <th>id__ES017MSPFES111R040010</th>\n",
       "      <th>...</th>\n",
       "      <th>rate__87.15892367892796</th>\n",
       "      <th>food__14.18</th>\n",
       "      <th>food__16.7</th>\n",
       "      <th>food__30.0</th>\n",
       "      <th>food__32.0</th>\n",
       "      <th>food__35.88</th>\n",
       "      <th>food__37.62</th>\n",
       "      <th>food__49.0</th>\n",
       "      <th>food__500.0</th>\n",
       "      <th>food__1000.0</th>\n",
       "    </tr>\n",
       "    <tr>\n",
       "      <th>index</th>\n",
       "      <th></th>\n",
       "      <th></th>\n",
       "      <th></th>\n",
       "      <th></th>\n",
       "      <th></th>\n",
       "      <th></th>\n",
       "      <th></th>\n",
       "      <th></th>\n",
       "      <th></th>\n",
       "      <th></th>\n",
       "      <th></th>\n",
       "      <th></th>\n",
       "      <th></th>\n",
       "      <th></th>\n",
       "      <th></th>\n",
       "      <th></th>\n",
       "      <th></th>\n",
       "      <th></th>\n",
       "      <th></th>\n",
       "      <th></th>\n",
       "      <th></th>\n",
       "    </tr>\n",
       "  </thead>\n",
       "  <tbody>\n",
       "    <tr>\n",
       "      <th>116</th>\n",
       "      <td>122.299437</td>\n",
       "      <td>71176346.0</td>\n",
       "      <td>26.0</td>\n",
       "      <td>0</td>\n",
       "      <td>0</td>\n",
       "      <td>0</td>\n",
       "      <td>0</td>\n",
       "      <td>0</td>\n",
       "      <td>0</td>\n",
       "      <td>0</td>\n",
       "      <td>...</td>\n",
       "      <td>0</td>\n",
       "      <td>0</td>\n",
       "      <td>0</td>\n",
       "      <td>0</td>\n",
       "      <td>1</td>\n",
       "      <td>0</td>\n",
       "      <td>0</td>\n",
       "      <td>0</td>\n",
       "      <td>0</td>\n",
       "      <td>0</td>\n",
       "    </tr>\n",
       "    <tr>\n",
       "      <th>117</th>\n",
       "      <td>122.299437</td>\n",
       "      <td>71176346.0</td>\n",
       "      <td>26.0</td>\n",
       "      <td>0</td>\n",
       "      <td>0</td>\n",
       "      <td>0</td>\n",
       "      <td>0</td>\n",
       "      <td>0</td>\n",
       "      <td>0</td>\n",
       "      <td>0</td>\n",
       "      <td>...</td>\n",
       "      <td>0</td>\n",
       "      <td>0</td>\n",
       "      <td>0</td>\n",
       "      <td>0</td>\n",
       "      <td>1</td>\n",
       "      <td>0</td>\n",
       "      <td>0</td>\n",
       "      <td>0</td>\n",
       "      <td>0</td>\n",
       "      <td>0</td>\n",
       "    </tr>\n",
       "    <tr>\n",
       "      <th>135</th>\n",
       "      <td>122.299437</td>\n",
       "      <td>71176346.0</td>\n",
       "      <td>26.0</td>\n",
       "      <td>0</td>\n",
       "      <td>0</td>\n",
       "      <td>0</td>\n",
       "      <td>0</td>\n",
       "      <td>0</td>\n",
       "      <td>0</td>\n",
       "      <td>0</td>\n",
       "      <td>...</td>\n",
       "      <td>0</td>\n",
       "      <td>0</td>\n",
       "      <td>0</td>\n",
       "      <td>0</td>\n",
       "      <td>1</td>\n",
       "      <td>0</td>\n",
       "      <td>0</td>\n",
       "      <td>0</td>\n",
       "      <td>0</td>\n",
       "      <td>0</td>\n",
       "    </tr>\n",
       "    <tr>\n",
       "      <th>136</th>\n",
       "      <td>122.299437</td>\n",
       "      <td>71176346.0</td>\n",
       "      <td>26.0</td>\n",
       "      <td>0</td>\n",
       "      <td>0</td>\n",
       "      <td>0</td>\n",
       "      <td>0</td>\n",
       "      <td>0</td>\n",
       "      <td>0</td>\n",
       "      <td>0</td>\n",
       "      <td>...</td>\n",
       "      <td>0</td>\n",
       "      <td>0</td>\n",
       "      <td>0</td>\n",
       "      <td>0</td>\n",
       "      <td>1</td>\n",
       "      <td>0</td>\n",
       "      <td>0</td>\n",
       "      <td>0</td>\n",
       "      <td>0</td>\n",
       "      <td>0</td>\n",
       "    </tr>\n",
       "    <tr>\n",
       "      <th>139</th>\n",
       "      <td>122.299437</td>\n",
       "      <td>71176346.0</td>\n",
       "      <td>26.0</td>\n",
       "      <td>0</td>\n",
       "      <td>0</td>\n",
       "      <td>0</td>\n",
       "      <td>0</td>\n",
       "      <td>0</td>\n",
       "      <td>0</td>\n",
       "      <td>0</td>\n",
       "      <td>...</td>\n",
       "      <td>0</td>\n",
       "      <td>0</td>\n",
       "      <td>0</td>\n",
       "      <td>0</td>\n",
       "      <td>1</td>\n",
       "      <td>0</td>\n",
       "      <td>0</td>\n",
       "      <td>0</td>\n",
       "      <td>0</td>\n",
       "      <td>0</td>\n",
       "    </tr>\n",
       "  </tbody>\n",
       "</table>\n",
       "<p>5 rows × 212 columns</p>\n",
       "</div>"
      ],
      "text/plain": [
       "       population    tourists  other  id__BERW06_ML06R  id__BERW06_ML12R  \\\n",
       "index                                                                      \n",
       "116    122.299437  71176346.0   26.0                 0                 0   \n",
       "117    122.299437  71176346.0   26.0                 0                 0   \n",
       "135    122.299437  71176346.0   26.0                 0                 0   \n",
       "136    122.299437  71176346.0   26.0                 0                 0   \n",
       "139    122.299437  71176346.0   26.0                 0                 0   \n",
       "\n",
       "       id__BERW06_VE18R  id__ES014MSPFES-014-NR-111-025-02-02  \\\n",
       "index                                                           \n",
       "116                   0                                     0   \n",
       "117                   0                                     0   \n",
       "135                   0                                     0   \n",
       "136                   0                                     0   \n",
       "139                   0                                     0   \n",
       "\n",
       "       id__ES014MSPFES-014-NR-163-000-02-00  \\\n",
       "index                                         \n",
       "116                                       0   \n",
       "117                                       0   \n",
       "135                                       0   \n",
       "136                                       0   \n",
       "139                                       0   \n",
       "\n",
       "       id__ES014MSPFES-014-NR-204-000-03-00  id__ES017MSPFES111R040010  ...  \\\n",
       "index                                                                   ...   \n",
       "116                                       0                          0  ...   \n",
       "117                                       0                          0  ...   \n",
       "135                                       0                          0  ...   \n",
       "136                                       0                          0  ...   \n",
       "139                                       0                          0  ...   \n",
       "\n",
       "       rate__87.15892367892796  food__14.18  food__16.7  food__30.0  \\\n",
       "index                                                                 \n",
       "116                          0            0           0           0   \n",
       "117                          0            0           0           0   \n",
       "135                          0            0           0           0   \n",
       "136                          0            0           0           0   \n",
       "139                          0            0           0           0   \n",
       "\n",
       "       food__32.0  food__35.88  food__37.62  food__49.0  food__500.0  \\\n",
       "index                                                                  \n",
       "116             1            0            0           0            0   \n",
       "117             1            0            0           0            0   \n",
       "135             1            0            0           0            0   \n",
       "136             1            0            0           0            0   \n",
       "139             1            0            0           0            0   \n",
       "\n",
       "       food__1000.0  \n",
       "index                \n",
       "116               0  \n",
       "117               0  \n",
       "135               0  \n",
       "136               0  \n",
       "139               0  \n",
       "\n",
       "[5 rows x 212 columns]"
      ]
     },
     "execution_count": 54,
     "metadata": {},
     "output_type": "execute_result"
    }
   ],
   "source": [
    "df_total = pd.concat([df_total, pd.get_dummies(df_total.venue, prefix='venue_')], axis=1, sort=False)  \n",
    "df_total = df_total.drop(['venue'], axis=1)\n",
    "df_total = pd.concat([df_total, pd.get_dummies(df_total.rate, prefix='rate_')], axis=1, sort=False)  \n",
    "df_total = df_total.drop(['rate'], axis=1)\n",
    "df_total = pd.concat([df_total, pd.get_dummies(df_total.food, prefix='food_')], axis=1, sort=False)  \n",
    "df_total = df_total.drop(['food'], axis=1)\n",
    "df_total.head()"
   ]
  },
  {
   "cell_type": "code",
   "execution_count": 55,
   "metadata": {
    "scrolled": true
   },
   "outputs": [
    {
     "data": {
      "text/plain": [
       "Index(['population', 'tourists', 'other', 'id__BERW06_ML06R',\n",
       "       'id__BERW06_ML12R', 'id__BERW06_VE18R',\n",
       "       'id__ES014MSPFES-014-NR-111-025-02-02',\n",
       "       'id__ES014MSPFES-014-NR-163-000-02-00',\n",
       "       'id__ES014MSPFES-014-NR-204-000-03-00', 'id__ES017MSPFES111R040010',\n",
       "       ...\n",
       "       'rate__87.15892367892796', 'food__14.18', 'food__16.7', 'food__30.0',\n",
       "       'food__32.0', 'food__35.88', 'food__37.62', 'food__49.0', 'food__500.0',\n",
       "       'food__1000.0'],\n",
       "      dtype='object', length=212)"
      ]
     },
     "execution_count": 55,
     "metadata": {},
     "output_type": "execute_result"
    }
   ],
   "source": [
    "col_names = df_total.columns\n",
    "col_names"
   ]
  },
  {
   "cell_type": "markdown",
   "metadata": {},
   "source": [
    "### Применим нормализацию числовых значений датасета"
   ]
  },
  {
   "cell_type": "code",
   "execution_count": 56,
   "metadata": {},
   "outputs": [],
   "source": [
    "scaler  = MinMaxScaler()\n",
    "scaler.fit_transform(df_total)\n",
    "df_total = scaler.transform(df_total) "
   ]
  },
  {
   "cell_type": "code",
   "execution_count": 57,
   "metadata": {
    "scrolled": true
   },
   "outputs": [
    {
     "data": {
      "text/html": [
       "<div>\n",
       "<style scoped>\n",
       "    .dataframe tbody tr th:only-of-type {\n",
       "        vertical-align: middle;\n",
       "    }\n",
       "\n",
       "    .dataframe tbody tr th {\n",
       "        vertical-align: top;\n",
       "    }\n",
       "\n",
       "    .dataframe thead th {\n",
       "        text-align: right;\n",
       "    }\n",
       "</style>\n",
       "<table border=\"1\" class=\"dataframe\">\n",
       "  <thead>\n",
       "    <tr style=\"text-align: right;\">\n",
       "      <th></th>\n",
       "      <th>population</th>\n",
       "      <th>tourists</th>\n",
       "      <th>other</th>\n",
       "      <th>id__BERW06_ML06R</th>\n",
       "      <th>id__BERW06_ML12R</th>\n",
       "      <th>id__BERW06_VE18R</th>\n",
       "      <th>id__ES014MSPFES-014-NR-111-025-02-02</th>\n",
       "      <th>id__ES014MSPFES-014-NR-163-000-02-00</th>\n",
       "      <th>id__ES014MSPFES-014-NR-204-000-03-00</th>\n",
       "      <th>id__ES017MSPFES111R040010</th>\n",
       "      <th>...</th>\n",
       "      <th>rate__87.15892367892796</th>\n",
       "      <th>food__14.18</th>\n",
       "      <th>food__16.7</th>\n",
       "      <th>food__30.0</th>\n",
       "      <th>food__32.0</th>\n",
       "      <th>food__35.88</th>\n",
       "      <th>food__37.62</th>\n",
       "      <th>food__49.0</th>\n",
       "      <th>food__500.0</th>\n",
       "      <th>food__1000.0</th>\n",
       "    </tr>\n",
       "  </thead>\n",
       "  <tbody>\n",
       "    <tr>\n",
       "      <th>0</th>\n",
       "      <td>0.289927</td>\n",
       "      <td>1.0</td>\n",
       "      <td>0.47649</td>\n",
       "      <td>0.0</td>\n",
       "      <td>0.0</td>\n",
       "      <td>0.0</td>\n",
       "      <td>0.0</td>\n",
       "      <td>0.0</td>\n",
       "      <td>0.0</td>\n",
       "      <td>0.0</td>\n",
       "      <td>...</td>\n",
       "      <td>0.0</td>\n",
       "      <td>0.0</td>\n",
       "      <td>0.0</td>\n",
       "      <td>0.0</td>\n",
       "      <td>1.0</td>\n",
       "      <td>0.0</td>\n",
       "      <td>0.0</td>\n",
       "      <td>0.0</td>\n",
       "      <td>0.0</td>\n",
       "      <td>0.0</td>\n",
       "    </tr>\n",
       "    <tr>\n",
       "      <th>1</th>\n",
       "      <td>0.289927</td>\n",
       "      <td>1.0</td>\n",
       "      <td>0.47649</td>\n",
       "      <td>0.0</td>\n",
       "      <td>0.0</td>\n",
       "      <td>0.0</td>\n",
       "      <td>0.0</td>\n",
       "      <td>0.0</td>\n",
       "      <td>0.0</td>\n",
       "      <td>0.0</td>\n",
       "      <td>...</td>\n",
       "      <td>0.0</td>\n",
       "      <td>0.0</td>\n",
       "      <td>0.0</td>\n",
       "      <td>0.0</td>\n",
       "      <td>1.0</td>\n",
       "      <td>0.0</td>\n",
       "      <td>0.0</td>\n",
       "      <td>0.0</td>\n",
       "      <td>0.0</td>\n",
       "      <td>0.0</td>\n",
       "    </tr>\n",
       "    <tr>\n",
       "      <th>2</th>\n",
       "      <td>0.289927</td>\n",
       "      <td>1.0</td>\n",
       "      <td>0.47649</td>\n",
       "      <td>0.0</td>\n",
       "      <td>0.0</td>\n",
       "      <td>0.0</td>\n",
       "      <td>0.0</td>\n",
       "      <td>0.0</td>\n",
       "      <td>0.0</td>\n",
       "      <td>0.0</td>\n",
       "      <td>...</td>\n",
       "      <td>0.0</td>\n",
       "      <td>0.0</td>\n",
       "      <td>0.0</td>\n",
       "      <td>0.0</td>\n",
       "      <td>1.0</td>\n",
       "      <td>0.0</td>\n",
       "      <td>0.0</td>\n",
       "      <td>0.0</td>\n",
       "      <td>0.0</td>\n",
       "      <td>0.0</td>\n",
       "    </tr>\n",
       "  </tbody>\n",
       "</table>\n",
       "<p>3 rows × 212 columns</p>\n",
       "</div>"
      ],
      "text/plain": [
       "   population  tourists    other  id__BERW06_ML06R  id__BERW06_ML12R  \\\n",
       "0    0.289927       1.0  0.47649               0.0               0.0   \n",
       "1    0.289927       1.0  0.47649               0.0               0.0   \n",
       "2    0.289927       1.0  0.47649               0.0               0.0   \n",
       "\n",
       "   id__BERW06_VE18R  id__ES014MSPFES-014-NR-111-025-02-02  \\\n",
       "0               0.0                                   0.0   \n",
       "1               0.0                                   0.0   \n",
       "2               0.0                                   0.0   \n",
       "\n",
       "   id__ES014MSPFES-014-NR-163-000-02-00  id__ES014MSPFES-014-NR-204-000-03-00  \\\n",
       "0                                   0.0                                   0.0   \n",
       "1                                   0.0                                   0.0   \n",
       "2                                   0.0                                   0.0   \n",
       "\n",
       "   id__ES017MSPFES111R040010  ...  rate__87.15892367892796  food__14.18  \\\n",
       "0                        0.0  ...                      0.0          0.0   \n",
       "1                        0.0  ...                      0.0          0.0   \n",
       "2                        0.0  ...                      0.0          0.0   \n",
       "\n",
       "   food__16.7  food__30.0  food__32.0  food__35.88  food__37.62  food__49.0  \\\n",
       "0         0.0         0.0         1.0          0.0          0.0         0.0   \n",
       "1         0.0         0.0         1.0          0.0          0.0         0.0   \n",
       "2         0.0         0.0         1.0          0.0          0.0         0.0   \n",
       "\n",
       "   food__500.0  food__1000.0  \n",
       "0          0.0           0.0  \n",
       "1          0.0           0.0  \n",
       "2          0.0           0.0  \n",
       "\n",
       "[3 rows x 212 columns]"
      ]
     },
     "execution_count": 57,
     "metadata": {},
     "output_type": "execute_result"
    }
   ],
   "source": [
    "df_total = pd.DataFrame(df_total, columns=col_names)\n",
    "df_total.head(3)"
   ]
  },
  {
   "cell_type": "markdown",
   "metadata": {},
   "source": [
    "### Разбиваем данные обратно на Тренировочную и Тестовую"
   ]
  },
  {
   "cell_type": "code",
   "execution_count": 58,
   "metadata": {},
   "outputs": [],
   "source": [
    "train = df_total.iloc[0:df_train.shape[0],:]\n",
    "test = df_total.iloc[df_train.shape[0]:,:]"
   ]
  },
  {
   "cell_type": "code",
   "execution_count": 59,
   "metadata": {},
   "outputs": [
    {
     "data": {
      "text/plain": [
       "(578, 578, 220, 220)"
      ]
     },
     "execution_count": 59,
     "metadata": {},
     "output_type": "execute_result"
    }
   ],
   "source": [
    "df_train.shape[0], train.shape[0], df_test.shape[0], test.shape[0], "
   ]
  },
  {
   "cell_type": "markdown",
   "metadata": {},
   "source": [
    "### Разобьем тренировочную выборку на тренировочную и валидационную и обучим модель линейной регрессии"
   ]
  },
  {
   "cell_type": "code",
   "execution_count": 60,
   "metadata": {},
   "outputs": [],
   "source": [
    "X = train\n",
    "y = target"
   ]
  },
  {
   "cell_type": "markdown",
   "metadata": {},
   "source": [
    "X_train, X_test, y_train, y_test = train_test_split(X, y, test_size=0.33, shuffle=True, random_state=21)"
   ]
  },
  {
   "cell_type": "code",
   "execution_count": 61,
   "metadata": {},
   "outputs": [],
   "source": [
    "X_train, X_val, y_train, y_val = train_test_split(X, y, test_size=0.33, shuffle=True, random_state=21)"
   ]
  },
  {
   "cell_type": "code",
   "execution_count": 62,
   "metadata": {
    "scrolled": false
   },
   "outputs": [
    {
     "data": {
      "text/plain": [
       "((387, 212), (191, 212), (387,), (191,))"
      ]
     },
     "execution_count": 62,
     "metadata": {},
     "output_type": "execute_result"
    }
   ],
   "source": [
    "X_train.shape, X_val.shape, y_train.shape, y_val.shape "
   ]
  },
  {
   "cell_type": "markdown",
   "metadata": {},
   "source": [
    "### Построим моделт линейной регрессии \"из коробки\""
   ]
  },
  {
   "cell_type": "code",
   "execution_count": 63,
   "metadata": {
    "scrolled": true
   },
   "outputs": [
    {
     "name": "stdout",
     "output_type": "stream",
     "text": [
      "Wall time: 57.7 ms\n"
     ]
    }
   ],
   "source": [
    "%%time\n",
    "\n",
    "model_lr = LinearRegression()\n",
    "model_lr.fit(X_train, y_train)\n",
    "\n",
    "y_train_pred = model_lr.predict(X_train)\n",
    "y_val_pred = model_lr.predict(X_val)"
   ]
  },
  {
   "cell_type": "code",
   "execution_count": 64,
   "metadata": {
    "scrolled": false
   },
   "outputs": [
    {
     "data": {
      "text/plain": [
       "0.7311668177255848"
      ]
     },
     "execution_count": 64,
     "metadata": {},
     "output_type": "execute_result"
    }
   ],
   "source": [
    "r2(y_train, y_train_pred)"
   ]
  },
  {
   "cell_type": "code",
   "execution_count": 65,
   "metadata": {},
   "outputs": [
    {
     "data": {
      "text/plain": [
       "-1.3064852433206151e+25"
      ]
     },
     "execution_count": 65,
     "metadata": {},
     "output_type": "execute_result"
    }
   ],
   "source": [
    "r2(y_val, y_val_pred)"
   ]
  },
  {
   "cell_type": "markdown",
   "metadata": {},
   "source": [
    "*Вывод: т.к. результат целевой переменной на валидационной выборке резко упал, то будем применять регуляризацию и вероятно введем полиномиальную зависимость*"
   ]
  },
  {
   "cell_type": "markdown",
   "metadata": {},
   "source": [
    "### Применим регуляризацию L1 и L2 к данным"
   ]
  },
  {
   "cell_type": "code",
   "execution_count": 66,
   "metadata": {},
   "outputs": [],
   "source": [
    "from sklearn.linear_model import Lasso\n",
    "from sklearn.linear_model import Ridge"
   ]
  },
  {
   "cell_type": "markdown",
   "metadata": {},
   "source": [
    "**lasso**"
   ]
  },
  {
   "cell_type": "code",
   "execution_count": 67,
   "metadata": {},
   "outputs": [],
   "source": [
    "alpha=0.00067"
   ]
  },
  {
   "cell_type": "code",
   "execution_count": 68,
   "metadata": {},
   "outputs": [
    {
     "name": "stdout",
     "output_type": "stream",
     "text": [
      "Wall time: 123 ms\n"
     ]
    },
    {
     "data": {
      "text/plain": [
       "Lasso(alpha=0.00067, max_iter=10000)"
      ]
     },
     "execution_count": 68,
     "metadata": {},
     "output_type": "execute_result"
    }
   ],
   "source": [
    "%%time\n",
    "\n",
    "model_lasso = Lasso(alpha=alpha,max_iter=10000)\n",
    "\n",
    "model_lasso.fit(X_train, y_train)"
   ]
  },
  {
   "cell_type": "code",
   "execution_count": 69,
   "metadata": {},
   "outputs": [],
   "source": [
    "y_train_pred = model_lasso.predict(X_train)\n",
    "y_val_pred = model_lasso.predict(X_val)"
   ]
  },
  {
   "cell_type": "code",
   "execution_count": 70,
   "metadata": {},
   "outputs": [
    {
     "data": {
      "text/plain": [
       "0.8545420404005993"
      ]
     },
     "execution_count": 70,
     "metadata": {},
     "output_type": "execute_result"
    }
   ],
   "source": [
    "r2(y_train, y_train_pred)"
   ]
  },
  {
   "cell_type": "code",
   "execution_count": 71,
   "metadata": {
    "scrolled": true
   },
   "outputs": [
    {
     "data": {
      "text/plain": [
       "0.6134293247721807"
      ]
     },
     "execution_count": 71,
     "metadata": {},
     "output_type": "execute_result"
    }
   ],
   "source": [
    "r2(y_val, y_val_pred)"
   ]
  },
  {
   "cell_type": "code",
   "execution_count": 72,
   "metadata": {},
   "outputs": [],
   "source": [
    "#alpha=[0.0004, 0.0005, 0.0006, 0.0007, 0.0008]\n",
    "#alpha=[0.00065, 0.00066, 0.00067, 0.00068, 0.00069]\n",
    "\n",
    "#for it in alpha:\n",
    "#    model_lasso = Lasso(alpha=it,max_iter=10000)\n",
    "#    model_lasso.fit(X_train, y_train)\n",
    "#    y_train_pred = model_lasso.predict(X_train)\n",
    "#    y_val_pred = model_lasso.predict(X_val)\n",
    "#    print(f'Для альфа, равного {it}:')\n",
    "#    print(f'   r2_train: {r2(y_train, y_train_pred)}')\n",
    "#    print(f'   r2_val: {r2(y_val, y_val_pred)}')\n",
    "#    print('_'*50)"
   ]
  },
  {
   "cell_type": "markdown",
   "metadata": {},
   "source": [
    "**ridge**"
   ]
  },
  {
   "cell_type": "code",
   "execution_count": 73,
   "metadata": {},
   "outputs": [],
   "source": [
    "alpha=0.59"
   ]
  },
  {
   "cell_type": "code",
   "execution_count": 74,
   "metadata": {},
   "outputs": [],
   "source": [
    "#%%time\n",
    "\n",
    "#model_ridge = Ridge(alpha=alpha,fit_intercept=False, max_iter=1000, solver='фгещ', random_state=42)\n",
    "#model_ridge.fit(X_train, y_train)"
   ]
  },
  {
   "cell_type": "code",
   "execution_count": 75,
   "metadata": {},
   "outputs": [
    {
     "name": "stdout",
     "output_type": "stream",
     "text": [
      "Wall time: 12.1 ms\n"
     ]
    },
    {
     "data": {
      "text/plain": [
       "Ridge(alpha=0.59, max_iter=10000)"
      ]
     },
     "execution_count": 75,
     "metadata": {},
     "output_type": "execute_result"
    }
   ],
   "source": [
    "%%time\n",
    "\n",
    "model_ridge = Ridge(alpha=alpha,max_iter=10000)\n",
    "model_ridge.fit(X_train, y_train)"
   ]
  },
  {
   "cell_type": "code",
   "execution_count": 76,
   "metadata": {},
   "outputs": [],
   "source": [
    "y_train_pred = model_ridge.predict(X_train)\n",
    "y_val_pred = model_ridge.predict(X_val)"
   ]
  },
  {
   "cell_type": "code",
   "execution_count": 77,
   "metadata": {},
   "outputs": [
    {
     "data": {
      "text/plain": [
       "0.8532604335439162"
      ]
     },
     "execution_count": 77,
     "metadata": {},
     "output_type": "execute_result"
    }
   ],
   "source": [
    "r2(y_train, y_train_pred)"
   ]
  },
  {
   "cell_type": "code",
   "execution_count": 78,
   "metadata": {},
   "outputs": [
    {
     "data": {
      "text/plain": [
       "0.6276023129348407"
      ]
     },
     "execution_count": 78,
     "metadata": {},
     "output_type": "execute_result"
    }
   ],
   "source": [
    "r2(y_val, y_val_pred)"
   ]
  },
  {
   "cell_type": "markdown",
   "metadata": {},
   "source": [
    "*Вывод: результат регуляризации ridge лучше, будем использовать его*"
   ]
  },
  {
   "cell_type": "markdown",
   "metadata": {},
   "source": [
    "**Подберем макропараметр для регуляризации**"
   ]
  },
  {
   "cell_type": "code",
   "execution_count": 79,
   "metadata": {},
   "outputs": [
    {
     "name": "stdout",
     "output_type": "stream",
     "text": [
      "Для альфа, равного 0.56:\n",
      "   r2_train: 0.8559614239292865\n",
      "   r2_val: 0.627527877076698\n",
      "__________________________________________________\n",
      "Для альфа, равного 0.57:\n",
      "   r2_train: 0.8550627392357939\n",
      "   r2_val: 0.6275687605864966\n",
      "__________________________________________________\n",
      "Для альфа, равного 0.58:\n",
      "   r2_train: 0.854162356968712\n",
      "   r2_val: 0.6275933822199489\n",
      "__________________________________________________\n",
      "Для альфа, равного 0.59:\n",
      "   r2_train: 0.8532604335439162\n",
      "   r2_val: 0.6276023129348407\n",
      "__________________________________________________\n",
      "Для альфа, равного 0.6:\n",
      "   r2_train: 0.8523571190315347\n",
      "   r2_val: 0.6275961016709073\n",
      "__________________________________________________\n",
      "Для альфа, равного 0.61:\n",
      "   r2_train: 0.8514525574367277\n",
      "   r2_val: 0.6275752763502358\n",
      "__________________________________________________\n",
      "Для альфа, равного 0.62:\n",
      "   r2_train: 0.8505468869660102\n",
      "   r2_val: 0.6275403448242876\n",
      "__________________________________________________\n",
      "Для альфа, равного 0.63:\n",
      "   r2_train: 0.8496402402799783\n",
      "   r2_val: 0.6274917957708455\n",
      "__________________________________________________\n",
      "Для альфа, равного 0.64:\n",
      "   r2_train: 0.8487327447332466\n",
      "   r2_val: 0.6274300995439487\n",
      "__________________________________________________\n"
     ]
    }
   ],
   "source": [
    "#alpha=[0.2, 0.25, 0.3, 0.35, 0.4, 0.45, 0.5, 0.55, 0.6, 0.65, 0.7]\n",
    "alpha=[0.56,0.57,0.58,0.59,0.6,0.61,0.62,0.63,0.64]\n",
    "#solver = ['auto', 'svd', 'cholesky', 'lsqr', 'sparse_cg', 'sag', 'saga', 'lbfgs']\n",
    "for it in alpha:\n",
    "    model_ridge = Ridge(alpha=it,max_iter=10000)\n",
    "    model_ridge.fit(X_train, y_train)\n",
    "    y_train_pred = model_ridge.predict(X_train)\n",
    "    y_val_pred = model_ridge.predict(X_val)\n",
    "    print(f'Для альфа, равного {it}:')\n",
    "    print(f'   r2_train: {r2(y_train, y_train_pred)}')\n",
    "    print(f'   r2_val: {r2(y_val, y_val_pred)}')\n",
    "    print('_'*50)"
   ]
  },
  {
   "cell_type": "markdown",
   "metadata": {},
   "source": [
    "### Усложним используемое семейство алгоритмов до кубической зависимости"
   ]
  },
  {
   "cell_type": "code",
   "execution_count": 80,
   "metadata": {},
   "outputs": [],
   "source": [
    "alpha=0.59"
   ]
  },
  {
   "cell_type": "code",
   "execution_count": 81,
   "metadata": {},
   "outputs": [
    {
     "name": "stdout",
     "output_type": "stream",
     "text": [
      "Wall time: 0 ns\n"
     ]
    }
   ],
   "source": [
    "%%time\n",
    "model_ridge = Ridge(alpha=alpha,max_iter=10000)"
   ]
  },
  {
   "cell_type": "code",
   "execution_count": 82,
   "metadata": {},
   "outputs": [],
   "source": [
    "from sklearn.preprocessing import PolynomialFeatures\n",
    "from sklearn.pipeline import make_pipeline\n",
    "\n",
    "# создадим новую кубическую модель\n",
    "# полином большей степени не получилось сделать из-за объема памяти выходит ошибка и в колабе и на моем железе\n",
    "# MemoryError: Unable to allocate 284. GiB for an array with shape (387, 98491965) and data type float64\n",
    "third_degree_regressor = make_pipeline(PolynomialFeatures(degree=3), model_ridge)"
   ]
  },
  {
   "cell_type": "code",
   "execution_count": 83,
   "metadata": {},
   "outputs": [
    {
     "data": {
      "text/plain": [
       "Pipeline(steps=[('polynomialfeatures', PolynomialFeatures(degree=3)),\n",
       "                ('ridge', Ridge(alpha=0.59, max_iter=10000))])"
      ]
     },
     "execution_count": 83,
     "metadata": {},
     "output_type": "execute_result"
    }
   ],
   "source": [
    "# обучим ее\n",
    "third_degree_regressor.fit(X_train, y_train)"
   ]
  },
  {
   "cell_type": "code",
   "execution_count": 84,
   "metadata": {},
   "outputs": [],
   "source": [
    "y_train_pred = third_degree_regressor.predict(X_train)\n",
    "y_val_pred = third_degree_regressor.predict(X_val)"
   ]
  },
  {
   "cell_type": "code",
   "execution_count": 85,
   "metadata": {},
   "outputs": [
    {
     "data": {
      "text/plain": [
       "0.9974455089895203"
      ]
     },
     "execution_count": 85,
     "metadata": {},
     "output_type": "execute_result"
    }
   ],
   "source": [
    "r2(y_train, y_train_pred)"
   ]
  },
  {
   "cell_type": "code",
   "execution_count": 86,
   "metadata": {
    "scrolled": true
   },
   "outputs": [
    {
     "data": {
      "text/plain": [
       "0.6368476357073269"
      ]
     },
     "execution_count": 86,
     "metadata": {},
     "output_type": "execute_result"
    }
   ],
   "source": [
    "r2(y_val, y_val_pred)"
   ]
  },
  {
   "cell_type": "markdown",
   "metadata": {},
   "source": [
    "### Обучаем на лучшей из полученных моделей тестовую выборку"
   ]
  },
  {
   "cell_type": "code",
   "execution_count": 87,
   "metadata": {},
   "outputs": [],
   "source": [
    "y_test = third_degree_regressor.predict(test)"
   ]
  },
  {
   "cell_type": "code",
   "execution_count": 88,
   "metadata": {},
   "outputs": [],
   "source": [
    "test_col_drop = df_test.columns"
   ]
  },
  {
   "cell_type": "code",
   "execution_count": 89,
   "metadata": {},
   "outputs": [
    {
     "data": {
      "text/plain": [
       "Index(['code', 'year', 'period', 'id', 'Country', 'population', 'tourists',\n",
       "       'venue', 'rate', 'food', 'glass', 'metal', 'other', 'paper', 'plastic',\n",
       "       'leather', 'green_waste', 'waste_recycling'],\n",
       "      dtype='object')"
      ]
     },
     "execution_count": 89,
     "metadata": {},
     "output_type": "execute_result"
    }
   ],
   "source": [
    "test_col_drop"
   ]
  },
  {
   "cell_type": "code",
   "execution_count": 90,
   "metadata": {},
   "outputs": [],
   "source": [
    "df_test['polution'] = y_test"
   ]
  },
  {
   "cell_type": "code",
   "execution_count": 91,
   "metadata": {
    "scrolled": true
   },
   "outputs": [
    {
     "data": {
      "text/html": [
       "<div>\n",
       "<style scoped>\n",
       "    .dataframe tbody tr th:only-of-type {\n",
       "        vertical-align: middle;\n",
       "    }\n",
       "\n",
       "    .dataframe tbody tr th {\n",
       "        vertical-align: top;\n",
       "    }\n",
       "\n",
       "    .dataframe thead th {\n",
       "        text-align: right;\n",
       "    }\n",
       "</style>\n",
       "<table border=\"1\" class=\"dataframe\">\n",
       "  <thead>\n",
       "    <tr style=\"text-align: right;\">\n",
       "      <th></th>\n",
       "      <th>polution</th>\n",
       "    </tr>\n",
       "    <tr>\n",
       "      <th>index</th>\n",
       "      <th></th>\n",
       "    </tr>\n",
       "  </thead>\n",
       "  <tbody>\n",
       "    <tr>\n",
       "      <th>202</th>\n",
       "      <td>1.402486</td>\n",
       "    </tr>\n",
       "    <tr>\n",
       "      <th>395</th>\n",
       "      <td>0.315973</td>\n",
       "    </tr>\n",
       "    <tr>\n",
       "      <th>725</th>\n",
       "      <td>1.375279</td>\n",
       "    </tr>\n",
       "  </tbody>\n",
       "</table>\n",
       "</div>"
      ],
      "text/plain": [
       "       polution\n",
       "index          \n",
       "202    1.402486\n",
       "395    0.315973\n",
       "725    1.375279"
      ]
     },
     "execution_count": 91,
     "metadata": {},
     "output_type": "execute_result"
    }
   ],
   "source": [
    "df_test = df_test.drop(test_col_drop, axis=1)\n",
    "df_test.head(3)"
   ]
  },
  {
   "cell_type": "code",
   "execution_count": 92,
   "metadata": {},
   "outputs": [],
   "source": [
    "### Сохранение результатов прогнозирования"
   ]
  },
  {
   "cell_type": "code",
   "execution_count": 93,
   "metadata": {},
   "outputs": [],
   "source": [
    "df_test.to_csv('RIM120906_PopovMV_kaggle1_final.csv', index = True)"
   ]
  },
  {
   "cell_type": "code",
   "execution_count": 94,
   "metadata": {},
   "outputs": [],
   "source": [
    "# leaderboard: 0.67569"
   ]
  },
  {
   "cell_type": "code",
   "execution_count": null,
   "metadata": {},
   "outputs": [],
   "source": []
  }
 ],
 "metadata": {
  "colab": {
   "name": "Неделя 2. EDA. Car Moldova SE",
   "provenance": []
  },
  "kernelspec": {
   "display_name": "Python 3",
   "language": "python",
   "name": "python3"
  },
  "language_info": {
   "codemirror_mode": {
    "name": "ipython",
    "version": 3
   },
   "file_extension": ".py",
   "mimetype": "text/x-python",
   "name": "python",
   "nbconvert_exporter": "python",
   "pygments_lexer": "ipython3",
   "version": "3.8.5"
  },
  "toc": {
   "base_numbering": 1,
   "nav_menu": {},
   "number_sections": true,
   "sideBar": true,
   "skip_h1_title": false,
   "title_cell": "Table of Contents",
   "title_sidebar": "Contents",
   "toc_cell": false,
   "toc_position": {
    "height": "calc(100% - 180px)",
    "left": "10px",
    "top": "150px",
    "width": "165px"
   },
   "toc_section_display": true,
   "toc_window_display": true
  }
 },
 "nbformat": 4,
 "nbformat_minor": 1
}
