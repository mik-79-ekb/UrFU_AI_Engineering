{
 "cells": [
  {
   "cell_type": "markdown",
   "metadata": {},
   "source": [
    "# Задание"
   ]
  },
  {
   "cell_type": "markdown",
   "metadata": {
    "id": "LfE3706y8bVK"
   },
   "source": [
    "# Основы работы с Apache Spark\n",
    "Изучите теоретическую часть."
   ]
  },
  {
   "cell_type": "code",
   "execution_count": 1,
   "metadata": {},
   "outputs": [],
   "source": [
    "# Настраиваем переменные окружения для работы с Apache Spark\n",
    "import os\n",
    "os.environ[\"JAVA_HOME\"] = \"C:/Program Files/Java/jdk-19\"\n",
    "os.environ[\"SPARK_HOME\"] = \"C:/Program Files/spark-3.3.1-bin-hadoop3\"\n",
    "# Находим установку Spark\n",
    "import findspark\n",
    "findspark.init()\n",
    "# Подключаем необходимые модули для работы со Spark из Python\n",
    "from pyspark.sql import SparkSession\n",
    "# Создаем сессию Spark на локальном компьютере\n",
    "spark = SparkSession.builder.master(\"local[*]\").getOrCreate()\n",
    "!wget https://datahub.io/core/world-cities/r/world-cities.json -O ./Data/world-cities.json -q"
   ]
  },
  {
   "cell_type": "markdown",
   "metadata": {
    "id": "1um_MOEbhDSq"
   },
   "source": [
    "## Задача 1"
   ]
  },
  {
   "cell_type": "markdown",
   "metadata": {},
   "source": [
    "Модернизируйте заготовку заменив все участки ```<put your code here>``` на ваш код для того, что бы:\n",
    "* выводить на экран схему кадра данных\n",
    "* вычислять и выводить на экран в порядке убывания количества городов страны сгруппированные по стране и региону\n",
    "\n",
    "Пример вывода на экран:\n",
    "```\n",
    "root\n",
    " |-- country: string (nullable = true)\n",
    " |-- geonameid: long (nullable = true)\n",
    " |-- name: string (nullable = true)\n",
    " |-- subcountry: string (nullable = true)\n",
    "\n",
    "+--------------+----------+----+\n",
    "|       country|subcountry| cnt|\n",
    "+--------------+----------+----+\n",
    "| United States|        51|2699|\n",
    "|         India|        35|2443|\n",
    "|        Brazil|        27|1200|\n",
    "|        Russia|        82|1093|\n",
    "|       Germany|        16|1055|\n",
    "|         China|        31| 799|\n",
    "|         Japan|        47| 736|\n",
    "|        France|        13| 633|\n",
    "|         Italy|        20| 571|\n",
    "|         Spain|        19| 569|\n",
    "|        Mexico|        32| 561|\n",
    "|United Kingdom|         4| 513|\n",
    "|   Philippines|        17| 439|\n",
    "|        Turkey|        81| 383|\n",
    "|     Indonesia|        35| 372|\n",
    "|        Poland|        16| 327|\n",
    "|      Pakistan|         6| 312|\n",
    "|   Netherlands|        12| 258|\n",
    "|       Ukraine|        27| 257|\n",
    "|       Algeria|        47| 247|\n",
    "+--------------+----------+----+\n",
    "only showing top 20 rows\n",
    "```"
   ]
  },
  {
   "cell_type": "code",
   "execution_count": 2,
   "metadata": {},
   "outputs": [],
   "source": [
    "from pyspark.sql.functions import count, col, countDistinct, desc\n",
    "df = spark.read.json(\"./Data/world-cities.json\")"
   ]
  },
  {
   "cell_type": "markdown",
   "metadata": {},
   "source": [
    "**Выводим схему кадра данных**"
   ]
  },
  {
   "cell_type": "code",
   "execution_count": 3,
   "metadata": {},
   "outputs": [
    {
     "name": "stdout",
     "output_type": "stream",
     "text": [
      "root\n",
      " |-- country: string (nullable = true)\n",
      " |-- geonameid: long (nullable = true)\n",
      " |-- name: string (nullable = true)\n",
      " |-- subcountry: string (nullable = true)\n",
      "\n"
     ]
    }
   ],
   "source": [
    "df.printSchema()"
   ]
  },
  {
   "cell_type": "markdown",
   "metadata": {},
   "source": [
    "**Выводим страны, сгруппированные по необходимым признакам** "
   ]
  },
  {
   "cell_type": "code",
   "execution_count": 4,
   "metadata": {},
   "outputs": [
    {
     "name": "stdout",
     "output_type": "stream",
     "text": [
      "+--------------+----------+----+\n",
      "|       country|subcountry| cnt|\n",
      "+--------------+----------+----+\n",
      "| United States|        51|2699|\n",
      "|         India|        35|2443|\n",
      "|        Brazil|        27|1200|\n",
      "|        Russia|        82|1093|\n",
      "|       Germany|        16|1055|\n",
      "|         China|        31| 799|\n",
      "|         Japan|        47| 736|\n",
      "|        France|        13| 633|\n",
      "|         Italy|        20| 571|\n",
      "|         Spain|        19| 569|\n",
      "|        Mexico|        32| 561|\n",
      "|United Kingdom|         4| 513|\n",
      "|   Philippines|        17| 439|\n",
      "|        Turkey|        81| 383|\n",
      "|     Indonesia|        35| 372|\n",
      "|        Poland|        16| 327|\n",
      "|      Pakistan|         6| 312|\n",
      "|   Netherlands|        12| 258|\n",
      "|       Ukraine|        27| 257|\n",
      "|       Algeria|        47| 247|\n",
      "+--------------+----------+----+\n",
      "only showing top 20 rows\n",
      "\n"
     ]
    }
   ],
   "source": [
    "df.groupBy(\"country\").agg(countDistinct(col('subcountry')).alias('subcountry'),count(col(\"*\")).alias('cnt')).orderBy(desc('cnt')).show()"
   ]
  },
  {
   "cell_type": "code",
   "execution_count": null,
   "metadata": {},
   "outputs": [],
   "source": []
  }
 ],
 "metadata": {
  "colab": {
   "authorship_tag": "ABX9TyMKTGMj6HYDyy5+xzSqJy3r",
   "collapsed_sections": [],
   "name": "2_practice.ipynb",
   "provenance": []
  },
  "kernelspec": {
   "display_name": "Python 3",
   "language": "python",
   "name": "python3"
  },
  "language_info": {
   "codemirror_mode": {
    "name": "ipython",
    "version": 3
   },
   "file_extension": ".py",
   "mimetype": "text/x-python",
   "name": "python",
   "nbconvert_exporter": "python",
   "pygments_lexer": "ipython3",
   "version": "3.8.5"
  }
 },
 "nbformat": 4,
 "nbformat_minor": 1
}
