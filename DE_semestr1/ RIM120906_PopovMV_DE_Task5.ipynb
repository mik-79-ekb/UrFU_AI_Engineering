{
 "cells": [
  {
   "cell_type": "markdown",
   "metadata": {},
   "source": [
    "# Задание"
   ]
  },
  {
   "cell_type": "markdown",
   "metadata": {
    "id": "LfE3706y8bVK"
   },
   "source": [
    "# Особенности Apache Spark Dataframes\n",
    "Изучите теоретическую часть."
   ]
  },
  {
   "cell_type": "code",
   "execution_count": 1,
   "metadata": {},
   "outputs": [],
   "source": [
    "# Настраиваем переменные окружения для работы с Apache Spark\n",
    "import os\n",
    "os.environ[\"JAVA_HOME\"] = \"C:/Program Files/Java/jdk-19\"\n",
    "os.environ[\"SPARK_HOME\"] = \"C:/Program Files/spark-3.3.1-bin-hadoop3\"\n",
    "# Находим установку Spark\n",
    "import findspark\n",
    "findspark.init()\n",
    "# Подключаем необходимые модули для работы со Spark из Python\n",
    "from pyspark.sql import SparkSession\n",
    "# Создаем сессию Spark на локальном компьютере\n",
    "spark = SparkSession.builder.master(\"local[*]\").getOrCreate()\n",
    "!wget https://datahub.io/core/population/r/population.json -O ./Data/population.json -q"
   ]
  },
  {
   "cell_type": "markdown",
   "metadata": {
    "id": "1um_MOEbhDSq"
   },
   "source": [
    "## Задача 1"
   ]
  },
  {
   "cell_type": "markdown",
   "metadata": {},
   "source": [
    "Модернизируйте заготовку заменив все участки ```<put your code here>``` на ваш код для того, что бы:\n",
    "* вычислить прирост населения в каждой стране от года к году (воспользуйтесь функцией [lag](https://spark.apache.org/docs/2.3.0/api/sql/#lag) или [lead](https://spark.apache.org/docs/2.3.0/api/sql/#lead))\n",
    "* вычислить средний прирост за период с 1990 по 2018 год\n",
    "* вычислить и вывести на экран страны с трендом на убыль населения с 1990 по 2018 годы\n",
    "\n",
    "\n",
    "Пример вывода на экран:\n",
    "```\n",
    "+------------+-------------------+\n",
    "|Country Name|              trend|\n",
    "+------------+-------------------+\n",
    "|    Bulgaria|-14276.898305084746|\n",
    "|     Hungary|-3532.2542372881358|\n",
    "|      Latvia| -3284.830508474576|\n",
    "+------------+-------------------+\n",
    "```"
   ]
  },
  {
   "cell_type": "code",
   "execution_count": 2,
   "metadata": {},
   "outputs": [],
   "source": [
    "from pyspark.sql.functions import lag, col, coalesce, lit, avg, desc\n",
    "df = spark.read.json(\"./Data/population.json\")"
   ]
  },
  {
   "cell_type": "markdown",
   "metadata": {},
   "source": [
    "**Выведем схему кадра данных**"
   ]
  },
  {
   "cell_type": "code",
   "execution_count": 3,
   "metadata": {},
   "outputs": [
    {
     "name": "stdout",
     "output_type": "stream",
     "text": [
      "root\n",
      " |-- Country Code: string (nullable = true)\n",
      " |-- Country Name: string (nullable = true)\n",
      " |-- Value: double (nullable = true)\n",
      " |-- Year: long (nullable = true)\n",
      "\n"
     ]
    }
   ],
   "source": [
    "df.printSchema()"
   ]
  },
  {
   "cell_type": "markdown",
   "metadata": {},
   "source": [
    "**Выведем на экран страны с трендом на убыль населения с 1990 по 2018 годы** "
   ]
  },
  {
   "cell_type": "code",
   "execution_count": 4,
   "metadata": {},
   "outputs": [
    {
     "name": "stdout",
     "output_type": "stream",
     "text": [
      "+--------------------+-------------------+\n",
      "|        Country Name|              trend|\n",
      "+--------------------+-------------------+\n",
      "|Central Europe an...|-284198.03571428574|\n",
      "|             Ukraine|-263498.35714285716|\n",
      "|  Russian Federation|-148069.64285714287|\n",
      "|             Romania|-126250.35714285714|\n",
      "|            Bulgaria|-57404.642857142855|\n",
      "|             Georgia| -39619.67857142857|\n",
      "|Bosnia and Herzeg...|-37335.357142857145|\n",
      "|           Lithuania| -32235.39285714286|\n",
      "|              Latvia|-25835.964285714286|\n",
      "|             Belarus|-25375.035714285714|\n",
      "+--------------------+-------------------+\n",
      "only showing top 10 rows\n",
      "\n"
     ]
    }
   ],
   "source": [
    "from pyspark.sql import Window\n",
    "county_win = Window.partitionBy(\"Country Name\").orderBy(\"Year\")\n",
    "df = df.where('year > 1990').withColumn(\"cnt_country\", coalesce(col('Value') - lag(\"Value\").over(county_win), lit(0)))\n",
    "df = df.groupBy(\"Country Name\").agg(avg(\"cnt_country\").alias(\"trend\"))\n",
    "df.where(\"trend < 0\").orderBy(\"trend\").show(10)"
   ]
  }
 ],
 "metadata": {
  "colab": {
   "authorship_tag": "ABX9TyMKTGMj6HYDyy5+xzSqJy3r",
   "collapsed_sections": [],
   "name": "2_practice.ipynb",
   "provenance": []
  },
  "kernelspec": {
   "display_name": "Python 3",
   "language": "python",
   "name": "python3"
  },
  "language_info": {
   "codemirror_mode": {
    "name": "ipython",
    "version": 3
   },
   "file_extension": ".py",
   "mimetype": "text/x-python",
   "name": "python",
   "nbconvert_exporter": "python",
   "pygments_lexer": "ipython3",
   "version": "3.8.5"
  }
 },
 "nbformat": 4,
 "nbformat_minor": 1
}
