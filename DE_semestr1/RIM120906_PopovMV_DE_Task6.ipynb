{
  "cells": [
    {
      "cell_type": "markdown",
      "metadata": {
        "id": "8uyY33IRkY85"
      },
      "source": [
        "# Задание"
      ]
    },
    {
      "cell_type": "markdown",
      "metadata": {
        "id": "LfE3706y8bVK"
      },
      "source": [
        "# Особенности Apache Spark Dataframes\n",
        "Изучите теоретическую часть."
      ]
    },
    {
      "cell_type": "markdown",
      "metadata": {
        "id": "wY03_g_IkY89"
      },
      "source": [
        "В локальной версии pyspark (spark-3.3.1-bin-hadoop3) не смог побороть ошибку -- _corrupt_record при загрузке данных\n",
        "поэтому сделал по шаблону через google colab на более старой версии"
      ]
    },
    {
      "cell_type": "code",
      "execution_count": 1,
      "metadata": {
        "id": "_FUmwtJmkY8-"
      },
      "outputs": [],
      "source": [
        "# Устанавливаем OpenJDK\n",
        "!apt-get install openjdk-8-jdk-headless -qq > /dev/null\n",
        "# Закачиваем Spark\n",
        "!wget -q http://archive.apache.org/dist/spark/spark-3.2.0/spark-3.2.0-bin-hadoop2.7.tgz -O spark.tgz\n",
        "# Распаковываем архив со Spark\n",
        "!tar xf spark.tgz\n",
        "# Устанавливаем пакет findspark для работы со Spark из Python\n",
        "!pip install -q findspark\n",
        "# Настраиваем переменные окружения для работы с Apache Spark\n",
        "import os\n",
        "os.environ[\"JAVA_HOME\"] = \"/usr/lib/jvm/java-8-openjdk-amd64\"\n",
        "os.environ[\"SPARK_HOME\"] = \"/content/spark-3.2.0-bin-hadoop2.7\"\n",
        "# Находим установку Spark\n",
        "import findspark\n",
        "findspark.init()\n",
        "# Подключаем необходимые модули для работы со Spark из Python\n",
        "from pyspark.sql import SparkSession\n",
        "# Создаем сессию Spark на локальном компьютере\n",
        "spark = SparkSession.builder.master(\"local[*]\").getOrCreate()\n",
        "!mkdir sample_data/accounts"
      ]
    },
    {
      "cell_type": "code",
      "execution_count": 2,
      "metadata": {
        "scrolled": true,
        "id": "shOc54J9kY8_"
      },
      "outputs": [],
      "source": [
        "os.makedirs(\"./Data/sample_data/accounts\")"
      ]
    },
    {
      "cell_type": "code",
      "execution_count": 3,
      "metadata": {
        "id": "9Obq-nBekY9A"
      },
      "outputs": [],
      "source": [
        "!echo '{  \"id\": \"a1globalid\",  \"op\": \"c\",  \"ts\": 1577863800000,  \"data\": {    \"account_id\": \"a1\",    \"name\": \"Anton\",    \"address\": \"Moscow\",    \"phone_number\": \"12345678\",    \"email\": \"anthony@somebank.com\"  }}' > /content/sample_data/accounts/1577863800000.json\n",
        "!echo '{  \"id\": \"a2globalid\",  \"op\": \"c\",  \"ts\": 1577873800000,  \"data\": {    \"account_id\": \"a2\",    \"name\": \"Alex\",    \"address\": \"Atlanta\",    \"phone_number\": \"98765432\",    \"email\": \"Alex@somebank.com\"  }}' > /content/sample_data/accounts/1577873800000.json\n",
        "!echo '{  \"id\": \"a1globalid\",  \"op\": \"u\",  \"ts\": 1577865600000,  \"set\": {    \"phone_number\": \"87654321\"  }}' > /content/sample_data/accounts/1577865600000.json\n",
        "!echo '{  \"id\": \"a1globalid\",  \"op\": \"u\",  \"ts\": 1577890800000,  \"set\": {    \"savings_account_id\": \"sa1\"  }}' > /content/sample_data/accounts/1577890800000.json\n",
        "!echo '{  \"id\": \"a2globalid\",  \"op\": \"u\",  \"ts\": 1577890900000,  \"set\": {    \"savings_account_id\": \"sa2\"  }}' > /content/sample_data/accounts/1577890900000.json\n",
        "!echo '{  \"id\": \"a1globalid\",  \"op\": \"u\",  \"ts\": 1577894400000,  \"set\": {    \"address\": \"Yekaterinburg\",    \"email\": \"anthony@anotherbank.com\"  }}' > /content/sample_data/accounts/1577894400000.json\n",
        "!echo '{  \"id\": \"a1globalid\",  \"op\": \"u\",  \"ts\": 1577926800000,  \"set\": {    \"card_id\": \"c1\"  }}' > /content/sample_data/accounts/1577926800000.json\n",
        "!echo '{  \"id\": \"a1globalid\",  \"op\": \"u\",  \"ts\": 1579078860000,  \"set\": {    \"card_id\": \"\"  }}' > /content/sample_data/accounts/1579078860000.json\n",
        "!echo '{  \"id\": \"a1globalid\",  \"op\": \"u\",  \"ts\": 1579163400000,  \"set\": {    \"card_id\": \"c2\"  }}' > /content/sample_data/accounts/1579163400000.json"
      ]
    },
    {
      "cell_type": "markdown",
      "metadata": {
        "id": "1um_MOEbhDSq"
      },
      "source": [
        "## Задача 1"
      ]
    },
    {
      "cell_type": "markdown",
      "metadata": {
        "id": "DzHVj_L9kY9B"
      },
      "source": [
        "Есть таблица: «accounts». <br>\n",
        "Вы можете считать журналы событий этой таблицы в соответствующем каталоге с именем `./Data/sample_data/accounts`.\n",
        "\n",
        "Журналы событий имеют формат JSON, а определения полей следующие:\n",
        "\n",
        "| Поле | Описание |\n",
        "|: -----: | ------------- |\n",
        "| id | ID записи БД |\n",
        "| op | тип работы с БД. «c» означает «создать», а «u» означает «обновить» |\n",
        "| ts | отметка времени, когда произошло событие |\n",
        "| data | Пары поля / значения записи БД. Существует только в случае типа \"c\" |\n",
        "| set | Обновлены пары поле / значение записи БД. Существует только в случае типа «u» |\n",
        "\n",
        "Задача:\n",
        "Визуализируйте полное историческое табличное представление в табличном формате в стандартном выводе (подсказка: распечатайте таблицу)\n",
        "\n",
        "Пример вывода на экран:\n",
        "```\n",
        "+-------------+----------+-------------+--------------------+-----+------------+-------+------------------+\n",
        "|           ts|account_id|      address|               email| name|phone_number|card_id|savings_account_id|\n",
        "+-------------+----------+-------------+--------------------+-----+------------+-------+------------------+\n",
        "|1577863800000|        a1|       Moscow|anthony@somebank.com|Anton|    12345678|   null|              null|\n",
        "|1577865600000|        a1|       Moscow|anthony@somebank.com|Anton|    87654321|   null|              null|\n",
        "|1577890800000|        a1|       Moscow|anthony@somebank.com|Anton|    87654321|   null|               sa1|\n",
        "|1577894400000|        a1|Yekaterinburg|anthony@anotherba...|Anton|    87654321|   null|               sa1|\n",
        "|1577926800000|        a1|Yekaterinburg|anthony@anotherba...|Anton|    87654321|     c1|               sa1|\n",
        "|1579078860000|        a1|Yekaterinburg|anthony@anotherba...|Anton|    87654321|       |               sa1|\n",
        "|1579163400000|        a1|Yekaterinburg|anthony@anotherba...|Anton|    87654321|     c2|               sa1|\n",
        "+-------------+----------+-------------+--------------------+-----+------------+-------+------------------+\n",
        "```"
      ]
    },
    {
      "cell_type": "code",
      "execution_count": 4,
      "metadata": {
        "id": "HsBKGYfLkY9C"
      },
      "outputs": [],
      "source": [
        "from pyspark.sql.functions import coalesce, last\n",
        "df = spark.read.json(\"/content/sample_data/accounts/\")"
      ]
    },
    {
      "cell_type": "markdown",
      "metadata": {
        "id": "ktuuiy0YkY9C"
      },
      "source": [
        "**Выведем схему кадра данных**"
      ]
    },
    {
      "cell_type": "code",
      "execution_count": 5,
      "metadata": {
        "colab": {
          "base_uri": "https://localhost:8080/"
        },
        "id": "oEWJLqe8kY9C",
        "outputId": "8d41ec66-8387-4778-dcc7-87011fd13719"
      },
      "outputs": [
        {
          "output_type": "stream",
          "name": "stdout",
          "text": [
            "root\n",
            " |-- data: struct (nullable = true)\n",
            " |    |-- account_id: string (nullable = true)\n",
            " |    |-- address: string (nullable = true)\n",
            " |    |-- email: string (nullable = true)\n",
            " |    |-- name: string (nullable = true)\n",
            " |    |-- phone_number: string (nullable = true)\n",
            " |-- id: string (nullable = true)\n",
            " |-- op: string (nullable = true)\n",
            " |-- set: struct (nullable = true)\n",
            " |    |-- address: string (nullable = true)\n",
            " |    |-- card_id: string (nullable = true)\n",
            " |    |-- email: string (nullable = true)\n",
            " |    |-- phone_number: string (nullable = true)\n",
            " |    |-- savings_account_id: string (nullable = true)\n",
            " |-- ts: long (nullable = true)\n",
            "\n"
          ]
        }
      ],
      "source": [
        "df.printSchema()"
      ]
    },
    {
      "cell_type": "markdown",
      "metadata": {
        "id": "xeszP0G7kY9D"
      },
      "source": [
        "**Визуализируем полное историческое табличное представление в табличном формате в стандартном выводе** "
      ]
    },
    {
      "cell_type": "code",
      "execution_count": 6,
      "metadata": {
        "colab": {
          "base_uri": "https://localhost:8080/"
        },
        "id": "7AJjwvqokY9E",
        "outputId": "3017ad8d-9b62-4af5-8c71-bb84493752d5"
      },
      "outputs": [
        {
          "output_type": "stream",
          "name": "stdout",
          "text": [
            "+-------------+----------+-------------+--------------------+-----+------------+-------+------------------+\n",
            "|           ts|account_id|      address|               email| name|phone_number|card_id|savings_account_id|\n",
            "+-------------+----------+-------------+--------------------+-----+------------+-------+------------------+\n",
            "|1577863800000|        a1|       Moscow|anthony@somebank.com|Anton|    12345678|   null|              null|\n",
            "|1577865600000|        a1|       Moscow|anthony@somebank.com|Anton|    87654321|   null|              null|\n",
            "|1577890800000|        a1|       Moscow|anthony@somebank.com|Anton|    87654321|   null|               sa1|\n",
            "|1577894400000|        a1|Yekaterinburg|anthony@anotherba...|Anton|    87654321|   null|               sa1|\n",
            "|1577926800000|        a1|Yekaterinburg|anthony@anotherba...|Anton|    87654321|     c1|               sa1|\n",
            "|1579078860000|        a1|Yekaterinburg|anthony@anotherba...|Anton|    87654321|       |               sa1|\n",
            "|1579163400000|        a1|Yekaterinburg|anthony@anotherba...|Anton|    87654321|     c2|               sa1|\n",
            "|1577873800000|        a2|      Atlanta|   Alex@somebank.com| Alex|    98765432|   null|              null|\n",
            "|1577890900000|        a2|      Atlanta|   Alex@somebank.com| Alex|    98765432|   null|               sa2|\n",
            "+-------------+----------+-------------+--------------------+-----+------------+-------+------------------+\n",
            "\n"
          ]
        }
      ],
      "source": [
        "from pyspark.sql import Window\n",
        "account_window = Window.partitionBy(\"id\").orderBy(\"ts\")\n",
        "df = df.select(\"id\", \"ts\", \"op\", \"data.account_id\"\n",
        ",coalesce(\"data.address\",\"set.address\").name(\"address\") \n",
        ",coalesce(\"data.email\",\"set.email\").name(\"email\") \n",
        ",\"data.name\"\n",
        ",coalesce(\"data.phone_number\",\"set.phone_number\").name(\"phone_number\")\n",
        ",\"set.card_id\"\n",
        ",\"set.savings_account_id\")\n",
        "df.select(\"ts\", last(\"account_id\", True).over(account_window).name(\"account_id\")\n",
        ",last(\"address\", True).over(account_window).name(\"address\")\n",
        ",last(\"email\", True).over(account_window).name(\"email\")\n",
        ",last(\"name\", True).over(account_window).name(\"name\")\n",
        ",last(\"phone_number\", True).over(account_window).name(\"phone_number\")\n",
        ",last(\"card_id\", True).over(account_window).name(\"card_id\")\n",
        ",last(\"savings_account_id\", True).over(account_window).name(\"savings_account_id\")\n",
        ").show()"
      ]
    },
    {
      "cell_type": "code",
      "execution_count": null,
      "metadata": {
        "id": "SsnDh4z_kY9E"
      },
      "outputs": [],
      "source": []
    }
  ],
  "metadata": {
    "colab": {
      "provenance": []
    },
    "kernelspec": {
      "display_name": "Python 3",
      "language": "python",
      "name": "python3"
    },
    "language_info": {
      "codemirror_mode": {
        "name": "ipython",
        "version": 3
      },
      "file_extension": ".py",
      "mimetype": "text/x-python",
      "name": "python",
      "nbconvert_exporter": "python",
      "pygments_lexer": "ipython3",
      "version": "3.8.5"
    }
  },
  "nbformat": 4,
  "nbformat_minor": 0
}