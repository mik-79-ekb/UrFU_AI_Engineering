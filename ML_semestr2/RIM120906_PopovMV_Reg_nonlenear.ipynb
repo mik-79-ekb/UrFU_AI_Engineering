{
  "cells": [
    {
      "cell_type": "markdown",
      "id": "ba28384b",
      "metadata": {
        "id": "ba28384b"
      },
      "source": [
        "## Применение Алгоритмов Регрессии (не Бустинг)"
      ]
    },
    {
      "cell_type": "markdown",
      "id": "9a0150a7",
      "metadata": {
        "id": "9a0150a7"
      },
      "source": [
        "###  Задание"
      ]
    },
    {
      "cell_type": "markdown",
      "id": "b14054a3",
      "metadata": {
        "id": "b14054a3"
      },
      "source": [
        "Выберете набор данных для регрессии (Регрессия это когда целевая переменная имеет формально бесконечное число возможных значений).  \n",
        "- возможно использование набора данных Cars Moldova, но он некоторым возможно надоел. При использовании этого набора ОБЯЗАТЕЛЬНО использовать в модели категориальные признаки и/или новые признаки  \n",
        "- возможно использование данных связанных с вашими проектными работами и / или вашей работой (если разумеется этими данными можно делиться)  \n",
        "- возможно использование набора данных Water Polution, но тогда надо ОБЯЗАТЕЛЬНО генерировать новые признаки  \n",
        "- возможно использование наборов данных из открытых источников (OpenML, Kaggle). Основной критерий - достаточно много признаков и много данных. Условно от 5 различных признаков (без целевой переменной) и от 1000 строк данных. Примеры допустимых наборов данных (минус за креативность, что поделаешь):  \n",
        "        Цена на дом https://www.kaggle.com/competitions/house-prices-advanced-regression-techniques  \n",
        "\n",
        "- НЕЛЬЗЯ использовать данные из соревнования в текущем семестре (спойлер - это связано с Open University Learning Analytics Dataset)  \n",
        "\n",
        "\n",
        "Выполните импорт данных. Оцените типы имеющихся данных, проверьте наличие дубликатов и/или пропущенных значений. Выполните исследовательский анализ данных. Оцените связь Признаков с целевой переменной (корреляция с помощью метода cor библиотеки Pandas)  \n",
        "Выполните адекватную предварительную обработку данных разными методами. Разные методы означают стандартизацию, нормализацию и степенное преобразование для числовых признаков и порядковое/one-hot кодирование для категориальных. Адекватную в смысле учета начального распределения данных (для этого надо визуализировать данные, хотя бы).  \n",
        "Разделите данные на тренировочную и валидационную выборку. Определитесь с метриками, по которым вы будете оценивать модель (лучше взять не менее 3 метрик). Учитывайте дисперсию целевой переменной.   \n",
        "Выберите модель машинного обучения. Это должна быть **не** линейная модель (была в прошлом семестре) и **не** ансамблевая модель (на это будет отдельное задание). Определите перечень гиперпараметров модели, которые необходимо оптимизировать.  \n",
        "- можно уже играться с к-Ближайшими соседями, можно подождать обзора моделей SVM / Деревьев Решений  \n",
        "\n",
        "Выполните оптимизацию гиперпараметров модели. Можно воспользоваться методом \"вручную попробую несколько гиперпараметров\", но лучше попрактиковаться с методами GridSearch, RandomizedSearch или библиотека Optuna  \n",
        "Оцените полученную модель на тестовой выборке. Выполните анализ ошибок модели, а также \"всего чего сможете оценить\" у полученной модели. Попробуйте сделать выводы о том, почему модель принимает такие решения, какие она принимает.  \n",
        "Загрузите ссылку (предварительно убедившись в открытом доступе) или ipynb файл (ура можно смотреть их прямо в MS Teams) своего решения в MS Teams  \n",
        "Если копируете работу у кого-то то хотя бы поменяйте цветовые карты на графиках и перефразируйте выводы / комментарии. (или используйте другой random_state при разбиении данных)  \n",
        "Если берете какие-то готовые решения из Kaggle то не поленитесь хотя бы перевести безпалевно)  \n",
        "\n",
        "Блокнот необходимо прилежно оформить  \n",
        "- хочется видеть структуру (Заголовки разного уровня);  \n",
        "- ожидается видеть не только код, но и комментарии к нему;  \n",
        "- не должно быть запущенных ячеек с ошибками; \n",
        "- ожидается что рисунки адекватно оформлены (не маленького размера, есть описание того, что на рисунке)"
      ]
    },
    {
      "cell_type": "markdown",
      "id": "0bec6bc0",
      "metadata": {
        "id": "0bec6bc0"
      },
      "source": [
        "**Датасет:** New York City Taxi Trip Duration  \n",
        "https://www.kaggle.com/competitions/nyc-taxi-trip-duration"
      ]
    },
    {
      "cell_type": "markdown",
      "id": "7bb02787",
      "metadata": {
        "id": "7bb02787"
      },
      "source": [
        "### Dataset Description"
      ]
    },
    {
      "cell_type": "markdown",
      "id": "003a5f4b",
      "metadata": {
        "id": "003a5f4b"
      },
      "source": [
        "The competition dataset is based on the 2016 NYC Yellow Cab trip record data made available in Big Query on Google Cloud Platform. The data was originally published by the NYC Taxi and Limousine Commission (TLC). The data was sampled and cleaned for the purposes of this playground competition. Based on individual trip attributes, participants should predict the duration of each trip in the test set.  \n",
        "\n",
        "*File descriptions*  \n",
        "train.csv - the training set (contains 1458644 trip records)  \n",
        "test.csv - the testing set (contains 625134 trip records)  \n",
        "sample_submission.csv - a sample submission file in the correct format  \n",
        "*Data fields*\n",
        "id - a unique identifier for each trip  \n",
        "vendor_id - a code indicating the provider associated with the trip record  \n",
        "pickup_datetime - date and time when the meter was engaged  \n",
        "dropoff_datetime - date and time when the meter was disengaged  \n",
        "passenger_count - the number of passengers in the vehicle (driver entered value)  \n",
        "pickup_longitude - the longitude where the meter was engaged  \n",
        "pickup_latitude - the latitude where the meter was engaged  \n",
        "dropoff_longitude - the longitude where the meter was disengaged  \n",
        "dropoff_latitude - the latitude where the meter was disengaged  \n",
        "store_and_fwd_flag - This flag indicates whether the trip record was held in vehicle memory before sending to the vendor because the vehicle did not have a connection to the server - Y=store and forward; N=not a store and forward trip  \n",
        "trip_duration - duration of the trip in seconds  \n",
        "\n",
        "Disclaimer: The decision was made to not remove dropoff coordinates from the dataset order to provide an expanded set of variables to use in Kernels.  "
      ]
    },
    {
      "cell_type": "markdown",
      "id": "a9f30326",
      "metadata": {
        "id": "a9f30326"
      },
      "source": [
        "### Импорт необходимых библиотек "
      ]
    },
    {
      "cell_type": "code",
      "execution_count": 1,
      "id": "b1264d03",
      "metadata": {
        "id": "b1264d03"
      },
      "outputs": [],
      "source": [
        "import numpy as np \n",
        "import pandas as pd\n",
        "import seaborn as sns\n",
        "import matplotlib.pyplot as plt\n",
        "from sklearn.preprocessing import LabelEncoder\n",
        "from sklearn.preprocessing import MinMaxScaler\n",
        "import os\n",
        "import warnings\n",
        "warnings.filterwarnings(\"ignore\")\n",
        "\n",
        "%matplotlib inline"
      ]
    },
    {
      "cell_type": "code",
      "execution_count": 2,
      "id": "46ef95ea",
      "metadata": {
        "id": "46ef95ea"
      },
      "outputs": [],
      "source": [
        "# 2. Разделение датасета\n",
        "from sklearn.model_selection import train_test_split, KFold, GridSearchCV"
      ]
    },
    {
      "cell_type": "markdown",
      "id": "df86ca4f",
      "metadata": {
        "id": "df86ca4f"
      },
      "source": [
        "### Загрузка датасета"
      ]
    },
    {
      "cell_type": "code",
      "execution_count": 3,
      "id": "f7345d3f",
      "metadata": {
        "id": "f7345d3f"
      },
      "outputs": [],
      "source": [
        "DATASET_PATH = './'"
      ]
    },
    {
      "cell_type": "code",
      "execution_count": 4,
      "id": "9492fa6f",
      "metadata": {
        "colab": {
          "base_uri": "https://localhost:8080/",
          "height": 357
        },
        "id": "9492fa6f",
        "outputId": "e08e5ec9-4926-46e7-83bd-55216c2594e7"
      },
      "outputs": [
        {
          "output_type": "execute_result",
          "data": {
            "text/plain": [
              "          id  vendor_id      pickup_datetime     dropoff_datetime  \\\n",
              "0  id2875421          2  2016-03-14 17:24:55  2016-03-14 17:32:30   \n",
              "1  id2377394          1  2016-06-12 00:43:35  2016-06-12 00:54:38   \n",
              "2  id3858529          2  2016-01-19 11:35:24  2016-01-19 12:10:48   \n",
              "3  id3504673          2  2016-04-06 19:32:31  2016-04-06 19:39:40   \n",
              "4  id2181028          2  2016-03-26 13:30:55  2016-03-26 13:38:10   \n",
              "\n",
              "   passenger_count  pickup_longitude  pickup_latitude  dropoff_longitude  \\\n",
              "0                1        -73.982155        40.767937         -73.964630   \n",
              "1                1        -73.980415        40.738564         -73.999481   \n",
              "2                1        -73.979027        40.763939         -74.005333   \n",
              "3                1        -74.010040        40.719971         -74.012268   \n",
              "4                1        -73.973053        40.793209         -73.972923   \n",
              "\n",
              "   dropoff_latitude store_and_fwd_flag  trip_duration  \n",
              "0         40.765602                  N            455  \n",
              "1         40.731152                  N            663  \n",
              "2         40.710087                  N           2124  \n",
              "3         40.706718                  N            429  \n",
              "4         40.782520                  N            435  "
            ],
            "text/html": [
              "\n",
              "  <div id=\"df-a38fbd3c-eec8-4efd-a828-15606b7e9eaa\">\n",
              "    <div class=\"colab-df-container\">\n",
              "      <div>\n",
              "<style scoped>\n",
              "    .dataframe tbody tr th:only-of-type {\n",
              "        vertical-align: middle;\n",
              "    }\n",
              "\n",
              "    .dataframe tbody tr th {\n",
              "        vertical-align: top;\n",
              "    }\n",
              "\n",
              "    .dataframe thead th {\n",
              "        text-align: right;\n",
              "    }\n",
              "</style>\n",
              "<table border=\"1\" class=\"dataframe\">\n",
              "  <thead>\n",
              "    <tr style=\"text-align: right;\">\n",
              "      <th></th>\n",
              "      <th>id</th>\n",
              "      <th>vendor_id</th>\n",
              "      <th>pickup_datetime</th>\n",
              "      <th>dropoff_datetime</th>\n",
              "      <th>passenger_count</th>\n",
              "      <th>pickup_longitude</th>\n",
              "      <th>pickup_latitude</th>\n",
              "      <th>dropoff_longitude</th>\n",
              "      <th>dropoff_latitude</th>\n",
              "      <th>store_and_fwd_flag</th>\n",
              "      <th>trip_duration</th>\n",
              "    </tr>\n",
              "  </thead>\n",
              "  <tbody>\n",
              "    <tr>\n",
              "      <th>0</th>\n",
              "      <td>id2875421</td>\n",
              "      <td>2</td>\n",
              "      <td>2016-03-14 17:24:55</td>\n",
              "      <td>2016-03-14 17:32:30</td>\n",
              "      <td>1</td>\n",
              "      <td>-73.982155</td>\n",
              "      <td>40.767937</td>\n",
              "      <td>-73.964630</td>\n",
              "      <td>40.765602</td>\n",
              "      <td>N</td>\n",
              "      <td>455</td>\n",
              "    </tr>\n",
              "    <tr>\n",
              "      <th>1</th>\n",
              "      <td>id2377394</td>\n",
              "      <td>1</td>\n",
              "      <td>2016-06-12 00:43:35</td>\n",
              "      <td>2016-06-12 00:54:38</td>\n",
              "      <td>1</td>\n",
              "      <td>-73.980415</td>\n",
              "      <td>40.738564</td>\n",
              "      <td>-73.999481</td>\n",
              "      <td>40.731152</td>\n",
              "      <td>N</td>\n",
              "      <td>663</td>\n",
              "    </tr>\n",
              "    <tr>\n",
              "      <th>2</th>\n",
              "      <td>id3858529</td>\n",
              "      <td>2</td>\n",
              "      <td>2016-01-19 11:35:24</td>\n",
              "      <td>2016-01-19 12:10:48</td>\n",
              "      <td>1</td>\n",
              "      <td>-73.979027</td>\n",
              "      <td>40.763939</td>\n",
              "      <td>-74.005333</td>\n",
              "      <td>40.710087</td>\n",
              "      <td>N</td>\n",
              "      <td>2124</td>\n",
              "    </tr>\n",
              "    <tr>\n",
              "      <th>3</th>\n",
              "      <td>id3504673</td>\n",
              "      <td>2</td>\n",
              "      <td>2016-04-06 19:32:31</td>\n",
              "      <td>2016-04-06 19:39:40</td>\n",
              "      <td>1</td>\n",
              "      <td>-74.010040</td>\n",
              "      <td>40.719971</td>\n",
              "      <td>-74.012268</td>\n",
              "      <td>40.706718</td>\n",
              "      <td>N</td>\n",
              "      <td>429</td>\n",
              "    </tr>\n",
              "    <tr>\n",
              "      <th>4</th>\n",
              "      <td>id2181028</td>\n",
              "      <td>2</td>\n",
              "      <td>2016-03-26 13:30:55</td>\n",
              "      <td>2016-03-26 13:38:10</td>\n",
              "      <td>1</td>\n",
              "      <td>-73.973053</td>\n",
              "      <td>40.793209</td>\n",
              "      <td>-73.972923</td>\n",
              "      <td>40.782520</td>\n",
              "      <td>N</td>\n",
              "      <td>435</td>\n",
              "    </tr>\n",
              "  </tbody>\n",
              "</table>\n",
              "</div>\n",
              "      <button class=\"colab-df-convert\" onclick=\"convertToInteractive('df-a38fbd3c-eec8-4efd-a828-15606b7e9eaa')\"\n",
              "              title=\"Convert this dataframe to an interactive table.\"\n",
              "              style=\"display:none;\">\n",
              "        \n",
              "  <svg xmlns=\"http://www.w3.org/2000/svg\" height=\"24px\"viewBox=\"0 0 24 24\"\n",
              "       width=\"24px\">\n",
              "    <path d=\"M0 0h24v24H0V0z\" fill=\"none\"/>\n",
              "    <path d=\"M18.56 5.44l.94 2.06.94-2.06 2.06-.94-2.06-.94-.94-2.06-.94 2.06-2.06.94zm-11 1L8.5 8.5l.94-2.06 2.06-.94-2.06-.94L8.5 2.5l-.94 2.06-2.06.94zm10 10l.94 2.06.94-2.06 2.06-.94-2.06-.94-.94-2.06-.94 2.06-2.06.94z\"/><path d=\"M17.41 7.96l-1.37-1.37c-.4-.4-.92-.59-1.43-.59-.52 0-1.04.2-1.43.59L10.3 9.45l-7.72 7.72c-.78.78-.78 2.05 0 2.83L4 21.41c.39.39.9.59 1.41.59.51 0 1.02-.2 1.41-.59l7.78-7.78 2.81-2.81c.8-.78.8-2.07 0-2.86zM5.41 20L4 18.59l7.72-7.72 1.47 1.35L5.41 20z\"/>\n",
              "  </svg>\n",
              "      </button>\n",
              "      \n",
              "  <style>\n",
              "    .colab-df-container {\n",
              "      display:flex;\n",
              "      flex-wrap:wrap;\n",
              "      gap: 12px;\n",
              "    }\n",
              "\n",
              "    .colab-df-convert {\n",
              "      background-color: #E8F0FE;\n",
              "      border: none;\n",
              "      border-radius: 50%;\n",
              "      cursor: pointer;\n",
              "      display: none;\n",
              "      fill: #1967D2;\n",
              "      height: 32px;\n",
              "      padding: 0 0 0 0;\n",
              "      width: 32px;\n",
              "    }\n",
              "\n",
              "    .colab-df-convert:hover {\n",
              "      background-color: #E2EBFA;\n",
              "      box-shadow: 0px 1px 2px rgba(60, 64, 67, 0.3), 0px 1px 3px 1px rgba(60, 64, 67, 0.15);\n",
              "      fill: #174EA6;\n",
              "    }\n",
              "\n",
              "    [theme=dark] .colab-df-convert {\n",
              "      background-color: #3B4455;\n",
              "      fill: #D2E3FC;\n",
              "    }\n",
              "\n",
              "    [theme=dark] .colab-df-convert:hover {\n",
              "      background-color: #434B5C;\n",
              "      box-shadow: 0px 1px 3px 1px rgba(0, 0, 0, 0.15);\n",
              "      filter: drop-shadow(0px 1px 2px rgba(0, 0, 0, 0.3));\n",
              "      fill: #FFFFFF;\n",
              "    }\n",
              "  </style>\n",
              "\n",
              "      <script>\n",
              "        const buttonEl =\n",
              "          document.querySelector('#df-a38fbd3c-eec8-4efd-a828-15606b7e9eaa button.colab-df-convert');\n",
              "        buttonEl.style.display =\n",
              "          google.colab.kernel.accessAllowed ? 'block' : 'none';\n",
              "\n",
              "        async function convertToInteractive(key) {\n",
              "          const element = document.querySelector('#df-a38fbd3c-eec8-4efd-a828-15606b7e9eaa');\n",
              "          const dataTable =\n",
              "            await google.colab.kernel.invokeFunction('convertToInteractive',\n",
              "                                                     [key], {});\n",
              "          if (!dataTable) return;\n",
              "\n",
              "          const docLinkHtml = 'Like what you see? Visit the ' +\n",
              "            '<a target=\"_blank\" href=https://colab.research.google.com/notebooks/data_table.ipynb>data table notebook</a>'\n",
              "            + ' to learn more about interactive tables.';\n",
              "          element.innerHTML = '';\n",
              "          dataTable['output_type'] = 'display_data';\n",
              "          await google.colab.output.renderOutput(dataTable, element);\n",
              "          const docLink = document.createElement('div');\n",
              "          docLink.innerHTML = docLinkHtml;\n",
              "          element.appendChild(docLink);\n",
              "        }\n",
              "      </script>\n",
              "    </div>\n",
              "  </div>\n",
              "  "
            ]
          },
          "metadata": {},
          "execution_count": 4
        }
      ],
      "source": [
        "train_df = pd.read_csv(f'{DATASET_PATH}train.csv', sep=',')\n",
        "train_df.head()"
      ]
    },
    {
      "cell_type": "code",
      "execution_count": 5,
      "id": "587f7b02",
      "metadata": {
        "scrolled": true,
        "id": "587f7b02"
      },
      "outputs": [],
      "source": [
        "#test_df = pd.read_csv(f'{DATASET_PATH}test.csv', sep=',')\n",
        "#test_df.head()"
      ]
    },
    {
      "cell_type": "code",
      "execution_count": 6,
      "id": "956fd62e",
      "metadata": {
        "scrolled": true,
        "id": "956fd62e"
      },
      "outputs": [],
      "source": [
        "#submission = pd.read_csv(f'{DATASET_PATH}sample_submission.csv', sep=',')\n",
        "#submission.head()"
      ]
    },
    {
      "cell_type": "markdown",
      "id": "99dd1e84",
      "metadata": {
        "id": "99dd1e84"
      },
      "source": [
        "### Подготовка и обработка данных"
      ]
    },
    {
      "cell_type": "markdown",
      "id": "49a3bf28",
      "metadata": {
        "id": "49a3bf28"
      },
      "source": [
        "Общие статистики по датасету"
      ]
    },
    {
      "cell_type": "code",
      "execution_count": 7,
      "id": "ed36a88d",
      "metadata": {
        "scrolled": true,
        "colab": {
          "base_uri": "https://localhost:8080/",
          "height": 300
        },
        "id": "ed36a88d",
        "outputId": "e9fb5fc8-fcee-4ee6-dfa5-24f951896151"
      },
      "outputs": [
        {
          "output_type": "execute_result",
          "data": {
            "text/plain": [
              "       vendor_id  passenger_count  pickup_longitude  pickup_latitude  \\\n",
              "count  1458644.0        1458644.0         1458644.0        1458644.0   \n",
              "mean         2.0              2.0             -74.0             41.0   \n",
              "std          0.0              1.0               0.0              0.0   \n",
              "min          1.0              0.0            -122.0             34.0   \n",
              "25%          1.0              1.0             -74.0             41.0   \n",
              "50%          2.0              1.0             -74.0             41.0   \n",
              "75%          2.0              2.0             -74.0             41.0   \n",
              "max          2.0              9.0             -61.0             52.0   \n",
              "\n",
              "       dropoff_longitude  dropoff_latitude  trip_duration  \n",
              "count          1458644.0         1458644.0      1458644.0  \n",
              "mean               -74.0              41.0          959.0  \n",
              "std                  0.0               0.0         5237.0  \n",
              "min               -122.0              32.0            1.0  \n",
              "25%                -74.0              41.0          397.0  \n",
              "50%                -74.0              41.0          662.0  \n",
              "75%                -74.0              41.0         1075.0  \n",
              "max                -61.0              44.0      3526282.0  "
            ],
            "text/html": [
              "\n",
              "  <div id=\"df-c25b2901-0f26-433b-baeb-6cc90c7e6478\">\n",
              "    <div class=\"colab-df-container\">\n",
              "      <div>\n",
              "<style scoped>\n",
              "    .dataframe tbody tr th:only-of-type {\n",
              "        vertical-align: middle;\n",
              "    }\n",
              "\n",
              "    .dataframe tbody tr th {\n",
              "        vertical-align: top;\n",
              "    }\n",
              "\n",
              "    .dataframe thead th {\n",
              "        text-align: right;\n",
              "    }\n",
              "</style>\n",
              "<table border=\"1\" class=\"dataframe\">\n",
              "  <thead>\n",
              "    <tr style=\"text-align: right;\">\n",
              "      <th></th>\n",
              "      <th>vendor_id</th>\n",
              "      <th>passenger_count</th>\n",
              "      <th>pickup_longitude</th>\n",
              "      <th>pickup_latitude</th>\n",
              "      <th>dropoff_longitude</th>\n",
              "      <th>dropoff_latitude</th>\n",
              "      <th>trip_duration</th>\n",
              "    </tr>\n",
              "  </thead>\n",
              "  <tbody>\n",
              "    <tr>\n",
              "      <th>count</th>\n",
              "      <td>1458644.0</td>\n",
              "      <td>1458644.0</td>\n",
              "      <td>1458644.0</td>\n",
              "      <td>1458644.0</td>\n",
              "      <td>1458644.0</td>\n",
              "      <td>1458644.0</td>\n",
              "      <td>1458644.0</td>\n",
              "    </tr>\n",
              "    <tr>\n",
              "      <th>mean</th>\n",
              "      <td>2.0</td>\n",
              "      <td>2.0</td>\n",
              "      <td>-74.0</td>\n",
              "      <td>41.0</td>\n",
              "      <td>-74.0</td>\n",
              "      <td>41.0</td>\n",
              "      <td>959.0</td>\n",
              "    </tr>\n",
              "    <tr>\n",
              "      <th>std</th>\n",
              "      <td>0.0</td>\n",
              "      <td>1.0</td>\n",
              "      <td>0.0</td>\n",
              "      <td>0.0</td>\n",
              "      <td>0.0</td>\n",
              "      <td>0.0</td>\n",
              "      <td>5237.0</td>\n",
              "    </tr>\n",
              "    <tr>\n",
              "      <th>min</th>\n",
              "      <td>1.0</td>\n",
              "      <td>0.0</td>\n",
              "      <td>-122.0</td>\n",
              "      <td>34.0</td>\n",
              "      <td>-122.0</td>\n",
              "      <td>32.0</td>\n",
              "      <td>1.0</td>\n",
              "    </tr>\n",
              "    <tr>\n",
              "      <th>25%</th>\n",
              "      <td>1.0</td>\n",
              "      <td>1.0</td>\n",
              "      <td>-74.0</td>\n",
              "      <td>41.0</td>\n",
              "      <td>-74.0</td>\n",
              "      <td>41.0</td>\n",
              "      <td>397.0</td>\n",
              "    </tr>\n",
              "    <tr>\n",
              "      <th>50%</th>\n",
              "      <td>2.0</td>\n",
              "      <td>1.0</td>\n",
              "      <td>-74.0</td>\n",
              "      <td>41.0</td>\n",
              "      <td>-74.0</td>\n",
              "      <td>41.0</td>\n",
              "      <td>662.0</td>\n",
              "    </tr>\n",
              "    <tr>\n",
              "      <th>75%</th>\n",
              "      <td>2.0</td>\n",
              "      <td>2.0</td>\n",
              "      <td>-74.0</td>\n",
              "      <td>41.0</td>\n",
              "      <td>-74.0</td>\n",
              "      <td>41.0</td>\n",
              "      <td>1075.0</td>\n",
              "    </tr>\n",
              "    <tr>\n",
              "      <th>max</th>\n",
              "      <td>2.0</td>\n",
              "      <td>9.0</td>\n",
              "      <td>-61.0</td>\n",
              "      <td>52.0</td>\n",
              "      <td>-61.0</td>\n",
              "      <td>44.0</td>\n",
              "      <td>3526282.0</td>\n",
              "    </tr>\n",
              "  </tbody>\n",
              "</table>\n",
              "</div>\n",
              "      <button class=\"colab-df-convert\" onclick=\"convertToInteractive('df-c25b2901-0f26-433b-baeb-6cc90c7e6478')\"\n",
              "              title=\"Convert this dataframe to an interactive table.\"\n",
              "              style=\"display:none;\">\n",
              "        \n",
              "  <svg xmlns=\"http://www.w3.org/2000/svg\" height=\"24px\"viewBox=\"0 0 24 24\"\n",
              "       width=\"24px\">\n",
              "    <path d=\"M0 0h24v24H0V0z\" fill=\"none\"/>\n",
              "    <path d=\"M18.56 5.44l.94 2.06.94-2.06 2.06-.94-2.06-.94-.94-2.06-.94 2.06-2.06.94zm-11 1L8.5 8.5l.94-2.06 2.06-.94-2.06-.94L8.5 2.5l-.94 2.06-2.06.94zm10 10l.94 2.06.94-2.06 2.06-.94-2.06-.94-.94-2.06-.94 2.06-2.06.94z\"/><path d=\"M17.41 7.96l-1.37-1.37c-.4-.4-.92-.59-1.43-.59-.52 0-1.04.2-1.43.59L10.3 9.45l-7.72 7.72c-.78.78-.78 2.05 0 2.83L4 21.41c.39.39.9.59 1.41.59.51 0 1.02-.2 1.41-.59l7.78-7.78 2.81-2.81c.8-.78.8-2.07 0-2.86zM5.41 20L4 18.59l7.72-7.72 1.47 1.35L5.41 20z\"/>\n",
              "  </svg>\n",
              "      </button>\n",
              "      \n",
              "  <style>\n",
              "    .colab-df-container {\n",
              "      display:flex;\n",
              "      flex-wrap:wrap;\n",
              "      gap: 12px;\n",
              "    }\n",
              "\n",
              "    .colab-df-convert {\n",
              "      background-color: #E8F0FE;\n",
              "      border: none;\n",
              "      border-radius: 50%;\n",
              "      cursor: pointer;\n",
              "      display: none;\n",
              "      fill: #1967D2;\n",
              "      height: 32px;\n",
              "      padding: 0 0 0 0;\n",
              "      width: 32px;\n",
              "    }\n",
              "\n",
              "    .colab-df-convert:hover {\n",
              "      background-color: #E2EBFA;\n",
              "      box-shadow: 0px 1px 2px rgba(60, 64, 67, 0.3), 0px 1px 3px 1px rgba(60, 64, 67, 0.15);\n",
              "      fill: #174EA6;\n",
              "    }\n",
              "\n",
              "    [theme=dark] .colab-df-convert {\n",
              "      background-color: #3B4455;\n",
              "      fill: #D2E3FC;\n",
              "    }\n",
              "\n",
              "    [theme=dark] .colab-df-convert:hover {\n",
              "      background-color: #434B5C;\n",
              "      box-shadow: 0px 1px 3px 1px rgba(0, 0, 0, 0.15);\n",
              "      filter: drop-shadow(0px 1px 2px rgba(0, 0, 0, 0.3));\n",
              "      fill: #FFFFFF;\n",
              "    }\n",
              "  </style>\n",
              "\n",
              "      <script>\n",
              "        const buttonEl =\n",
              "          document.querySelector('#df-c25b2901-0f26-433b-baeb-6cc90c7e6478 button.colab-df-convert');\n",
              "        buttonEl.style.display =\n",
              "          google.colab.kernel.accessAllowed ? 'block' : 'none';\n",
              "\n",
              "        async function convertToInteractive(key) {\n",
              "          const element = document.querySelector('#df-c25b2901-0f26-433b-baeb-6cc90c7e6478');\n",
              "          const dataTable =\n",
              "            await google.colab.kernel.invokeFunction('convertToInteractive',\n",
              "                                                     [key], {});\n",
              "          if (!dataTable) return;\n",
              "\n",
              "          const docLinkHtml = 'Like what you see? Visit the ' +\n",
              "            '<a target=\"_blank\" href=https://colab.research.google.com/notebooks/data_table.ipynb>data table notebook</a>'\n",
              "            + ' to learn more about interactive tables.';\n",
              "          element.innerHTML = '';\n",
              "          dataTable['output_type'] = 'display_data';\n",
              "          await google.colab.output.renderOutput(dataTable, element);\n",
              "          const docLink = document.createElement('div');\n",
              "          docLink.innerHTML = docLinkHtml;\n",
              "          element.appendChild(docLink);\n",
              "        }\n",
              "      </script>\n",
              "    </div>\n",
              "  </div>\n",
              "  "
            ]
          },
          "metadata": {},
          "execution_count": 7
        }
      ],
      "source": [
        "round(train_df.describe()) # округлим для наглядности"
      ]
    },
    {
      "cell_type": "code",
      "execution_count": 8,
      "id": "488427dd",
      "metadata": {
        "colab": {
          "base_uri": "https://localhost:8080/"
        },
        "id": "488427dd",
        "outputId": "52746ef3-a912-4d7a-b5e1-9e9e32eaa694"
      },
      "outputs": [
        {
          "output_type": "execute_result",
          "data": {
            "text/plain": [
              "id                     object\n",
              "vendor_id               int64\n",
              "pickup_datetime        object\n",
              "dropoff_datetime       object\n",
              "passenger_count         int64\n",
              "pickup_longitude      float64\n",
              "pickup_latitude       float64\n",
              "dropoff_longitude     float64\n",
              "dropoff_latitude      float64\n",
              "store_and_fwd_flag     object\n",
              "trip_duration           int64\n",
              "dtype: object"
            ]
          },
          "metadata": {},
          "execution_count": 8
        }
      ],
      "source": [
        "train_df.dtypes"
      ]
    },
    {
      "cell_type": "markdown",
      "id": "36a86d6f",
      "metadata": {
        "id": "36a86d6f"
      },
      "source": [
        "Изучим временные рамки датасета"
      ]
    },
    {
      "cell_type": "code",
      "execution_count": 9,
      "id": "a49f1ac1",
      "metadata": {
        "id": "a49f1ac1"
      },
      "outputs": [],
      "source": [
        "train_df['pickup_datetime'] = pd.to_datetime(\n",
        "    train_df['pickup_datetime'],\n",
        "    format = '%Y-%m-%d %H:%M:%S'\n",
        ")\n",
        "train_df['dropoff_datetime'] = pd.to_datetime(\n",
        "    train_df['dropoff_datetime'],\n",
        "    format = '%Y-%m-%d %H:%M:%S'\n",
        ")"
      ]
    },
    {
      "cell_type": "code",
      "execution_count": 10,
      "id": "b35387fc",
      "metadata": {
        "scrolled": true,
        "colab": {
          "base_uri": "https://localhost:8080/"
        },
        "id": "b35387fc",
        "outputId": "56205b2a-76f7-4163-99b7-64bb62e7350b"
      },
      "outputs": [
        {
          "output_type": "stream",
          "name": "stdout",
          "text": [
            "2016-01-01 00:00:17\n",
            "2016-06-30 23:59:39\n"
          ]
        }
      ],
      "source": [
        "print(train_df['pickup_datetime'].min())\n",
        "print(train_df['pickup_datetime'].max())"
      ]
    },
    {
      "cell_type": "code",
      "execution_count": 11,
      "id": "7e9af327",
      "metadata": {
        "id": "7e9af327"
      },
      "outputs": [],
      "source": [
        "#test_df['pickup_datetime'] = pd.to_datetime(\n",
        "#    test_df['pickup_datetime'],\n",
        "#    format = '%Y-%m-%d %H:%M:%S'\n",
        "#)"
      ]
    },
    {
      "cell_type": "code",
      "execution_count": 12,
      "id": "b3074b5e",
      "metadata": {
        "id": "b3074b5e"
      },
      "outputs": [],
      "source": [
        "#print(test_df['pickup_datetime'].min())\n",
        "#print(test_df['pickup_datetime'].max())"
      ]
    },
    {
      "cell_type": "markdown",
      "id": "2f56581d",
      "metadata": {
        "id": "2f56581d"
      },
      "source": [
        "Проверим на пропуски и дубликаты"
      ]
    },
    {
      "cell_type": "code",
      "execution_count": 13,
      "id": "3e72682b",
      "metadata": {
        "colab": {
          "base_uri": "https://localhost:8080/"
        },
        "id": "3e72682b",
        "outputId": "73f8f051-62d7-418d-b864-47a592a6ef82"
      },
      "outputs": [
        {
          "output_type": "execute_result",
          "data": {
            "text/plain": [
              "id                    0\n",
              "vendor_id             0\n",
              "pickup_datetime       0\n",
              "dropoff_datetime      0\n",
              "passenger_count       0\n",
              "pickup_longitude      0\n",
              "pickup_latitude       0\n",
              "dropoff_longitude     0\n",
              "dropoff_latitude      0\n",
              "store_and_fwd_flag    0\n",
              "trip_duration         0\n",
              "dtype: int64"
            ]
          },
          "metadata": {},
          "execution_count": 13
        }
      ],
      "source": [
        "train_df.isnull().sum()"
      ]
    },
    {
      "cell_type": "code",
      "execution_count": 14,
      "id": "0222ef24",
      "metadata": {
        "id": "0222ef24"
      },
      "outputs": [],
      "source": [
        "#test_df.isnull().sum()"
      ]
    },
    {
      "cell_type": "code",
      "execution_count": 15,
      "id": "af13f142",
      "metadata": {
        "colab": {
          "base_uri": "https://localhost:8080/",
          "height": 113
        },
        "id": "af13f142",
        "outputId": "e09d84a4-6b21-48c0-b479-f98638c404af"
      },
      "outputs": [
        {
          "output_type": "execute_result",
          "data": {
            "text/plain": [
              "Empty DataFrame\n",
              "Columns: [id, vendor_id, pickup_datetime, dropoff_datetime, passenger_count, pickup_longitude, pickup_latitude, dropoff_longitude, dropoff_latitude, store_and_fwd_flag, trip_duration]\n",
              "Index: []"
            ],
            "text/html": [
              "\n",
              "  <div id=\"df-e9de9c05-1946-4072-899b-88c7413d706e\">\n",
              "    <div class=\"colab-df-container\">\n",
              "      <div>\n",
              "<style scoped>\n",
              "    .dataframe tbody tr th:only-of-type {\n",
              "        vertical-align: middle;\n",
              "    }\n",
              "\n",
              "    .dataframe tbody tr th {\n",
              "        vertical-align: top;\n",
              "    }\n",
              "\n",
              "    .dataframe thead th {\n",
              "        text-align: right;\n",
              "    }\n",
              "</style>\n",
              "<table border=\"1\" class=\"dataframe\">\n",
              "  <thead>\n",
              "    <tr style=\"text-align: right;\">\n",
              "      <th></th>\n",
              "      <th>id</th>\n",
              "      <th>vendor_id</th>\n",
              "      <th>pickup_datetime</th>\n",
              "      <th>dropoff_datetime</th>\n",
              "      <th>passenger_count</th>\n",
              "      <th>pickup_longitude</th>\n",
              "      <th>pickup_latitude</th>\n",
              "      <th>dropoff_longitude</th>\n",
              "      <th>dropoff_latitude</th>\n",
              "      <th>store_and_fwd_flag</th>\n",
              "      <th>trip_duration</th>\n",
              "    </tr>\n",
              "  </thead>\n",
              "  <tbody>\n",
              "  </tbody>\n",
              "</table>\n",
              "</div>\n",
              "      <button class=\"colab-df-convert\" onclick=\"convertToInteractive('df-e9de9c05-1946-4072-899b-88c7413d706e')\"\n",
              "              title=\"Convert this dataframe to an interactive table.\"\n",
              "              style=\"display:none;\">\n",
              "        \n",
              "  <svg xmlns=\"http://www.w3.org/2000/svg\" height=\"24px\"viewBox=\"0 0 24 24\"\n",
              "       width=\"24px\">\n",
              "    <path d=\"M0 0h24v24H0V0z\" fill=\"none\"/>\n",
              "    <path d=\"M18.56 5.44l.94 2.06.94-2.06 2.06-.94-2.06-.94-.94-2.06-.94 2.06-2.06.94zm-11 1L8.5 8.5l.94-2.06 2.06-.94-2.06-.94L8.5 2.5l-.94 2.06-2.06.94zm10 10l.94 2.06.94-2.06 2.06-.94-2.06-.94-.94-2.06-.94 2.06-2.06.94z\"/><path d=\"M17.41 7.96l-1.37-1.37c-.4-.4-.92-.59-1.43-.59-.52 0-1.04.2-1.43.59L10.3 9.45l-7.72 7.72c-.78.78-.78 2.05 0 2.83L4 21.41c.39.39.9.59 1.41.59.51 0 1.02-.2 1.41-.59l7.78-7.78 2.81-2.81c.8-.78.8-2.07 0-2.86zM5.41 20L4 18.59l7.72-7.72 1.47 1.35L5.41 20z\"/>\n",
              "  </svg>\n",
              "      </button>\n",
              "      \n",
              "  <style>\n",
              "    .colab-df-container {\n",
              "      display:flex;\n",
              "      flex-wrap:wrap;\n",
              "      gap: 12px;\n",
              "    }\n",
              "\n",
              "    .colab-df-convert {\n",
              "      background-color: #E8F0FE;\n",
              "      border: none;\n",
              "      border-radius: 50%;\n",
              "      cursor: pointer;\n",
              "      display: none;\n",
              "      fill: #1967D2;\n",
              "      height: 32px;\n",
              "      padding: 0 0 0 0;\n",
              "      width: 32px;\n",
              "    }\n",
              "\n",
              "    .colab-df-convert:hover {\n",
              "      background-color: #E2EBFA;\n",
              "      box-shadow: 0px 1px 2px rgba(60, 64, 67, 0.3), 0px 1px 3px 1px rgba(60, 64, 67, 0.15);\n",
              "      fill: #174EA6;\n",
              "    }\n",
              "\n",
              "    [theme=dark] .colab-df-convert {\n",
              "      background-color: #3B4455;\n",
              "      fill: #D2E3FC;\n",
              "    }\n",
              "\n",
              "    [theme=dark] .colab-df-convert:hover {\n",
              "      background-color: #434B5C;\n",
              "      box-shadow: 0px 1px 3px 1px rgba(0, 0, 0, 0.15);\n",
              "      filter: drop-shadow(0px 1px 2px rgba(0, 0, 0, 0.3));\n",
              "      fill: #FFFFFF;\n",
              "    }\n",
              "  </style>\n",
              "\n",
              "      <script>\n",
              "        const buttonEl =\n",
              "          document.querySelector('#df-e9de9c05-1946-4072-899b-88c7413d706e button.colab-df-convert');\n",
              "        buttonEl.style.display =\n",
              "          google.colab.kernel.accessAllowed ? 'block' : 'none';\n",
              "\n",
              "        async function convertToInteractive(key) {\n",
              "          const element = document.querySelector('#df-e9de9c05-1946-4072-899b-88c7413d706e');\n",
              "          const dataTable =\n",
              "            await google.colab.kernel.invokeFunction('convertToInteractive',\n",
              "                                                     [key], {});\n",
              "          if (!dataTable) return;\n",
              "\n",
              "          const docLinkHtml = 'Like what you see? Visit the ' +\n",
              "            '<a target=\"_blank\" href=https://colab.research.google.com/notebooks/data_table.ipynb>data table notebook</a>'\n",
              "            + ' to learn more about interactive tables.';\n",
              "          element.innerHTML = '';\n",
              "          dataTable['output_type'] = 'display_data';\n",
              "          await google.colab.output.renderOutput(dataTable, element);\n",
              "          const docLink = document.createElement('div');\n",
              "          docLink.innerHTML = docLinkHtml;\n",
              "          element.appendChild(docLink);\n",
              "        }\n",
              "      </script>\n",
              "    </div>\n",
              "  </div>\n",
              "  "
            ]
          },
          "metadata": {},
          "execution_count": 15
        }
      ],
      "source": [
        "duplicateRows = train_df[train_df.duplicated()]\n",
        "duplicateRows"
      ]
    },
    {
      "cell_type": "code",
      "execution_count": 16,
      "id": "a41ae569",
      "metadata": {
        "id": "a41ae569"
      },
      "outputs": [],
      "source": [
        "#duplicateRows = test_df[train_df.duplicated()]\n",
        "#duplicateRows"
      ]
    },
    {
      "cell_type": "markdown",
      "id": "dd4fcba1",
      "metadata": {
        "id": "dd4fcba1"
      },
      "source": [
        "### Убираем выбросы по выбросы в целевой переменной - длительности поездки.\n",
        "- длительность больше 2 часов;\n",
        "- слишком коротким меньше 2 минут."
      ]
    },
    {
      "cell_type": "code",
      "execution_count": 17,
      "id": "5d1a3ef9",
      "metadata": {
        "id": "5d1a3ef9"
      },
      "outputs": [],
      "source": [
        "maxtime = 60*60*2\n",
        "mintime = 60*2"
      ]
    },
    {
      "cell_type": "code",
      "execution_count": 18,
      "id": "067e101f",
      "metadata": {
        "colab": {
          "base_uri": "https://localhost:8080/"
        },
        "id": "067e101f",
        "outputId": "7bbbedac-b05d-4a4a-f853-de92abe666c5"
      },
      "outputs": [
        {
          "output_type": "stream",
          "name": "stdout",
          "text": [
            "Количество выбросов по признаку максимальной длительности поездки: 2253\n",
            "Количество выбросов по признаку минимальной длительности поездки: 27817\n"
          ]
        }
      ],
      "source": [
        "print(\n",
        "    'Количество выбросов по признаку максимальной длительности поездки:',\n",
        "    train_df[train_df['trip_duration'] > maxtime].shape[0]\n",
        ")\n",
        "print(\n",
        "    'Количество выбросов по признаку минимальной длительности поездки:',\n",
        "    train_df[train_df['trip_duration'] < mintime].shape[0]\n",
        ")"
      ]
    },
    {
      "cell_type": "code",
      "execution_count": 19,
      "id": "06e4efb8",
      "metadata": {
        "id": "06e4efb8"
      },
      "outputs": [],
      "source": [
        "mask_1 = train_df['trip_duration'] <= maxtime\n",
        "mask_2 = train_df['trip_duration'] >= mintime\n",
        "train_df = train_df[mask_1 & mask_2]"
      ]
    },
    {
      "cell_type": "code",
      "execution_count": 20,
      "id": "b3bec333",
      "metadata": {
        "scrolled": true,
        "colab": {
          "base_uri": "https://localhost:8080/",
          "height": 513
        },
        "id": "b3bec333",
        "outputId": "f4c7e7f6-1a3f-4c81-93ff-8f0e9fdeca4a"
      },
      "outputs": [
        {
          "output_type": "display_data",
          "data": {
            "text/plain": [
              "<Figure size 1500x500 with 1 Axes>"
            ],
            "image/png": "[encoded data removed]"
          },
          "metadata": {}
        }
      ],
      "source": [
        "plt.figure(figsize=(15,5))\n",
        "plt.subplot(121)\n",
        "sns.distplot(train_df['trip_duration'].values, bins=50, color='#38d1ff')\n",
        "plt.title('Распределение целевой переменной - y\\n',fontsize=15)\n",
        "plt.xlabel('Значение (сек)'); plt.ylabel('Кол-во');"
      ]
    },
    {
      "cell_type": "code",
      "execution_count": 21,
      "id": "ceffdf4e",
      "metadata": {
        "colab": {
          "base_uri": "https://localhost:8080/",
          "height": 478
        },
        "id": "ceffdf4e",
        "outputId": "d86ad843-6a3b-4b4e-9c83-10844e106aae"
      },
      "outputs": [
        {
          "output_type": "display_data",
          "data": {
            "text/plain": [
              "<Figure size 640x480 with 1 Axes>"
            ],
            "image/png": "[encoded data removed]"
          },
          "metadata": {}
        }
      ],
      "source": [
        "sns.boxplot(train_df['trip_duration'].values, color='#50248f')\n",
        "plt.title('Распределение целевой переменной - y\\n',fontsize=15)\n",
        "plt.ylabel('Значение (сек)'); "
      ]
    },
    {
      "cell_type": "markdown",
      "id": "17e9e459",
      "metadata": {
        "id": "17e9e459"
      },
      "source": [
        "Вывод: Да, остался длинный \"хвост\" выбросов, но пусть будет - посмотрим, как это повлияет на результат"
      ]
    },
    {
      "cell_type": "code",
      "execution_count": 22,
      "id": "560800d9",
      "metadata": {
        "id": "560800d9"
      },
      "outputs": [],
      "source": [
        "train_df['trip_duration_log'] = np.log(train_df['trip_duration'] + 1)"
      ]
    },
    {
      "cell_type": "markdown",
      "id": "14678e5a",
      "metadata": {
        "id": "14678e5a"
      },
      "source": [
        "Построим визуализацию, которая позволит сравнить распределение длительности поездки в логарифмическом масштабе (trip_duration_log) в зависимости от таксопарка (vendor_id)."
      ]
    },
    {
      "cell_type": "code",
      "execution_count": 23,
      "id": "cb81d6ca",
      "metadata": {
        "colab": {
          "base_uri": "https://localhost:8080/",
          "height": 372
        },
        "id": "cb81d6ca",
        "outputId": "1cb0d569-1e6d-4eb2-d83b-9d647a35f544"
      },
      "outputs": [
        {
          "output_type": "display_data",
          "data": {
            "text/plain": [
              "<Figure size 1500x400 with 2 Axes>"
            ],
            "image/png": "[encoded data removed]"
          },
          "metadata": {}
        }
      ],
      "source": [
        "train_df['vendor_id'] = train_df['vendor_id'].astype('category')\n",
        "\n",
        "fig, axes = plt.subplots(nrows = 2, ncols = 1, figsize = (15, 4))\n",
        "histplot = sns.histplot(\n",
        "    data = train_df,\n",
        "    x = 'trip_duration_log',\n",
        "    y = 'vendor_id',\n",
        "    ax = axes[0]\n",
        ")\n",
        "\n",
        "histplot.set_title('Зависимость длительности поездки от таксопарка')\n",
        "boxplot = sns.boxplot(\n",
        "    data = train_df,\n",
        "    x = 'trip_duration_log',\n",
        "    y = 'vendor_id',\n",
        "    ax = axes[1]\n",
        ");"
      ]
    },
    {
      "cell_type": "markdown",
      "id": "7b4be061",
      "metadata": {
        "id": "7b4be061"
      },
      "source": [
        "Можно сделать вывод о том, что распределения в группах практически не отличаются, признак vendor_id не имеет значения при определении длительности поездки."
      ]
    },
    {
      "cell_type": "markdown",
      "id": "b7c12b6c",
      "metadata": {
        "id": "b7c12b6c"
      },
      "source": [
        "Сравним распределение длительности поездки в логарифмическом масштабе (trip_duration_log) в зависимости от признака отправки сообщения поставщику (store_and_fwd_flag)"
      ]
    },
    {
      "cell_type": "code",
      "execution_count": 24,
      "id": "5c8d270f",
      "metadata": {
        "colab": {
          "base_uri": "https://localhost:8080/",
          "height": 375
        },
        "id": "5c8d270f",
        "outputId": "95d35f0b-4ef0-4dbe-8cef-8ed319bb1f26"
      },
      "outputs": [
        {
          "output_type": "display_data",
          "data": {
            "text/plain": [
              "<Figure size 1500x400 with 2 Axes>"
            ],
            "image/png": "[encoded data removed]"
          },
          "metadata": {}
        }
      ],
      "source": [
        "fig, axes = plt.subplots(nrows = 2, ncols = 1, figsize = (15, 4))\n",
        "\n",
        "histplot = sns.histplot(\n",
        "    data = train_df,\n",
        "    x = 'trip_duration_log',\n",
        "    y = 'store_and_fwd_flag',\n",
        "    ax = axes[0]\n",
        ")\n",
        "histplot.set_title('Зависимость длительности поездки от признака отправки сообщения')\n",
        "violinplot = sns.violinplot(\n",
        "    data = train_df,\n",
        "    x = 'trip_duration_log',\n",
        "    y = 'store_and_fwd_flag',\n",
        "    ax = axes[1]\n",
        ");\n"
      ]
    },
    {
      "cell_type": "markdown",
      "id": "0dec3801",
      "metadata": {
        "id": "0dec3801"
      },
      "source": [
        "Распределения в группах значительно отличаются, прзнак store_and_fwd_flag имеет значение при определении длительности поездки"
      ]
    },
    {
      "cell_type": "markdown",
      "id": "7d40d9a4",
      "metadata": {
        "id": "7d40d9a4"
      },
      "source": [
        "### Обогащение датасета признаками"
      ]
    },
    {
      "cell_type": "markdown",
      "id": "7814a0aa",
      "metadata": {
        "id": "7814a0aa"
      },
      "source": [
        "Реализуем функцию add_datetime_features(), которая принимает на вход таблицу с данными о поездках (DataFrame) и возвращает ту же таблицу с добавленными в нее 3 столбцами:\n",
        "- pickup_date - дата включения счетчика - начала поездки (без времени);  \n",
        "- pickup_hour - час дня включения счетчика;\n",
        "- pickup_day_of_week - наименование дня недели, в который был включен счетчик."
      ]
    },
    {
      "cell_type": "code",
      "execution_count": 25,
      "id": "69d91c1b",
      "metadata": {
        "id": "69d91c1b"
      },
      "outputs": [],
      "source": [
        "def add_datetime_features(df):\n",
        "    df['pickup_date'] = df['pickup_datetime'].dt.date\n",
        "    df['pickup_hour'] = df['pickup_datetime'].dt.hour\n",
        "    df['pickup_day_of_week'] = df['pickup_datetime'].dt.dayofweek\n",
        "    return df\n",
        "\n",
        "train_df = add_datetime_features(train_df)"
      ]
    },
    {
      "cell_type": "markdown",
      "id": "eb39fdf9",
      "metadata": {
        "id": "eb39fdf9"
      },
      "source": [
        "Посмотрим на:\n",
        "- распределение количества поездок в зависимости от часа дня;\n",
        "- зависимость медианной длительности поездки от часа дня."
      ]
    },
    {
      "cell_type": "code",
      "execution_count": 26,
      "id": "b2d57eb1",
      "metadata": {
        "colab": {
          "base_uri": "https://localhost:8080/",
          "height": 366
        },
        "id": "b2d57eb1",
        "outputId": "775ba40f-b49e-4482-b27a-c9789caf8ad5"
      },
      "outputs": [
        {
          "output_type": "display_data",
          "data": {
            "text/plain": [
              "<Figure size 1500x400 with 2 Axes>"
            ],
            "image/png": "[encoded data removed]"
          },
          "metadata": {}
        }
      ],
      "source": [
        "duration_by_hour = train_df.groupby('pickup_hour')['trip_duration'].median()\n",
        "\n",
        "fig, axes = plt.subplots(nrows = 1, ncols = 2, figsize = (15, 4))\n",
        "countplot = sns.countplot(data = train_df, x = 'pickup_hour', ax = axes[0])\n",
        "countplot.set_title('Количество поездок в зависимости от часа дня')\n",
        "lineplot = sns.lineplot(data = duration_by_hour, ax = axes[1])\n",
        "lineplot.set_title('Медианная длительность поездки от часа дня')\n",
        "lineplot.xaxis.set_ticks(duration_by_hour.index)\n",
        "lineplot.set_ylabel('median');"
      ]
    },
    {
      "cell_type": "markdown",
      "id": "48c91fb5",
      "metadata": {
        "id": "48c91fb5"
      },
      "source": [
        "Посмотрим на:\n",
        "- распределение количества поездок в зависимости от дня недели;\n",
        "- зависимость медианной длительности поездки от дня недели."
      ]
    },
    {
      "cell_type": "code",
      "execution_count": 27,
      "id": "e3288f93",
      "metadata": {
        "colab": {
          "base_uri": "https://localhost:8080/",
          "height": 360
        },
        "id": "e3288f93",
        "outputId": "630fd672-7c06-4f29-9000-63553c371c53"
      },
      "outputs": [
        {
          "output_type": "display_data",
          "data": {
            "text/plain": [
              "<Figure size 1500x400 with 2 Axes>"
            ],
            "image/png": "[encoded data removed]"
          },
          "metadata": {}
        }
      ],
      "source": [
        "duration_by_day = train_df.groupby('pickup_day_of_week')['trip_duration'].median()\n",
        "\n",
        "fig, axes = plt.subplots(nrows = 1, ncols = 2, figsize = (15, 4))\n",
        "countplot = sns.countplot(data = train_df, x = 'pickup_day_of_week', ax = axes[0])\n",
        "countplot.set_title('Распределение количества поездок в зависимости от дня недели')\n",
        "lineplot = sns.lineplot(data = duration_by_day, ax = axes[1])\n",
        "lineplot.set_title('Зависимость медианной длительности поездки от дня недели')\n",
        "lineplot.set_ylabel('median');"
      ]
    },
    {
      "cell_type": "markdown",
      "id": "f14df7bc",
      "metadata": {
        "id": "f14df7bc"
      },
      "source": [
        "Построим сводную таблицу, по строкам которой отложены часы (pickup_hour), по столбцам - дни недели (pickup_day_of_week), а в ячейках - медианная длительность поездки (trip_duration)."
      ]
    },
    {
      "cell_type": "code",
      "execution_count": 28,
      "id": "6d1a6cea",
      "metadata": {
        "colab": {
          "base_uri": "https://localhost:8080/",
          "height": 641
        },
        "id": "6d1a6cea",
        "outputId": "473a6256-607e-47f5-f3db-8500e9ea728b"
      },
      "outputs": [
        {
          "output_type": "display_data",
          "data": {
            "text/plain": [
              "<Figure size 1000x700 with 2 Axes>"
            ],
            "image/png": "[encoded data removed]"
          },
          "metadata": {}
        }
      ],
      "source": [
        "pivot = train_df.pivot_table(\n",
        "    values = 'trip_duration',\n",
        "    index = 'pickup_hour',\n",
        "    columns = 'pickup_day_of_week',\n",
        "    aggfunc = 'median'\n",
        ")\n",
        "\n",
        "# визуализируем полученную таблицу\n",
        "fig = plt.figure(figsize = (10, 7))\n",
        "heatmap = sns.heatmap(data = pivot, cmap = 'coolwarm')\n",
        "heatmap.set_title('Длительности поездки в зависимости от временных характеристих');"
      ]
    },
    {
      "cell_type": "code",
      "execution_count": 29,
      "id": "93cfc8d1",
      "metadata": {
        "id": "93cfc8d1"
      },
      "outputs": [],
      "source": [
        "# КРАСИВОЕ!"
      ]
    },
    {
      "cell_type": "markdown",
      "id": "fe713690",
      "metadata": {
        "id": "fe713690"
      },
      "source": [
        "### Отбор и преобразование признаков"
      ]
    },
    {
      "cell_type": "markdown",
      "id": "acefda33",
      "metadata": {
        "id": "acefda33"
      },
      "source": [
        "Для удобства работы сделаем копию исходной таблицы с поездками:"
      ]
    },
    {
      "cell_type": "code",
      "execution_count": 30,
      "id": "1cfbd9cc",
      "metadata": {
        "colab": {
          "base_uri": "https://localhost:8080/",
          "height": 357
        },
        "id": "1cfbd9cc",
        "outputId": "198fc598-58b6-4918-8ada-6eccf1effbe9"
      },
      "outputs": [
        {
          "output_type": "execute_result",
          "data": {
            "text/plain": [
              "          id vendor_id     pickup_datetime    dropoff_datetime  \\\n",
              "0  id2875421         2 2016-03-14 17:24:55 2016-03-14 17:32:30   \n",
              "1  id2377394         1 2016-06-12 00:43:35 2016-06-12 00:54:38   \n",
              "2  id3858529         2 2016-01-19 11:35:24 2016-01-19 12:10:48   \n",
              "3  id3504673         2 2016-04-06 19:32:31 2016-04-06 19:39:40   \n",
              "4  id2181028         2 2016-03-26 13:30:55 2016-03-26 13:38:10   \n",
              "\n",
              "   passenger_count  pickup_longitude  pickup_latitude  dropoff_longitude  \\\n",
              "0                1        -73.982155        40.767937         -73.964630   \n",
              "1                1        -73.980415        40.738564         -73.999481   \n",
              "2                1        -73.979027        40.763939         -74.005333   \n",
              "3                1        -74.010040        40.719971         -74.012268   \n",
              "4                1        -73.973053        40.793209         -73.972923   \n",
              "\n",
              "   dropoff_latitude store_and_fwd_flag  trip_duration  trip_duration_log  \\\n",
              "0         40.765602                  N            455           6.122493   \n",
              "1         40.731152                  N            663           6.498282   \n",
              "2         40.710087                  N           2124           7.661527   \n",
              "3         40.706718                  N            429           6.063785   \n",
              "4         40.782520                  N            435           6.077642   \n",
              "\n",
              "  pickup_date  pickup_hour  pickup_day_of_week  \n",
              "0  2016-03-14           17                   0  \n",
              "1  2016-06-12            0                   6  \n",
              "2  2016-01-19           11                   1  \n",
              "3  2016-04-06           19                   2  \n",
              "4  2016-03-26           13                   5  "
            ],
            "text/html": [
              "\n",
              "  <div id=\"df-178be3ac-da9c-4873-b84c-a01f81f19141\">\n",
              "    <div class=\"colab-df-container\">\n",
              "      <div>\n",
              "<style scoped>\n",
              "    .dataframe tbody tr th:only-of-type {\n",
              "        vertical-align: middle;\n",
              "    }\n",
              "\n",
              "    .dataframe tbody tr th {\n",
              "        vertical-align: top;\n",
              "    }\n",
              "\n",
              "    .dataframe thead th {\n",
              "        text-align: right;\n",
              "    }\n",
              "</style>\n",
              "<table border=\"1\" class=\"dataframe\">\n",
              "  <thead>\n",
              "    <tr style=\"text-align: right;\">\n",
              "      <th></th>\n",
              "      <th>id</th>\n",
              "      <th>vendor_id</th>\n",
              "      <th>pickup_datetime</th>\n",
              "      <th>dropoff_datetime</th>\n",
              "      <th>passenger_count</th>\n",
              "      <th>pickup_longitude</th>\n",
              "      <th>pickup_latitude</th>\n",
              "      <th>dropoff_longitude</th>\n",
              "      <th>dropoff_latitude</th>\n",
              "      <th>store_and_fwd_flag</th>\n",
              "      <th>trip_duration</th>\n",
              "      <th>trip_duration_log</th>\n",
              "      <th>pickup_date</th>\n",
              "      <th>pickup_hour</th>\n",
              "      <th>pickup_day_of_week</th>\n",
              "    </tr>\n",
              "  </thead>\n",
              "  <tbody>\n",
              "    <tr>\n",
              "      <th>0</th>\n",
              "      <td>id2875421</td>\n",
              "      <td>2</td>\n",
              "      <td>2016-03-14 17:24:55</td>\n",
              "      <td>2016-03-14 17:32:30</td>\n",
              "      <td>1</td>\n",
              "      <td>-73.982155</td>\n",
              "      <td>40.767937</td>\n",
              "      <td>-73.964630</td>\n",
              "      <td>40.765602</td>\n",
              "      <td>N</td>\n",
              "      <td>455</td>\n",
              "      <td>6.122493</td>\n",
              "      <td>2016-03-14</td>\n",
              "      <td>17</td>\n",
              "      <td>0</td>\n",
              "    </tr>\n",
              "    <tr>\n",
              "      <th>1</th>\n",
              "      <td>id2377394</td>\n",
              "      <td>1</td>\n",
              "      <td>2016-06-12 00:43:35</td>\n",
              "      <td>2016-06-12 00:54:38</td>\n",
              "      <td>1</td>\n",
              "      <td>-73.980415</td>\n",
              "      <td>40.738564</td>\n",
              "      <td>-73.999481</td>\n",
              "      <td>40.731152</td>\n",
              "      <td>N</td>\n",
              "      <td>663</td>\n",
              "      <td>6.498282</td>\n",
              "      <td>2016-06-12</td>\n",
              "      <td>0</td>\n",
              "      <td>6</td>\n",
              "    </tr>\n",
              "    <tr>\n",
              "      <th>2</th>\n",
              "      <td>id3858529</td>\n",
              "      <td>2</td>\n",
              "      <td>2016-01-19 11:35:24</td>\n",
              "      <td>2016-01-19 12:10:48</td>\n",
              "      <td>1</td>\n",
              "      <td>-73.979027</td>\n",
              "      <td>40.763939</td>\n",
              "      <td>-74.005333</td>\n",
              "      <td>40.710087</td>\n",
              "      <td>N</td>\n",
              "      <td>2124</td>\n",
              "      <td>7.661527</td>\n",
              "      <td>2016-01-19</td>\n",
              "      <td>11</td>\n",
              "      <td>1</td>\n",
              "    </tr>\n",
              "    <tr>\n",
              "      <th>3</th>\n",
              "      <td>id3504673</td>\n",
              "      <td>2</td>\n",
              "      <td>2016-04-06 19:32:31</td>\n",
              "      <td>2016-04-06 19:39:40</td>\n",
              "      <td>1</td>\n",
              "      <td>-74.010040</td>\n",
              "      <td>40.719971</td>\n",
              "      <td>-74.012268</td>\n",
              "      <td>40.706718</td>\n",
              "      <td>N</td>\n",
              "      <td>429</td>\n",
              "      <td>6.063785</td>\n",
              "      <td>2016-04-06</td>\n",
              "      <td>19</td>\n",
              "      <td>2</td>\n",
              "    </tr>\n",
              "    <tr>\n",
              "      <th>4</th>\n",
              "      <td>id2181028</td>\n",
              "      <td>2</td>\n",
              "      <td>2016-03-26 13:30:55</td>\n",
              "      <td>2016-03-26 13:38:10</td>\n",
              "      <td>1</td>\n",
              "      <td>-73.973053</td>\n",
              "      <td>40.793209</td>\n",
              "      <td>-73.972923</td>\n",
              "      <td>40.782520</td>\n",
              "      <td>N</td>\n",
              "      <td>435</td>\n",
              "      <td>6.077642</td>\n",
              "      <td>2016-03-26</td>\n",
              "      <td>13</td>\n",
              "      <td>5</td>\n",
              "    </tr>\n",
              "  </tbody>\n",
              "</table>\n",
              "</div>\n",
              "      <button class=\"colab-df-convert\" onclick=\"convertToInteractive('df-178be3ac-da9c-4873-b84c-a01f81f19141')\"\n",
              "              title=\"Convert this dataframe to an interactive table.\"\n",
              "              style=\"display:none;\">\n",
              "        \n",
              "  <svg xmlns=\"http://www.w3.org/2000/svg\" height=\"24px\"viewBox=\"0 0 24 24\"\n",
              "       width=\"24px\">\n",
              "    <path d=\"M0 0h24v24H0V0z\" fill=\"none\"/>\n",
              "    <path d=\"M18.56 5.44l.94 2.06.94-2.06 2.06-.94-2.06-.94-.94-2.06-.94 2.06-2.06.94zm-11 1L8.5 8.5l.94-2.06 2.06-.94-2.06-.94L8.5 2.5l-.94 2.06-2.06.94zm10 10l.94 2.06.94-2.06 2.06-.94-2.06-.94-.94-2.06-.94 2.06-2.06.94z\"/><path d=\"M17.41 7.96l-1.37-1.37c-.4-.4-.92-.59-1.43-.59-.52 0-1.04.2-1.43.59L10.3 9.45l-7.72 7.72c-.78.78-.78 2.05 0 2.83L4 21.41c.39.39.9.59 1.41.59.51 0 1.02-.2 1.41-.59l7.78-7.78 2.81-2.81c.8-.78.8-2.07 0-2.86zM5.41 20L4 18.59l7.72-7.72 1.47 1.35L5.41 20z\"/>\n",
              "  </svg>\n",
              "      </button>\n",
              "      \n",
              "  <style>\n",
              "    .colab-df-container {\n",
              "      display:flex;\n",
              "      flex-wrap:wrap;\n",
              "      gap: 12px;\n",
              "    }\n",
              "\n",
              "    .colab-df-convert {\n",
              "      background-color: #E8F0FE;\n",
              "      border: none;\n",
              "      border-radius: 50%;\n",
              "      cursor: pointer;\n",
              "      display: none;\n",
              "      fill: #1967D2;\n",
              "      height: 32px;\n",
              "      padding: 0 0 0 0;\n",
              "      width: 32px;\n",
              "    }\n",
              "\n",
              "    .colab-df-convert:hover {\n",
              "      background-color: #E2EBFA;\n",
              "      box-shadow: 0px 1px 2px rgba(60, 64, 67, 0.3), 0px 1px 3px 1px rgba(60, 64, 67, 0.15);\n",
              "      fill: #174EA6;\n",
              "    }\n",
              "\n",
              "    [theme=dark] .colab-df-convert {\n",
              "      background-color: #3B4455;\n",
              "      fill: #D2E3FC;\n",
              "    }\n",
              "\n",
              "    [theme=dark] .colab-df-convert:hover {\n",
              "      background-color: #434B5C;\n",
              "      box-shadow: 0px 1px 3px 1px rgba(0, 0, 0, 0.15);\n",
              "      filter: drop-shadow(0px 1px 2px rgba(0, 0, 0, 0.3));\n",
              "      fill: #FFFFFF;\n",
              "    }\n",
              "  </style>\n",
              "\n",
              "      <script>\n",
              "        const buttonEl =\n",
              "          document.querySelector('#df-178be3ac-da9c-4873-b84c-a01f81f19141 button.colab-df-convert');\n",
              "        buttonEl.style.display =\n",
              "          google.colab.kernel.accessAllowed ? 'block' : 'none';\n",
              "\n",
              "        async function convertToInteractive(key) {\n",
              "          const element = document.querySelector('#df-178be3ac-da9c-4873-b84c-a01f81f19141');\n",
              "          const dataTable =\n",
              "            await google.colab.kernel.invokeFunction('convertToInteractive',\n",
              "                                                     [key], {});\n",
              "          if (!dataTable) return;\n",
              "\n",
              "          const docLinkHtml = 'Like what you see? Visit the ' +\n",
              "            '<a target=\"_blank\" href=https://colab.research.google.com/notebooks/data_table.ipynb>data table notebook</a>'\n",
              "            + ' to learn more about interactive tables.';\n",
              "          element.innerHTML = '';\n",
              "          dataTable['output_type'] = 'display_data';\n",
              "          await google.colab.output.renderOutput(dataTable, element);\n",
              "          const docLink = document.createElement('div');\n",
              "          docLink.innerHTML = docLinkHtml;\n",
              "          element.appendChild(docLink);\n",
              "        }\n",
              "      </script>\n",
              "    </div>\n",
              "  </div>\n",
              "  "
            ]
          },
          "metadata": {},
          "execution_count": 30
        }
      ],
      "source": [
        "df = train_df.copy()\n",
        "df.head()"
      ]
    },
    {
      "cell_type": "markdown",
      "id": "99564a54",
      "metadata": {
        "id": "99564a54"
      },
      "source": [
        "Избавимся от очевидных неинформативных и избыточных признаках."
      ]
    },
    {
      "cell_type": "code",
      "execution_count": 31,
      "id": "0163e067",
      "metadata": {
        "id": "0163e067"
      },
      "outputs": [],
      "source": [
        "df = df.drop(['id', 'dropoff_datetime', 'pickup_datetime', 'pickup_date'], axis = 1)"
      ]
    },
    {
      "cell_type": "markdown",
      "id": "29c927c1",
      "metadata": {
        "id": "29c927c1"
      },
      "source": [
        "Кодируем признаки vendor_id и store_and_fwd_flag "
      ]
    },
    {
      "cell_type": "code",
      "execution_count": 32,
      "id": "456caa4c",
      "metadata": {
        "id": "456caa4c"
      },
      "outputs": [],
      "source": [
        "df['vendor_id'] = df['vendor_id'].apply(\n",
        "    lambda x: 0 if x == 1 else 1\n",
        ").astype('int')\n",
        "\n",
        "df['store_and_fwd_flag'] = df['store_and_fwd_flag'].apply(\n",
        "    lambda x: 0 if x == 'N' else 1\n",
        ").astype('int')"
      ]
    },
    {
      "cell_type": "code",
      "execution_count": 33,
      "id": "7b83ff78",
      "metadata": {
        "scrolled": true,
        "colab": {
          "base_uri": "https://localhost:8080/",
          "height": 270
        },
        "id": "7b83ff78",
        "outputId": "45272fd4-91f1-408a-f937-107ece4b68b1"
      },
      "outputs": [
        {
          "output_type": "execute_result",
          "data": {
            "text/plain": [
              "   vendor_id  passenger_count  pickup_longitude  pickup_latitude  \\\n",
              "0          1                1        -73.982155        40.767937   \n",
              "1          0                1        -73.980415        40.738564   \n",
              "2          1                1        -73.979027        40.763939   \n",
              "3          1                1        -74.010040        40.719971   \n",
              "4          1                1        -73.973053        40.793209   \n",
              "\n",
              "   dropoff_longitude  dropoff_latitude  store_and_fwd_flag  trip_duration  \\\n",
              "0         -73.964630         40.765602                   0            455   \n",
              "1         -73.999481         40.731152                   0            663   \n",
              "2         -74.005333         40.710087                   0           2124   \n",
              "3         -74.012268         40.706718                   0            429   \n",
              "4         -73.972923         40.782520                   0            435   \n",
              "\n",
              "   trip_duration_log  pickup_hour  pickup_day_of_week  \n",
              "0           6.122493           17                   0  \n",
              "1           6.498282            0                   6  \n",
              "2           7.661527           11                   1  \n",
              "3           6.063785           19                   2  \n",
              "4           6.077642           13                   5  "
            ],
            "text/html": [
              "\n",
              "  <div id=\"df-ed41def6-bdaa-494b-8b0b-86fde5499be3\">\n",
              "    <div class=\"colab-df-container\">\n",
              "      <div>\n",
              "<style scoped>\n",
              "    .dataframe tbody tr th:only-of-type {\n",
              "        vertical-align: middle;\n",
              "    }\n",
              "\n",
              "    .dataframe tbody tr th {\n",
              "        vertical-align: top;\n",
              "    }\n",
              "\n",
              "    .dataframe thead th {\n",
              "        text-align: right;\n",
              "    }\n",
              "</style>\n",
              "<table border=\"1\" class=\"dataframe\">\n",
              "  <thead>\n",
              "    <tr style=\"text-align: right;\">\n",
              "      <th></th>\n",
              "      <th>vendor_id</th>\n",
              "      <th>passenger_count</th>\n",
              "      <th>pickup_longitude</th>\n",
              "      <th>pickup_latitude</th>\n",
              "      <th>dropoff_longitude</th>\n",
              "      <th>dropoff_latitude</th>\n",
              "      <th>store_and_fwd_flag</th>\n",
              "      <th>trip_duration</th>\n",
              "      <th>trip_duration_log</th>\n",
              "      <th>pickup_hour</th>\n",
              "      <th>pickup_day_of_week</th>\n",
              "    </tr>\n",
              "  </thead>\n",
              "  <tbody>\n",
              "    <tr>\n",
              "      <th>0</th>\n",
              "      <td>1</td>\n",
              "      <td>1</td>\n",
              "      <td>-73.982155</td>\n",
              "      <td>40.767937</td>\n",
              "      <td>-73.964630</td>\n",
              "      <td>40.765602</td>\n",
              "      <td>0</td>\n",
              "      <td>455</td>\n",
              "      <td>6.122493</td>\n",
              "      <td>17</td>\n",
              "      <td>0</td>\n",
              "    </tr>\n",
              "    <tr>\n",
              "      <th>1</th>\n",
              "      <td>0</td>\n",
              "      <td>1</td>\n",
              "      <td>-73.980415</td>\n",
              "      <td>40.738564</td>\n",
              "      <td>-73.999481</td>\n",
              "      <td>40.731152</td>\n",
              "      <td>0</td>\n",
              "      <td>663</td>\n",
              "      <td>6.498282</td>\n",
              "      <td>0</td>\n",
              "      <td>6</td>\n",
              "    </tr>\n",
              "    <tr>\n",
              "      <th>2</th>\n",
              "      <td>1</td>\n",
              "      <td>1</td>\n",
              "      <td>-73.979027</td>\n",
              "      <td>40.763939</td>\n",
              "      <td>-74.005333</td>\n",
              "      <td>40.710087</td>\n",
              "      <td>0</td>\n",
              "      <td>2124</td>\n",
              "      <td>7.661527</td>\n",
              "      <td>11</td>\n",
              "      <td>1</td>\n",
              "    </tr>\n",
              "    <tr>\n",
              "      <th>3</th>\n",
              "      <td>1</td>\n",
              "      <td>1</td>\n",
              "      <td>-74.010040</td>\n",
              "      <td>40.719971</td>\n",
              "      <td>-74.012268</td>\n",
              "      <td>40.706718</td>\n",
              "      <td>0</td>\n",
              "      <td>429</td>\n",
              "      <td>6.063785</td>\n",
              "      <td>19</td>\n",
              "      <td>2</td>\n",
              "    </tr>\n",
              "    <tr>\n",
              "      <th>4</th>\n",
              "      <td>1</td>\n",
              "      <td>1</td>\n",
              "      <td>-73.973053</td>\n",
              "      <td>40.793209</td>\n",
              "      <td>-73.972923</td>\n",
              "      <td>40.782520</td>\n",
              "      <td>0</td>\n",
              "      <td>435</td>\n",
              "      <td>6.077642</td>\n",
              "      <td>13</td>\n",
              "      <td>5</td>\n",
              "    </tr>\n",
              "  </tbody>\n",
              "</table>\n",
              "</div>\n",
              "      <button class=\"colab-df-convert\" onclick=\"convertToInteractive('df-ed41def6-bdaa-494b-8b0b-86fde5499be3')\"\n",
              "              title=\"Convert this dataframe to an interactive table.\"\n",
              "              style=\"display:none;\">\n",
              "        \n",
              "  <svg xmlns=\"http://www.w3.org/2000/svg\" height=\"24px\"viewBox=\"0 0 24 24\"\n",
              "       width=\"24px\">\n",
              "    <path d=\"M0 0h24v24H0V0z\" fill=\"none\"/>\n",
              "    <path d=\"M18.56 5.44l.94 2.06.94-2.06 2.06-.94-2.06-.94-.94-2.06-.94 2.06-2.06.94zm-11 1L8.5 8.5l.94-2.06 2.06-.94-2.06-.94L8.5 2.5l-.94 2.06-2.06.94zm10 10l.94 2.06.94-2.06 2.06-.94-2.06-.94-.94-2.06-.94 2.06-2.06.94z\"/><path d=\"M17.41 7.96l-1.37-1.37c-.4-.4-.92-.59-1.43-.59-.52 0-1.04.2-1.43.59L10.3 9.45l-7.72 7.72c-.78.78-.78 2.05 0 2.83L4 21.41c.39.39.9.59 1.41.59.51 0 1.02-.2 1.41-.59l7.78-7.78 2.81-2.81c.8-.78.8-2.07 0-2.86zM5.41 20L4 18.59l7.72-7.72 1.47 1.35L5.41 20z\"/>\n",
              "  </svg>\n",
              "      </button>\n",
              "      \n",
              "  <style>\n",
              "    .colab-df-container {\n",
              "      display:flex;\n",
              "      flex-wrap:wrap;\n",
              "      gap: 12px;\n",
              "    }\n",
              "\n",
              "    .colab-df-convert {\n",
              "      background-color: #E8F0FE;\n",
              "      border: none;\n",
              "      border-radius: 50%;\n",
              "      cursor: pointer;\n",
              "      display: none;\n",
              "      fill: #1967D2;\n",
              "      height: 32px;\n",
              "      padding: 0 0 0 0;\n",
              "      width: 32px;\n",
              "    }\n",
              "\n",
              "    .colab-df-convert:hover {\n",
              "      background-color: #E2EBFA;\n",
              "      box-shadow: 0px 1px 2px rgba(60, 64, 67, 0.3), 0px 1px 3px 1px rgba(60, 64, 67, 0.15);\n",
              "      fill: #174EA6;\n",
              "    }\n",
              "\n",
              "    [theme=dark] .colab-df-convert {\n",
              "      background-color: #3B4455;\n",
              "      fill: #D2E3FC;\n",
              "    }\n",
              "\n",
              "    [theme=dark] .colab-df-convert:hover {\n",
              "      background-color: #434B5C;\n",
              "      box-shadow: 0px 1px 3px 1px rgba(0, 0, 0, 0.15);\n",
              "      filter: drop-shadow(0px 1px 2px rgba(0, 0, 0, 0.3));\n",
              "      fill: #FFFFFF;\n",
              "    }\n",
              "  </style>\n",
              "\n",
              "      <script>\n",
              "        const buttonEl =\n",
              "          document.querySelector('#df-ed41def6-bdaa-494b-8b0b-86fde5499be3 button.colab-df-convert');\n",
              "        buttonEl.style.display =\n",
              "          google.colab.kernel.accessAllowed ? 'block' : 'none';\n",
              "\n",
              "        async function convertToInteractive(key) {\n",
              "          const element = document.querySelector('#df-ed41def6-bdaa-494b-8b0b-86fde5499be3');\n",
              "          const dataTable =\n",
              "            await google.colab.kernel.invokeFunction('convertToInteractive',\n",
              "                                                     [key], {});\n",
              "          if (!dataTable) return;\n",
              "\n",
              "          const docLinkHtml = 'Like what you see? Visit the ' +\n",
              "            '<a target=\"_blank\" href=https://colab.research.google.com/notebooks/data_table.ipynb>data table notebook</a>'\n",
              "            + ' to learn more about interactive tables.';\n",
              "          element.innerHTML = '';\n",
              "          dataTable['output_type'] = 'display_data';\n",
              "          await google.colab.output.renderOutput(dataTable, element);\n",
              "          const docLink = document.createElement('div');\n",
              "          docLink.innerHTML = docLinkHtml;\n",
              "          element.appendChild(docLink);\n",
              "        }\n",
              "      </script>\n",
              "    </div>\n",
              "  </div>\n",
              "  "
            ]
          },
          "metadata": {},
          "execution_count": 33
        }
      ],
      "source": [
        "df.head()"
      ]
    },
    {
      "cell_type": "markdown",
      "id": "ed425f98",
      "metadata": {
        "id": "ed425f98"
      },
      "source": [
        "Делаем one-hot-encoding и стандартизацию данных"
      ]
    },
    {
      "cell_type": "code",
      "execution_count": 34,
      "id": "71603a3e",
      "metadata": {
        "colab": {
          "base_uri": "https://localhost:8080/"
        },
        "id": "71603a3e",
        "outputId": "9e1a716c-5ad6-46df-b9fa-5d02f288a1e5"
      },
      "outputs": [
        {
          "output_type": "execute_result",
          "data": {
            "text/plain": [
              "Index(['vendor_id', 'passenger_count', 'pickup_longitude', 'pickup_latitude',\n",
              "       'dropoff_longitude', 'dropoff_latitude', 'store_and_fwd_flag',\n",
              "       'trip_duration', 'trip_duration_log', 'pickup_hour',\n",
              "       'pickup_day_of_week'],\n",
              "      dtype='object')"
            ]
          },
          "metadata": {},
          "execution_count": 34
        }
      ],
      "source": [
        "df.columns"
      ]
    },
    {
      "cell_type": "code",
      "execution_count": 35,
      "id": "2cdabd48",
      "metadata": {
        "id": "2cdabd48"
      },
      "outputs": [],
      "source": [
        "df = pd.get_dummies(df, columns=['vendor_id', 'passenger_count'\n",
        "                                 , 'store_and_fwd_flag', 'pickup_hour', 'pickup_day_of_week'])"
      ]
    },
    {
      "cell_type": "code",
      "execution_count": 36,
      "id": "b9f0eb56",
      "metadata": {
        "id": "b9f0eb56"
      },
      "outputs": [],
      "source": [
        "col = ['pickup_longitude', 'pickup_latitude',\n",
        "       'dropoff_longitude', 'dropoff_latitude']\n",
        "def get_scale(df,col, model):\n",
        "    scal = model.fit_transform(df[col])\n",
        "    df[col] = scal\n",
        "    return df"
      ]
    },
    {
      "cell_type": "code",
      "execution_count": 37,
      "id": "fd2a58e0",
      "metadata": {
        "id": "fd2a58e0"
      },
      "outputs": [],
      "source": [
        "df = get_scale(df, col, MinMaxScaler())"
      ]
    },
    {
      "cell_type": "code",
      "execution_count": 38,
      "id": "7523f75c",
      "metadata": {
        "colab": {
          "base_uri": "https://localhost:8080/",
          "height": 299
        },
        "id": "7523f75c",
        "outputId": "55462eda-c86e-4773-a1c7-fe583270f34a"
      },
      "outputs": [
        {
          "output_type": "execute_result",
          "data": {
            "text/plain": [
              "   pickup_longitude  pickup_latitude  dropoff_longitude  dropoff_latitude  \\\n",
              "0          0.791302         0.365738           0.791591          0.731222   \n",
              "1          0.791331         0.364062           0.791016          0.728287   \n",
              "2          0.791354         0.365510           0.790920          0.726493   \n",
              "3          0.790842         0.363001           0.790805          0.726206   \n",
              "4          0.791452         0.367181           0.791454          0.732663   \n",
              "\n",
              "   trip_duration  trip_duration_log  vendor_id_0  vendor_id_1  \\\n",
              "0            455           6.122493            0            1   \n",
              "1            663           6.498282            1            0   \n",
              "2           2124           7.661527            0            1   \n",
              "3            429           6.063785            0            1   \n",
              "4            435           6.077642            0            1   \n",
              "\n",
              "   passenger_count_0  passenger_count_1  ...  pickup_hour_21  pickup_hour_22  \\\n",
              "0                  0                  1  ...               0               0   \n",
              "1                  0                  1  ...               0               0   \n",
              "2                  0                  1  ...               0               0   \n",
              "3                  0                  1  ...               0               0   \n",
              "4                  0                  1  ...               0               0   \n",
              "\n",
              "   pickup_hour_23  pickup_day_of_week_0  pickup_day_of_week_1  \\\n",
              "0               0                     1                     0   \n",
              "1               0                     0                     0   \n",
              "2               0                     0                     1   \n",
              "3               0                     0                     0   \n",
              "4               0                     0                     0   \n",
              "\n",
              "   pickup_day_of_week_2  pickup_day_of_week_3  pickup_day_of_week_4  \\\n",
              "0                     0                     0                     0   \n",
              "1                     0                     0                     0   \n",
              "2                     0                     0                     0   \n",
              "3                     1                     0                     0   \n",
              "4                     0                     0                     0   \n",
              "\n",
              "   pickup_day_of_week_5  pickup_day_of_week_6  \n",
              "0                     0                     0  \n",
              "1                     0                     1  \n",
              "2                     0                     0  \n",
              "3                     0                     0  \n",
              "4                     1                     0  \n",
              "\n",
              "[5 rows x 49 columns]"
            ],
            "text/html": [
              "\n",
              "  <div id=\"df-773a49f8-bb5e-4a5c-9c33-6fe895a36604\">\n",
              "    <div class=\"colab-df-container\">\n",
              "      <div>\n",
              "<style scoped>\n",
              "    .dataframe tbody tr th:only-of-type {\n",
              "        vertical-align: middle;\n",
              "    }\n",
              "\n",
              "    .dataframe tbody tr th {\n",
              "        vertical-align: top;\n",
              "    }\n",
              "\n",
              "    .dataframe thead th {\n",
              "        text-align: right;\n",
              "    }\n",
              "</style>\n",
              "<table border=\"1\" class=\"dataframe\">\n",
              "  <thead>\n",
              "    <tr style=\"text-align: right;\">\n",
              "      <th></th>\n",
              "      <th>pickup_longitude</th>\n",
              "      <th>pickup_latitude</th>\n",
              "      <th>dropoff_longitude</th>\n",
              "      <th>dropoff_latitude</th>\n",
              "      <th>trip_duration</th>\n",
              "      <th>trip_duration_log</th>\n",
              "      <th>vendor_id_0</th>\n",
              "      <th>vendor_id_1</th>\n",
              "      <th>passenger_count_0</th>\n",
              "      <th>passenger_count_1</th>\n",
              "      <th>...</th>\n",
              "      <th>pickup_hour_21</th>\n",
              "      <th>pickup_hour_22</th>\n",
              "      <th>pickup_hour_23</th>\n",
              "      <th>pickup_day_of_week_0</th>\n",
              "      <th>pickup_day_of_week_1</th>\n",
              "      <th>pickup_day_of_week_2</th>\n",
              "      <th>pickup_day_of_week_3</th>\n",
              "      <th>pickup_day_of_week_4</th>\n",
              "      <th>pickup_day_of_week_5</th>\n",
              "      <th>pickup_day_of_week_6</th>\n",
              "    </tr>\n",
              "  </thead>\n",
              "  <tbody>\n",
              "    <tr>\n",
              "      <th>0</th>\n",
              "      <td>0.791302</td>\n",
              "      <td>0.365738</td>\n",
              "      <td>0.791591</td>\n",
              "      <td>0.731222</td>\n",
              "      <td>455</td>\n",
              "      <td>6.122493</td>\n",
              "      <td>0</td>\n",
              "      <td>1</td>\n",
              "      <td>0</td>\n",
              "      <td>1</td>\n",
              "      <td>...</td>\n",
              "      <td>0</td>\n",
              "      <td>0</td>\n",
              "      <td>0</td>\n",
              "      <td>1</td>\n",
              "      <td>0</td>\n",
              "      <td>0</td>\n",
              "      <td>0</td>\n",
              "      <td>0</td>\n",
              "      <td>0</td>\n",
              "      <td>0</td>\n",
              "    </tr>\n",
              "    <tr>\n",
              "      <th>1</th>\n",
              "      <td>0.791331</td>\n",
              "      <td>0.364062</td>\n",
              "      <td>0.791016</td>\n",
              "      <td>0.728287</td>\n",
              "      <td>663</td>\n",
              "      <td>6.498282</td>\n",
              "      <td>1</td>\n",
              "      <td>0</td>\n",
              "      <td>0</td>\n",
              "      <td>1</td>\n",
              "      <td>...</td>\n",
              "      <td>0</td>\n",
              "      <td>0</td>\n",
              "      <td>0</td>\n",
              "      <td>0</td>\n",
              "      <td>0</td>\n",
              "      <td>0</td>\n",
              "      <td>0</td>\n",
              "      <td>0</td>\n",
              "      <td>0</td>\n",
              "      <td>1</td>\n",
              "    </tr>\n",
              "    <tr>\n",
              "      <th>2</th>\n",
              "      <td>0.791354</td>\n",
              "      <td>0.365510</td>\n",
              "      <td>0.790920</td>\n",
              "      <td>0.726493</td>\n",
              "      <td>2124</td>\n",
              "      <td>7.661527</td>\n",
              "      <td>0</td>\n",
              "      <td>1</td>\n",
              "      <td>0</td>\n",
              "      <td>1</td>\n",
              "      <td>...</td>\n",
              "      <td>0</td>\n",
              "      <td>0</td>\n",
              "      <td>0</td>\n",
              "      <td>0</td>\n",
              "      <td>1</td>\n",
              "      <td>0</td>\n",
              "      <td>0</td>\n",
              "      <td>0</td>\n",
              "      <td>0</td>\n",
              "      <td>0</td>\n",
              "    </tr>\n",
              "    <tr>\n",
              "      <th>3</th>\n",
              "      <td>0.790842</td>\n",
              "      <td>0.363001</td>\n",
              "      <td>0.790805</td>\n",
              "      <td>0.726206</td>\n",
              "      <td>429</td>\n",
              "      <td>6.063785</td>\n",
              "      <td>0</td>\n",
              "      <td>1</td>\n",
              "      <td>0</td>\n",
              "      <td>1</td>\n",
              "      <td>...</td>\n",
              "      <td>0</td>\n",
              "      <td>0</td>\n",
              "      <td>0</td>\n",
              "      <td>0</td>\n",
              "      <td>0</td>\n",
              "      <td>1</td>\n",
              "      <td>0</td>\n",
              "      <td>0</td>\n",
              "      <td>0</td>\n",
              "      <td>0</td>\n",
              "    </tr>\n",
              "    <tr>\n",
              "      <th>4</th>\n",
              "      <td>0.791452</td>\n",
              "      <td>0.367181</td>\n",
              "      <td>0.791454</td>\n",
              "      <td>0.732663</td>\n",
              "      <td>435</td>\n",
              "      <td>6.077642</td>\n",
              "      <td>0</td>\n",
              "      <td>1</td>\n",
              "      <td>0</td>\n",
              "      <td>1</td>\n",
              "      <td>...</td>\n",
              "      <td>0</td>\n",
              "      <td>0</td>\n",
              "      <td>0</td>\n",
              "      <td>0</td>\n",
              "      <td>0</td>\n",
              "      <td>0</td>\n",
              "      <td>0</td>\n",
              "      <td>0</td>\n",
              "      <td>1</td>\n",
              "      <td>0</td>\n",
              "    </tr>\n",
              "  </tbody>\n",
              "</table>\n",
              "<p>5 rows × 49 columns</p>\n",
              "</div>\n",
              "      <button class=\"colab-df-convert\" onclick=\"convertToInteractive('df-773a49f8-bb5e-4a5c-9c33-6fe895a36604')\"\n",
              "              title=\"Convert this dataframe to an interactive table.\"\n",
              "              style=\"display:none;\">\n",
              "        \n",
              "  <svg xmlns=\"http://www.w3.org/2000/svg\" height=\"24px\"viewBox=\"0 0 24 24\"\n",
              "       width=\"24px\">\n",
              "    <path d=\"M0 0h24v24H0V0z\" fill=\"none\"/>\n",
              "    <path d=\"M18.56 5.44l.94 2.06.94-2.06 2.06-.94-2.06-.94-.94-2.06-.94 2.06-2.06.94zm-11 1L8.5 8.5l.94-2.06 2.06-.94-2.06-.94L8.5 2.5l-.94 2.06-2.06.94zm10 10l.94 2.06.94-2.06 2.06-.94-2.06-.94-.94-2.06-.94 2.06-2.06.94z\"/><path d=\"M17.41 7.96l-1.37-1.37c-.4-.4-.92-.59-1.43-.59-.52 0-1.04.2-1.43.59L10.3 9.45l-7.72 7.72c-.78.78-.78 2.05 0 2.83L4 21.41c.39.39.9.59 1.41.59.51 0 1.02-.2 1.41-.59l7.78-7.78 2.81-2.81c.8-.78.8-2.07 0-2.86zM5.41 20L4 18.59l7.72-7.72 1.47 1.35L5.41 20z\"/>\n",
              "  </svg>\n",
              "      </button>\n",
              "      \n",
              "  <style>\n",
              "    .colab-df-container {\n",
              "      display:flex;\n",
              "      flex-wrap:wrap;\n",
              "      gap: 12px;\n",
              "    }\n",
              "\n",
              "    .colab-df-convert {\n",
              "      background-color: #E8F0FE;\n",
              "      border: none;\n",
              "      border-radius: 50%;\n",
              "      cursor: pointer;\n",
              "      display: none;\n",
              "      fill: #1967D2;\n",
              "      height: 32px;\n",
              "      padding: 0 0 0 0;\n",
              "      width: 32px;\n",
              "    }\n",
              "\n",
              "    .colab-df-convert:hover {\n",
              "      background-color: #E2EBFA;\n",
              "      box-shadow: 0px 1px 2px rgba(60, 64, 67, 0.3), 0px 1px 3px 1px rgba(60, 64, 67, 0.15);\n",
              "      fill: #174EA6;\n",
              "    }\n",
              "\n",
              "    [theme=dark] .colab-df-convert {\n",
              "      background-color: #3B4455;\n",
              "      fill: #D2E3FC;\n",
              "    }\n",
              "\n",
              "    [theme=dark] .colab-df-convert:hover {\n",
              "      background-color: #434B5C;\n",
              "      box-shadow: 0px 1px 3px 1px rgba(0, 0, 0, 0.15);\n",
              "      filter: drop-shadow(0px 1px 2px rgba(0, 0, 0, 0.3));\n",
              "      fill: #FFFFFF;\n",
              "    }\n",
              "  </style>\n",
              "\n",
              "      <script>\n",
              "        const buttonEl =\n",
              "          document.querySelector('#df-773a49f8-bb5e-4a5c-9c33-6fe895a36604 button.colab-df-convert');\n",
              "        buttonEl.style.display =\n",
              "          google.colab.kernel.accessAllowed ? 'block' : 'none';\n",
              "\n",
              "        async function convertToInteractive(key) {\n",
              "          const element = document.querySelector('#df-773a49f8-bb5e-4a5c-9c33-6fe895a36604');\n",
              "          const dataTable =\n",
              "            await google.colab.kernel.invokeFunction('convertToInteractive',\n",
              "                                                     [key], {});\n",
              "          if (!dataTable) return;\n",
              "\n",
              "          const docLinkHtml = 'Like what you see? Visit the ' +\n",
              "            '<a target=\"_blank\" href=https://colab.research.google.com/notebooks/data_table.ipynb>data table notebook</a>'\n",
              "            + ' to learn more about interactive tables.';\n",
              "          element.innerHTML = '';\n",
              "          dataTable['output_type'] = 'display_data';\n",
              "          await google.colab.output.renderOutput(dataTable, element);\n",
              "          const docLink = document.createElement('div');\n",
              "          docLink.innerHTML = docLinkHtml;\n",
              "          element.appendChild(docLink);\n",
              "        }\n",
              "      </script>\n",
              "    </div>\n",
              "  </div>\n",
              "  "
            ]
          },
          "metadata": {},
          "execution_count": 38
        }
      ],
      "source": [
        "df.head()"
      ]
    },
    {
      "cell_type": "code",
      "execution_count": 39,
      "id": "595a4104",
      "metadata": {
        "colab": {
          "base_uri": "https://localhost:8080/",
          "height": 299
        },
        "id": "595a4104",
        "outputId": "b37135ee-ed7b-4a18-a22b-7288ef6a030d"
      },
      "outputs": [
        {
          "output_type": "execute_result",
          "data": {
            "text/plain": [
              "   pickup_longitude  pickup_latitude  dropoff_longitude  dropoff_latitude  \\\n",
              "0          0.791302         0.365738           0.791591          0.731222   \n",
              "1          0.791331         0.364062           0.791016          0.728287   \n",
              "2          0.791354         0.365510           0.790920          0.726493   \n",
              "3          0.790842         0.363001           0.790805          0.726206   \n",
              "4          0.791452         0.367181           0.791454          0.732663   \n",
              "\n",
              "   trip_duration  vendor_id_0  vendor_id_1  passenger_count_0  \\\n",
              "0            455            0            1                  0   \n",
              "1            663            1            0                  0   \n",
              "2           2124            0            1                  0   \n",
              "3            429            0            1                  0   \n",
              "4            435            0            1                  0   \n",
              "\n",
              "   passenger_count_1  passenger_count_2  ...  pickup_hour_21  pickup_hour_22  \\\n",
              "0                  1                  0  ...               0               0   \n",
              "1                  1                  0  ...               0               0   \n",
              "2                  1                  0  ...               0               0   \n",
              "3                  1                  0  ...               0               0   \n",
              "4                  1                  0  ...               0               0   \n",
              "\n",
              "   pickup_hour_23  pickup_day_of_week_0  pickup_day_of_week_1  \\\n",
              "0               0                     1                     0   \n",
              "1               0                     0                     0   \n",
              "2               0                     0                     1   \n",
              "3               0                     0                     0   \n",
              "4               0                     0                     0   \n",
              "\n",
              "   pickup_day_of_week_2  pickup_day_of_week_3  pickup_day_of_week_4  \\\n",
              "0                     0                     0                     0   \n",
              "1                     0                     0                     0   \n",
              "2                     0                     0                     0   \n",
              "3                     1                     0                     0   \n",
              "4                     0                     0                     0   \n",
              "\n",
              "   pickup_day_of_week_5  pickup_day_of_week_6  \n",
              "0                     0                     0  \n",
              "1                     0                     1  \n",
              "2                     0                     0  \n",
              "3                     0                     0  \n",
              "4                     1                     0  \n",
              "\n",
              "[5 rows x 48 columns]"
            ],
            "text/html": [
              "\n",
              "  <div id=\"df-e006e252-3064-49c9-8287-8da5115e92e3\">\n",
              "    <div class=\"colab-df-container\">\n",
              "      <div>\n",
              "<style scoped>\n",
              "    .dataframe tbody tr th:only-of-type {\n",
              "        vertical-align: middle;\n",
              "    }\n",
              "\n",
              "    .dataframe tbody tr th {\n",
              "        vertical-align: top;\n",
              "    }\n",
              "\n",
              "    .dataframe thead th {\n",
              "        text-align: right;\n",
              "    }\n",
              "</style>\n",
              "<table border=\"1\" class=\"dataframe\">\n",
              "  <thead>\n",
              "    <tr style=\"text-align: right;\">\n",
              "      <th></th>\n",
              "      <th>pickup_longitude</th>\n",
              "      <th>pickup_latitude</th>\n",
              "      <th>dropoff_longitude</th>\n",
              "      <th>dropoff_latitude</th>\n",
              "      <th>trip_duration</th>\n",
              "      <th>vendor_id_0</th>\n",
              "      <th>vendor_id_1</th>\n",
              "      <th>passenger_count_0</th>\n",
              "      <th>passenger_count_1</th>\n",
              "      <th>passenger_count_2</th>\n",
              "      <th>...</th>\n",
              "      <th>pickup_hour_21</th>\n",
              "      <th>pickup_hour_22</th>\n",
              "      <th>pickup_hour_23</th>\n",
              "      <th>pickup_day_of_week_0</th>\n",
              "      <th>pickup_day_of_week_1</th>\n",
              "      <th>pickup_day_of_week_2</th>\n",
              "      <th>pickup_day_of_week_3</th>\n",
              "      <th>pickup_day_of_week_4</th>\n",
              "      <th>pickup_day_of_week_5</th>\n",
              "      <th>pickup_day_of_week_6</th>\n",
              "    </tr>\n",
              "  </thead>\n",
              "  <tbody>\n",
              "    <tr>\n",
              "      <th>0</th>\n",
              "      <td>0.791302</td>\n",
              "      <td>0.365738</td>\n",
              "      <td>0.791591</td>\n",
              "      <td>0.731222</td>\n",
              "      <td>455</td>\n",
              "      <td>0</td>\n",
              "      <td>1</td>\n",
              "      <td>0</td>\n",
              "      <td>1</td>\n",
              "      <td>0</td>\n",
              "      <td>...</td>\n",
              "      <td>0</td>\n",
              "      <td>0</td>\n",
              "      <td>0</td>\n",
              "      <td>1</td>\n",
              "      <td>0</td>\n",
              "      <td>0</td>\n",
              "      <td>0</td>\n",
              "      <td>0</td>\n",
              "      <td>0</td>\n",
              "      <td>0</td>\n",
              "    </tr>\n",
              "    <tr>\n",
              "      <th>1</th>\n",
              "      <td>0.791331</td>\n",
              "      <td>0.364062</td>\n",
              "      <td>0.791016</td>\n",
              "      <td>0.728287</td>\n",
              "      <td>663</td>\n",
              "      <td>1</td>\n",
              "      <td>0</td>\n",
              "      <td>0</td>\n",
              "      <td>1</td>\n",
              "      <td>0</td>\n",
              "      <td>...</td>\n",
              "      <td>0</td>\n",
              "      <td>0</td>\n",
              "      <td>0</td>\n",
              "      <td>0</td>\n",
              "      <td>0</td>\n",
              "      <td>0</td>\n",
              "      <td>0</td>\n",
              "      <td>0</td>\n",
              "      <td>0</td>\n",
              "      <td>1</td>\n",
              "    </tr>\n",
              "    <tr>\n",
              "      <th>2</th>\n",
              "      <td>0.791354</td>\n",
              "      <td>0.365510</td>\n",
              "      <td>0.790920</td>\n",
              "      <td>0.726493</td>\n",
              "      <td>2124</td>\n",
              "      <td>0</td>\n",
              "      <td>1</td>\n",
              "      <td>0</td>\n",
              "      <td>1</td>\n",
              "      <td>0</td>\n",
              "      <td>...</td>\n",
              "      <td>0</td>\n",
              "      <td>0</td>\n",
              "      <td>0</td>\n",
              "      <td>0</td>\n",
              "      <td>1</td>\n",
              "      <td>0</td>\n",
              "      <td>0</td>\n",
              "      <td>0</td>\n",
              "      <td>0</td>\n",
              "      <td>0</td>\n",
              "    </tr>\n",
              "    <tr>\n",
              "      <th>3</th>\n",
              "      <td>0.790842</td>\n",
              "      <td>0.363001</td>\n",
              "      <td>0.790805</td>\n",
              "      <td>0.726206</td>\n",
              "      <td>429</td>\n",
              "      <td>0</td>\n",
              "      <td>1</td>\n",
              "      <td>0</td>\n",
              "      <td>1</td>\n",
              "      <td>0</td>\n",
              "      <td>...</td>\n",
              "      <td>0</td>\n",
              "      <td>0</td>\n",
              "      <td>0</td>\n",
              "      <td>0</td>\n",
              "      <td>0</td>\n",
              "      <td>1</td>\n",
              "      <td>0</td>\n",
              "      <td>0</td>\n",
              "      <td>0</td>\n",
              "      <td>0</td>\n",
              "    </tr>\n",
              "    <tr>\n",
              "      <th>4</th>\n",
              "      <td>0.791452</td>\n",
              "      <td>0.367181</td>\n",
              "      <td>0.791454</td>\n",
              "      <td>0.732663</td>\n",
              "      <td>435</td>\n",
              "      <td>0</td>\n",
              "      <td>1</td>\n",
              "      <td>0</td>\n",
              "      <td>1</td>\n",
              "      <td>0</td>\n",
              "      <td>...</td>\n",
              "      <td>0</td>\n",
              "      <td>0</td>\n",
              "      <td>0</td>\n",
              "      <td>0</td>\n",
              "      <td>0</td>\n",
              "      <td>0</td>\n",
              "      <td>0</td>\n",
              "      <td>0</td>\n",
              "      <td>1</td>\n",
              "      <td>0</td>\n",
              "    </tr>\n",
              "  </tbody>\n",
              "</table>\n",
              "<p>5 rows × 48 columns</p>\n",
              "</div>\n",
              "      <button class=\"colab-df-convert\" onclick=\"convertToInteractive('df-e006e252-3064-49c9-8287-8da5115e92e3')\"\n",
              "              title=\"Convert this dataframe to an interactive table.\"\n",
              "              style=\"display:none;\">\n",
              "        \n",
              "  <svg xmlns=\"http://www.w3.org/2000/svg\" height=\"24px\"viewBox=\"0 0 24 24\"\n",
              "       width=\"24px\">\n",
              "    <path d=\"M0 0h24v24H0V0z\" fill=\"none\"/>\n",
              "    <path d=\"M18.56 5.44l.94 2.06.94-2.06 2.06-.94-2.06-.94-.94-2.06-.94 2.06-2.06.94zm-11 1L8.5 8.5l.94-2.06 2.06-.94-2.06-.94L8.5 2.5l-.94 2.06-2.06.94zm10 10l.94 2.06.94-2.06 2.06-.94-2.06-.94-.94-2.06-.94 2.06-2.06.94z\"/><path d=\"M17.41 7.96l-1.37-1.37c-.4-.4-.92-.59-1.43-.59-.52 0-1.04.2-1.43.59L10.3 9.45l-7.72 7.72c-.78.78-.78 2.05 0 2.83L4 21.41c.39.39.9.59 1.41.59.51 0 1.02-.2 1.41-.59l7.78-7.78 2.81-2.81c.8-.78.8-2.07 0-2.86zM5.41 20L4 18.59l7.72-7.72 1.47 1.35L5.41 20z\"/>\n",
              "  </svg>\n",
              "      </button>\n",
              "      \n",
              "  <style>\n",
              "    .colab-df-container {\n",
              "      display:flex;\n",
              "      flex-wrap:wrap;\n",
              "      gap: 12px;\n",
              "    }\n",
              "\n",
              "    .colab-df-convert {\n",
              "      background-color: #E8F0FE;\n",
              "      border: none;\n",
              "      border-radius: 50%;\n",
              "      cursor: pointer;\n",
              "      display: none;\n",
              "      fill: #1967D2;\n",
              "      height: 32px;\n",
              "      padding: 0 0 0 0;\n",
              "      width: 32px;\n",
              "    }\n",
              "\n",
              "    .colab-df-convert:hover {\n",
              "      background-color: #E2EBFA;\n",
              "      box-shadow: 0px 1px 2px rgba(60, 64, 67, 0.3), 0px 1px 3px 1px rgba(60, 64, 67, 0.15);\n",
              "      fill: #174EA6;\n",
              "    }\n",
              "\n",
              "    [theme=dark] .colab-df-convert {\n",
              "      background-color: #3B4455;\n",
              "      fill: #D2E3FC;\n",
              "    }\n",
              "\n",
              "    [theme=dark] .colab-df-convert:hover {\n",
              "      background-color: #434B5C;\n",
              "      box-shadow: 0px 1px 3px 1px rgba(0, 0, 0, 0.15);\n",
              "      filter: drop-shadow(0px 1px 2px rgba(0, 0, 0, 0.3));\n",
              "      fill: #FFFFFF;\n",
              "    }\n",
              "  </style>\n",
              "\n",
              "      <script>\n",
              "        const buttonEl =\n",
              "          document.querySelector('#df-e006e252-3064-49c9-8287-8da5115e92e3 button.colab-df-convert');\n",
              "        buttonEl.style.display =\n",
              "          google.colab.kernel.accessAllowed ? 'block' : 'none';\n",
              "\n",
              "        async function convertToInteractive(key) {\n",
              "          const element = document.querySelector('#df-e006e252-3064-49c9-8287-8da5115e92e3');\n",
              "          const dataTable =\n",
              "            await google.colab.kernel.invokeFunction('convertToInteractive',\n",
              "                                                     [key], {});\n",
              "          if (!dataTable) return;\n",
              "\n",
              "          const docLinkHtml = 'Like what you see? Visit the ' +\n",
              "            '<a target=\"_blank\" href=https://colab.research.google.com/notebooks/data_table.ipynb>data table notebook</a>'\n",
              "            + ' to learn more about interactive tables.';\n",
              "          element.innerHTML = '';\n",
              "          dataTable['output_type'] = 'display_data';\n",
              "          await google.colab.output.renderOutput(dataTable, element);\n",
              "          const docLink = document.createElement('div');\n",
              "          docLink.innerHTML = docLinkHtml;\n",
              "          element.appendChild(docLink);\n",
              "        }\n",
              "      </script>\n",
              "    </div>\n",
              "  </div>\n",
              "  "
            ]
          },
          "metadata": {},
          "execution_count": 39
        }
      ],
      "source": [
        "df = df.drop(['trip_duration_log'], axis=1)\n",
        "df.head()"
      ]
    },
    {
      "cell_type": "markdown",
      "id": "110df505",
      "metadata": {
        "id": "110df505"
      },
      "source": [
        "### Разобьем данные на train и test"
      ]
    },
    {
      "cell_type": "code",
      "execution_count": 40,
      "id": "8a6425ab",
      "metadata": {
        "id": "8a6425ab"
      },
      "outputs": [],
      "source": [
        "target_name = 'trip_duration'"
      ]
    },
    {
      "cell_type": "code",
      "execution_count": 41,
      "id": "27a86c15",
      "metadata": {
        "id": "27a86c15"
      },
      "outputs": [],
      "source": [
        "X = df.drop(columns=target_name)\n",
        "y = df[target_name]"
      ]
    },
    {
      "cell_type": "code",
      "execution_count": 42,
      "id": "3b5ed98f",
      "metadata": {
        "scrolled": true,
        "id": "3b5ed98f"
      },
      "outputs": [],
      "source": [
        "X_train_, X_val, y_train_, y_val = train_test_split(X, y, test_size=0.25, shuffle=True, random_state=13)"
      ]
    },
    {
      "cell_type": "code",
      "execution_count": 43,
      "id": "85288e42",
      "metadata": {
        "colab": {
          "base_uri": "https://localhost:8080/"
        },
        "id": "85288e42",
        "outputId": "3220f5db-11bb-43bd-b191-b879f158b6f4"
      },
      "outputs": [
        {
          "output_type": "execute_result",
          "data": {
            "text/plain": [
              "((1071430, 47), (357144, 47), (1071430,), (357144,))"
            ]
          },
          "metadata": {},
          "execution_count": 43
        }
      ],
      "source": [
        "X_train_.shape, X_val.shape, y_train_.shape, y_val.shape "
      ]
    },
    {
      "cell_type": "markdown",
      "id": "51be0e93",
      "metadata": {
        "id": "51be0e93"
      },
      "source": [
        "### Применение алгоритмов и их оценка "
      ]
    },
    {
      "cell_type": "markdown",
      "id": "3320495a",
      "metadata": {
        "id": "3320495a"
      },
      "source": [
        "### Рассмотрим Деревья решений"
      ]
    },
    {
      "cell_type": "code",
      "execution_count": 44,
      "id": "d48a8a98",
      "metadata": {
        "id": "d48a8a98"
      },
      "outputs": [],
      "source": [
        "from sklearn.tree import DecisionTreeRegressor"
      ]
    },
    {
      "cell_type": "code",
      "execution_count": 45,
      "id": "a3d2e479",
      "metadata": {
        "id": "a3d2e479"
      },
      "outputs": [],
      "source": [
        "from sklearn import metrics"
      ]
    },
    {
      "cell_type": "markdown",
      "id": "8ed0bdba",
      "metadata": {
        "id": "8ed0bdba"
      },
      "source": [
        "Сделаем ограничение на колличество значений в листе, пусть max_depth=3, затем проверим с помощью GridSearchCV"
      ]
    },
    {
      "cell_type": "code",
      "execution_count": 46,
      "id": "959665ec",
      "metadata": {
        "id": "959665ec"
      },
      "outputs": [],
      "source": [
        "tree_reg = DecisionTreeRegressor(max_depth=3)"
      ]
    },
    {
      "cell_type": "code",
      "execution_count": 47,
      "id": "50b963d7",
      "metadata": {
        "colab": {
          "base_uri": "https://localhost:8080/",
          "height": 74
        },
        "id": "50b963d7",
        "outputId": "f05cb111-da27-4e36-8ebe-910ecbd20b5e"
      },
      "outputs": [
        {
          "output_type": "execute_result",
          "data": {
            "text/plain": [
              "DecisionTreeRegressor(max_depth=3)"
            ],
            "text/html": [
              "<style>#sk-container-id-1 {color: black;background-color: white;}#sk-container-id-1 pre{padding: 0;}#sk-container-id-1 div.sk-toggleable {background-color: white;}#sk-container-id-1 label.sk-toggleable__label {cursor: pointer;display: block;width: 100%;margin-bottom: 0;padding: 0.3em;box-sizing: border-box;text-align: center;}#sk-container-id-1 label.sk-toggleable__label-arrow:before {content: \"▸\";float: left;margin-right: 0.25em;color: #696969;}#sk-container-id-1 label.sk-toggleable__label-arrow:hover:before {color: black;}#sk-container-id-1 div.sk-estimator:hover label.sk-toggleable__label-arrow:before {color: black;}#sk-container-id-1 div.sk-toggleable__content {max-height: 0;max-width: 0;overflow: hidden;text-align: left;background-color: #f0f8ff;}#sk-container-id-1 div.sk-toggleable__content pre {margin: 0.2em;color: black;border-radius: 0.25em;background-color: #f0f8ff;}#sk-container-id-1 input.sk-toggleable__control:checked~div.sk-toggleable__content {max-height: 200px;max-width: 100%;overflow: auto;}#sk-container-id-1 input.sk-toggleable__control:checked~label.sk-toggleable__label-arrow:before {content: \"▾\";}#sk-container-id-1 div.sk-estimator input.sk-toggleable__control:checked~label.sk-toggleable__label {background-color: #d4ebff;}#sk-container-id-1 div.sk-label input.sk-toggleable__control:checked~label.sk-toggleable__label {background-color: #d4ebff;}#sk-container-id-1 input.sk-hidden--visually {border: 0;clip: rect(1px 1px 1px 1px);clip: rect(1px, 1px, 1px, 1px);height: 1px;margin: -1px;overflow: hidden;padding: 0;position: absolute;width: 1px;}#sk-container-id-1 div.sk-estimator {font-family: monospace;background-color: #f0f8ff;border: 1px dotted black;border-radius: 0.25em;box-sizing: border-box;margin-bottom: 0.5em;}#sk-container-id-1 div.sk-estimator:hover {background-color: #d4ebff;}#sk-container-id-1 div.sk-parallel-item::after {content: \"\";width: 100%;border-bottom: 1px solid gray;flex-grow: 1;}#sk-container-id-1 div.sk-label:hover label.sk-toggleable__label {background-color: #d4ebff;}#sk-container-id-1 div.sk-serial::before {content: \"\";position: absolute;border-left: 1px solid gray;box-sizing: border-box;top: 0;bottom: 0;left: 50%;z-index: 0;}#sk-container-id-1 div.sk-serial {display: flex;flex-direction: column;align-items: center;background-color: white;padding-right: 0.2em;padding-left: 0.2em;position: relative;}#sk-container-id-1 div.sk-item {position: relative;z-index: 1;}#sk-container-id-1 div.sk-parallel {display: flex;align-items: stretch;justify-content: center;background-color: white;position: relative;}#sk-container-id-1 div.sk-item::before, #sk-container-id-1 div.sk-parallel-item::before {content: \"\";position: absolute;border-left: 1px solid gray;box-sizing: border-box;top: 0;bottom: 0;left: 50%;z-index: -1;}#sk-container-id-1 div.sk-parallel-item {display: flex;flex-direction: column;z-index: 1;position: relative;background-color: white;}#sk-container-id-1 div.sk-parallel-item:first-child::after {align-self: flex-end;width: 50%;}#sk-container-id-1 div.sk-parallel-item:last-child::after {align-self: flex-start;width: 50%;}#sk-container-id-1 div.sk-parallel-item:only-child::after {width: 0;}#sk-container-id-1 div.sk-dashed-wrapped {border: 1px dashed gray;margin: 0 0.4em 0.5em 0.4em;box-sizing: border-box;padding-bottom: 0.4em;background-color: white;}#sk-container-id-1 div.sk-label label {font-family: monospace;font-weight: bold;display: inline-block;line-height: 1.2em;}#sk-container-id-1 div.sk-label-container {text-align: center;}#sk-container-id-1 div.sk-container {/* jupyter's `normalize.less` sets `[hidden] { display: none; }` but bootstrap.min.css set `[hidden] { display: none !important; }` so we also need the `!important` here to be able to override the default hidden behavior on the sphinx rendered scikit-learn.org. See: https://github.com/scikit-learn/scikit-learn/issues/21755 */display: inline-block !important;position: relative;}#sk-container-id-1 div.sk-text-repr-fallback {display: none;}</style><div id=\"sk-container-id-1\" class=\"sk-top-container\"><div class=\"sk-text-repr-fallback\"><pre>DecisionTreeRegressor(max_depth=3)</pre><b>In a Jupyter environment, please rerun this cell to show the HTML representation or trust the notebook. <br />On GitHub, the HTML representation is unable to render, please try loading this page with nbviewer.org.</b></div><div class=\"sk-container\" hidden><div class=\"sk-item\"><div class=\"sk-estimator sk-toggleable\"><input class=\"sk-toggleable__control sk-hidden--visually\" id=\"sk-estimator-id-1\" type=\"checkbox\" checked><label for=\"sk-estimator-id-1\" class=\"sk-toggleable__label sk-toggleable__label-arrow\">DecisionTreeRegressor</label><div class=\"sk-toggleable__content\"><pre>DecisionTreeRegressor(max_depth=3)</pre></div></div></div></div></div>"
            ]
          },
          "metadata": {},
          "execution_count": 47
        }
      ],
      "source": [
        "tree_reg.fit(X_train_, y_train_)"
      ]
    },
    {
      "cell_type": "code",
      "execution_count": 48,
      "id": "7617578d",
      "metadata": {
        "id": "7617578d"
      },
      "outputs": [],
      "source": [
        "y_test_pred = tree_reg.predict(X_val)"
      ]
    },
    {
      "cell_type": "code",
      "source": [
        "from sklearn.metrics import mean_squared_error as mse\n",
        "from sklearn.metrics import r2_score"
      ],
      "metadata": {
        "id": "gEQpjwSO17SK"
      },
      "id": "gEQpjwSO17SK",
      "execution_count": 49,
      "outputs": []
    },
    {
      "cell_type": "code",
      "execution_count": 50,
      "id": "7e7d7960",
      "metadata": {
        "colab": {
          "base_uri": "https://localhost:8080/"
        },
        "id": "7e7d7960",
        "outputId": "aff6e7eb-21d6-48d5-dcc4-2ec8b1b24a8f"
      },
      "outputs": [
        {
          "output_type": "stream",
          "name": "stdout",
          "text": [
            "Ошибка на тестовых данных\n",
            "MSE: 264436.1\n",
            "RMSE: 514.2\n",
            "R2 : 0.3762\n"
          ]
        }
      ],
      "source": [
        "print('Ошибка на тестовых данных')\n",
        "print('MSE: %.1f' % mse(y_val,y_test_pred))\n",
        "print('RMSE: %.1f' % mse(y_val,y_test_pred,squared=False))\n",
        "print('R2 : %.4f' %  r2_score(y_val,y_test_pred))"
      ]
    },
    {
      "cell_type": "markdown",
      "id": "f19d64ca",
      "metadata": {
        "id": "f19d64ca"
      },
      "source": [
        "Применим GridSearchCV"
      ]
    },
    {
      "cell_type": "code",
      "execution_count": 51,
      "id": "354a0b6f",
      "metadata": {
        "id": "354a0b6f"
      },
      "outputs": [],
      "source": [
        "from sklearn.model_selection import GridSearchCV\n",
        "\n",
        "param_grid = {'max_depth': [1,2,3,4,5,6,7,8,9,10]}"
      ]
    },
    {
      "cell_type": "code",
      "execution_count": 52,
      "id": "04a87a7d",
      "metadata": {
        "id": "04a87a7d"
      },
      "outputs": [],
      "source": [
        "rfr = DecisionTreeRegressor(max_depth=1)\n",
        "\n",
        "g_search = GridSearchCV(estimator = rfr, param_grid = param_grid, cv = 5, n_jobs = 1, verbose = 3, return_train_score=True)"
      ]
    },
    {
      "cell_type": "code",
      "execution_count": 53,
      "id": "8ec0c4e0",
      "metadata": {
        "colab": {
          "base_uri": "https://localhost:8080/"
        },
        "id": "8ec0c4e0",
        "outputId": "585aa17a-0bb7-41ee-fad5-497b1ed95abf"
      },
      "outputs": [
        {
          "output_type": "stream",
          "name": "stdout",
          "text": [
            "Fitting 5 folds for each of 10 candidates, totalling 50 fits\n",
            "[CV 1/5] END ...max_depth=1;, score=(train=0.190, test=0.191) total time=   1.1s\n",
            "[CV 2/5] END ...max_depth=1;, score=(train=0.190, test=0.188) total time=   1.0s\n",
            "[CV 3/5] END ...max_depth=1;, score=(train=0.191, test=0.187) total time=   1.0s\n",
            "[CV 4/5] END ...max_depth=1;, score=(train=0.189, test=0.192) total time=   1.1s\n",
            "[CV 5/5] END ...max_depth=1;, score=(train=0.190, test=0.191) total time=   1.0s\n",
            "[CV 1/5] END ...max_depth=2;, score=(train=0.313, test=0.313) total time=   1.6s\n",
            "[CV 2/5] END ...max_depth=2;, score=(train=0.314, test=0.310) total time=   1.6s\n",
            "[CV 3/5] END ...max_depth=2;, score=(train=0.313, test=0.312) total time=   2.2s\n",
            "[CV 4/5] END ...max_depth=2;, score=(train=0.313, test=0.312) total time=   1.7s\n",
            "[CV 5/5] END ...max_depth=2;, score=(train=0.312, test=0.316) total time=   1.6s\n",
            "[CV 1/5] END ...max_depth=3;, score=(train=0.379, test=0.376) total time=   2.2s\n",
            "[CV 2/5] END ...max_depth=3;, score=(train=0.379, test=0.376) total time=   2.2s\n",
            "[CV 3/5] END ...max_depth=3;, score=(train=0.378, test=0.377) total time=   2.3s\n",
            "[CV 4/5] END ...max_depth=3;, score=(train=0.378, test=0.377) total time=   2.6s\n",
            "[CV 5/5] END ...max_depth=3;, score=(train=0.377, test=0.382) total time=   2.8s\n",
            "[CV 1/5] END ...max_depth=4;, score=(train=0.415, test=0.413) total time=   2.7s\n",
            "[CV 2/5] END ...max_depth=4;, score=(train=0.415, test=0.414) total time=   2.8s\n",
            "[CV 3/5] END ...max_depth=4;, score=(train=0.416, test=0.414) total time=   3.3s\n",
            "[CV 4/5] END ...max_depth=4;, score=(train=0.415, test=0.413) total time=   2.8s\n",
            "[CV 5/5] END ...max_depth=4;, score=(train=0.415, test=0.418) total time=   2.7s\n",
            "[CV 1/5] END ...max_depth=5;, score=(train=0.443, test=0.441) total time=   3.5s\n",
            "[CV 2/5] END ...max_depth=5;, score=(train=0.442, test=0.442) total time=   3.6s\n",
            "[CV 3/5] END ...max_depth=5;, score=(train=0.444, test=0.440) total time=   3.3s\n",
            "[CV 4/5] END ...max_depth=5;, score=(train=0.443, test=0.441) total time=   3.4s\n",
            "[CV 5/5] END ...max_depth=5;, score=(train=0.442, test=0.444) total time=   4.2s\n",
            "[CV 1/5] END ...max_depth=6;, score=(train=0.486, test=0.483) total time=   4.1s\n",
            "[CV 2/5] END ...max_depth=6;, score=(train=0.486, test=0.484) total time=   4.3s\n",
            "[CV 3/5] END ...max_depth=6;, score=(train=0.488, test=0.486) total time=   6.1s\n",
            "[CV 4/5] END ...max_depth=6;, score=(train=0.487, test=0.485) total time=   4.1s\n",
            "[CV 5/5] END ...max_depth=6;, score=(train=0.486, test=0.487) total time=   4.8s\n",
            "[CV 1/5] END ...max_depth=7;, score=(train=0.511, test=0.508) total time=   4.8s\n",
            "[CV 2/5] END ...max_depth=7;, score=(train=0.511, test=0.508) total time=   5.1s\n",
            "[CV 3/5] END ...max_depth=7;, score=(train=0.515, test=0.511) total time=   4.7s\n",
            "[CV 4/5] END ...max_depth=7;, score=(train=0.512, test=0.509) total time=   4.7s\n",
            "[CV 5/5] END ...max_depth=7;, score=(train=0.512, test=0.510) total time=   5.4s\n",
            "[CV 1/5] END ...max_depth=8;, score=(train=0.528, test=0.524) total time=   5.2s\n",
            "[CV 2/5] END ...max_depth=8;, score=(train=0.528, test=0.523) total time=   5.8s\n",
            "[CV 3/5] END ...max_depth=8;, score=(train=0.532, test=0.526) total time=   5.3s\n",
            "[CV 4/5] END ...max_depth=8;, score=(train=0.529, test=0.524) total time=   5.9s\n",
            "[CV 5/5] END ...max_depth=8;, score=(train=0.529, test=0.525) total time=   5.3s\n",
            "[CV 1/5] END ...max_depth=9;, score=(train=0.542, test=0.535) total time=   6.5s\n",
            "[CV 2/5] END ...max_depth=9;, score=(train=0.541, test=0.533) total time=   5.7s\n",
            "[CV 3/5] END ...max_depth=9;, score=(train=0.545, test=0.536) total time=   6.5s\n",
            "[CV 4/5] END ...max_depth=9;, score=(train=0.542, test=0.534) total time=   5.8s\n",
            "[CV 5/5] END ...max_depth=9;, score=(train=0.543, test=0.535) total time=   6.4s\n",
            "[CV 1/5] END ..max_depth=10;, score=(train=0.553, test=0.542) total time=   6.5s\n",
            "[CV 2/5] END ..max_depth=10;, score=(train=0.552, test=0.541) total time=   7.0s\n",
            "[CV 3/5] END ..max_depth=10;, score=(train=0.558, test=0.543) total time=   6.8s\n",
            "[CV 4/5] END ..max_depth=10;, score=(train=0.554, test=0.541) total time=   6.5s\n",
            "[CV 5/5] END ..max_depth=10;, score=(train=0.554, test=0.543) total time=   6.9s\n",
            "{'max_depth': 10}\n"
          ]
        }
      ],
      "source": [
        "g_search.fit(X_train_, y_train_);\n",
        "\n",
        "print(g_search.best_params_)"
      ]
    },
    {
      "cell_type": "markdown",
      "id": "d4ed0aa5",
      "metadata": {
        "id": "d4ed0aa5"
      },
      "source": [
        "Лучшее качество при параметре 'max_depth': 10"
      ]
    },
    {
      "cell_type": "markdown",
      "id": "db2eefbd",
      "metadata": {
        "id": "db2eefbd"
      },
      "source": [
        "#### Приведем обобщающую таблицу"
      ]
    },
    {
      "cell_type": "code",
      "execution_count": 54,
      "id": "759d3918",
      "metadata": {
        "id": "759d3918"
      },
      "outputs": [],
      "source": [
        "data = pd.DataFrame(\n",
        "    {\n",
        "        'Algoritm': ['DecisionTree'],\n",
        "        \n",
        "        'MSE': [round(mse(y_val,y_test_pred),2)],\n",
        "        \n",
        "        'RMSE': [round(mse(y_val,y_test_pred,squared=False),1)],\n",
        "        \n",
        "        'R2': [round(r2_score(y_val,y_test_pred),4)]\n",
        "    }\n",
        "\n",
        ")"
      ]
    },
    {
      "cell_type": "code",
      "execution_count": 55,
      "id": "bb73edad",
      "metadata": {
        "colab": {
          "base_uri": "https://localhost:8080/",
          "height": 81
        },
        "id": "bb73edad",
        "outputId": "bd3e8739-adb6-40b1-ead5-a72e7e0fac27"
      },
      "outputs": [
        {
          "output_type": "execute_result",
          "data": {
            "text/plain": [
              "       Algoritm       MSE   RMSE      R2\n",
              "0  DecisionTree  264436.1  514.2  0.3762"
            ],
            "text/html": [
              "\n",
              "  <div id=\"df-4ba35ddb-049b-45dd-a70b-65b2d7d6d86f\">\n",
              "    <div class=\"colab-df-container\">\n",
              "      <div>\n",
              "<style scoped>\n",
              "    .dataframe tbody tr th:only-of-type {\n",
              "        vertical-align: middle;\n",
              "    }\n",
              "\n",
              "    .dataframe tbody tr th {\n",
              "        vertical-align: top;\n",
              "    }\n",
              "\n",
              "    .dataframe thead th {\n",
              "        text-align: right;\n",
              "    }\n",
              "</style>\n",
              "<table border=\"1\" class=\"dataframe\">\n",
              "  <thead>\n",
              "    <tr style=\"text-align: right;\">\n",
              "      <th></th>\n",
              "      <th>Algoritm</th>\n",
              "      <th>MSE</th>\n",
              "      <th>RMSE</th>\n",
              "      <th>R2</th>\n",
              "    </tr>\n",
              "  </thead>\n",
              "  <tbody>\n",
              "    <tr>\n",
              "      <th>0</th>\n",
              "      <td>DecisionTree</td>\n",
              "      <td>264436.1</td>\n",
              "      <td>514.2</td>\n",
              "      <td>0.3762</td>\n",
              "    </tr>\n",
              "  </tbody>\n",
              "</table>\n",
              "</div>\n",
              "      <button class=\"colab-df-convert\" onclick=\"convertToInteractive('df-4ba35ddb-049b-45dd-a70b-65b2d7d6d86f')\"\n",
              "              title=\"Convert this dataframe to an interactive table.\"\n",
              "              style=\"display:none;\">\n",
              "        \n",
              "  <svg xmlns=\"http://www.w3.org/2000/svg\" height=\"24px\"viewBox=\"0 0 24 24\"\n",
              "       width=\"24px\">\n",
              "    <path d=\"M0 0h24v24H0V0z\" fill=\"none\"/>\n",
              "    <path d=\"M18.56 5.44l.94 2.06.94-2.06 2.06-.94-2.06-.94-.94-2.06-.94 2.06-2.06.94zm-11 1L8.5 8.5l.94-2.06 2.06-.94-2.06-.94L8.5 2.5l-.94 2.06-2.06.94zm10 10l.94 2.06.94-2.06 2.06-.94-2.06-.94-.94-2.06-.94 2.06-2.06.94z\"/><path d=\"M17.41 7.96l-1.37-1.37c-.4-.4-.92-.59-1.43-.59-.52 0-1.04.2-1.43.59L10.3 9.45l-7.72 7.72c-.78.78-.78 2.05 0 2.83L4 21.41c.39.39.9.59 1.41.59.51 0 1.02-.2 1.41-.59l7.78-7.78 2.81-2.81c.8-.78.8-2.07 0-2.86zM5.41 20L4 18.59l7.72-7.72 1.47 1.35L5.41 20z\"/>\n",
              "  </svg>\n",
              "      </button>\n",
              "      \n",
              "  <style>\n",
              "    .colab-df-container {\n",
              "      display:flex;\n",
              "      flex-wrap:wrap;\n",
              "      gap: 12px;\n",
              "    }\n",
              "\n",
              "    .colab-df-convert {\n",
              "      background-color: #E8F0FE;\n",
              "      border: none;\n",
              "      border-radius: 50%;\n",
              "      cursor: pointer;\n",
              "      display: none;\n",
              "      fill: #1967D2;\n",
              "      height: 32px;\n",
              "      padding: 0 0 0 0;\n",
              "      width: 32px;\n",
              "    }\n",
              "\n",
              "    .colab-df-convert:hover {\n",
              "      background-color: #E2EBFA;\n",
              "      box-shadow: 0px 1px 2px rgba(60, 64, 67, 0.3), 0px 1px 3px 1px rgba(60, 64, 67, 0.15);\n",
              "      fill: #174EA6;\n",
              "    }\n",
              "\n",
              "    [theme=dark] .colab-df-convert {\n",
              "      background-color: #3B4455;\n",
              "      fill: #D2E3FC;\n",
              "    }\n",
              "\n",
              "    [theme=dark] .colab-df-convert:hover {\n",
              "      background-color: #434B5C;\n",
              "      box-shadow: 0px 1px 3px 1px rgba(0, 0, 0, 0.15);\n",
              "      filter: drop-shadow(0px 1px 2px rgba(0, 0, 0, 0.3));\n",
              "      fill: #FFFFFF;\n",
              "    }\n",
              "  </style>\n",
              "\n",
              "      <script>\n",
              "        const buttonEl =\n",
              "          document.querySelector('#df-4ba35ddb-049b-45dd-a70b-65b2d7d6d86f button.colab-df-convert');\n",
              "        buttonEl.style.display =\n",
              "          google.colab.kernel.accessAllowed ? 'block' : 'none';\n",
              "\n",
              "        async function convertToInteractive(key) {\n",
              "          const element = document.querySelector('#df-4ba35ddb-049b-45dd-a70b-65b2d7d6d86f');\n",
              "          const dataTable =\n",
              "            await google.colab.kernel.invokeFunction('convertToInteractive',\n",
              "                                                     [key], {});\n",
              "          if (!dataTable) return;\n",
              "\n",
              "          const docLinkHtml = 'Like what you see? Visit the ' +\n",
              "            '<a target=\"_blank\" href=https://colab.research.google.com/notebooks/data_table.ipynb>data table notebook</a>'\n",
              "            + ' to learn more about interactive tables.';\n",
              "          element.innerHTML = '';\n",
              "          dataTable['output_type'] = 'display_data';\n",
              "          await google.colab.output.renderOutput(dataTable, element);\n",
              "          const docLink = document.createElement('div');\n",
              "          docLink.innerHTML = docLinkHtml;\n",
              "          element.appendChild(docLink);\n",
              "        }\n",
              "      </script>\n",
              "    </div>\n",
              "  </div>\n",
              "  "
            ]
          },
          "metadata": {},
          "execution_count": 55
        }
      ],
      "source": [
        "data"
      ]
    },
    {
      "cell_type": "markdown",
      "source": [
        "! Как-то так"
      ],
      "metadata": {
        "id": "L7Ckk_Ka9nIf"
      },
      "id": "L7Ckk_Ka9nIf"
    }
  ],
  "metadata": {
    "kernelspec": {
      "display_name": "Python 3 (ipykernel)",
      "language": "python",
      "name": "python3"
    },
    "language_info": {
      "codemirror_mode": {
        "name": "ipython",
        "version": 3
      },
      "file_extension": ".py",
      "mimetype": "text/x-python",
      "name": "python",
      "nbconvert_exporter": "python",
      "pygments_lexer": "ipython3",
      "version": "3.10.9"
    },
    "colab": {
      "provenance": [],
      "gpuType": "T4"
    },
    "accelerator": "GPU",
    "gpuClass": "standard"
  },
  "nbformat": 4,
  "nbformat_minor": 5
}